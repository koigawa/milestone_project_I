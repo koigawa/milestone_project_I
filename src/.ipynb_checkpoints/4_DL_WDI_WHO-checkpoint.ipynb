{
 "cells": [
  {
   "cell_type": "code",
   "execution_count": 1,
   "id": "7239696a",
   "metadata": {},
   "outputs": [],
   "source": [
    "# import all necessary libraries\n",
    "import pandas as pd\n",
    "import numpy as np\n",
    "import json\n",
    "import seaborn as sns\n",
    "import matplotlib.pyplot as plt\n",
    "import plotly\n",
    "import plotly.express as px\n",
    "from scipy import stats"
   ]
  },
  {
   "cell_type": "code",
   "execution_count": 26,
   "id": "1431addb",
   "metadata": {},
   "outputs": [],
   "source": [
    "# load the WDI dataset\n",
    "wdi = pd.read_csv('./nazliu_comp_exam_2023spring/WDI_CSV/WDIData.csv')"
   ]
  },
  {
   "cell_type": "markdown",
   "id": "2e16490e",
   "metadata": {},
   "source": [
    "## GDP - DATA AS OF 2021\n",
    "Source: https://databank.worldbank.org/data/download/WDI_CSV.zip"
   ]
  },
  {
   "cell_type": "code",
   "execution_count": 165,
   "id": "881b9d91",
   "metadata": {},
   "outputs": [
    {
     "data": {
      "application/vnd.plotly.v1+json": {
       "config": {
        "plotlyServerURL": "https://plot.ly"
       },
       "data": [
        {
         "coloraxis": "coloraxis",
         "geo": "geo",
         "hovertemplate": "Country=%{location}<br>GDP in USD=%{z}<extra></extra>",
         "locationmode": "country names",
         "locations": [
          "United States",
          "China",
          "Japan",
          "Germany",
          "South Asia",
          "India",
          "United Kingdom",
          "France",
          "Arab World",
          "Italy",
          "Canada",
          "Korea, Rep.",
          "Russian Federation",
          "Brazil",
          "Australia",
          "Spain",
          "Mexico",
          "Indonesia",
          "Netherlands",
          "Saudi Arabia",
          "Turkey",
          "Switzerland",
          "Poland",
          "Sweden",
          "Belgium",
          "Low income",
          "Small states",
          "Thailand",
          "Ireland",
          "Israel",
          "Argentina",
          "Norway",
          "Austria",
          "Other small states",
          "Nigeria",
          "South Africa",
          "Bangladesh",
          "United Arab Emirates",
          "Egypt, Arab Rep.",
          "Denmark",
          "Singapore",
          "Philippines",
          "Malaysia",
          "Hong Kong SAR, China",
          "Vietnam",
          "Iran, Islamic Rep.",
          "Pakistan",
          "Chile",
          "Colombia",
          "Finland",
          "Romania",
          "Czechia",
          "Portugal",
          "New Zealand",
          "Peru",
          "Greece",
          "Iraq",
          "Ukraine",
          "Kazakhstan",
          "Hungary",
          "Qatar",
          "Algeria",
          "Morocco",
          "Slovak Republic",
          "Ethiopia",
          "Kenya",
          "Puerto Rico",
          "Ecuador",
          "Dominican Republic",
          "Sri Lanka",
          "Oman",
          "Guatemala",
          "Luxembourg",
          "Bulgaria",
          "Ghana",
          "Caribbean small states",
          "Cote d'Ivoire",
          "Uzbekistan",
          "Croatia",
          "Belarus",
          "Tanzania",
          "Angola",
          "Lithuania",
          "Myanmar",
          "Costa Rica",
          "Panama",
          "Serbia",
          "Slovenia",
          "Uruguay",
          "Congo, Dem. Rep.",
          "Azerbaijan",
          "Tunisia",
          "Jordan",
          "Cameroon",
          "Libya",
          "Uganda",
          "Bolivia",
          "Latvia",
          "Paraguay",
          "Bahrain",
          "Estonia",
          "Nepal",
          "Sudan",
          "Macao SAR, China",
          "El Salvador",
          "Honduras",
          "Cyprus",
          "Zimbabwe",
          "Senegal",
          "Cambodia",
          "Papua New Guinea",
          "Iceland",
          "Trinidad and Tobago",
          "Bosnia and Herzegovina",
          "Lebanon",
          "Zambia",
          "Haiti",
          "Gabon",
          "Burkina Faso",
          "Mali",
          "Lao PDR",
          "Georgia",
          "Albania",
          "West Bank and Gaza",
          "Botswana",
          "Malta",
          "Benin",
          "Guinea",
          "Mozambique",
          "Mongolia",
          "Niger",
          "Afghanistan",
          "Jamaica",
          "Madagascar",
          "Nicaragua",
          "Brunei Darussalam",
          "Armenia",
          "North Macedonia",
          "Moldova",
          "Congo, Rep.",
          "Malawi",
          "Namibia",
          "Equatorial Guinea",
          "Chad",
          "Mauritius",
          "Bahamas, The",
          "Rwanda",
          "New Caledonia",
          "Mauritania",
          "Pacific island small states",
          "Kosovo",
          "Tajikistan",
          "Monaco",
          "Kyrgyz Republic",
          "Togo",
          "Guyana",
          "Somalia",
          "Bermuda",
          "Guam",
          "French Polynesia",
          "Cayman Islands",
          "Montenegro",
          "Maldives",
          "Barbados",
          "Eswatini",
          "Fiji",
          "Sierra Leone",
          "Faroe Islands",
          "Timor-Leste",
          "Liberia",
          "Djibouti",
          "Andorra",
          "Aruba",
          "Suriname",
          "Burundi",
          "Curacao",
          "Bhutan",
          "Central African Republic",
          "Lesotho",
          "Belize",
          "Gambia, The",
          "Cabo Verde",
          "St. Lucia",
          "Guinea-Bissau",
          "Solomon Islands",
          "Antigua and Barbuda",
          "Seychelles",
          "Comoros",
          "Grenada",
          "Vanuatu",
          "Turks and Caicos Islands",
          "St. Vincent and the Grenadines",
          "St. Kitts and Nevis",
          "Samoa",
          "American Samoa",
          "Dominica",
          "Sao Tome and Principe",
          "Tonga",
          "Micronesia, Fed. Sts.",
          "Marshall Islands",
          "Palau",
          "Kiribati",
          "Nauru",
          "Tuvalu",
          "British Virgin Islands",
          "Channel Islands",
          "Cuba",
          "Eritrea",
          "Gibraltar",
          "Greenland",
          "Isle of Man",
          "Korea, Dem. People's Rep.",
          "Kuwait",
          "Liechtenstein",
          "Northern Mariana Islands",
          "San Marino",
          "Sint Maarten (Dutch part)",
          "South Sudan",
          "St. Martin (French part)",
          "Syrian Arab Republic",
          "Turkmenistan",
          "Venezuela",
          "Virgin Islands (U.S.)",
          "Yemen, Rep."
         ],
         "name": "",
         "type": "choropleth",
         "z": [
          23315080560000,
          17734062645371.4,
          4940877780755.3,
          4259934911821.6,
          4088770638066.9,
          3176295065497.2,
          3131377762926,
          2957879759263.5,
          2862987423061.5,
          2107702842669.7,
          1988336331717.4,
          1810955871381,
          1778782625793.7,
          1608981456325.1,
          1552667363236.1,
          1427380681294.6,
          1272839334119.3,
          1186092991320,
          1012846760976.7,
          833541236569.3,
          819035182929.6,
          800640155387.3,
          679444832854.3,
          635663801201.8,
          594104177539.5,
          562977782713,
          538706065410,
          505947037098.4,
          504182603275.5,
          488526545878.9,
          487227339102.7,
          482174854482,
          480368403893.4,
          453948317534.7,
          440833583992.5,
          419015018371.9,
          416264942893.3,
          415021590683,
          404142766093.1,
          398303272764.5,
          396986899888.4,
          394086401171.2,
          372980957208,
          369176400967.4,
          366137590600.7,
          359713152725.1,
          348262544719.2,
          317058508651.8,
          314464137241.3,
          297301883523.3,
          284087563695.8,
          281777887121.5,
          253663144586,
          249885687029.6,
          223249497500.4,
          214873879833.7,
          207889333724.1,
          200085537744.4,
          197112255360.6,
          181848022233.9,
          179677211793.9,
          163044443983.8,
          142866329198.4,
          116527101097.7,
          111271112330,
          110347079517.4,
          106525700000,
          106165866000,
          94243453937.5,
          88927263724.9,
          88191977373.2,
          85985752107.5,
          85506243833.8,
          84056312734.3,
          77594279054.9,
          75295300457.3,
          70043191477.1,
          69238903106.2,
          68955083280.2,
          68205380706.7,
          67841049193.4,
          67404287260.3,
          66445256585.4,
          65091751273.3,
          64282438666.7,
          63605100000,
          63082047649.9,
          61748586534.9,
          59319484710.7,
          55350968593.1,
          54622176470.6,
          46686741814.3,
          45744271658.9,
          45338283344.8,
          42817472975.4,
          40529789025.6,
          40408208528.2,
          39853501579.8,
          39495431574.2,
          38868663031.9,
          37191166152,
          36288830373.4,
          34326058557.4,
          30123914808.6,
          28736940000,
          28488668301.6,
          28407867534,
          28371238665.5,
          27625388352.2,
          26961061119.8,
          26594305745.6,
          25602419210.3,
          24460196270.7,
          23365361635.2,
          23131940280.7,
          22147634727.4,
          20944392615.1,
          20216843174,
          19737615114.4,
          19140461605.8,
          18827148509.6,
          18629365597,
          18255787479.2,
          18036800000,
          17614791265.7,
          17364044943.8,
          17144918952.5,
          16091817842.2,
          15776758632.9,
          15286441818.1,
          14915001427,
          14786861638.5,
          14657586937.1,
          14472603322.6,
          14013022092.1,
          14006569575.7,
          13861409968.8,
          13825049831.8,
          13679221333.2,
          13366230219.5,
          12626717491.9,
          12310595843.9,
          12269392839.8,
          11779980801.8,
          11529042672.4,
          11208600000,
          11070356519.5,
          10071351960.1,
          9996249658.2,
          9481916212.1,
          9412034299.2,
          8746270636.4,
          8596096984,
          8543423502.6,
          8413200567.6,
          8044498801,
          7628000011.5,
          7286607000,
          6123000000,
          6054676735.4,
          5898449688,
          5861268038.8,
          5405576235.8,
          4843800000,
          4743335152.9,
          4296304590,
          4042237864.3,
          3649886275.1,
          3621222382.2,
          3509000000,
          3482987379.1,
          3330281523.5,
          3126019399.1,
          2984706243.7,
          2779813489,
          2699612458.1,
          2539552984.7,
          2516498299,
          2496134680.3,
          2491500000,
          2038417462.4,
          1936174043.5,
          1691275156.6,
          1638517533.2,
          1631486531.9,
          1471125925.9,
          1454458183.9,
          1296089632.6,
          1122807407.4,
          956332655.7,
          943269800,
          904181492.8,
          860840740.7,
          843842416.5,
          709000000,
          554181481.5,
          526653790.7,
          469231309.5,
          404028900,
          259538700,
          217800000,
          207031250,
          133218896.9,
          63100961.5,
          null,
          null,
          null,
          null,
          null,
          null,
          null,
          null,
          null,
          null,
          null,
          null,
          null,
          null,
          null,
          null,
          null,
          null,
          null,
          null
         ]
        }
       ],
       "layout": {
        "coloraxis": {
         "colorbar": {
          "title": {
           "text": "GDP in USD"
          }
         },
         "colorscale": [
          [
           0,
           "rgb(247,252,245)"
          ],
          [
           0.125,
           "rgb(229,245,224)"
          ],
          [
           0.25,
           "rgb(199,233,192)"
          ],
          [
           0.375,
           "rgb(161,217,155)"
          ],
          [
           0.5,
           "rgb(116,196,118)"
          ],
          [
           0.625,
           "rgb(65,171,93)"
          ],
          [
           0.75,
           "rgb(35,139,69)"
          ],
          [
           0.875,
           "rgb(0,109,44)"
          ],
          [
           1,
           "rgb(0,68,27)"
          ]
         ]
        },
        "geo": {
         "center": {},
         "domain": {
          "x": [
           0,
           1
          ],
          "y": [
           0,
           1
          ]
         },
         "scope": "world"
        },
        "legend": {
         "tracegroupgap": 0
        },
        "template": {
         "data": {
          "bar": [
           {
            "error_x": {
             "color": "#2a3f5f"
            },
            "error_y": {
             "color": "#2a3f5f"
            },
            "marker": {
             "line": {
              "color": "#E5ECF6",
              "width": 0.5
             },
             "pattern": {
              "fillmode": "overlay",
              "size": 10,
              "solidity": 0.2
             }
            },
            "type": "bar"
           }
          ],
          "barpolar": [
           {
            "marker": {
             "line": {
              "color": "#E5ECF6",
              "width": 0.5
             },
             "pattern": {
              "fillmode": "overlay",
              "size": 10,
              "solidity": 0.2
             }
            },
            "type": "barpolar"
           }
          ],
          "carpet": [
           {
            "aaxis": {
             "endlinecolor": "#2a3f5f",
             "gridcolor": "white",
             "linecolor": "white",
             "minorgridcolor": "white",
             "startlinecolor": "#2a3f5f"
            },
            "baxis": {
             "endlinecolor": "#2a3f5f",
             "gridcolor": "white",
             "linecolor": "white",
             "minorgridcolor": "white",
             "startlinecolor": "#2a3f5f"
            },
            "type": "carpet"
           }
          ],
          "choropleth": [
           {
            "colorbar": {
             "outlinewidth": 0,
             "ticks": ""
            },
            "type": "choropleth"
           }
          ],
          "contour": [
           {
            "colorbar": {
             "outlinewidth": 0,
             "ticks": ""
            },
            "colorscale": [
             [
              0,
              "#0d0887"
             ],
             [
              0.1111111111111111,
              "#46039f"
             ],
             [
              0.2222222222222222,
              "#7201a8"
             ],
             [
              0.3333333333333333,
              "#9c179e"
             ],
             [
              0.4444444444444444,
              "#bd3786"
             ],
             [
              0.5555555555555556,
              "#d8576b"
             ],
             [
              0.6666666666666666,
              "#ed7953"
             ],
             [
              0.7777777777777778,
              "#fb9f3a"
             ],
             [
              0.8888888888888888,
              "#fdca26"
             ],
             [
              1,
              "#f0f921"
             ]
            ],
            "type": "contour"
           }
          ],
          "contourcarpet": [
           {
            "colorbar": {
             "outlinewidth": 0,
             "ticks": ""
            },
            "type": "contourcarpet"
           }
          ],
          "heatmap": [
           {
            "colorbar": {
             "outlinewidth": 0,
             "ticks": ""
            },
            "colorscale": [
             [
              0,
              "#0d0887"
             ],
             [
              0.1111111111111111,
              "#46039f"
             ],
             [
              0.2222222222222222,
              "#7201a8"
             ],
             [
              0.3333333333333333,
              "#9c179e"
             ],
             [
              0.4444444444444444,
              "#bd3786"
             ],
             [
              0.5555555555555556,
              "#d8576b"
             ],
             [
              0.6666666666666666,
              "#ed7953"
             ],
             [
              0.7777777777777778,
              "#fb9f3a"
             ],
             [
              0.8888888888888888,
              "#fdca26"
             ],
             [
              1,
              "#f0f921"
             ]
            ],
            "type": "heatmap"
           }
          ],
          "heatmapgl": [
           {
            "colorbar": {
             "outlinewidth": 0,
             "ticks": ""
            },
            "colorscale": [
             [
              0,
              "#0d0887"
             ],
             [
              0.1111111111111111,
              "#46039f"
             ],
             [
              0.2222222222222222,
              "#7201a8"
             ],
             [
              0.3333333333333333,
              "#9c179e"
             ],
             [
              0.4444444444444444,
              "#bd3786"
             ],
             [
              0.5555555555555556,
              "#d8576b"
             ],
             [
              0.6666666666666666,
              "#ed7953"
             ],
             [
              0.7777777777777778,
              "#fb9f3a"
             ],
             [
              0.8888888888888888,
              "#fdca26"
             ],
             [
              1,
              "#f0f921"
             ]
            ],
            "type": "heatmapgl"
           }
          ],
          "histogram": [
           {
            "marker": {
             "pattern": {
              "fillmode": "overlay",
              "size": 10,
              "solidity": 0.2
             }
            },
            "type": "histogram"
           }
          ],
          "histogram2d": [
           {
            "colorbar": {
             "outlinewidth": 0,
             "ticks": ""
            },
            "colorscale": [
             [
              0,
              "#0d0887"
             ],
             [
              0.1111111111111111,
              "#46039f"
             ],
             [
              0.2222222222222222,
              "#7201a8"
             ],
             [
              0.3333333333333333,
              "#9c179e"
             ],
             [
              0.4444444444444444,
              "#bd3786"
             ],
             [
              0.5555555555555556,
              "#d8576b"
             ],
             [
              0.6666666666666666,
              "#ed7953"
             ],
             [
              0.7777777777777778,
              "#fb9f3a"
             ],
             [
              0.8888888888888888,
              "#fdca26"
             ],
             [
              1,
              "#f0f921"
             ]
            ],
            "type": "histogram2d"
           }
          ],
          "histogram2dcontour": [
           {
            "colorbar": {
             "outlinewidth": 0,
             "ticks": ""
            },
            "colorscale": [
             [
              0,
              "#0d0887"
             ],
             [
              0.1111111111111111,
              "#46039f"
             ],
             [
              0.2222222222222222,
              "#7201a8"
             ],
             [
              0.3333333333333333,
              "#9c179e"
             ],
             [
              0.4444444444444444,
              "#bd3786"
             ],
             [
              0.5555555555555556,
              "#d8576b"
             ],
             [
              0.6666666666666666,
              "#ed7953"
             ],
             [
              0.7777777777777778,
              "#fb9f3a"
             ],
             [
              0.8888888888888888,
              "#fdca26"
             ],
             [
              1,
              "#f0f921"
             ]
            ],
            "type": "histogram2dcontour"
           }
          ],
          "mesh3d": [
           {
            "colorbar": {
             "outlinewidth": 0,
             "ticks": ""
            },
            "type": "mesh3d"
           }
          ],
          "parcoords": [
           {
            "line": {
             "colorbar": {
              "outlinewidth": 0,
              "ticks": ""
             }
            },
            "type": "parcoords"
           }
          ],
          "pie": [
           {
            "automargin": true,
            "type": "pie"
           }
          ],
          "scatter": [
           {
            "fillpattern": {
             "fillmode": "overlay",
             "size": 10,
             "solidity": 0.2
            },
            "type": "scatter"
           }
          ],
          "scatter3d": [
           {
            "line": {
             "colorbar": {
              "outlinewidth": 0,
              "ticks": ""
             }
            },
            "marker": {
             "colorbar": {
              "outlinewidth": 0,
              "ticks": ""
             }
            },
            "type": "scatter3d"
           }
          ],
          "scattercarpet": [
           {
            "marker": {
             "colorbar": {
              "outlinewidth": 0,
              "ticks": ""
             }
            },
            "type": "scattercarpet"
           }
          ],
          "scattergeo": [
           {
            "marker": {
             "colorbar": {
              "outlinewidth": 0,
              "ticks": ""
             }
            },
            "type": "scattergeo"
           }
          ],
          "scattergl": [
           {
            "marker": {
             "colorbar": {
              "outlinewidth": 0,
              "ticks": ""
             }
            },
            "type": "scattergl"
           }
          ],
          "scattermapbox": [
           {
            "marker": {
             "colorbar": {
              "outlinewidth": 0,
              "ticks": ""
             }
            },
            "type": "scattermapbox"
           }
          ],
          "scatterpolar": [
           {
            "marker": {
             "colorbar": {
              "outlinewidth": 0,
              "ticks": ""
             }
            },
            "type": "scatterpolar"
           }
          ],
          "scatterpolargl": [
           {
            "marker": {
             "colorbar": {
              "outlinewidth": 0,
              "ticks": ""
             }
            },
            "type": "scatterpolargl"
           }
          ],
          "scatterternary": [
           {
            "marker": {
             "colorbar": {
              "outlinewidth": 0,
              "ticks": ""
             }
            },
            "type": "scatterternary"
           }
          ],
          "surface": [
           {
            "colorbar": {
             "outlinewidth": 0,
             "ticks": ""
            },
            "colorscale": [
             [
              0,
              "#0d0887"
             ],
             [
              0.1111111111111111,
              "#46039f"
             ],
             [
              0.2222222222222222,
              "#7201a8"
             ],
             [
              0.3333333333333333,
              "#9c179e"
             ],
             [
              0.4444444444444444,
              "#bd3786"
             ],
             [
              0.5555555555555556,
              "#d8576b"
             ],
             [
              0.6666666666666666,
              "#ed7953"
             ],
             [
              0.7777777777777778,
              "#fb9f3a"
             ],
             [
              0.8888888888888888,
              "#fdca26"
             ],
             [
              1,
              "#f0f921"
             ]
            ],
            "type": "surface"
           }
          ],
          "table": [
           {
            "cells": {
             "fill": {
              "color": "#EBF0F8"
             },
             "line": {
              "color": "white"
             }
            },
            "header": {
             "fill": {
              "color": "#C8D4E3"
             },
             "line": {
              "color": "white"
             }
            },
            "type": "table"
           }
          ]
         },
         "layout": {
          "annotationdefaults": {
           "arrowcolor": "#2a3f5f",
           "arrowhead": 0,
           "arrowwidth": 1
          },
          "autotypenumbers": "strict",
          "coloraxis": {
           "colorbar": {
            "outlinewidth": 0,
            "ticks": ""
           }
          },
          "colorscale": {
           "diverging": [
            [
             0,
             "#8e0152"
            ],
            [
             0.1,
             "#c51b7d"
            ],
            [
             0.2,
             "#de77ae"
            ],
            [
             0.3,
             "#f1b6da"
            ],
            [
             0.4,
             "#fde0ef"
            ],
            [
             0.5,
             "#f7f7f7"
            ],
            [
             0.6,
             "#e6f5d0"
            ],
            [
             0.7,
             "#b8e186"
            ],
            [
             0.8,
             "#7fbc41"
            ],
            [
             0.9,
             "#4d9221"
            ],
            [
             1,
             "#276419"
            ]
           ],
           "sequential": [
            [
             0,
             "#0d0887"
            ],
            [
             0.1111111111111111,
             "#46039f"
            ],
            [
             0.2222222222222222,
             "#7201a8"
            ],
            [
             0.3333333333333333,
             "#9c179e"
            ],
            [
             0.4444444444444444,
             "#bd3786"
            ],
            [
             0.5555555555555556,
             "#d8576b"
            ],
            [
             0.6666666666666666,
             "#ed7953"
            ],
            [
             0.7777777777777778,
             "#fb9f3a"
            ],
            [
             0.8888888888888888,
             "#fdca26"
            ],
            [
             1,
             "#f0f921"
            ]
           ],
           "sequentialminus": [
            [
             0,
             "#0d0887"
            ],
            [
             0.1111111111111111,
             "#46039f"
            ],
            [
             0.2222222222222222,
             "#7201a8"
            ],
            [
             0.3333333333333333,
             "#9c179e"
            ],
            [
             0.4444444444444444,
             "#bd3786"
            ],
            [
             0.5555555555555556,
             "#d8576b"
            ],
            [
             0.6666666666666666,
             "#ed7953"
            ],
            [
             0.7777777777777778,
             "#fb9f3a"
            ],
            [
             0.8888888888888888,
             "#fdca26"
            ],
            [
             1,
             "#f0f921"
            ]
           ]
          },
          "colorway": [
           "#636efa",
           "#EF553B",
           "#00cc96",
           "#ab63fa",
           "#FFA15A",
           "#19d3f3",
           "#FF6692",
           "#B6E880",
           "#FF97FF",
           "#FECB52"
          ],
          "font": {
           "color": "#2a3f5f"
          },
          "geo": {
           "bgcolor": "white",
           "lakecolor": "white",
           "landcolor": "#E5ECF6",
           "showlakes": true,
           "showland": true,
           "subunitcolor": "white"
          },
          "hoverlabel": {
           "align": "left"
          },
          "hovermode": "closest",
          "mapbox": {
           "style": "light"
          },
          "paper_bgcolor": "white",
          "plot_bgcolor": "#E5ECF6",
          "polar": {
           "angularaxis": {
            "gridcolor": "white",
            "linecolor": "white",
            "ticks": ""
           },
           "bgcolor": "#E5ECF6",
           "radialaxis": {
            "gridcolor": "white",
            "linecolor": "white",
            "ticks": ""
           }
          },
          "scene": {
           "xaxis": {
            "backgroundcolor": "#E5ECF6",
            "gridcolor": "white",
            "gridwidth": 2,
            "linecolor": "white",
            "showbackground": true,
            "ticks": "",
            "zerolinecolor": "white"
           },
           "yaxis": {
            "backgroundcolor": "#E5ECF6",
            "gridcolor": "white",
            "gridwidth": 2,
            "linecolor": "white",
            "showbackground": true,
            "ticks": "",
            "zerolinecolor": "white"
           },
           "zaxis": {
            "backgroundcolor": "#E5ECF6",
            "gridcolor": "white",
            "gridwidth": 2,
            "linecolor": "white",
            "showbackground": true,
            "ticks": "",
            "zerolinecolor": "white"
           }
          },
          "shapedefaults": {
           "line": {
            "color": "#2a3f5f"
           }
          },
          "ternary": {
           "aaxis": {
            "gridcolor": "white",
            "linecolor": "white",
            "ticks": ""
           },
           "baxis": {
            "gridcolor": "white",
            "linecolor": "white",
            "ticks": ""
           },
           "bgcolor": "#E5ECF6",
           "caxis": {
            "gridcolor": "white",
            "linecolor": "white",
            "ticks": ""
           }
          },
          "title": {
           "x": 0.05
          },
          "xaxis": {
           "automargin": true,
           "gridcolor": "white",
           "linecolor": "white",
           "ticks": "",
           "title": {
            "standoff": 15
           },
           "zerolinecolor": "white",
           "zerolinewidth": 2
          },
          "yaxis": {
           "automargin": true,
           "gridcolor": "white",
           "linecolor": "white",
           "ticks": "",
           "title": {
            "standoff": 15
           },
           "zerolinecolor": "white",
           "zerolinewidth": 2
          }
         }
        },
        "title": {
         "text": "FIGURE 1: Total GDP in USD by country in 2021"
        }
       }
      },
      "text/html": [
       "<div>                            <div id=\"13831431-4fe5-4d7e-a6f4-5d184a19ab44\" class=\"plotly-graph-div\" style=\"height:525px; width:100%;\"></div>            <script type=\"text/javascript\">                require([\"plotly\"], function(Plotly) {                    window.PLOTLYENV=window.PLOTLYENV || {};                                    if (document.getElementById(\"13831431-4fe5-4d7e-a6f4-5d184a19ab44\")) {                    Plotly.newPlot(                        \"13831431-4fe5-4d7e-a6f4-5d184a19ab44\",                        [{\"coloraxis\":\"coloraxis\",\"geo\":\"geo\",\"hovertemplate\":\"Country=%{location}<br>GDP in USD=%{z}<extra></extra>\",\"locationmode\":\"country names\",\"locations\":[\"United States\",\"China\",\"Japan\",\"Germany\",\"South Asia\",\"India\",\"United Kingdom\",\"France\",\"Arab World\",\"Italy\",\"Canada\",\"Korea, Rep.\",\"Russian Federation\",\"Brazil\",\"Australia\",\"Spain\",\"Mexico\",\"Indonesia\",\"Netherlands\",\"Saudi Arabia\",\"Turkey\",\"Switzerland\",\"Poland\",\"Sweden\",\"Belgium\",\"Low income\",\"Small states\",\"Thailand\",\"Ireland\",\"Israel\",\"Argentina\",\"Norway\",\"Austria\",\"Other small states\",\"Nigeria\",\"South Africa\",\"Bangladesh\",\"United Arab Emirates\",\"Egypt, Arab Rep.\",\"Denmark\",\"Singapore\",\"Philippines\",\"Malaysia\",\"Hong Kong SAR, China\",\"Vietnam\",\"Iran, Islamic Rep.\",\"Pakistan\",\"Chile\",\"Colombia\",\"Finland\",\"Romania\",\"Czechia\",\"Portugal\",\"New Zealand\",\"Peru\",\"Greece\",\"Iraq\",\"Ukraine\",\"Kazakhstan\",\"Hungary\",\"Qatar\",\"Algeria\",\"Morocco\",\"Slovak Republic\",\"Ethiopia\",\"Kenya\",\"Puerto Rico\",\"Ecuador\",\"Dominican Republic\",\"Sri Lanka\",\"Oman\",\"Guatemala\",\"Luxembourg\",\"Bulgaria\",\"Ghana\",\"Caribbean small states\",\"Cote d'Ivoire\",\"Uzbekistan\",\"Croatia\",\"Belarus\",\"Tanzania\",\"Angola\",\"Lithuania\",\"Myanmar\",\"Costa Rica\",\"Panama\",\"Serbia\",\"Slovenia\",\"Uruguay\",\"Congo, Dem. Rep.\",\"Azerbaijan\",\"Tunisia\",\"Jordan\",\"Cameroon\",\"Libya\",\"Uganda\",\"Bolivia\",\"Latvia\",\"Paraguay\",\"Bahrain\",\"Estonia\",\"Nepal\",\"Sudan\",\"Macao SAR, China\",\"El Salvador\",\"Honduras\",\"Cyprus\",\"Zimbabwe\",\"Senegal\",\"Cambodia\",\"Papua New Guinea\",\"Iceland\",\"Trinidad and Tobago\",\"Bosnia and Herzegovina\",\"Lebanon\",\"Zambia\",\"Haiti\",\"Gabon\",\"Burkina Faso\",\"Mali\",\"Lao PDR\",\"Georgia\",\"Albania\",\"West Bank and Gaza\",\"Botswana\",\"Malta\",\"Benin\",\"Guinea\",\"Mozambique\",\"Mongolia\",\"Niger\",\"Afghanistan\",\"Jamaica\",\"Madagascar\",\"Nicaragua\",\"Brunei Darussalam\",\"Armenia\",\"North Macedonia\",\"Moldova\",\"Congo, Rep.\",\"Malawi\",\"Namibia\",\"Equatorial Guinea\",\"Chad\",\"Mauritius\",\"Bahamas, The\",\"Rwanda\",\"New Caledonia\",\"Mauritania\",\"Pacific island small states\",\"Kosovo\",\"Tajikistan\",\"Monaco\",\"Kyrgyz Republic\",\"Togo\",\"Guyana\",\"Somalia\",\"Bermuda\",\"Guam\",\"French Polynesia\",\"Cayman Islands\",\"Montenegro\",\"Maldives\",\"Barbados\",\"Eswatini\",\"Fiji\",\"Sierra Leone\",\"Faroe Islands\",\"Timor-Leste\",\"Liberia\",\"Djibouti\",\"Andorra\",\"Aruba\",\"Suriname\",\"Burundi\",\"Curacao\",\"Bhutan\",\"Central African Republic\",\"Lesotho\",\"Belize\",\"Gambia, The\",\"Cabo Verde\",\"St. Lucia\",\"Guinea-Bissau\",\"Solomon Islands\",\"Antigua and Barbuda\",\"Seychelles\",\"Comoros\",\"Grenada\",\"Vanuatu\",\"Turks and Caicos Islands\",\"St. Vincent and the Grenadines\",\"St. Kitts and Nevis\",\"Samoa\",\"American Samoa\",\"Dominica\",\"Sao Tome and Principe\",\"Tonga\",\"Micronesia, Fed. Sts.\",\"Marshall Islands\",\"Palau\",\"Kiribati\",\"Nauru\",\"Tuvalu\",\"British Virgin Islands\",\"Channel Islands\",\"Cuba\",\"Eritrea\",\"Gibraltar\",\"Greenland\",\"Isle of Man\",\"Korea, Dem. People's Rep.\",\"Kuwait\",\"Liechtenstein\",\"Northern Mariana Islands\",\"San Marino\",\"Sint Maarten (Dutch part)\",\"South Sudan\",\"St. Martin (French part)\",\"Syrian Arab Republic\",\"Turkmenistan\",\"Venezuela\",\"Virgin Islands (U.S.)\",\"Yemen, Rep.\"],\"name\":\"\",\"z\":[23315080560000.0,17734062645371.4,4940877780755.3,4259934911821.6,4088770638066.9,3176295065497.2,3131377762926.0,2957879759263.5,2862987423061.5,2107702842669.7,1988336331717.4,1810955871381.0,1778782625793.7,1608981456325.1,1552667363236.1,1427380681294.6,1272839334119.3,1186092991320.0,1012846760976.7,833541236569.3,819035182929.6,800640155387.3,679444832854.3,635663801201.8,594104177539.5,562977782713.0,538706065410.0,505947037098.4,504182603275.5,488526545878.9,487227339102.7,482174854482.0,480368403893.4,453948317534.7,440833583992.5,419015018371.9,416264942893.3,415021590683.0,404142766093.1,398303272764.5,396986899888.4,394086401171.2,372980957208.0,369176400967.4,366137590600.7,359713152725.1,348262544719.2,317058508651.8,314464137241.3,297301883523.3,284087563695.8,281777887121.5,253663144586.0,249885687029.6,223249497500.4,214873879833.7,207889333724.1,200085537744.4,197112255360.6,181848022233.9,179677211793.9,163044443983.8,142866329198.4,116527101097.7,111271112330.0,110347079517.4,106525700000.0,106165866000.0,94243453937.5,88927263724.9,88191977373.2,85985752107.5,85506243833.8,84056312734.3,77594279054.9,75295300457.3,70043191477.1,69238903106.2,68955083280.2,68205380706.7,67841049193.4,67404287260.3,66445256585.4,65091751273.3,64282438666.7,63605100000.0,63082047649.9,61748586534.9,59319484710.7,55350968593.1,54622176470.6,46686741814.3,45744271658.9,45338283344.8,42817472975.4,40529789025.6,40408208528.2,39853501579.8,39495431574.2,38868663031.9,37191166152.0,36288830373.4,34326058557.4,30123914808.6,28736940000.0,28488668301.6,28407867534.0,28371238665.5,27625388352.2,26961061119.8,26594305745.6,25602419210.3,24460196270.7,23365361635.2,23131940280.7,22147634727.4,20944392615.1,20216843174.0,19737615114.4,19140461605.8,18827148509.6,18629365597.0,18255787479.2,18036800000.0,17614791265.7,17364044943.8,17144918952.5,16091817842.2,15776758632.9,15286441818.1,14915001427.0,14786861638.5,14657586937.1,14472603322.6,14013022092.1,14006569575.7,13861409968.8,13825049831.8,13679221333.2,13366230219.5,12626717491.9,12310595843.9,12269392839.8,11779980801.8,11529042672.4,11208600000.0,11070356519.5,10071351960.1,9996249658.2,9481916212.1,9412034299.2,8746270636.4,8596096984.0,8543423502.6,8413200567.6,8044498801.0,7628000011.5,7286607000.0,6123000000.0,6054676735.4,5898449688.0,5861268038.8,5405576235.8,4843800000.0,4743335152.9,4296304590.0,4042237864.3,3649886275.1,3621222382.2,3509000000.0,3482987379.1,3330281523.5,3126019399.1,2984706243.7,2779813489.0,2699612458.1,2539552984.7,2516498299.0,2496134680.3,2491500000.0,2038417462.4,1936174043.5,1691275156.6,1638517533.2,1631486531.9,1471125925.9,1454458183.9,1296089632.6,1122807407.4,956332655.7,943269800.0,904181492.8,860840740.7,843842416.5,709000000.0,554181481.5,526653790.7,469231309.5,404028900.0,259538700.0,217800000.0,207031250.0,133218896.9,63100961.5,null,null,null,null,null,null,null,null,null,null,null,null,null,null,null,null,null,null,null,null],\"type\":\"choropleth\"}],                        {\"template\":{\"data\":{\"histogram2dcontour\":[{\"type\":\"histogram2dcontour\",\"colorbar\":{\"outlinewidth\":0,\"ticks\":\"\"},\"colorscale\":[[0.0,\"#0d0887\"],[0.1111111111111111,\"#46039f\"],[0.2222222222222222,\"#7201a8\"],[0.3333333333333333,\"#9c179e\"],[0.4444444444444444,\"#bd3786\"],[0.5555555555555556,\"#d8576b\"],[0.6666666666666666,\"#ed7953\"],[0.7777777777777778,\"#fb9f3a\"],[0.8888888888888888,\"#fdca26\"],[1.0,\"#f0f921\"]]}],\"choropleth\":[{\"type\":\"choropleth\",\"colorbar\":{\"outlinewidth\":0,\"ticks\":\"\"}}],\"histogram2d\":[{\"type\":\"histogram2d\",\"colorbar\":{\"outlinewidth\":0,\"ticks\":\"\"},\"colorscale\":[[0.0,\"#0d0887\"],[0.1111111111111111,\"#46039f\"],[0.2222222222222222,\"#7201a8\"],[0.3333333333333333,\"#9c179e\"],[0.4444444444444444,\"#bd3786\"],[0.5555555555555556,\"#d8576b\"],[0.6666666666666666,\"#ed7953\"],[0.7777777777777778,\"#fb9f3a\"],[0.8888888888888888,\"#fdca26\"],[1.0,\"#f0f921\"]]}],\"heatmap\":[{\"type\":\"heatmap\",\"colorbar\":{\"outlinewidth\":0,\"ticks\":\"\"},\"colorscale\":[[0.0,\"#0d0887\"],[0.1111111111111111,\"#46039f\"],[0.2222222222222222,\"#7201a8\"],[0.3333333333333333,\"#9c179e\"],[0.4444444444444444,\"#bd3786\"],[0.5555555555555556,\"#d8576b\"],[0.6666666666666666,\"#ed7953\"],[0.7777777777777778,\"#fb9f3a\"],[0.8888888888888888,\"#fdca26\"],[1.0,\"#f0f921\"]]}],\"heatmapgl\":[{\"type\":\"heatmapgl\",\"colorbar\":{\"outlinewidth\":0,\"ticks\":\"\"},\"colorscale\":[[0.0,\"#0d0887\"],[0.1111111111111111,\"#46039f\"],[0.2222222222222222,\"#7201a8\"],[0.3333333333333333,\"#9c179e\"],[0.4444444444444444,\"#bd3786\"],[0.5555555555555556,\"#d8576b\"],[0.6666666666666666,\"#ed7953\"],[0.7777777777777778,\"#fb9f3a\"],[0.8888888888888888,\"#fdca26\"],[1.0,\"#f0f921\"]]}],\"contourcarpet\":[{\"type\":\"contourcarpet\",\"colorbar\":{\"outlinewidth\":0,\"ticks\":\"\"}}],\"contour\":[{\"type\":\"contour\",\"colorbar\":{\"outlinewidth\":0,\"ticks\":\"\"},\"colorscale\":[[0.0,\"#0d0887\"],[0.1111111111111111,\"#46039f\"],[0.2222222222222222,\"#7201a8\"],[0.3333333333333333,\"#9c179e\"],[0.4444444444444444,\"#bd3786\"],[0.5555555555555556,\"#d8576b\"],[0.6666666666666666,\"#ed7953\"],[0.7777777777777778,\"#fb9f3a\"],[0.8888888888888888,\"#fdca26\"],[1.0,\"#f0f921\"]]}],\"surface\":[{\"type\":\"surface\",\"colorbar\":{\"outlinewidth\":0,\"ticks\":\"\"},\"colorscale\":[[0.0,\"#0d0887\"],[0.1111111111111111,\"#46039f\"],[0.2222222222222222,\"#7201a8\"],[0.3333333333333333,\"#9c179e\"],[0.4444444444444444,\"#bd3786\"],[0.5555555555555556,\"#d8576b\"],[0.6666666666666666,\"#ed7953\"],[0.7777777777777778,\"#fb9f3a\"],[0.8888888888888888,\"#fdca26\"],[1.0,\"#f0f921\"]]}],\"mesh3d\":[{\"type\":\"mesh3d\",\"colorbar\":{\"outlinewidth\":0,\"ticks\":\"\"}}],\"scatter\":[{\"fillpattern\":{\"fillmode\":\"overlay\",\"size\":10,\"solidity\":0.2},\"type\":\"scatter\"}],\"parcoords\":[{\"type\":\"parcoords\",\"line\":{\"colorbar\":{\"outlinewidth\":0,\"ticks\":\"\"}}}],\"scatterpolargl\":[{\"type\":\"scatterpolargl\",\"marker\":{\"colorbar\":{\"outlinewidth\":0,\"ticks\":\"\"}}}],\"bar\":[{\"error_x\":{\"color\":\"#2a3f5f\"},\"error_y\":{\"color\":\"#2a3f5f\"},\"marker\":{\"line\":{\"color\":\"#E5ECF6\",\"width\":0.5},\"pattern\":{\"fillmode\":\"overlay\",\"size\":10,\"solidity\":0.2}},\"type\":\"bar\"}],\"scattergeo\":[{\"type\":\"scattergeo\",\"marker\":{\"colorbar\":{\"outlinewidth\":0,\"ticks\":\"\"}}}],\"scatterpolar\":[{\"type\":\"scatterpolar\",\"marker\":{\"colorbar\":{\"outlinewidth\":0,\"ticks\":\"\"}}}],\"histogram\":[{\"marker\":{\"pattern\":{\"fillmode\":\"overlay\",\"size\":10,\"solidity\":0.2}},\"type\":\"histogram\"}],\"scattergl\":[{\"type\":\"scattergl\",\"marker\":{\"colorbar\":{\"outlinewidth\":0,\"ticks\":\"\"}}}],\"scatter3d\":[{\"type\":\"scatter3d\",\"line\":{\"colorbar\":{\"outlinewidth\":0,\"ticks\":\"\"}},\"marker\":{\"colorbar\":{\"outlinewidth\":0,\"ticks\":\"\"}}}],\"scattermapbox\":[{\"type\":\"scattermapbox\",\"marker\":{\"colorbar\":{\"outlinewidth\":0,\"ticks\":\"\"}}}],\"scatterternary\":[{\"type\":\"scatterternary\",\"marker\":{\"colorbar\":{\"outlinewidth\":0,\"ticks\":\"\"}}}],\"scattercarpet\":[{\"type\":\"scattercarpet\",\"marker\":{\"colorbar\":{\"outlinewidth\":0,\"ticks\":\"\"}}}],\"carpet\":[{\"aaxis\":{\"endlinecolor\":\"#2a3f5f\",\"gridcolor\":\"white\",\"linecolor\":\"white\",\"minorgridcolor\":\"white\",\"startlinecolor\":\"#2a3f5f\"},\"baxis\":{\"endlinecolor\":\"#2a3f5f\",\"gridcolor\":\"white\",\"linecolor\":\"white\",\"minorgridcolor\":\"white\",\"startlinecolor\":\"#2a3f5f\"},\"type\":\"carpet\"}],\"table\":[{\"cells\":{\"fill\":{\"color\":\"#EBF0F8\"},\"line\":{\"color\":\"white\"}},\"header\":{\"fill\":{\"color\":\"#C8D4E3\"},\"line\":{\"color\":\"white\"}},\"type\":\"table\"}],\"barpolar\":[{\"marker\":{\"line\":{\"color\":\"#E5ECF6\",\"width\":0.5},\"pattern\":{\"fillmode\":\"overlay\",\"size\":10,\"solidity\":0.2}},\"type\":\"barpolar\"}],\"pie\":[{\"automargin\":true,\"type\":\"pie\"}]},\"layout\":{\"autotypenumbers\":\"strict\",\"colorway\":[\"#636efa\",\"#EF553B\",\"#00cc96\",\"#ab63fa\",\"#FFA15A\",\"#19d3f3\",\"#FF6692\",\"#B6E880\",\"#FF97FF\",\"#FECB52\"],\"font\":{\"color\":\"#2a3f5f\"},\"hovermode\":\"closest\",\"hoverlabel\":{\"align\":\"left\"},\"paper_bgcolor\":\"white\",\"plot_bgcolor\":\"#E5ECF6\",\"polar\":{\"bgcolor\":\"#E5ECF6\",\"angularaxis\":{\"gridcolor\":\"white\",\"linecolor\":\"white\",\"ticks\":\"\"},\"radialaxis\":{\"gridcolor\":\"white\",\"linecolor\":\"white\",\"ticks\":\"\"}},\"ternary\":{\"bgcolor\":\"#E5ECF6\",\"aaxis\":{\"gridcolor\":\"white\",\"linecolor\":\"white\",\"ticks\":\"\"},\"baxis\":{\"gridcolor\":\"white\",\"linecolor\":\"white\",\"ticks\":\"\"},\"caxis\":{\"gridcolor\":\"white\",\"linecolor\":\"white\",\"ticks\":\"\"}},\"coloraxis\":{\"colorbar\":{\"outlinewidth\":0,\"ticks\":\"\"}},\"colorscale\":{\"sequential\":[[0.0,\"#0d0887\"],[0.1111111111111111,\"#46039f\"],[0.2222222222222222,\"#7201a8\"],[0.3333333333333333,\"#9c179e\"],[0.4444444444444444,\"#bd3786\"],[0.5555555555555556,\"#d8576b\"],[0.6666666666666666,\"#ed7953\"],[0.7777777777777778,\"#fb9f3a\"],[0.8888888888888888,\"#fdca26\"],[1.0,\"#f0f921\"]],\"sequentialminus\":[[0.0,\"#0d0887\"],[0.1111111111111111,\"#46039f\"],[0.2222222222222222,\"#7201a8\"],[0.3333333333333333,\"#9c179e\"],[0.4444444444444444,\"#bd3786\"],[0.5555555555555556,\"#d8576b\"],[0.6666666666666666,\"#ed7953\"],[0.7777777777777778,\"#fb9f3a\"],[0.8888888888888888,\"#fdca26\"],[1.0,\"#f0f921\"]],\"diverging\":[[0,\"#8e0152\"],[0.1,\"#c51b7d\"],[0.2,\"#de77ae\"],[0.3,\"#f1b6da\"],[0.4,\"#fde0ef\"],[0.5,\"#f7f7f7\"],[0.6,\"#e6f5d0\"],[0.7,\"#b8e186\"],[0.8,\"#7fbc41\"],[0.9,\"#4d9221\"],[1,\"#276419\"]]},\"xaxis\":{\"gridcolor\":\"white\",\"linecolor\":\"white\",\"ticks\":\"\",\"title\":{\"standoff\":15},\"zerolinecolor\":\"white\",\"automargin\":true,\"zerolinewidth\":2},\"yaxis\":{\"gridcolor\":\"white\",\"linecolor\":\"white\",\"ticks\":\"\",\"title\":{\"standoff\":15},\"zerolinecolor\":\"white\",\"automargin\":true,\"zerolinewidth\":2},\"scene\":{\"xaxis\":{\"backgroundcolor\":\"#E5ECF6\",\"gridcolor\":\"white\",\"linecolor\":\"white\",\"showbackground\":true,\"ticks\":\"\",\"zerolinecolor\":\"white\",\"gridwidth\":2},\"yaxis\":{\"backgroundcolor\":\"#E5ECF6\",\"gridcolor\":\"white\",\"linecolor\":\"white\",\"showbackground\":true,\"ticks\":\"\",\"zerolinecolor\":\"white\",\"gridwidth\":2},\"zaxis\":{\"backgroundcolor\":\"#E5ECF6\",\"gridcolor\":\"white\",\"linecolor\":\"white\",\"showbackground\":true,\"ticks\":\"\",\"zerolinecolor\":\"white\",\"gridwidth\":2}},\"shapedefaults\":{\"line\":{\"color\":\"#2a3f5f\"}},\"annotationdefaults\":{\"arrowcolor\":\"#2a3f5f\",\"arrowhead\":0,\"arrowwidth\":1},\"geo\":{\"bgcolor\":\"white\",\"landcolor\":\"#E5ECF6\",\"subunitcolor\":\"white\",\"showland\":true,\"showlakes\":true,\"lakecolor\":\"white\"},\"title\":{\"x\":0.05},\"mapbox\":{\"style\":\"light\"}}},\"geo\":{\"domain\":{\"x\":[0.0,1.0],\"y\":[0.0,1.0]},\"center\":{},\"scope\":\"world\"},\"coloraxis\":{\"colorbar\":{\"title\":{\"text\":\"GDP in USD\"}},\"colorscale\":[[0.0,\"rgb(247,252,245)\"],[0.125,\"rgb(229,245,224)\"],[0.25,\"rgb(199,233,192)\"],[0.375,\"rgb(161,217,155)\"],[0.5,\"rgb(116,196,118)\"],[0.625,\"rgb(65,171,93)\"],[0.75,\"rgb(35,139,69)\"],[0.875,\"rgb(0,109,44)\"],[1.0,\"rgb(0,68,27)\"]]},\"legend\":{\"tracegroupgap\":0},\"title\":{\"text\":\"FIGURE 1: Total GDP in USD by country in 2021\"}},                        {\"responsive\": true}                    ).then(function(){\n",
       "                            \n",
       "var gd = document.getElementById('13831431-4fe5-4d7e-a6f4-5d184a19ab44');\n",
       "var x = new MutationObserver(function (mutations, observer) {{\n",
       "        var display = window.getComputedStyle(gd).display;\n",
       "        if (!display || display === 'none') {{\n",
       "            console.log([gd, 'removed!']);\n",
       "            Plotly.purge(gd);\n",
       "            observer.disconnect();\n",
       "        }}\n",
       "}});\n",
       "\n",
       "// Listen for the removal of the full notebook cells\n",
       "var notebookContainer = gd.closest('#notebook-container');\n",
       "if (notebookContainer) {{\n",
       "    x.observe(notebookContainer, {childList: true});\n",
       "}}\n",
       "\n",
       "// Listen for the clearing of the current output cell\n",
       "var outputEl = gd.closest('.output');\n",
       "if (outputEl) {{\n",
       "    x.observe(outputEl, {childList: true});\n",
       "}}\n",
       "\n",
       "                        })                };                });            </script>        </div>"
      ]
     },
     "metadata": {},
     "output_type": "display_data"
    }
   ],
   "source": [
    "# load the WDI dataset\n",
    "\n",
    "# rename metric and country columns for better visual representation\n",
    "wdi_gdp = pd.read_csv('./nazliu_comp_exam_2023spring/WDI_CSV/wdi_gdp_1960_2022.csv')\n",
    "wdi_gdp_2021 = wdi_gdp[['country_name', '2021']].replace({'Turkiye':'Turkey','Venezuela, RB':'Venezuela'})\n",
    "\n",
    "wdi_gdp_2021.rename(\n",
    "    columns={'2021':\"GDP in USD\", 'country_name':'Country'}, \n",
    "    inplace=True\n",
    ")\n",
    "# create figure\n",
    "fig = px.choropleth(\n",
    "    wdi_gdp_2021,\n",
    "    locations=wdi_gdp_2021['Country'], \n",
    "    locationmode='country names', \n",
    "    scope='world', \n",
    "    color='GDP in USD',\n",
    "    color_continuous_scale=\"Greens\",\n",
    "    title=\"FIGURE 1: Total GDP in USD by country in 2021\"\n",
    ")\n",
    "fig.show()"
   ]
  },
  {
   "cell_type": "markdown",
   "id": "a981269a",
   "metadata": {},
   "source": [
    "Remove following country name values since they are regional and not specific countries:\n",
    "\n",
    "Africa Eastern and Southern\n",
    "Africa Western and Central\n",
    "Central Europe and the Baltics\n",
    "Early-demographic dividend\n",
    "East Asia & Pacific\n",
    "East Asia & Pacific (excluding high income)\n",
    "East Asia & Pacific (IDA & IBRD countries)\n",
    "Euro area\n",
    "Europe & Central Asia\n",
    "Europe & Central Asia (excluding high income)\n",
    "Europe & Central Asia (IDA & IBRD countries)\n",
    "European Union\n",
    "Fragile and conflict affected situations\n",
    "Heavily indebted poor countries (HIPC)\n",
    "High income\n",
    "IBRD only\n",
    "IDA & IBRD total\n",
    "IDA blend\n",
    "IDA only\n",
    "IDA total\n",
    "Late-demographic dividend\n",
    "Latin America & Caribbean\n",
    "Latin America & Caribbean (excluding high income)\n",
    "Latin America & the Caribbean (IDA & IBRD countries)\n",
    "Least developed countries: UN classification\n",
    "Low & middle income\n",
    "Lower middle income\n",
    "Middle East & North Africa\n",
    "Middle East & North Africa (excluding high income)\n",
    "Middle East & North Africa (IDA & IBRD countries)\n",
    "Middle income\n",
    "North America\n",
    "Not Classified\n",
    "OECD members\n",
    "Post-demographic dividend\n",
    "Pre-demographic dividend\n",
    "South Asia (IDA & IBRD)\n",
    "Sub-Saharan Africa\n",
    "Sub-Saharan Africa (excluding high income)\n",
    "Sub-Saharan Africa (IDA & IBRD countries)\n",
    "Upper middle income\n",
    "World"
   ]
  },
  {
   "cell_type": "code",
   "execution_count": 28,
   "id": "77b0400c",
   "metadata": {},
   "outputs": [
    {
     "data": {
      "image/png": "[encoded data removed]",
      "text/plain": [
       "<Figure size 864x576 with 1 Axes>"
      ]
     },
     "metadata": {
      "needs_background": "light"
     },
     "output_type": "display_data"
    }
   ],
   "source": [
    "#load GDP WDI data\n",
    "wdi_gdp = pd.read_csv('./nazliu_comp_exam_2023spring/WDI_CSV/wdi_gdp_1960_2022.csv')\n",
    "wdi_gdp_2021 = wdi_gdp[['country_name', '2021']].replace({'Turkiye':'Turkey','Venezuela, RB':'Venezuela'})\n",
    "\n",
    "# filter out any null values for GDP metric\n",
    "wdi_gdp_2021_notnull = wdi_gdp_2021[wdi_gdp_2021['2021'].notnull()]\n",
    "# pull top 10 countries by MSW\n",
    "wdi_gdp_2021_top10 = wdi_gdp_2021_notnull.sort_values(by='2021', ascending=False).head(10)\n",
    "\n",
    "plt.figure(figsize = (12, 8))\n",
    "# create list of countries from dataframe\n",
    "countries = wdi_gdp_2021_top10['country_name'].tolist()\n",
    "# create list of MSW by country from dataframe\n",
    "total_gdp = wdi_gdp_2021_top10['2021'].tolist()\n",
    "\n",
    "# identify bar graph colors to point out top two countries by MSW\n",
    "colors = []\n",
    "for c in countries:\n",
    "    if c == 'China':\n",
    "        colors.append('#FFCB05')\n",
    "    elif c == 'United States':\n",
    "        colors.append('#00274C')\n",
    "    else:\n",
    "        colors.append('lightgray')\n",
    "\n",
    "# find MSW average to compare across all top countries\n",
    "gdp_avg = wdi_gdp_2021_notnull['2021'].mean()\n",
    "# create the horizontal bar plot including titles, x and y axis titles\n",
    "plt.barh(range(len(total_gdp)), total_gdp, color = colors)\n",
    "plt.vlines(x=gdp_avg, ymin=0, ymax=9, colors='r', ls='--', label='Average GDP')\n",
    "plt.yticks(range(len(total_gdp)), countries)\n",
    "plt.xlabel(\"MSW in tons\", size=12)\n",
    "plt.ylabel(\"Country\", size=12)\n",
    "plt.title(\"FIGURE 2: Total GDP in USD by country in 2021\", size=14)\n",
    "plt.gca().invert_yaxis()\n",
    "plt.legend(fontsize=12)\n",
    "plt.show()"
   ]
  },
  {
   "cell_type": "markdown",
   "id": "33bb923d",
   "metadata": {},
   "source": [
    "### GDP and Average Football League Market Value Correlation by Country"
   ]
  },
  {
   "cell_type": "code",
   "execution_count": 55,
   "id": "2fd5afdb",
   "metadata": {},
   "outputs": [],
   "source": [
    "market_value = pd.read_csv('./transfermarkt/avg_league_val_by_country.csv')\n",
    "# convert euro to usd to compare against other usd metrics like gdp\n",
    "market_value['mv_usd'] = market_value['market_val'] * 1.08"
   ]
  },
  {
   "cell_type": "code",
   "execution_count": 102,
   "id": "651747f2",
   "metadata": {},
   "outputs": [],
   "source": [
    "mv_gdp = pd.merge(market_value, wdi_gdp_2021, how='left', left_on=['country_name'], right_on=['country_name'])\n",
    "del mv_gdp['market_val']\n",
    "\n",
    "mv_gdp.rename(columns={'2021':\"gdp_usd\"}, inplace=True)\n",
    "mv_gdp = mv_gdp.dropna(subset=['gdp_usd'])"
   ]
  },
  {
   "cell_type": "markdown",
   "id": "13c75665",
   "metadata": {},
   "source": [
    "## BMI - DATA AS OF 2016\n",
    "Source: https://www.who.int/data/gho/data/indicators/indicator-details/GHO/prevalence-of-overweight-among-adults-bmi-greaterequal-25-(crude-estimate)-(-)\n",
    "\n",
    "had to replace country name \"United States of America\" to \"United States\" for joining"
   ]
  },
  {
   "cell_type": "code",
   "execution_count": 185,
   "id": "25313343",
   "metadata": {},
   "outputs": [],
   "source": [
    "bmi = pd.read_csv('./nazliu_comp_exam_2023spring/WDI_CSV/who_gho_bmi_2016.csv')\n",
    "bmi_2016 = bmi[bmi['Period'] == 2016]\n",
    "bmi_2016_df = bmi_2016[['Location','Dim1','Dim2ValueCode','FactValueNumeric','FactValueNumericLow','FactValueNumericHigh']]\n",
    "bmi_2016_df.columns = ['country_name','gender','age','bmi','bmi_low','bmi_high']"
   ]
  },
  {
   "cell_type": "code",
   "execution_count": 186,
   "id": "df7b2e7d",
   "metadata": {},
   "outputs": [],
   "source": [
    "bmi_2016_male = bmi_2016_df[(bmi_2016_df['gender'] == 'Male')\n",
    "                             & (bmi_2016_df['age'] == 'YEARS18-PLUS')]\n",
    "bmi_2016_male_agg = bmi_2016_male.groupby('country_name')[['bmi']].mean().reset_index()"
   ]
  },
  {
   "cell_type": "markdown",
   "id": "4c977e63",
   "metadata": {},
   "source": [
    "## Life Expectancy - DATA AS OF 2021\n",
    "Source: https://databank.worldbank.org/data/download/WDI_CSV.zip"
   ]
  },
  {
   "cell_type": "code",
   "execution_count": 203,
   "id": "079b81e6",
   "metadata": {},
   "outputs": [
    {
     "name": "stderr",
     "output_type": "stream",
     "text": [
      "/Users/nuremek/opt/anaconda3/lib/python3.8/site-packages/pandas/core/frame.py:4441: SettingWithCopyWarning:\n",
      "\n",
      "\n",
      "A value is trying to be set on a copy of a slice from a DataFrame\n",
      "\n",
      "See the caveats in the documentation: https://pandas.pydata.org/pandas-docs/stable/user_guide/indexing.html#returning-a-view-versus-a-copy\n",
      "\n"
     ]
    }
   ],
   "source": [
    "life = pd.read_csv('./nazliu_comp_exam_2023spring/WDI_CSV/wdi_life_1960_2022.csv')\n",
    "#filter for data from latest year only (2021)\n",
    "life_2021 = life[['country_name', '2021']].replace({'Turkiye':'Turkey','Venezuela, RB':'Venezuela'})\n",
    "\n",
    "# filter out any null values\n",
    "life_2021_notnull = life_2021[life_2021['2021'].notnull()]\n",
    "life_2021_notnull.head()\n",
    "\n",
    "# rename columns\n",
    "life_2021_notnull.rename(\n",
    "    columns={'2021':\"life_exp\", 'country_name':'country_name'}, \n",
    "    inplace=True\n",
    ")"
   ]
  },
  {
   "cell_type": "markdown",
   "id": "5e945107",
   "metadata": {},
   "source": [
    "## Quality of Life Index - DATA AS OF 2021\n",
    "\n",
    "Source: https://www.worlddata.info/quality-of-life.php?expats=0&stability=15&rights=13&health=30&safety=10&climate=15&costs=15&popularity=10#ranges\n",
    "\n",
    "Cameroon, Senegal, and Panama missing so were set to QoL = 0"
   ]
  },
  {
   "cell_type": "code",
   "execution_count": 246,
   "id": "c8b5bb91",
   "metadata": {},
   "outputs": [],
   "source": [
    "qol = pd.read_csv('./quality_of_life_index.csv')\n",
    "#filter for data for total quality of life index\n",
    "qol_total = qol[['country_name', 'Total (100%)']]\n",
    "# filter out any null values\n",
    "qol_notnull = qol_total[qol_total['Total (100%)'].notnull()]\n",
    "qol_notnull.head()\n",
    "\n",
    "# rename columns\n",
    "qol_notnull.rename(\n",
    "    columns={'Total (100%)':\"qol\"}, \n",
    "    inplace=True\n",
    ")"
   ]
  },
  {
   "cell_type": "markdown",
   "id": "175c9ef8",
   "metadata": {},
   "source": [
    "## Splom plot to find any correlation between market value, gdp, male bmi, life expectancy, and power rating"
   ]
  },
  {
   "cell_type": "code",
   "execution_count": 304,
   "id": "963d3807",
   "metadata": {},
   "outputs": [],
   "source": [
    "top_countries = pd.read_csv('./Elo and World Cup/world_cup_result.csv')\n",
    "top_countries_sort = top_countries.sort_values(by = 'power_rating', ascending=False)\n",
    "top_countries_50 = top_countries_sort.iloc[:50]"
   ]
  },
  {
   "cell_type": "code",
   "execution_count": 344,
   "id": "4ae5b9fd",
   "metadata": {},
   "outputs": [],
   "source": [
    "# merge market value, gdp, male bmi, life expectancy, and quality of life index into single dataset\n",
    "mv_gdp_bmi = pd.merge(mv_gdp, bmi_2016_male_agg, how='left', left_on=['country_name'], right_on=['country_name'])\n",
    "mv_gdp_bmi_life = pd.merge(mv_gdp_bmi, life_2021_notnull, how='left', left_on=['country_name'], right_on=['country_name'])\n",
    "mv_gdp_bmi_life_qol = pd.merge(mv_gdp_bmi_life, qol_notnull, how='left', left_on=['country_name'], right_on=['country_name'])\n",
    "mv_gdp_bmi_life_qol_power = pd.merge(mv_gdp_bmi_life_qol, top_countries_50, how='left', left_on=['country_name'], right_on=['country_name'])\n",
    "\n",
    "# set all NaN values to 0\n",
    "mv_gdp_bmi_life_qol_power.fillna(0, inplace=True)"
   ]
  },
  {
   "cell_type": "code",
   "execution_count": 345,
   "id": "e21ca638",
   "metadata": {},
   "outputs": [],
   "source": [
    "# filter to top 50 worldcup countries\n",
    "# top50 = top_countries_30['country_name'].tolist()  \n",
    "# dataset_top50 = mv_gdp_bmi_life_qol_power[mv_gdp_bmi_life_qol_power['country_name'].isin(top30)]"
   ]
  },
  {
   "cell_type": "code",
   "execution_count": 349,
   "id": "43b8298a",
   "metadata": {},
   "outputs": [
    {
     "data": {
      "application/vnd.plotly.v1+json": {
       "config": {
        "plotlyServerURL": "https://plot.ly"
       },
       "data": [
        {
         "dimensions": [
          {
           "axis": {
            "matches": true
           },
           "label": "mv_usd",
           "values": [
            432
           ]
          },
          {
           "axis": {
            "matches": true
           },
           "label": "gdp_usd",
           "values": [
            14786861638.5
           ]
          },
          {
           "axis": {
            "matches": true
           },
           "label": "bmi",
           "values": [
            22.3
           ]
          },
          {
           "axis": {
            "matches": true
           },
           "label": "life_exp",
           "values": [
            61.982
           ]
          },
          {
           "axis": {
            "matches": true
           },
           "label": "qol",
           "values": [
            37
           ]
          },
          {
           "axis": {
            "matches": true
           },
           "label": "power_rating",
           "values": [
            0
           ]
          }
         ],
         "hovertemplate": "country_name=Afghanistan<br>%{xaxis.title.text}=%{x}<br>%{yaxis.title.text}=%{y}<extra></extra>",
         "legendgroup": "Afghanistan",
         "marker": {
          "color": "#636efa",
          "symbol": "circle"
         },
         "name": "Afghanistan",
         "showlegend": true,
         "type": "splom"
        },
        {
         "dimensions": [
          {
           "axis": {
            "matches": true
           },
           "label": "mv_usd",
           "values": [
            2353752
           ]
          },
          {
           "axis": {
            "matches": true
           },
           "label": "gdp_usd",
           "values": [
            18255787479.2
           ]
          },
          {
           "axis": {
            "matches": true
           },
           "label": "bmi",
           "values": [
            27
           ]
          },
          {
           "axis": {
            "matches": true
           },
           "label": "life_exp",
           "values": [
            76.463
           ]
          },
          {
           "axis": {
            "matches": true
           },
           "label": "qol",
           "values": [
            54
           ]
          },
          {
           "axis": {
            "matches": true
           },
           "label": "power_rating",
           "values": [
            0
           ]
          }
         ],
         "hovertemplate": "country_name=Albania<br>%{xaxis.title.text}=%{x}<br>%{yaxis.title.text}=%{y}<extra></extra>",
         "legendgroup": "Albania",
         "marker": {
          "color": "#EF553B",
          "symbol": "circle"
         },
         "name": "Albania",
         "showlegend": true,
         "type": "splom"
        },
        {
         "dimensions": [
          {
           "axis": {
            "matches": true
           },
           "label": "mv_usd",
           "values": [
            3985416.0000000005
           ]
          },
          {
           "axis": {
            "matches": true
           },
           "label": "gdp_usd",
           "values": [
            163044443983.8
           ]
          },
          {
           "axis": {
            "matches": true
           },
           "label": "bmi",
           "values": [
            24.7
           ]
          },
          {
           "axis": {
            "matches": true
           },
           "label": "life_exp",
           "values": [
            76.377
           ]
          },
          {
           "axis": {
            "matches": true
           },
           "label": "qol",
           "values": [
            51
           ]
          },
          {
           "axis": {
            "matches": true
           },
           "label": "power_rating",
           "values": [
            0
           ]
          }
         ],
         "hovertemplate": "country_name=Algeria<br>%{xaxis.title.text}=%{x}<br>%{yaxis.title.text}=%{y}<extra></extra>",
         "legendgroup": "Algeria",
         "marker": {
          "color": "#00cc96",
          "symbol": "circle"
         },
         "name": "Algeria",
         "showlegend": true,
         "type": "splom"
        },
        {
         "dimensions": [
          {
           "axis": {
            "matches": true
           },
           "label": "mv_usd",
           "values": [
            0
           ]
          },
          {
           "axis": {
            "matches": true
           },
           "label": "gdp_usd",
           "values": [
            709000000
           ]
          },
          {
           "axis": {
            "matches": true
           },
           "label": "bmi",
           "values": [
            0
           ]
          },
          {
           "axis": {
            "matches": true
           },
           "label": "life_exp",
           "values": [
            0
           ]
          },
          {
           "axis": {
            "matches": true
           },
           "label": "qol",
           "values": [
            0
           ]
          },
          {
           "axis": {
            "matches": true
           },
           "label": "power_rating",
           "values": [
            0
           ]
          }
         ],
         "hovertemplate": "country_name=American Samoa<br>%{xaxis.title.text}=%{x}<br>%{yaxis.title.text}=%{y}<extra></extra>",
         "legendgroup": "American Samoa",
         "marker": {
          "color": "#ab63fa",
          "symbol": "circle"
         },
         "name": "American Samoa",
         "showlegend": true,
         "type": "splom"
        },
        {
         "dimensions": [
          {
           "axis": {
            "matches": true
           },
           "label": "mv_usd",
           "values": [
            1428192
           ]
          },
          {
           "axis": {
            "matches": true
           },
           "label": "gdp_usd",
           "values": [
            3330281523.5
           ]
          },
          {
           "axis": {
            "matches": true
           },
           "label": "bmi",
           "values": [
            27.6
           ]
          },
          {
           "axis": {
            "matches": true
           },
           "label": "life_exp",
           "values": [
            0
           ]
          },
          {
           "axis": {
            "matches": true
           },
           "label": "qol",
           "values": [
            0
           ]
          },
          {
           "axis": {
            "matches": true
           },
           "label": "power_rating",
           "values": [
            0
           ]
          }
         ],
         "hovertemplate": "country_name=Andorra<br>%{xaxis.title.text}=%{x}<br>%{yaxis.title.text}=%{y}<extra></extra>",
         "legendgroup": "Andorra",
         "marker": {
          "color": "#FFA15A",
          "symbol": "circle"
         },
         "name": "Andorra",
         "showlegend": true,
         "type": "splom"
        },
        {
         "dimensions": [
          {
           "axis": {
            "matches": true
           },
           "label": "mv_usd",
           "values": [
            256176.00000000003
           ]
          },
          {
           "axis": {
            "matches": true
           },
           "label": "gdp_usd",
           "values": [
            67404287260.3
           ]
          },
          {
           "axis": {
            "matches": true
           },
           "label": "bmi",
           "values": [
            22.1
           ]
          },
          {
           "axis": {
            "matches": true
           },
           "label": "life_exp",
           "values": [
            61.643
           ]
          },
          {
           "axis": {
            "matches": true
           },
           "label": "qol",
           "values": [
            0
           ]
          },
          {
           "axis": {
            "matches": true
           },
           "label": "power_rating",
           "values": [
            0
           ]
          }
         ],
         "hovertemplate": "country_name=Angola<br>%{xaxis.title.text}=%{x}<br>%{yaxis.title.text}=%{y}<extra></extra>",
         "legendgroup": "Angola",
         "marker": {
          "color": "#19d3f3",
          "symbol": "circle"
         },
         "name": "Angola",
         "showlegend": true,
         "type": "splom"
        },
        {
         "dimensions": [
          {
           "axis": {
            "matches": true
           },
           "label": "mv_usd",
           "values": [
            4320
           ]
          },
          {
           "axis": {
            "matches": true
           },
           "label": "gdp_usd",
           "values": [
            1471125925.9
           ]
          },
          {
           "axis": {
            "matches": true
           },
           "label": "bmi",
           "values": [
            25.7
           ]
          },
          {
           "axis": {
            "matches": true
           },
           "label": "life_exp",
           "values": [
            78.497
           ]
          },
          {
           "axis": {
            "matches": true
           },
           "label": "qol",
           "values": [
            0
           ]
          },
          {
           "axis": {
            "matches": true
           },
           "label": "power_rating",
           "values": [
            0
           ]
          }
         ],
         "hovertemplate": "country_name=Antigua and Barbuda<br>%{xaxis.title.text}=%{x}<br>%{yaxis.title.text}=%{y}<extra></extra>",
         "legendgroup": "Antigua and Barbuda",
         "marker": {
          "color": "#FF6692",
          "symbol": "circle"
         },
         "name": "Antigua and Barbuda",
         "showlegend": true,
         "type": "splom"
        },
        {
         "dimensions": [
          {
           "axis": {
            "matches": true
           },
           "label": "mv_usd",
           "values": [
            34702992
           ]
          },
          {
           "axis": {
            "matches": true
           },
           "label": "gdp_usd",
           "values": [
            487227339102.7
           ]
          },
          {
           "axis": {
            "matches": true
           },
           "label": "bmi",
           "values": [
            27.8
           ]
          },
          {
           "axis": {
            "matches": true
           },
           "label": "life_exp",
           "values": [
            75.39
           ]
          },
          {
           "axis": {
            "matches": true
           },
           "label": "qol",
           "values": [
            55
           ]
          },
          {
           "axis": {
            "matches": true
           },
           "label": "power_rating",
           "values": [
            0.71875
           ]
          }
         ],
         "hovertemplate": "country_name=Argentina<br>%{xaxis.title.text}=%{x}<br>%{yaxis.title.text}=%{y}<extra></extra>",
         "legendgroup": "Argentina",
         "marker": {
          "color": "#B6E880",
          "symbol": "circle"
         },
         "name": "Argentina",
         "showlegend": true,
         "type": "splom"
        },
        {
         "dimensions": [
          {
           "axis": {
            "matches": true
           },
           "label": "mv_usd",
           "values": [
            1707480
           ]
          },
          {
           "axis": {
            "matches": true
           },
           "label": "gdp_usd",
           "values": [
            13861409968.8
           ]
          },
          {
           "axis": {
            "matches": true
           },
           "label": "bmi",
           "values": [
            25.6
           ]
          },
          {
           "axis": {
            "matches": true
           },
           "label": "life_exp",
           "values": [
            72.043
           ]
          },
          {
           "axis": {
            "matches": true
           },
           "label": "qol",
           "values": [
            52
           ]
          },
          {
           "axis": {
            "matches": true
           },
           "label": "power_rating",
           "values": [
            0
           ]
          }
         ],
         "hovertemplate": "country_name=Armenia<br>%{xaxis.title.text}=%{x}<br>%{yaxis.title.text}=%{y}<extra></extra>",
         "legendgroup": "Armenia",
         "marker": {
          "color": "#FF97FF",
          "symbol": "circle"
         },
         "name": "Armenia",
         "showlegend": true,
         "type": "splom"
        },
        {
         "dimensions": [
          {
           "axis": {
            "matches": true
           },
           "label": "mv_usd",
           "values": [
            0
           ]
          },
          {
           "axis": {
            "matches": true
           },
           "label": "gdp_usd",
           "values": [
            3126019399.1
           ]
          },
          {
           "axis": {
            "matches": true
           },
           "label": "bmi",
           "values": [
            0
           ]
          },
          {
           "axis": {
            "matches": true
           },
           "label": "life_exp",
           "values": [
            74.626
           ]
          },
          {
           "axis": {
            "matches": true
           },
           "label": "qol",
           "values": [
            0
           ]
          },
          {
           "axis": {
            "matches": true
           },
           "label": "power_rating",
           "values": [
            0
           ]
          }
         ],
         "hovertemplate": "country_name=Aruba<br>%{xaxis.title.text}=%{x}<br>%{yaxis.title.text}=%{y}<extra></extra>",
         "legendgroup": "Aruba",
         "marker": {
          "color": "#FECB52",
          "symbol": "circle"
         },
         "name": "Aruba",
         "showlegend": true,
         "type": "splom"
        },
        {
         "dimensions": [
          {
           "axis": {
            "matches": true
           },
           "label": "mv_usd",
           "values": [
            4021056.0000000005
           ]
          },
          {
           "axis": {
            "matches": true
           },
           "label": "gdp_usd",
           "values": [
            1552667363236.1
           ]
          },
          {
           "axis": {
            "matches": true
           },
           "label": "bmi",
           "values": [
            27.8
           ]
          },
          {
           "axis": {
            "matches": true
           },
           "label": "life_exp",
           "values": [
            83.3
           ]
          },
          {
           "axis": {
            "matches": true
           },
           "label": "qol",
           "values": [
            75
           ]
          },
          {
           "axis": {
            "matches": true
           },
           "label": "power_rating",
           "values": [
            0.40625
           ]
          }
         ],
         "hovertemplate": "country_name=Australia<br>%{xaxis.title.text}=%{x}<br>%{yaxis.title.text}=%{y}<extra></extra>",
         "legendgroup": "Australia",
         "marker": {
          "color": "#636efa",
          "symbol": "circle"
         },
         "name": "Australia",
         "showlegend": true,
         "type": "splom"
        },
        {
         "dimensions": [
          {
           "axis": {
            "matches": true
           },
           "label": "mv_usd",
           "values": [
            21712320
           ]
          },
          {
           "axis": {
            "matches": true
           },
           "label": "gdp_usd",
           "values": [
            480368403893.4
           ]
          },
          {
           "axis": {
            "matches": true
           },
           "label": "bmi",
           "values": [
            26.8
           ]
          },
          {
           "axis": {
            "matches": true
           },
           "label": "life_exp",
           "values": [
            81.23902439
           ]
          },
          {
           "axis": {
            "matches": true
           },
           "label": "qol",
           "values": [
            69
           ]
          },
          {
           "axis": {
            "matches": true
           },
           "label": "power_rating",
           "values": [
            0
           ]
          }
         ],
         "hovertemplate": "country_name=Austria<br>%{xaxis.title.text}=%{x}<br>%{yaxis.title.text}=%{y}<extra></extra>",
         "legendgroup": "Austria",
         "marker": {
          "color": "#EF553B",
          "symbol": "circle"
         },
         "name": "Austria",
         "showlegend": true,
         "type": "splom"
        },
        {
         "dimensions": [
          {
           "axis": {
            "matches": true
           },
           "label": "mv_usd",
           "values": [
            3131784
           ]
          },
          {
           "axis": {
            "matches": true
           },
           "label": "gdp_usd",
           "values": [
            54622176470.6
           ]
          },
          {
           "axis": {
            "matches": true
           },
           "label": "bmi",
           "values": [
            26.1
           ]
          },
          {
           "axis": {
            "matches": true
           },
           "label": "life_exp",
           "values": [
            69.366
           ]
          },
          {
           "axis": {
            "matches": true
           },
           "label": "qol",
           "values": [
            46
           ]
          },
          {
           "axis": {
            "matches": true
           },
           "label": "power_rating",
           "values": [
            0
           ]
          }
         ],
         "hovertemplate": "country_name=Azerbaijan<br>%{xaxis.title.text}=%{x}<br>%{yaxis.title.text}=%{y}<extra></extra>",
         "legendgroup": "Azerbaijan",
         "marker": {
          "color": "#00cc96",
          "symbol": "circle"
         },
         "name": "Azerbaijan",
         "showlegend": true,
         "type": "splom"
        },
        {
         "dimensions": [
          {
           "axis": {
            "matches": true
           },
           "label": "mv_usd",
           "values": [
            461376.00000000006
           ]
          },
          {
           "axis": {
            "matches": true
           },
           "label": "gdp_usd",
           "values": [
            38868663031.9
           ]
          },
          {
           "axis": {
            "matches": true
           },
           "label": "bmi",
           "values": [
            25
           ]
          },
          {
           "axis": {
            "matches": true
           },
           "label": "life_exp",
           "values": [
            78.76
           ]
          },
          {
           "axis": {
            "matches": true
           },
           "label": "qol",
           "values": [
            59
           ]
          },
          {
           "axis": {
            "matches": true
           },
           "label": "power_rating",
           "values": [
            0
           ]
          }
         ],
         "hovertemplate": "country_name=Bahrain<br>%{xaxis.title.text}=%{x}<br>%{yaxis.title.text}=%{y}<extra></extra>",
         "legendgroup": "Bahrain",
         "marker": {
          "color": "#ab63fa",
          "symbol": "circle"
         },
         "name": "Bahrain",
         "showlegend": true,
         "type": "splom"
        },
        {
         "dimensions": [
          {
           "axis": {
            "matches": true
           },
           "label": "mv_usd",
           "values": [
            1019952.0000000001
           ]
          },
          {
           "axis": {
            "matches": true
           },
           "label": "gdp_usd",
           "values": [
            416264942893.3
           ]
          },
          {
           "axis": {
            "matches": true
           },
           "label": "bmi",
           "values": [
            21.3
           ]
          },
          {
           "axis": {
            "matches": true
           },
           "label": "life_exp",
           "values": [
            72.381
           ]
          },
          {
           "axis": {
            "matches": true
           },
           "label": "qol",
           "values": [
            46
           ]
          },
          {
           "axis": {
            "matches": true
           },
           "label": "power_rating",
           "values": [
            0
           ]
          }
         ],
         "hovertemplate": "country_name=Bangladesh<br>%{xaxis.title.text}=%{x}<br>%{yaxis.title.text}=%{y}<extra></extra>",
         "legendgroup": "Bangladesh",
         "marker": {
          "color": "#FFA15A",
          "symbol": "circle"
         },
         "name": "Bangladesh",
         "showlegend": true,
         "type": "splom"
        },
        {
         "dimensions": [
          {
           "axis": {
            "matches": true
           },
           "label": "mv_usd",
           "values": [
            0
           ]
          },
          {
           "axis": {
            "matches": true
           },
           "label": "gdp_usd",
           "values": [
            4843800000
           ]
          },
          {
           "axis": {
            "matches": true
           },
           "label": "bmi",
           "values": [
            26.5
           ]
          },
          {
           "axis": {
            "matches": true
           },
           "label": "life_exp",
           "values": [
            77.571
           ]
          },
          {
           "axis": {
            "matches": true
           },
           "label": "qol",
           "values": [
            0
           ]
          },
          {
           "axis": {
            "matches": true
           },
           "label": "power_rating",
           "values": [
            0
           ]
          }
         ],
         "hovertemplate": "country_name=Barbados<br>%{xaxis.title.text}=%{x}<br>%{yaxis.title.text}=%{y}<extra></extra>",
         "legendgroup": "Barbados",
         "marker": {
          "color": "#19d3f3",
          "symbol": "circle"
         },
         "name": "Barbados",
         "showlegend": true,
         "type": "splom"
        },
        {
         "dimensions": [
          {
           "axis": {
            "matches": true
           },
           "label": "mv_usd",
           "values": [
            2987280
           ]
          },
          {
           "axis": {
            "matches": true
           },
           "label": "gdp_usd",
           "values": [
            68205380706.7
           ]
          },
          {
           "axis": {
            "matches": true
           },
           "label": "bmi",
           "values": [
            26.7
           ]
          },
          {
           "axis": {
            "matches": true
           },
           "label": "life_exp",
           "values": [
            72.37068293
           ]
          },
          {
           "axis": {
            "matches": true
           },
           "label": "qol",
           "values": [
            43
           ]
          },
          {
           "axis": {
            "matches": true
           },
           "label": "power_rating",
           "values": [
            0
           ]
          }
         ],
         "hovertemplate": "country_name=Belarus<br>%{xaxis.title.text}=%{x}<br>%{yaxis.title.text}=%{y}<extra></extra>",
         "legendgroup": "Belarus",
         "marker": {
          "color": "#FF6692",
          "symbol": "circle"
         },
         "name": "Belarus",
         "showlegend": true,
         "type": "splom"
        },
        {
         "dimensions": [
          {
           "axis": {
            "matches": true
           },
           "label": "mv_usd",
           "values": [
            40390704
           ]
          },
          {
           "axis": {
            "matches": true
           },
           "label": "gdp_usd",
           "values": [
            594104177539.5
           ]
          },
          {
           "axis": {
            "matches": true
           },
           "label": "bmi",
           "values": [
            27
           ]
          },
          {
           "axis": {
            "matches": true
           },
           "label": "life_exp",
           "values": [
            81.8902439
           ]
          },
          {
           "axis": {
            "matches": true
           },
           "label": "qol",
           "values": [
            63
           ]
          },
          {
           "axis": {
            "matches": true
           },
           "label": "power_rating",
           "values": [
            0.625
           ]
          }
         ],
         "hovertemplate": "country_name=Belgium<br>%{xaxis.title.text}=%{x}<br>%{yaxis.title.text}=%{y}<extra></extra>",
         "legendgroup": "Belgium",
         "marker": {
          "color": "#B6E880",
          "symbol": "circle"
         },
         "name": "Belgium",
         "showlegend": true,
         "type": "splom"
        },
        {
         "dimensions": [
          {
           "axis": {
            "matches": true
           },
           "label": "mv_usd",
           "values": [
            8640
           ]
          },
          {
           "axis": {
            "matches": true
           },
           "label": "gdp_usd",
           "values": [
            2491500000
           ]
          },
          {
           "axis": {
            "matches": true
           },
           "label": "bmi",
           "values": [
            27.5
           ]
          },
          {
           "axis": {
            "matches": true
           },
           "label": "life_exp",
           "values": [
            70.47
           ]
          },
          {
           "axis": {
            "matches": true
           },
           "label": "qol",
           "values": [
            0
           ]
          },
          {
           "axis": {
            "matches": true
           },
           "label": "power_rating",
           "values": [
            0
           ]
          }
         ],
         "hovertemplate": "country_name=Belize<br>%{xaxis.title.text}=%{x}<br>%{yaxis.title.text}=%{y}<extra></extra>",
         "legendgroup": "Belize",
         "marker": {
          "color": "#FF97FF",
          "symbol": "circle"
         },
         "name": "Belize",
         "showlegend": true,
         "type": "splom"
        },
        {
         "dimensions": [
          {
           "axis": {
            "matches": true
           },
           "label": "mv_usd",
           "values": [
            11880
           ]
          },
          {
           "axis": {
            "matches": true
           },
           "label": "gdp_usd",
           "values": [
            17144918952.5
           ]
          },
          {
           "axis": {
            "matches": true
           },
           "label": "bmi",
           "values": [
            22.4
           ]
          },
          {
           "axis": {
            "matches": true
           },
           "label": "life_exp",
           "values": [
            59.821
           ]
          },
          {
           "axis": {
            "matches": true
           },
           "label": "qol",
           "values": [
            0
           ]
          },
          {
           "axis": {
            "matches": true
           },
           "label": "power_rating",
           "values": [
            0
           ]
          }
         ],
         "hovertemplate": "country_name=Benin<br>%{xaxis.title.text}=%{x}<br>%{yaxis.title.text}=%{y}<extra></extra>",
         "legendgroup": "Benin",
         "marker": {
          "color": "#FECB52",
          "symbol": "circle"
         },
         "name": "Benin",
         "showlegend": true,
         "type": "splom"
        },
        {
         "dimensions": [
          {
           "axis": {
            "matches": true
           },
           "label": "mv_usd",
           "values": [
            0
           ]
          },
          {
           "axis": {
            "matches": true
           },
           "label": "gdp_usd",
           "values": [
            7286607000
           ]
          },
          {
           "axis": {
            "matches": true
           },
           "label": "bmi",
           "values": [
            0
           ]
          },
          {
           "axis": {
            "matches": true
           },
           "label": "life_exp",
           "values": [
            79.28
           ]
          },
          {
           "axis": {
            "matches": true
           },
           "label": "qol",
           "values": [
            69
           ]
          },
          {
           "axis": {
            "matches": true
           },
           "label": "power_rating",
           "values": [
            0
           ]
          }
         ],
         "hovertemplate": "country_name=Bermuda<br>%{xaxis.title.text}=%{x}<br>%{yaxis.title.text}=%{y}<extra></extra>",
         "legendgroup": "Bermuda",
         "marker": {
          "color": "#636efa",
          "symbol": "circle"
         },
         "name": "Bermuda",
         "showlegend": true,
         "type": "splom"
        },
        {
         "dimensions": [
          {
           "axis": {
            "matches": true
           },
           "label": "mv_usd",
           "values": [
            33912
           ]
          },
          {
           "axis": {
            "matches": true
           },
           "label": "gdp_usd",
           "values": [
            2539552984.7
           ]
          },
          {
           "axis": {
            "matches": true
           },
           "label": "bmi",
           "values": [
            23.4
           ]
          },
          {
           "axis": {
            "matches": true
           },
           "label": "life_exp",
           "values": [
            71.815
           ]
          },
          {
           "axis": {
            "matches": true
           },
           "label": "qol",
           "values": [
            0
           ]
          },
          {
           "axis": {
            "matches": true
           },
           "label": "power_rating",
           "values": [
            0
           ]
          }
         ],
         "hovertemplate": "country_name=Bhutan<br>%{xaxis.title.text}=%{x}<br>%{yaxis.title.text}=%{y}<extra></extra>",
         "legendgroup": "Bhutan",
         "marker": {
          "color": "#EF553B",
          "symbol": "circle"
         },
         "name": "Bhutan",
         "showlegend": true,
         "type": "splom"
        },
        {
         "dimensions": [
          {
           "axis": {
            "matches": true
           },
           "label": "mv_usd",
           "values": [
            5390712
           ]
          },
          {
           "axis": {
            "matches": true
           },
           "label": "gdp_usd",
           "values": [
            40408208528.2
           ]
          },
          {
           "axis": {
            "matches": true
           },
           "label": "bmi",
           "values": [
            0
           ]
          },
          {
           "axis": {
            "matches": true
           },
           "label": "life_exp",
           "values": [
            63.63
           ]
          },
          {
           "axis": {
            "matches": true
           },
           "label": "qol",
           "values": [
            50
           ]
          },
          {
           "axis": {
            "matches": true
           },
           "label": "power_rating",
           "values": [
            0
           ]
          }
         ],
         "hovertemplate": "country_name=Bolivia<br>%{xaxis.title.text}=%{x}<br>%{yaxis.title.text}=%{y}<extra></extra>",
         "legendgroup": "Bolivia",
         "marker": {
          "color": "#00cc96",
          "symbol": "circle"
         },
         "name": "Bolivia",
         "showlegend": true,
         "type": "splom"
        },
        {
         "dimensions": [
          {
           "axis": {
            "matches": true
           },
           "label": "mv_usd",
           "values": [
            63863424.00000001
           ]
          },
          {
           "axis": {
            "matches": true
           },
           "label": "gdp_usd",
           "values": [
            1608981456325.1
           ]
          },
          {
           "axis": {
            "matches": true
           },
           "label": "bmi",
           "values": [
            26.3
           ]
          },
          {
           "axis": {
            "matches": true
           },
           "label": "life_exp",
           "values": [
            72.75
           ]
          },
          {
           "axis": {
            "matches": true
           },
           "label": "qol",
           "values": [
            48
           ]
          },
          {
           "axis": {
            "matches": true
           },
           "label": "power_rating",
           "values": [
            0.796875
           ]
          }
         ],
         "hovertemplate": "country_name=Brazil<br>%{xaxis.title.text}=%{x}<br>%{yaxis.title.text}=%{y}<extra></extra>",
         "legendgroup": "Brazil",
         "marker": {
          "color": "#ab63fa",
          "symbol": "circle"
         },
         "name": "Brazil",
         "showlegend": true,
         "type": "splom"
        },
        {
         "dimensions": [
          {
           "axis": {
            "matches": true
           },
           "label": "mv_usd",
           "values": [
            132192
           ]
          },
          {
           "axis": {
            "matches": true
           },
           "label": "gdp_usd",
           "values": [
            14006569575.7
           ]
          },
          {
           "axis": {
            "matches": true
           },
           "label": "bmi",
           "values": [
            27.4
           ]
          },
          {
           "axis": {
            "matches": true
           },
           "label": "life_exp",
           "values": [
            74.642
           ]
          },
          {
           "axis": {
            "matches": true
           },
           "label": "qol",
           "values": [
            0
           ]
          },
          {
           "axis": {
            "matches": true
           },
           "label": "power_rating",
           "values": [
            0
           ]
          }
         ],
         "hovertemplate": "country_name=Brunei Darussalam<br>%{xaxis.title.text}=%{x}<br>%{yaxis.title.text}=%{y}<extra></extra>",
         "legendgroup": "Brunei Darussalam",
         "marker": {
          "color": "#FFA15A",
          "symbol": "circle"
         },
         "name": "Brunei Darussalam",
         "showlegend": true,
         "type": "splom"
        },
        {
         "dimensions": [
          {
           "axis": {
            "matches": true
           },
           "label": "mv_usd",
           "values": [
            7717248.000000001
           ]
          },
          {
           "axis": {
            "matches": true
           },
           "label": "gdp_usd",
           "values": [
            84056312734.3
           ]
          },
          {
           "axis": {
            "matches": true
           },
           "label": "bmi",
           "values": [
            27.5
           ]
          },
          {
           "axis": {
            "matches": true
           },
           "label": "life_exp",
           "values": [
            71.51463415
           ]
          },
          {
           "axis": {
            "matches": true
           },
           "label": "qol",
           "values": [
            60
           ]
          },
          {
           "axis": {
            "matches": true
           },
           "label": "power_rating",
           "values": [
            0
           ]
          }
         ],
         "hovertemplate": "country_name=Bulgaria<br>%{xaxis.title.text}=%{x}<br>%{yaxis.title.text}=%{y}<extra></extra>",
         "legendgroup": "Bulgaria",
         "marker": {
          "color": "#19d3f3",
          "symbol": "circle"
         },
         "name": "Bulgaria",
         "showlegend": true,
         "type": "splom"
        },
        {
         "dimensions": [
          {
           "axis": {
            "matches": true
           },
           "label": "mv_usd",
           "values": [
            14040.000000000002
           ]
          },
          {
           "axis": {
            "matches": true
           },
           "label": "gdp_usd",
           "values": [
            19737615114.4
           ]
          },
          {
           "axis": {
            "matches": true
           },
           "label": "bmi",
           "values": [
            22.2
           ]
          },
          {
           "axis": {
            "matches": true
           },
           "label": "life_exp",
           "values": [
            59.27
           ]
          },
          {
           "axis": {
            "matches": true
           },
           "label": "qol",
           "values": [
            0
           ]
          },
          {
           "axis": {
            "matches": true
           },
           "label": "power_rating",
           "values": [
            0
           ]
          }
         ],
         "hovertemplate": "country_name=Burkina Faso<br>%{xaxis.title.text}=%{x}<br>%{yaxis.title.text}=%{y}<extra></extra>",
         "legendgroup": "Burkina Faso",
         "marker": {
          "color": "#FF6692",
          "symbol": "circle"
         },
         "name": "Burkina Faso",
         "showlegend": true,
         "type": "splom"
        },
        {
         "dimensions": [
          {
           "axis": {
            "matches": true
           },
           "label": "mv_usd",
           "values": [
            12960
           ]
          },
          {
           "axis": {
            "matches": true
           },
           "label": "gdp_usd",
           "values": [
            2779813489
           ]
          },
          {
           "axis": {
            "matches": true
           },
           "label": "bmi",
           "values": [
            21.6
           ]
          },
          {
           "axis": {
            "matches": true
           },
           "label": "life_exp",
           "values": [
            61.663
           ]
          },
          {
           "axis": {
            "matches": true
           },
           "label": "qol",
           "values": [
            41
           ]
          },
          {
           "axis": {
            "matches": true
           },
           "label": "power_rating",
           "values": [
            0
           ]
          }
         ],
         "hovertemplate": "country_name=Burundi<br>%{xaxis.title.text}=%{x}<br>%{yaxis.title.text}=%{y}<extra></extra>",
         "legendgroup": "Burundi",
         "marker": {
          "color": "#B6E880",
          "symbol": "circle"
         },
         "name": "Burundi",
         "showlegend": true,
         "type": "splom"
        },
        {
         "dimensions": [
          {
           "axis": {
            "matches": true
           },
           "label": "mv_usd",
           "values": [
            110160
           ]
          },
          {
           "axis": {
            "matches": true
           },
           "label": "gdp_usd",
           "values": [
            26961061119.8
           ]
          },
          {
           "axis": {
            "matches": true
           },
           "label": "bmi",
           "values": [
            22
           ]
          },
          {
           "axis": {
            "matches": true
           },
           "label": "life_exp",
           "values": [
            69.584
           ]
          },
          {
           "axis": {
            "matches": true
           },
           "label": "qol",
           "values": [
            45
           ]
          },
          {
           "axis": {
            "matches": true
           },
           "label": "power_rating",
           "values": [
            0
           ]
          }
         ],
         "hovertemplate": "country_name=Cambodia<br>%{xaxis.title.text}=%{x}<br>%{yaxis.title.text}=%{y}<extra></extra>",
         "legendgroup": "Cambodia",
         "marker": {
          "color": "#FF97FF",
          "symbol": "circle"
         },
         "name": "Cambodia",
         "showlegend": true,
         "type": "splom"
        },
        {
         "dimensions": [
          {
           "axis": {
            "matches": true
           },
           "label": "mv_usd",
           "values": [
            11880
           ]
          },
          {
           "axis": {
            "matches": true
           },
           "label": "gdp_usd",
           "values": [
            45338283344.8
           ]
          },
          {
           "axis": {
            "matches": true
           },
           "label": "bmi",
           "values": [
            23.3
           ]
          },
          {
           "axis": {
            "matches": true
           },
           "label": "life_exp",
           "values": [
            60.333
           ]
          },
          {
           "axis": {
            "matches": true
           },
           "label": "qol",
           "values": [
            0
           ]
          },
          {
           "axis": {
            "matches": true
           },
           "label": "power_rating",
           "values": [
            0.203125
           ]
          }
         ],
         "hovertemplate": "country_name=Cameroon<br>%{xaxis.title.text}=%{x}<br>%{yaxis.title.text}=%{y}<extra></extra>",
         "legendgroup": "Cameroon",
         "marker": {
          "color": "#FECB52",
          "symbol": "circle"
         },
         "name": "Cameroon",
         "showlegend": true,
         "type": "splom"
        },
        {
         "dimensions": [
          {
           "axis": {
            "matches": true
           },
           "label": "mv_usd",
           "values": [
            6015816
           ]
          },
          {
           "axis": {
            "matches": true
           },
           "label": "gdp_usd",
           "values": [
            1988336331717.4
           ]
          },
          {
           "axis": {
            "matches": true
           },
           "label": "bmi",
           "values": [
            27.6
           ]
          },
          {
           "axis": {
            "matches": true
           },
           "label": "life_exp",
           "values": [
            82.59660976
           ]
          },
          {
           "axis": {
            "matches": true
           },
           "label": "qol",
           "values": [
            68
           ]
          },
          {
           "axis": {
            "matches": true
           },
           "label": "power_rating",
           "values": [
            0
           ]
          }
         ],
         "hovertemplate": "country_name=Canada<br>%{xaxis.title.text}=%{x}<br>%{yaxis.title.text}=%{y}<extra></extra>",
         "legendgroup": "Canada",
         "marker": {
          "color": "#636efa",
          "symbol": "circle"
         },
         "name": "Canada",
         "showlegend": true,
         "type": "splom"
        },
        {
         "dimensions": [
          {
           "axis": {
            "matches": true
           },
           "label": "mv_usd",
           "values": [
            0
           ]
          },
          {
           "axis": {
            "matches": true
           },
           "label": "gdp_usd",
           "values": [
            5898449688
           ]
          },
          {
           "axis": {
            "matches": true
           },
           "label": "bmi",
           "values": [
            0
           ]
          },
          {
           "axis": {
            "matches": true
           },
           "label": "life_exp",
           "values": [
            0
           ]
          },
          {
           "axis": {
            "matches": true
           },
           "label": "qol",
           "values": [
            0
           ]
          },
          {
           "axis": {
            "matches": true
           },
           "label": "power_rating",
           "values": [
            0
           ]
          }
         ],
         "hovertemplate": "country_name=Cayman Islands<br>%{xaxis.title.text}=%{x}<br>%{yaxis.title.text}=%{y}<extra></extra>",
         "legendgroup": "Cayman Islands",
         "marker": {
          "color": "#EF553B",
          "symbol": "circle"
         },
         "name": "Cayman Islands",
         "showlegend": true,
         "type": "splom"
        },
        {
         "dimensions": [
          {
           "axis": {
            "matches": true
           },
           "label": "mv_usd",
           "values": [
            0
           ]
          },
          {
           "axis": {
            "matches": true
           },
           "label": "gdp_usd",
           "values": [
            2516498299
           ]
          },
          {
           "axis": {
            "matches": true
           },
           "label": "bmi",
           "values": [
            21.7
           ]
          },
          {
           "axis": {
            "matches": true
           },
           "label": "life_exp",
           "values": [
            0
           ]
          },
          {
           "axis": {
            "matches": true
           },
           "label": "qol",
           "values": [
            0
           ]
          },
          {
           "axis": {
            "matches": true
           },
           "label": "power_rating",
           "values": [
            0
           ]
          }
         ],
         "hovertemplate": "country_name=Central African Republic<br>%{xaxis.title.text}=%{x}<br>%{yaxis.title.text}=%{y}<extra></extra>",
         "legendgroup": "Central African Republic",
         "marker": {
          "color": "#00cc96",
          "symbol": "circle"
         },
         "name": "Central African Republic",
         "showlegend": true,
         "type": "splom"
        },
        {
         "dimensions": [
          {
           "axis": {
            "matches": true
           },
           "label": "mv_usd",
           "values": [
            21600
           ]
          },
          {
           "axis": {
            "matches": true
           },
           "label": "gdp_usd",
           "values": [
            11779980801.8
           ]
          },
          {
           "axis": {
            "matches": true
           },
           "label": "bmi",
           "values": [
            21.3
           ]
          },
          {
           "axis": {
            "matches": true
           },
           "label": "life_exp",
           "values": [
            52.525
           ]
          },
          {
           "axis": {
            "matches": true
           },
           "label": "qol",
           "values": [
            34
           ]
          },
          {
           "axis": {
            "matches": true
           },
           "label": "power_rating",
           "values": [
            0
           ]
          }
         ],
         "hovertemplate": "country_name=Chad<br>%{xaxis.title.text}=%{x}<br>%{yaxis.title.text}=%{y}<extra></extra>",
         "legendgroup": "Chad",
         "marker": {
          "color": "#ab63fa",
          "symbol": "circle"
         },
         "name": "Chad",
         "showlegend": true,
         "type": "splom"
        },
        {
         "dimensions": [
          {
           "axis": {
            "matches": true
           },
           "label": "mv_usd",
           "values": [
            9310464
           ]
          },
          {
           "axis": {
            "matches": true
           },
           "label": "gdp_usd",
           "values": [
            317058508651.8
           ]
          },
          {
           "axis": {
            "matches": true
           },
           "label": "bmi",
           "values": [
            27.9
           ]
          },
          {
           "axis": {
            "matches": true
           },
           "label": "life_exp",
           "values": [
            78.944
           ]
          },
          {
           "axis": {
            "matches": true
           },
           "label": "qol",
           "values": [
            60
           ]
          },
          {
           "axis": {
            "matches": true
           },
           "label": "power_rating",
           "values": [
            0
           ]
          }
         ],
         "hovertemplate": "country_name=Chile<br>%{xaxis.title.text}=%{x}<br>%{yaxis.title.text}=%{y}<extra></extra>",
         "legendgroup": "Chile",
         "marker": {
          "color": "#FFA15A",
          "symbol": "circle"
         },
         "name": "Chile",
         "showlegend": true,
         "type": "splom"
        },
        {
         "dimensions": [
          {
           "axis": {
            "matches": true
           },
           "label": "mv_usd",
           "values": [
            7871040.000000001
           ]
          },
          {
           "axis": {
            "matches": true
           },
           "label": "gdp_usd",
           "values": [
            17734062645371.4
           ]
          },
          {
           "axis": {
            "matches": true
           },
           "label": "bmi",
           "values": [
            24.3
           ]
          },
          {
           "axis": {
            "matches": true
           },
           "label": "life_exp",
           "values": [
            78.211
           ]
          },
          {
           "axis": {
            "matches": true
           },
           "label": "qol",
           "values": [
            57
           ]
          },
          {
           "axis": {
            "matches": true
           },
           "label": "power_rating",
           "values": [
            0
           ]
          }
         ],
         "hovertemplate": "country_name=China<br>%{xaxis.title.text}=%{x}<br>%{yaxis.title.text}=%{y}<extra></extra>",
         "legendgroup": "China",
         "marker": {
          "color": "#19d3f3",
          "symbol": "circle"
         },
         "name": "China",
         "showlegend": true,
         "type": "splom"
        },
        {
         "dimensions": [
          {
           "axis": {
            "matches": true
           },
           "label": "mv_usd",
           "values": [
            10539504
           ]
          },
          {
           "axis": {
            "matches": true
           },
           "label": "gdp_usd",
           "values": [
            314464137241.3
           ]
          },
          {
           "axis": {
            "matches": true
           },
           "label": "bmi",
           "values": [
            25.8
           ]
          },
          {
           "axis": {
            "matches": true
           },
           "label": "life_exp",
           "values": [
            72.83
           ]
          },
          {
           "axis": {
            "matches": true
           },
           "label": "qol",
           "values": [
            45
           ]
          },
          {
           "axis": {
            "matches": true
           },
           "label": "power_rating",
           "values": [
            0.359375
           ]
          }
         ],
         "hovertemplate": "country_name=Colombia<br>%{xaxis.title.text}=%{x}<br>%{yaxis.title.text}=%{y}<extra></extra>",
         "legendgroup": "Colombia",
         "marker": {
          "color": "#FF6692",
          "symbol": "circle"
         },
         "name": "Colombia",
         "showlegend": true,
         "type": "splom"
        },
        {
         "dimensions": [
          {
           "axis": {
            "matches": true
           },
           "label": "mv_usd",
           "values": [
            0
           ]
          },
          {
           "axis": {
            "matches": true
           },
           "label": "gdp_usd",
           "values": [
            1296089632.6
           ]
          },
          {
           "axis": {
            "matches": true
           },
           "label": "bmi",
           "values": [
            23.2
           ]
          },
          {
           "axis": {
            "matches": true
           },
           "label": "life_exp",
           "values": [
            63.417
           ]
          },
          {
           "axis": {
            "matches": true
           },
           "label": "qol",
           "values": [
            0
           ]
          },
          {
           "axis": {
            "matches": true
           },
           "label": "power_rating",
           "values": [
            0
           ]
          }
         ],
         "hovertemplate": "country_name=Comoros<br>%{xaxis.title.text}=%{x}<br>%{yaxis.title.text}=%{y}<extra></extra>",
         "legendgroup": "Comoros",
         "marker": {
          "color": "#B6E880",
          "symbol": "circle"
         },
         "name": "Comoros",
         "showlegend": true,
         "type": "splom"
        },
        {
         "dimensions": [
          {
           "axis": {
            "matches": true
           },
           "label": "mv_usd",
           "values": [
            1948104.0000000002
           ]
          },
          {
           "axis": {
            "matches": true
           },
           "label": "gdp_usd",
           "values": [
            64282438666.7
           ]
          },
          {
           "axis": {
            "matches": true
           },
           "label": "bmi",
           "values": [
            26.8
           ]
          },
          {
           "axis": {
            "matches": true
           },
           "label": "life_exp",
           "values": [
            77.023
           ]
          },
          {
           "axis": {
            "matches": true
           },
           "label": "qol",
           "values": [
            57
           ]
          },
          {
           "axis": {
            "matches": true
           },
           "label": "power_rating",
           "values": [
            0
           ]
          }
         ],
         "hovertemplate": "country_name=Costa Rica<br>%{xaxis.title.text}=%{x}<br>%{yaxis.title.text}=%{y}<extra></extra>",
         "legendgroup": "Costa Rica",
         "marker": {
          "color": "#FF97FF",
          "symbol": "circle"
         },
         "name": "Costa Rica",
         "showlegend": true,
         "type": "splom"
        },
        {
         "dimensions": [
          {
           "axis": {
            "matches": true
           },
           "label": "mv_usd",
           "values": [
            12373776
           ]
          },
          {
           "axis": {
            "matches": true
           },
           "label": "gdp_usd",
           "values": [
            68955083280.2
           ]
          },
          {
           "axis": {
            "matches": true
           },
           "label": "bmi",
           "values": [
            28.4
           ]
          },
          {
           "axis": {
            "matches": true
           },
           "label": "life_exp",
           "values": [
            76.42439024
           ]
          },
          {
           "axis": {
            "matches": true
           },
           "label": "qol",
           "values": [
            64
           ]
          },
          {
           "axis": {
            "matches": true
           },
           "label": "power_rating",
           "values": [
            0.890625
           ]
          }
         ],
         "hovertemplate": "country_name=Croatia<br>%{xaxis.title.text}=%{x}<br>%{yaxis.title.text}=%{y}<extra></extra>",
         "legendgroup": "Croatia",
         "marker": {
          "color": "#FECB52",
          "symbol": "circle"
         },
         "name": "Croatia",
         "showlegend": true,
         "type": "splom"
        },
        {
         "dimensions": [
          {
           "axis": {
            "matches": true
           },
           "label": "mv_usd",
           "values": [
            0
           ]
          },
          {
           "axis": {
            "matches": true
           },
           "label": "gdp_usd",
           "values": [
            2699612458.1
           ]
          },
          {
           "axis": {
            "matches": true
           },
           "label": "bmi",
           "values": [
            0
           ]
          },
          {
           "axis": {
            "matches": true
           },
           "label": "life_exp",
           "values": [
            0
           ]
          },
          {
           "axis": {
            "matches": true
           },
           "label": "qol",
           "values": [
            0
           ]
          },
          {
           "axis": {
            "matches": true
           },
           "label": "power_rating",
           "values": [
            0
           ]
          }
         ],
         "hovertemplate": "country_name=Curacao<br>%{xaxis.title.text}=%{x}<br>%{yaxis.title.text}=%{y}<extra></extra>",
         "legendgroup": "Curacao",
         "marker": {
          "color": "#636efa",
          "symbol": "circle"
         },
         "name": "Curacao",
         "showlegend": true,
         "type": "splom"
        },
        {
         "dimensions": [
          {
           "axis": {
            "matches": true
           },
           "label": "mv_usd",
           "values": [
            6401592
           ]
          },
          {
           "axis": {
            "matches": true
           },
           "label": "gdp_usd",
           "values": [
            28407867534
           ]
          },
          {
           "axis": {
            "matches": true
           },
           "label": "bmi",
           "values": [
            27.7
           ]
          },
          {
           "axis": {
            "matches": true
           },
           "label": "life_exp",
           "values": [
            81.203
           ]
          },
          {
           "axis": {
            "matches": true
           },
           "label": "qol",
           "values": [
            67
           ]
          },
          {
           "axis": {
            "matches": true
           },
           "label": "power_rating",
           "values": [
            0
           ]
          }
         ],
         "hovertemplate": "country_name=Cyprus<br>%{xaxis.title.text}=%{x}<br>%{yaxis.title.text}=%{y}<extra></extra>",
         "legendgroup": "Cyprus",
         "marker": {
          "color": "#EF553B",
          "symbol": "circle"
         },
         "name": "Cyprus",
         "showlegend": true,
         "type": "splom"
        },
        {
         "dimensions": [
          {
           "axis": {
            "matches": true
           },
           "label": "mv_usd",
           "values": [
            12856320
           ]
          },
          {
           "axis": {
            "matches": true
           },
           "label": "gdp_usd",
           "values": [
            398303272764.5
           ]
          },
          {
           "axis": {
            "matches": true
           },
           "label": "bmi",
           "values": [
            26.5
           ]
          },
          {
           "axis": {
            "matches": true
           },
           "label": "life_exp",
           "values": [
            81.40487805
           ]
          },
          {
           "axis": {
            "matches": true
           },
           "label": "qol",
           "values": [
            67
           ]
          },
          {
           "axis": {
            "matches": true
           },
           "label": "power_rating",
           "values": [
            0.40625
           ]
          }
         ],
         "hovertemplate": "country_name=Denmark<br>%{xaxis.title.text}=%{x}<br>%{yaxis.title.text}=%{y}<extra></extra>",
         "legendgroup": "Denmark",
         "marker": {
          "color": "#00cc96",
          "symbol": "circle"
         },
         "name": "Denmark",
         "showlegend": true,
         "type": "splom"
        },
        {
         "dimensions": [
          {
           "axis": {
            "matches": true
           },
           "label": "mv_usd",
           "values": [
            44181.8181828
           ]
          },
          {
           "axis": {
            "matches": true
           },
           "label": "gdp_usd",
           "values": [
            3482987379.1
           ]
          },
          {
           "axis": {
            "matches": true
           },
           "label": "bmi",
           "values": [
            23.3
           ]
          },
          {
           "axis": {
            "matches": true
           },
           "label": "life_exp",
           "values": [
            62.305
           ]
          },
          {
           "axis": {
            "matches": true
           },
           "label": "qol",
           "values": [
            0
           ]
          },
          {
           "axis": {
            "matches": true
           },
           "label": "power_rating",
           "values": [
            0
           ]
          }
         ],
         "hovertemplate": "country_name=Djibouti<br>%{xaxis.title.text}=%{x}<br>%{yaxis.title.text}=%{y}<extra></extra>",
         "legendgroup": "Djibouti",
         "marker": {
          "color": "#ab63fa",
          "symbol": "circle"
         },
         "name": "Djibouti",
         "showlegend": true,
         "type": "splom"
        },
        {
         "dimensions": [
          {
           "axis": {
            "matches": true
           },
           "label": "mv_usd",
           "values": [
            0
           ]
          },
          {
           "axis": {
            "matches": true
           },
           "label": "gdp_usd",
           "values": [
            554181481.5
           ]
          },
          {
           "axis": {
            "matches": true
           },
           "label": "bmi",
           "values": [
            25
           ]
          },
          {
           "axis": {
            "matches": true
           },
           "label": "life_exp",
           "values": [
            72.814
           ]
          },
          {
           "axis": {
            "matches": true
           },
           "label": "qol",
           "values": [
            0
           ]
          },
          {
           "axis": {
            "matches": true
           },
           "label": "power_rating",
           "values": [
            0
           ]
          }
         ],
         "hovertemplate": "country_name=Dominica<br>%{xaxis.title.text}=%{x}<br>%{yaxis.title.text}=%{y}<extra></extra>",
         "legendgroup": "Dominica",
         "marker": {
          "color": "#FFA15A",
          "symbol": "circle"
         },
         "name": "Dominica",
         "showlegend": true,
         "type": "splom"
        },
        {
         "dimensions": [
          {
           "axis": {
            "matches": true
           },
           "label": "mv_usd",
           "values": [
            49248
           ]
          },
          {
           "axis": {
            "matches": true
           },
           "label": "gdp_usd",
           "values": [
            94243453937.5
           ]
          },
          {
           "axis": {
            "matches": true
           },
           "label": "bmi",
           "values": [
            25.5
           ]
          },
          {
           "axis": {
            "matches": true
           },
           "label": "life_exp",
           "values": [
            72.615
           ]
          },
          {
           "axis": {
            "matches": true
           },
           "label": "qol",
           "values": [
            51
           ]
          },
          {
           "axis": {
            "matches": true
           },
           "label": "power_rating",
           "values": [
            0
           ]
          }
         ],
         "hovertemplate": "country_name=Dominican Republic<br>%{xaxis.title.text}=%{x}<br>%{yaxis.title.text}=%{y}<extra></extra>",
         "legendgroup": "Dominican Republic",
         "marker": {
          "color": "#19d3f3",
          "symbol": "circle"
         },
         "name": "Dominican Republic",
         "showlegend": true,
         "type": "splom"
        },
        {
         "dimensions": [
          {
           "axis": {
            "matches": true
           },
           "label": "mv_usd",
           "values": [
            7421976.000000001
           ]
          },
          {
           "axis": {
            "matches": true
           },
           "label": "gdp_usd",
           "values": [
            106165866000
           ]
          },
          {
           "axis": {
            "matches": true
           },
           "label": "bmi",
           "values": [
            26.5
           ]
          },
          {
           "axis": {
            "matches": true
           },
           "label": "life_exp",
           "values": [
            73.67
           ]
          },
          {
           "axis": {
            "matches": true
           },
           "label": "qol",
           "values": [
            53
           ]
          },
          {
           "axis": {
            "matches": true
           },
           "label": "power_rating",
           "values": [
            0.234375
           ]
          }
         ],
         "hovertemplate": "country_name=Ecuador<br>%{xaxis.title.text}=%{x}<br>%{yaxis.title.text}=%{y}<extra></extra>",
         "legendgroup": "Ecuador",
         "marker": {
          "color": "#FF6692",
          "symbol": "circle"
         },
         "name": "Ecuador",
         "showlegend": true,
         "type": "splom"
        },
        {
         "dimensions": [
          {
           "axis": {
            "matches": true
           },
           "label": "mv_usd",
           "values": [
            1248480
           ]
          },
          {
           "axis": {
            "matches": true
           },
           "label": "gdp_usd",
           "values": [
            28736940000
           ]
          },
          {
           "axis": {
            "matches": true
           },
           "label": "bmi",
           "values": [
            26.6
           ]
          },
          {
           "axis": {
            "matches": true
           },
           "label": "life_exp",
           "values": [
            70.748
           ]
          },
          {
           "axis": {
            "matches": true
           },
           "label": "qol",
           "values": [
            45
           ]
          },
          {
           "axis": {
            "matches": true
           },
           "label": "power_rating",
           "values": [
            0
           ]
          }
         ],
         "hovertemplate": "country_name=El Salvador<br>%{xaxis.title.text}=%{x}<br>%{yaxis.title.text}=%{y}<extra></extra>",
         "legendgroup": "El Salvador",
         "marker": {
          "color": "#B6E880",
          "symbol": "circle"
         },
         "name": "El Salvador",
         "showlegend": true,
         "type": "splom"
        },
        {
         "dimensions": [
          {
           "axis": {
            "matches": true
           },
           "label": "mv_usd",
           "values": [
            8999.999999640002
           ]
          },
          {
           "axis": {
            "matches": true
           },
           "label": "gdp_usd",
           "values": [
            12269392839.8
           ]
          },
          {
           "axis": {
            "matches": true
           },
           "label": "bmi",
           "values": [
            22.2
           ]
          },
          {
           "axis": {
            "matches": true
           },
           "label": "life_exp",
           "values": [
            60.594
           ]
          },
          {
           "axis": {
            "matches": true
           },
           "label": "qol",
           "values": [
            0
           ]
          },
          {
           "axis": {
            "matches": true
           },
           "label": "power_rating",
           "values": [
            0
           ]
          }
         ],
         "hovertemplate": "country_name=Equatorial Guinea<br>%{xaxis.title.text}=%{x}<br>%{yaxis.title.text}=%{y}<extra></extra>",
         "legendgroup": "Equatorial Guinea",
         "marker": {
          "color": "#FF97FF",
          "symbol": "circle"
         },
         "name": "Equatorial Guinea",
         "showlegend": true,
         "type": "splom"
        },
        {
         "dimensions": [
          {
           "axis": {
            "matches": true
           },
           "label": "mv_usd",
           "values": [
            1054944
           ]
          },
          {
           "axis": {
            "matches": true
           },
           "label": "gdp_usd",
           "values": [
            37191166152
           ]
          },
          {
           "axis": {
            "matches": true
           },
           "label": "bmi",
           "values": [
            27.2
           ]
          },
          {
           "axis": {
            "matches": true
           },
           "label": "life_exp",
           "values": [
            76.74146341
           ]
          },
          {
           "axis": {
            "matches": true
           },
           "label": "qol",
           "values": [
            61
           ]
          },
          {
           "axis": {
            "matches": true
           },
           "label": "power_rating",
           "values": [
            0
           ]
          }
         ],
         "hovertemplate": "country_name=Estonia<br>%{xaxis.title.text}=%{x}<br>%{yaxis.title.text}=%{y}<extra></extra>",
         "legendgroup": "Estonia",
         "marker": {
          "color": "#FECB52",
          "symbol": "circle"
         },
         "name": "Estonia",
         "showlegend": true,
         "type": "splom"
        },
        {
         "dimensions": [
          {
           "axis": {
            "matches": true
           },
           "label": "mv_usd",
           "values": [
            8999.999999640002
           ]
          },
          {
           "axis": {
            "matches": true
           },
           "label": "gdp_usd",
           "values": [
            4743335152.9
           ]
          },
          {
           "axis": {
            "matches": true
           },
           "label": "bmi",
           "values": [
            23.9
           ]
          },
          {
           "axis": {
            "matches": true
           },
           "label": "life_exp",
           "values": [
            57.066
           ]
          },
          {
           "axis": {
            "matches": true
           },
           "label": "qol",
           "values": [
            0
           ]
          },
          {
           "axis": {
            "matches": true
           },
           "label": "power_rating",
           "values": [
            0
           ]
          }
         ],
         "hovertemplate": "country_name=Eswatini<br>%{xaxis.title.text}=%{x}<br>%{yaxis.title.text}=%{y}<extra></extra>",
         "legendgroup": "Eswatini",
         "marker": {
          "color": "#636efa",
          "symbol": "circle"
         },
         "name": "Eswatini",
         "showlegend": true,
         "type": "splom"
        },
        {
         "dimensions": [
          {
           "axis": {
            "matches": true
           },
           "label": "mv_usd",
           "values": [
            88560
           ]
          },
          {
           "axis": {
            "matches": true
           },
           "label": "gdp_usd",
           "values": [
            111271112330
           ]
          },
          {
           "axis": {
            "matches": true
           },
           "label": "bmi",
           "values": [
            19.9
           ]
          },
          {
           "axis": {
            "matches": true
           },
           "label": "life_exp",
           "values": [
            64.975
           ]
          },
          {
           "axis": {
            "matches": true
           },
           "label": "qol",
           "values": [
            41
           ]
          },
          {
           "axis": {
            "matches": true
           },
           "label": "power_rating",
           "values": [
            0
           ]
          }
         ],
         "hovertemplate": "country_name=Ethiopia<br>%{xaxis.title.text}=%{x}<br>%{yaxis.title.text}=%{y}<extra></extra>",
         "legendgroup": "Ethiopia",
         "marker": {
          "color": "#EF553B",
          "symbol": "circle"
         },
         "name": "Ethiopia",
         "showlegend": true,
         "type": "splom"
        },
        {
         "dimensions": [
          {
           "axis": {
            "matches": true
           },
           "label": "mv_usd",
           "values": [
            559872
           ]
          },
          {
           "axis": {
            "matches": true
           },
           "label": "gdp_usd",
           "values": [
            3649886275.1
           ]
          },
          {
           "axis": {
            "matches": true
           },
           "label": "bmi",
           "values": [
            0
           ]
          },
          {
           "axis": {
            "matches": true
           },
           "label": "life_exp",
           "values": [
            83.49756098
           ]
          },
          {
           "axis": {
            "matches": true
           },
           "label": "qol",
           "values": [
            0
           ]
          },
          {
           "axis": {
            "matches": true
           },
           "label": "power_rating",
           "values": [
            0
           ]
          }
         ],
         "hovertemplate": "country_name=Faroe Islands<br>%{xaxis.title.text}=%{x}<br>%{yaxis.title.text}=%{y}<extra></extra>",
         "legendgroup": "Faroe Islands",
         "marker": {
          "color": "#00cc96",
          "symbol": "circle"
         },
         "name": "Faroe Islands",
         "showlegend": true,
         "type": "splom"
        },
        {
         "dimensions": [
          {
           "axis": {
            "matches": true
           },
           "label": "mv_usd",
           "values": [
            664632
           ]
          },
          {
           "axis": {
            "matches": true
           },
           "label": "gdp_usd",
           "values": [
            4296304590
           ]
          },
          {
           "axis": {
            "matches": true
           },
           "label": "bmi",
           "values": [
            26.6
           ]
          },
          {
           "axis": {
            "matches": true
           },
           "label": "life_exp",
           "values": [
            67.114
           ]
          },
          {
           "axis": {
            "matches": true
           },
           "label": "qol",
           "values": [
            0
           ]
          },
          {
           "axis": {
            "matches": true
           },
           "label": "power_rating",
           "values": [
            0
           ]
          }
         ],
         "hovertemplate": "country_name=Fiji<br>%{xaxis.title.text}=%{x}<br>%{yaxis.title.text}=%{y}<extra></extra>",
         "legendgroup": "Fiji",
         "marker": {
          "color": "#ab63fa",
          "symbol": "circle"
         },
         "name": "Fiji",
         "showlegend": true,
         "type": "splom"
        },
        {
         "dimensions": [
          {
           "axis": {
            "matches": true
           },
           "label": "mv_usd",
           "values": [
            2304936
           ]
          },
          {
           "axis": {
            "matches": true
           },
           "label": "gdp_usd",
           "values": [
            297301883523.3
           ]
          },
          {
           "axis": {
            "matches": true
           },
           "label": "bmi",
           "values": [
            26.8
           ]
          },
          {
           "axis": {
            "matches": true
           },
           "label": "life_exp",
           "values": [
            81.93414634
           ]
          },
          {
           "axis": {
            "matches": true
           },
           "label": "qol",
           "values": [
            68
           ]
          },
          {
           "axis": {
            "matches": true
           },
           "label": "power_rating",
           "values": [
            0
           ]
          }
         ],
         "hovertemplate": "country_name=Finland<br>%{xaxis.title.text}=%{x}<br>%{yaxis.title.text}=%{y}<extra></extra>",
         "legendgroup": "Finland",
         "marker": {
          "color": "#FFA15A",
          "symbol": "circle"
         },
         "name": "Finland",
         "showlegend": true,
         "type": "splom"
        },
        {
         "dimensions": [
          {
           "axis": {
            "matches": true
           },
           "label": "mv_usd",
           "values": [
            148400640
           ]
          },
          {
           "axis": {
            "matches": true
           },
           "label": "gdp_usd",
           "values": [
            2957879759263.5
           ]
          },
          {
           "axis": {
            "matches": true
           },
           "label": "bmi",
           "values": [
            26.3
           ]
          },
          {
           "axis": {
            "matches": true
           },
           "label": "life_exp",
           "values": [
            82.32439024
           ]
          },
          {
           "axis": {
            "matches": true
           },
           "label": "qol",
           "values": [
            68
           ]
          },
          {
           "axis": {
            "matches": true
           },
           "label": "power_rating",
           "values": [
            0.96875
           ]
          }
         ],
         "hovertemplate": "country_name=France<br>%{xaxis.title.text}=%{x}<br>%{yaxis.title.text}=%{y}<extra></extra>",
         "legendgroup": "France",
         "marker": {
          "color": "#19d3f3",
          "symbol": "circle"
         },
         "name": "France",
         "showlegend": true,
         "type": "splom"
        },
        {
         "dimensions": [
          {
           "axis": {
            "matches": true
           },
           "label": "mv_usd",
           "values": [
            0
           ]
          },
          {
           "axis": {
            "matches": true
           },
           "label": "gdp_usd",
           "values": [
            20216843174
           ]
          },
          {
           "axis": {
            "matches": true
           },
           "label": "bmi",
           "values": [
            23.7
           ]
          },
          {
           "axis": {
            "matches": true
           },
           "label": "life_exp",
           "values": [
            65.821
           ]
          },
          {
           "axis": {
            "matches": true
           },
           "label": "qol",
           "values": [
            0
           ]
          },
          {
           "axis": {
            "matches": true
           },
           "label": "power_rating",
           "values": [
            0
           ]
          }
         ],
         "hovertemplate": "country_name=Gabon<br>%{xaxis.title.text}=%{x}<br>%{yaxis.title.text}=%{y}<extra></extra>",
         "legendgroup": "Gabon",
         "marker": {
          "color": "#FF6692",
          "symbol": "circle"
         },
         "name": "Gabon",
         "showlegend": true,
         "type": "splom"
        },
        {
         "dimensions": [
          {
           "axis": {
            "matches": true
           },
           "label": "mv_usd",
           "values": [
            2434968
           ]
          },
          {
           "axis": {
            "matches": true
           },
           "label": "gdp_usd",
           "values": [
            18629365597
           ]
          },
          {
           "axis": {
            "matches": true
           },
           "label": "bmi",
           "values": [
            27.7
           ]
          },
          {
           "axis": {
            "matches": true
           },
           "label": "life_exp",
           "values": [
            71.694
           ]
          },
          {
           "axis": {
            "matches": true
           },
           "label": "qol",
           "values": [
            56
           ]
          },
          {
           "axis": {
            "matches": true
           },
           "label": "power_rating",
           "values": [
            0
           ]
          }
         ],
         "hovertemplate": "country_name=Georgia<br>%{xaxis.title.text}=%{x}<br>%{yaxis.title.text}=%{y}<extra></extra>",
         "legendgroup": "Georgia",
         "marker": {
          "color": "#B6E880",
          "symbol": "circle"
         },
         "name": "Georgia",
         "showlegend": true,
         "type": "splom"
        },
        {
         "dimensions": [
          {
           "axis": {
            "matches": true
           },
           "label": "mv_usd",
           "values": [
            195526224
           ]
          },
          {
           "axis": {
            "matches": true
           },
           "label": "gdp_usd",
           "values": [
            4259934911821.6
           ]
          },
          {
           "axis": {
            "matches": true
           },
           "label": "bmi",
           "values": [
            27.9
           ]
          },
          {
           "axis": {
            "matches": true
           },
           "label": "life_exp",
           "values": [
            80.90097561
           ]
          },
          {
           "axis": {
            "matches": true
           },
           "label": "qol",
           "values": [
            70
           ]
          },
          {
           "axis": {
            "matches": true
           },
           "label": "power_rating",
           "values": [
            0.375
           ]
          }
         ],
         "hovertemplate": "country_name=Germany<br>%{xaxis.title.text}=%{x}<br>%{yaxis.title.text}=%{y}<extra></extra>",
         "legendgroup": "Germany",
         "marker": {
          "color": "#FF97FF",
          "symbol": "circle"
         },
         "name": "Germany",
         "showlegend": true,
         "type": "splom"
        },
        {
         "dimensions": [
          {
           "axis": {
            "matches": true
           },
           "label": "mv_usd",
           "values": [
            1398600
           ]
          },
          {
           "axis": {
            "matches": true
           },
           "label": "gdp_usd",
           "values": [
            77594279054.9
           ]
          },
          {
           "axis": {
            "matches": true
           },
           "label": "bmi",
           "values": [
            22.4
           ]
          },
          {
           "axis": {
            "matches": true
           },
           "label": "life_exp",
           "values": [
            63.795
           ]
          },
          {
           "axis": {
            "matches": true
           },
           "label": "qol",
           "values": [
            50
           ]
          },
          {
           "axis": {
            "matches": true
           },
           "label": "power_rating",
           "values": [
            0
           ]
          }
         ],
         "hovertemplate": "country_name=Ghana<br>%{xaxis.title.text}=%{x}<br>%{yaxis.title.text}=%{y}<extra></extra>",
         "legendgroup": "Ghana",
         "marker": {
          "color": "#FECB52",
          "symbol": "circle"
         },
         "name": "Ghana",
         "showlegend": true,
         "type": "splom"
        },
        {
         "dimensions": [
          {
           "axis": {
            "matches": true
           },
           "label": "mv_usd",
           "values": [
            17822592
           ]
          },
          {
           "axis": {
            "matches": true
           },
           "label": "gdp_usd",
           "values": [
            214873879833.7
           ]
          },
          {
           "axis": {
            "matches": true
           },
           "label": "bmi",
           "values": [
            27.8
           ]
          },
          {
           "axis": {
            "matches": true
           },
           "label": "life_exp",
           "values": [
            80.18292683
           ]
          },
          {
           "axis": {
            "matches": true
           },
           "label": "qol",
           "values": [
            64
           ]
          },
          {
           "axis": {
            "matches": true
           },
           "label": "power_rating",
           "values": [
            0
           ]
          }
         ],
         "hovertemplate": "country_name=Greece<br>%{xaxis.title.text}=%{x}<br>%{yaxis.title.text}=%{y}<extra></extra>",
         "legendgroup": "Greece",
         "marker": {
          "color": "#636efa",
          "symbol": "circle"
         },
         "name": "Greece",
         "showlegend": true,
         "type": "splom"
        },
        {
         "dimensions": [
          {
           "axis": {
            "matches": true
           },
           "label": "mv_usd",
           "values": [
            12857.142852
           ]
          },
          {
           "axis": {
            "matches": true
           },
           "label": "gdp_usd",
           "values": [
            1122807407.4
           ]
          },
          {
           "axis": {
            "matches": true
           },
           "label": "bmi",
           "values": [
            25.1
           ]
          },
          {
           "axis": {
            "matches": true
           },
           "label": "life_exp",
           "values": [
            74.936
           ]
          },
          {
           "axis": {
            "matches": true
           },
           "label": "qol",
           "values": [
            0
           ]
          },
          {
           "axis": {
            "matches": true
           },
           "label": "power_rating",
           "values": [
            0
           ]
          }
         ],
         "hovertemplate": "country_name=Grenada<br>%{xaxis.title.text}=%{x}<br>%{yaxis.title.text}=%{y}<extra></extra>",
         "legendgroup": "Grenada",
         "marker": {
          "color": "#EF553B",
          "symbol": "circle"
         },
         "name": "Grenada",
         "showlegend": true,
         "type": "splom"
        },
        {
         "dimensions": [
          {
           "axis": {
            "matches": true
           },
           "label": "mv_usd",
           "values": [
            0
           ]
          },
          {
           "axis": {
            "matches": true
           },
           "label": "gdp_usd",
           "values": [
            6123000000
           ]
          },
          {
           "axis": {
            "matches": true
           },
           "label": "bmi",
           "values": [
            0
           ]
          },
          {
           "axis": {
            "matches": true
           },
           "label": "life_exp",
           "values": [
            76.656
           ]
          },
          {
           "axis": {
            "matches": true
           },
           "label": "qol",
           "values": [
            0
           ]
          },
          {
           "axis": {
            "matches": true
           },
           "label": "power_rating",
           "values": [
            0
           ]
          }
         ],
         "hovertemplate": "country_name=Guam<br>%{xaxis.title.text}=%{x}<br>%{yaxis.title.text}=%{y}<extra></extra>",
         "legendgroup": "Guam",
         "marker": {
          "color": "#00cc96",
          "symbol": "circle"
         },
         "name": "Guam",
         "showlegend": true,
         "type": "splom"
        },
        {
         "dimensions": [
          {
           "axis": {
            "matches": true
           },
           "label": "mv_usd",
           "values": [
            1330776
           ]
          },
          {
           "axis": {
            "matches": true
           },
           "label": "gdp_usd",
           "values": [
            85985752107.5
           ]
          },
          {
           "axis": {
            "matches": true
           },
           "label": "bmi",
           "values": [
            25.5
           ]
          },
          {
           "axis": {
            "matches": true
           },
           "label": "life_exp",
           "values": [
            69.237
           ]
          },
          {
           "axis": {
            "matches": true
           },
           "label": "qol",
           "values": [
            41
           ]
          },
          {
           "axis": {
            "matches": true
           },
           "label": "power_rating",
           "values": [
            0
           ]
          }
         ],
         "hovertemplate": "country_name=Guatemala<br>%{xaxis.title.text}=%{x}<br>%{yaxis.title.text}=%{y}<extra></extra>",
         "legendgroup": "Guatemala",
         "marker": {
          "color": "#ab63fa",
          "symbol": "circle"
         },
         "name": "Guatemala",
         "showlegend": true,
         "type": "splom"
        },
        {
         "dimensions": [
          {
           "axis": {
            "matches": true
           },
           "label": "mv_usd",
           "values": [
            55296
           ]
          },
          {
           "axis": {
            "matches": true
           },
           "label": "gdp_usd",
           "values": [
            16091817842.2
           ]
          },
          {
           "axis": {
            "matches": true
           },
           "label": "bmi",
           "values": [
            22.3
           ]
          },
          {
           "axis": {
            "matches": true
           },
           "label": "life_exp",
           "values": [
            58.892
           ]
          },
          {
           "axis": {
            "matches": true
           },
           "label": "qol",
           "values": [
            0
           ]
          },
          {
           "axis": {
            "matches": true
           },
           "label": "power_rating",
           "values": [
            0
           ]
          }
         ],
         "hovertemplate": "country_name=Guinea<br>%{xaxis.title.text}=%{x}<br>%{yaxis.title.text}=%{y}<extra></extra>",
         "legendgroup": "Guinea",
         "marker": {
          "color": "#FFA15A",
          "symbol": "circle"
         },
         "name": "Guinea",
         "showlegend": true,
         "type": "splom"
        },
        {
         "dimensions": [
          {
           "axis": {
            "matches": true
           },
           "label": "mv_usd",
           "values": [
            4050.0000000000005
           ]
          },
          {
           "axis": {
            "matches": true
           },
           "label": "gdp_usd",
           "values": [
            8044498801
           ]
          },
          {
           "axis": {
            "matches": true
           },
           "label": "bmi",
           "values": [
            25
           ]
          },
          {
           "axis": {
            "matches": true
           },
           "label": "life_exp",
           "values": [
            65.673
           ]
          },
          {
           "axis": {
            "matches": true
           },
           "label": "qol",
           "values": [
            0
           ]
          },
          {
           "axis": {
            "matches": true
           },
           "label": "power_rating",
           "values": [
            0
           ]
          }
         ],
         "hovertemplate": "country_name=Guyana<br>%{xaxis.title.text}=%{x}<br>%{yaxis.title.text}=%{y}<extra></extra>",
         "legendgroup": "Guyana",
         "marker": {
          "color": "#19d3f3",
          "symbol": "circle"
         },
         "name": "Guyana",
         "showlegend": true,
         "type": "splom"
        },
        {
         "dimensions": [
          {
           "axis": {
            "matches": true
           },
           "label": "mv_usd",
           "values": [
            6480
           ]
          },
          {
           "axis": {
            "matches": true
           },
           "label": "gdp_usd",
           "values": [
            20944392615.1
           ]
          },
          {
           "axis": {
            "matches": true
           },
           "label": "bmi",
           "values": [
            26.2
           ]
          },
          {
           "axis": {
            "matches": true
           },
           "label": "life_exp",
           "values": [
            63.192
           ]
          },
          {
           "axis": {
            "matches": true
           },
           "label": "qol",
           "values": [
            0
           ]
          },
          {
           "axis": {
            "matches": true
           },
           "label": "power_rating",
           "values": [
            0
           ]
          }
         ],
         "hovertemplate": "country_name=Haiti<br>%{xaxis.title.text}=%{x}<br>%{yaxis.title.text}=%{y}<extra></extra>",
         "legendgroup": "Haiti",
         "marker": {
          "color": "#FF6692",
          "symbol": "circle"
         },
         "name": "Haiti",
         "showlegend": true,
         "type": "splom"
        },
        {
         "dimensions": [
          {
           "axis": {
            "matches": true
           },
           "label": "mv_usd",
           "values": [
            1389744
           ]
          },
          {
           "axis": {
            "matches": true
           },
           "label": "gdp_usd",
           "values": [
            28488668301.6
           ]
          },
          {
           "axis": {
            "matches": true
           },
           "label": "bmi",
           "values": [
            25.7
           ]
          },
          {
           "axis": {
            "matches": true
           },
           "label": "life_exp",
           "values": [
            70.123
           ]
          },
          {
           "axis": {
            "matches": true
           },
           "label": "qol",
           "values": [
            44
           ]
          },
          {
           "axis": {
            "matches": true
           },
           "label": "power_rating",
           "values": [
            0
           ]
          }
         ],
         "hovertemplate": "country_name=Honduras<br>%{xaxis.title.text}=%{x}<br>%{yaxis.title.text}=%{y}<extra></extra>",
         "legendgroup": "Honduras",
         "marker": {
          "color": "#B6E880",
          "symbol": "circle"
         },
         "name": "Honduras",
         "showlegend": true,
         "type": "splom"
        },
        {
         "dimensions": [
          {
           "axis": {
            "matches": true
           },
           "label": "mv_usd",
           "values": [
            7814448.000000001
           ]
          },
          {
           "axis": {
            "matches": true
           },
           "label": "gdp_usd",
           "values": [
            181848022233.9
           ]
          },
          {
           "axis": {
            "matches": true
           },
           "label": "bmi",
           "values": [
            28.6
           ]
          },
          {
           "axis": {
            "matches": true
           },
           "label": "life_exp",
           "values": [
            74.46585366
           ]
          },
          {
           "axis": {
            "matches": true
           },
           "label": "qol",
           "values": [
            63
           ]
          },
          {
           "axis": {
            "matches": true
           },
           "label": "power_rating",
           "values": [
            0
           ]
          }
         ],
         "hovertemplate": "country_name=Hungary<br>%{xaxis.title.text}=%{x}<br>%{yaxis.title.text}=%{y}<extra></extra>",
         "legendgroup": "Hungary",
         "marker": {
          "color": "#FF97FF",
          "symbol": "circle"
         },
         "name": "Hungary",
         "showlegend": true,
         "type": "splom"
        },
        {
         "dimensions": [
          {
           "axis": {
            "matches": true
           },
           "label": "mv_usd",
           "values": [
            1322568
           ]
          },
          {
           "axis": {
            "matches": true
           },
           "label": "gdp_usd",
           "values": [
            25602419210.3
           ]
          },
          {
           "axis": {
            "matches": true
           },
           "label": "bmi",
           "values": [
            27.2
           ]
          },
          {
           "axis": {
            "matches": true
           },
           "label": "life_exp",
           "values": [
            83.11707317
           ]
          },
          {
           "axis": {
            "matches": true
           },
           "label": "qol",
           "values": [
            64
           ]
          },
          {
           "axis": {
            "matches": true
           },
           "label": "power_rating",
           "values": [
            0
           ]
          }
         ],
         "hovertemplate": "country_name=Iceland<br>%{xaxis.title.text}=%{x}<br>%{yaxis.title.text}=%{y}<extra></extra>",
         "legendgroup": "Iceland",
         "marker": {
          "color": "#FECB52",
          "symbol": "circle"
         },
         "name": "Iceland",
         "showlegend": true,
         "type": "splom"
        },
        {
         "dimensions": [
          {
           "axis": {
            "matches": true
           },
           "label": "mv_usd",
           "values": [
            3261600
           ]
          },
          {
           "axis": {
            "matches": true
           },
           "label": "gdp_usd",
           "values": [
            3176295065497.2
           ]
          },
          {
           "axis": {
            "matches": true
           },
           "label": "bmi",
           "values": [
            21.7
           ]
          },
          {
           "axis": {
            "matches": true
           },
           "label": "life_exp",
           "values": [
            67.24
           ]
          },
          {
           "axis": {
            "matches": true
           },
           "label": "qol",
           "values": [
            49
           ]
          },
          {
           "axis": {
            "matches": true
           },
           "label": "power_rating",
           "values": [
            0
           ]
          }
         ],
         "hovertemplate": "country_name=India<br>%{xaxis.title.text}=%{x}<br>%{yaxis.title.text}=%{y}<extra></extra>",
         "legendgroup": "India",
         "marker": {
          "color": "#636efa",
          "symbol": "circle"
         },
         "name": "India",
         "showlegend": true,
         "type": "splom"
        },
        {
         "dimensions": [
          {
           "axis": {
            "matches": true
           },
           "label": "mv_usd",
           "values": [
            3494880
           ]
          },
          {
           "axis": {
            "matches": true
           },
           "label": "gdp_usd",
           "values": [
            1186092991320
           ]
          },
          {
           "axis": {
            "matches": true
           },
           "label": "bmi",
           "values": [
            22.6
           ]
          },
          {
           "axis": {
            "matches": true
           },
           "label": "life_exp",
           "values": [
            67.57
           ]
          },
          {
           "axis": {
            "matches": true
           },
           "label": "qol",
           "values": [
            49
           ]
          },
          {
           "axis": {
            "matches": true
           },
           "label": "power_rating",
           "values": [
            0
           ]
          }
         ],
         "hovertemplate": "country_name=Indonesia<br>%{xaxis.title.text}=%{x}<br>%{yaxis.title.text}=%{y}<extra></extra>",
         "legendgroup": "Indonesia",
         "marker": {
          "color": "#EF553B",
          "symbol": "circle"
         },
         "name": "Indonesia",
         "showlegend": true,
         "type": "splom"
        },
        {
         "dimensions": [
          {
           "axis": {
            "matches": true
           },
           "label": "mv_usd",
           "values": [
            808704
           ]
          },
          {
           "axis": {
            "matches": true
           },
           "label": "gdp_usd",
           "values": [
            207889333724.1
           ]
          },
          {
           "axis": {
            "matches": true
           },
           "label": "bmi",
           "values": [
            27.3
           ]
          },
          {
           "axis": {
            "matches": true
           },
           "label": "life_exp",
           "values": [
            70.378
           ]
          },
          {
           "axis": {
            "matches": true
           },
           "label": "qol",
           "values": [
            37
           ]
          },
          {
           "axis": {
            "matches": true
           },
           "label": "power_rating",
           "values": [
            0
           ]
          }
         ],
         "hovertemplate": "country_name=Iraq<br>%{xaxis.title.text}=%{x}<br>%{yaxis.title.text}=%{y}<extra></extra>",
         "legendgroup": "Iraq",
         "marker": {
          "color": "#00cc96",
          "symbol": "circle"
         },
         "name": "Iraq",
         "showlegend": true,
         "type": "splom"
        },
        {
         "dimensions": [
          {
           "axis": {
            "matches": true
           },
           "label": "mv_usd",
           "values": [
            902664.0000000001
           ]
          },
          {
           "axis": {
            "matches": true
           },
           "label": "gdp_usd",
           "values": [
            504182603275.5
           ]
          },
          {
           "axis": {
            "matches": true
           },
           "label": "bmi",
           "values": [
            28.2
           ]
          },
          {
           "axis": {
            "matches": true
           },
           "label": "life_exp",
           "values": [
            82.10243902
           ]
          },
          {
           "axis": {
            "matches": true
           },
           "label": "qol",
           "values": [
            62
           ]
          },
          {
           "axis": {
            "matches": true
           },
           "label": "power_rating",
           "values": [
            0
           ]
          }
         ],
         "hovertemplate": "country_name=Ireland<br>%{xaxis.title.text}=%{x}<br>%{yaxis.title.text}=%{y}<extra></extra>",
         "legendgroup": "Ireland",
         "marker": {
          "color": "#ab63fa",
          "symbol": "circle"
         },
         "name": "Ireland",
         "showlegend": true,
         "type": "splom"
        },
        {
         "dimensions": [
          {
           "axis": {
            "matches": true
           },
           "label": "mv_usd",
           "values": [
            7596720.000000001
           ]
          },
          {
           "axis": {
            "matches": true
           },
           "label": "gdp_usd",
           "values": [
            488526545878.9
           ]
          },
          {
           "axis": {
            "matches": true
           },
           "label": "bmi",
           "values": [
            27.7
           ]
          },
          {
           "axis": {
            "matches": true
           },
           "label": "life_exp",
           "values": [
            82.5
           ]
          },
          {
           "axis": {
            "matches": true
           },
           "label": "qol",
           "values": [
            63
           ]
          },
          {
           "axis": {
            "matches": true
           },
           "label": "power_rating",
           "values": [
            0
           ]
          }
         ],
         "hovertemplate": "country_name=Israel<br>%{xaxis.title.text}=%{x}<br>%{yaxis.title.text}=%{y}<extra></extra>",
         "legendgroup": "Israel",
         "marker": {
          "color": "#FFA15A",
          "symbol": "circle"
         },
         "name": "Israel",
         "showlegend": true,
         "type": "splom"
        },
        {
         "dimensions": [
          {
           "axis": {
            "matches": true
           },
           "label": "mv_usd",
           "values": [
            208358784
           ]
          },
          {
           "axis": {
            "matches": true
           },
           "label": "gdp_usd",
           "values": [
            2107702842669.7
           ]
          },
          {
           "axis": {
            "matches": true
           },
           "label": "bmi",
           "values": [
            26.9
           ]
          },
          {
           "axis": {
            "matches": true
           },
           "label": "life_exp",
           "values": [
            82.79512195
           ]
          },
          {
           "axis": {
            "matches": true
           },
           "label": "qol",
           "values": [
            64
           ]
          },
          {
           "axis": {
            "matches": true
           },
           "label": "power_rating",
           "values": [
            0
           ]
          }
         ],
         "hovertemplate": "country_name=Italy<br>%{xaxis.title.text}=%{x}<br>%{yaxis.title.text}=%{y}<extra></extra>",
         "legendgroup": "Italy",
         "marker": {
          "color": "#19d3f3",
          "symbol": "circle"
         },
         "name": "Italy",
         "showlegend": true,
         "type": "splom"
        },
        {
         "dimensions": [
          {
           "axis": {
            "matches": true
           },
           "label": "mv_usd",
           "values": [
            57672.00000000001
           ]
          },
          {
           "axis": {
            "matches": true
           },
           "label": "gdp_usd",
           "values": [
            14657586937.1
           ]
          },
          {
           "axis": {
            "matches": true
           },
           "label": "bmi",
           "values": [
            25.8
           ]
          },
          {
           "axis": {
            "matches": true
           },
           "label": "life_exp",
           "values": [
            70.5
           ]
          },
          {
           "axis": {
            "matches": true
           },
           "label": "qol",
           "values": [
            49
           ]
          },
          {
           "axis": {
            "matches": true
           },
           "label": "power_rating",
           "values": [
            0
           ]
          }
         ],
         "hovertemplate": "country_name=Jamaica<br>%{xaxis.title.text}=%{x}<br>%{yaxis.title.text}=%{y}<extra></extra>",
         "legendgroup": "Jamaica",
         "marker": {
          "color": "#FF6692",
          "symbol": "circle"
         },
         "name": "Jamaica",
         "showlegend": true,
         "type": "splom"
        },
        {
         "dimensions": [
          {
           "axis": {
            "matches": true
           },
           "label": "mv_usd",
           "values": [
            15033600.000000002
           ]
          },
          {
           "axis": {
            "matches": true
           },
           "label": "gdp_usd",
           "values": [
            4940877780755.3
           ]
          },
          {
           "axis": {
            "matches": true
           },
           "label": "bmi",
           "values": [
            23.6
           ]
          },
          {
           "axis": {
            "matches": true
           },
           "label": "life_exp",
           "values": [
            84.44560976
           ]
          },
          {
           "axis": {
            "matches": true
           },
           "label": "qol",
           "values": [
            71
           ]
          },
          {
           "axis": {
            "matches": true
           },
           "label": "power_rating",
           "values": [
            0.625
           ]
          }
         ],
         "hovertemplate": "country_name=Japan<br>%{xaxis.title.text}=%{x}<br>%{yaxis.title.text}=%{y}<extra></extra>",
         "legendgroup": "Japan",
         "marker": {
          "color": "#B6E880",
          "symbol": "circle"
         },
         "name": "Japan",
         "showlegend": true,
         "type": "splom"
        },
        {
         "dimensions": [
          {
           "axis": {
            "matches": true
           },
           "label": "mv_usd",
           "values": [
            263952
           ]
          },
          {
           "axis": {
            "matches": true
           },
           "label": "gdp_usd",
           "values": [
            45744271658.9
           ]
          },
          {
           "axis": {
            "matches": true
           },
           "label": "bmi",
           "values": [
            27.9
           ]
          },
          {
           "axis": {
            "matches": true
           },
           "label": "life_exp",
           "values": [
            74.256
           ]
          },
          {
           "axis": {
            "matches": true
           },
           "label": "qol",
           "values": [
            54
           ]
          },
          {
           "axis": {
            "matches": true
           },
           "label": "power_rating",
           "values": [
            0
           ]
          }
         ],
         "hovertemplate": "country_name=Jordan<br>%{xaxis.title.text}=%{x}<br>%{yaxis.title.text}=%{y}<extra></extra>",
         "legendgroup": "Jordan",
         "marker": {
          "color": "#FF97FF",
          "symbol": "circle"
         },
         "name": "Jordan",
         "showlegend": true,
         "type": "splom"
        },
        {
         "dimensions": [
          {
           "axis": {
            "matches": true
           },
           "label": "mv_usd",
           "values": [
            4446144
           ]
          },
          {
           "axis": {
            "matches": true
           },
           "label": "gdp_usd",
           "values": [
            197112255360.6
           ]
          },
          {
           "axis": {
            "matches": true
           },
           "label": "bmi",
           "values": [
            26.2
           ]
          },
          {
           "axis": {
            "matches": true
           },
           "label": "life_exp",
           "values": [
            70.23
           ]
          },
          {
           "axis": {
            "matches": true
           },
           "label": "qol",
           "values": [
            52
           ]
          },
          {
           "axis": {
            "matches": true
           },
           "label": "power_rating",
           "values": [
            0
           ]
          }
         ],
         "hovertemplate": "country_name=Kazakhstan<br>%{xaxis.title.text}=%{x}<br>%{yaxis.title.text}=%{y}<extra></extra>",
         "legendgroup": "Kazakhstan",
         "marker": {
          "color": "#FECB52",
          "symbol": "circle"
         },
         "name": "Kazakhstan",
         "showlegend": true,
         "type": "splom"
        },
        {
         "dimensions": [
          {
           "axis": {
            "matches": true
           },
           "label": "mv_usd",
           "values": [
            12960
           ]
          },
          {
           "axis": {
            "matches": true
           },
           "label": "gdp_usd",
           "values": [
            110347079517.4
           ]
          },
          {
           "axis": {
            "matches": true
           },
           "label": "bmi",
           "values": [
            22.1
           ]
          },
          {
           "axis": {
            "matches": true
           },
           "label": "life_exp",
           "values": [
            61.427
           ]
          },
          {
           "axis": {
            "matches": true
           },
           "label": "qol",
           "values": [
            48
           ]
          },
          {
           "axis": {
            "matches": true
           },
           "label": "power_rating",
           "values": [
            0
           ]
          }
         ],
         "hovertemplate": "country_name=Kenya<br>%{xaxis.title.text}=%{x}<br>%{yaxis.title.text}=%{y}<extra></extra>",
         "legendgroup": "Kenya",
         "marker": {
          "color": "#636efa",
          "symbol": "circle"
         },
         "name": "Kenya",
         "showlegend": true,
         "type": "splom"
        },
        {
         "dimensions": [
          {
           "axis": {
            "matches": true
           },
           "label": "mv_usd",
           "values": [
            1238976
           ]
          },
          {
           "axis": {
            "matches": true
           },
           "label": "gdp_usd",
           "values": [
            9412034299.2
           ]
          },
          {
           "axis": {
            "matches": true
           },
           "label": "bmi",
           "values": [
            0
           ]
          },
          {
           "axis": {
            "matches": true
           },
           "label": "life_exp",
           "values": [
            76.806
           ]
          },
          {
           "axis": {
            "matches": true
           },
           "label": "qol",
           "values": [
            0
           ]
          },
          {
           "axis": {
            "matches": true
           },
           "label": "power_rating",
           "values": [
            0
           ]
          }
         ],
         "hovertemplate": "country_name=Kosovo<br>%{xaxis.title.text}=%{x}<br>%{yaxis.title.text}=%{y}<extra></extra>",
         "legendgroup": "Kosovo",
         "marker": {
          "color": "#EF553B",
          "symbol": "circle"
         },
         "name": "Kosovo",
         "showlegend": true,
         "type": "splom"
        },
        {
         "dimensions": [
          {
           "axis": {
            "matches": true
           },
           "label": "mv_usd",
           "values": [
            1908360.0000000002
           ]
          },
          {
           "axis": {
            "matches": true
           },
           "label": "gdp_usd",
           "values": [
            39853501579.8
           ]
          },
          {
           "axis": {
            "matches": true
           },
           "label": "bmi",
           "values": [
            27.3
           ]
          },
          {
           "axis": {
            "matches": true
           },
           "label": "life_exp",
           "values": [
            73.28292683
           ]
          },
          {
           "axis": {
            "matches": true
           },
           "label": "qol",
           "values": [
            58
           ]
          },
          {
           "axis": {
            "matches": true
           },
           "label": "power_rating",
           "values": [
            0
           ]
          }
         ],
         "hovertemplate": "country_name=Latvia<br>%{xaxis.title.text}=%{x}<br>%{yaxis.title.text}=%{y}<extra></extra>",
         "legendgroup": "Latvia",
         "marker": {
          "color": "#00cc96",
          "symbol": "circle"
         },
         "name": "Latvia",
         "showlegend": true,
         "type": "splom"
        },
        {
         "dimensions": [
          {
           "axis": {
            "matches": true
           },
           "label": "mv_usd",
           "values": [
            1805760.0000000002
           ]
          },
          {
           "axis": {
            "matches": true
           },
           "label": "gdp_usd",
           "values": [
            23131940280.7
           ]
          },
          {
           "axis": {
            "matches": true
           },
           "label": "bmi",
           "values": [
            27.9
           ]
          },
          {
           "axis": {
            "matches": true
           },
           "label": "life_exp",
           "values": [
            75.047
           ]
          },
          {
           "axis": {
            "matches": true
           },
           "label": "qol",
           "values": [
            44
           ]
          },
          {
           "axis": {
            "matches": true
           },
           "label": "power_rating",
           "values": [
            0
           ]
          }
         ],
         "hovertemplate": "country_name=Lebanon<br>%{xaxis.title.text}=%{x}<br>%{yaxis.title.text}=%{y}<extra></extra>",
         "legendgroup": "Lebanon",
         "marker": {
          "color": "#ab63fa",
          "symbol": "circle"
         },
         "name": "Lebanon",
         "showlegend": true,
         "type": "splom"
        },
        {
         "dimensions": [
          {
           "axis": {
            "matches": true
           },
           "label": "mv_usd",
           "values": [
            2160
           ]
          },
          {
           "axis": {
            "matches": true
           },
           "label": "gdp_usd",
           "values": [
            2496134680.3
           ]
          },
          {
           "axis": {
            "matches": true
           },
           "label": "bmi",
           "values": [
            22.3
           ]
          },
          {
           "axis": {
            "matches": true
           },
           "label": "life_exp",
           "values": [
            53.062
           ]
          },
          {
           "axis": {
            "matches": true
           },
           "label": "qol",
           "values": [
            47
           ]
          },
          {
           "axis": {
            "matches": true
           },
           "label": "power_rating",
           "values": [
            0
           ]
          }
         ],
         "hovertemplate": "country_name=Lesotho<br>%{xaxis.title.text}=%{x}<br>%{yaxis.title.text}=%{y}<extra></extra>",
         "legendgroup": "Lesotho",
         "marker": {
          "color": "#FFA15A",
          "symbol": "circle"
         },
         "name": "Lesotho",
         "showlegend": true,
         "type": "splom"
        },
        {
         "dimensions": [
          {
           "axis": {
            "matches": true
           },
           "label": "mv_usd",
           "values": [
            3240
           ]
          },
          {
           "axis": {
            "matches": true
           },
           "label": "gdp_usd",
           "values": [
            3509000000
           ]
          },
          {
           "axis": {
            "matches": true
           },
           "label": "bmi",
           "values": [
            23.1
           ]
          },
          {
           "axis": {
            "matches": true
           },
           "label": "life_exp",
           "values": [
            60.747
           ]
          },
          {
           "axis": {
            "matches": true
           },
           "label": "qol",
           "values": [
            0
           ]
          },
          {
           "axis": {
            "matches": true
           },
           "label": "power_rating",
           "values": [
            0
           ]
          }
         ],
         "hovertemplate": "country_name=Liberia<br>%{xaxis.title.text}=%{x}<br>%{yaxis.title.text}=%{y}<extra></extra>",
         "legendgroup": "Liberia",
         "marker": {
          "color": "#19d3f3",
          "symbol": "circle"
         },
         "name": "Liberia",
         "showlegend": true,
         "type": "splom"
        },
        {
         "dimensions": [
          {
           "axis": {
            "matches": true
           },
           "label": "mv_usd",
           "values": [
            541296
           ]
          },
          {
           "axis": {
            "matches": true
           },
           "label": "gdp_usd",
           "values": [
            42817472975.4
           ]
          },
          {
           "axis": {
            "matches": true
           },
           "label": "bmi",
           "values": [
            26.8
           ]
          },
          {
           "axis": {
            "matches": true
           },
           "label": "life_exp",
           "values": [
            71.911
           ]
          },
          {
           "axis": {
            "matches": true
           },
           "label": "qol",
           "values": [
            0
           ]
          },
          {
           "axis": {
            "matches": true
           },
           "label": "power_rating",
           "values": [
            0
           ]
          }
         ],
         "hovertemplate": "country_name=Libya<br>%{xaxis.title.text}=%{x}<br>%{yaxis.title.text}=%{y}<extra></extra>",
         "legendgroup": "Libya",
         "marker": {
          "color": "#FF6692",
          "symbol": "circle"
         },
         "name": "Libya",
         "showlegend": true,
         "type": "splom"
        },
        {
         "dimensions": [
          {
           "axis": {
            "matches": true
           },
           "label": "mv_usd",
           "values": [
            1878984.0000000002
           ]
          },
          {
           "axis": {
            "matches": true
           },
           "label": "gdp_usd",
           "values": [
            66445256585.4
           ]
          },
          {
           "axis": {
            "matches": true
           },
           "label": "bmi",
           "values": [
            27.3
           ]
          },
          {
           "axis": {
            "matches": true
           },
           "label": "life_exp",
           "values": [
            74.33902439
           ]
          },
          {
           "axis": {
            "matches": true
           },
           "label": "qol",
           "values": [
            59
           ]
          },
          {
           "axis": {
            "matches": true
           },
           "label": "power_rating",
           "values": [
            0
           ]
          }
         ],
         "hovertemplate": "country_name=Lithuania<br>%{xaxis.title.text}=%{x}<br>%{yaxis.title.text}=%{y}<extra></extra>",
         "legendgroup": "Lithuania",
         "marker": {
          "color": "#B6E880",
          "symbol": "circle"
         },
         "name": "Lithuania",
         "showlegend": true,
         "type": "splom"
        },
        {
         "dimensions": [
          {
           "axis": {
            "matches": true
           },
           "label": "mv_usd",
           "values": [
            1093176
           ]
          },
          {
           "axis": {
            "matches": true
           },
           "label": "gdp_usd",
           "values": [
            85506243833.8
           ]
          },
          {
           "axis": {
            "matches": true
           },
           "label": "bmi",
           "values": [
            27.4
           ]
          },
          {
           "axis": {
            "matches": true
           },
           "label": "life_exp",
           "values": [
            82.74878049
           ]
          },
          {
           "axis": {
            "matches": true
           },
           "label": "qol",
           "values": [
            71
           ]
          },
          {
           "axis": {
            "matches": true
           },
           "label": "power_rating",
           "values": [
            0
           ]
          }
         ],
         "hovertemplate": "country_name=Luxembourg<br>%{xaxis.title.text}=%{x}<br>%{yaxis.title.text}=%{y}<extra></extra>",
         "legendgroup": "Luxembourg",
         "marker": {
          "color": "#FF97FF",
          "symbol": "circle"
         },
         "name": "Luxembourg",
         "showlegend": true,
         "type": "splom"
        },
        {
         "dimensions": [
          {
           "axis": {
            "matches": true
           },
           "label": "mv_usd",
           "values": [
            10800
           ]
          },
          {
           "axis": {
            "matches": true
           },
           "label": "gdp_usd",
           "values": [
            14472603322.6
           ]
          },
          {
           "axis": {
            "matches": true
           },
           "label": "bmi",
           "values": [
            21.4
           ]
          },
          {
           "axis": {
            "matches": true
           },
           "label": "life_exp",
           "values": [
            64.485
           ]
          },
          {
           "axis": {
            "matches": true
           },
           "label": "qol",
           "values": [
            47
           ]
          },
          {
           "axis": {
            "matches": true
           },
           "label": "power_rating",
           "values": [
            0
           ]
          }
         ],
         "hovertemplate": "country_name=Madagascar<br>%{xaxis.title.text}=%{x}<br>%{yaxis.title.text}=%{y}<extra></extra>",
         "legendgroup": "Madagascar",
         "marker": {
          "color": "#FECB52",
          "symbol": "circle"
         },
         "name": "Madagascar",
         "showlegend": true,
         "type": "splom"
        },
        {
         "dimensions": [
          {
           "axis": {
            "matches": true
           },
           "label": "mv_usd",
           "values": [
            45000.0000036
           ]
          },
          {
           "axis": {
            "matches": true
           },
           "label": "gdp_usd",
           "values": [
            12626717491.9
           ]
          },
          {
           "axis": {
            "matches": true
           },
           "label": "bmi",
           "values": [
            22.5
           ]
          },
          {
           "axis": {
            "matches": true
           },
           "label": "life_exp",
           "values": [
            62.904
           ]
          },
          {
           "axis": {
            "matches": true
           },
           "label": "qol",
           "values": [
            0
           ]
          },
          {
           "axis": {
            "matches": true
           },
           "label": "power_rating",
           "values": [
            0
           ]
          }
         ],
         "hovertemplate": "country_name=Malawi<br>%{xaxis.title.text}=%{x}<br>%{yaxis.title.text}=%{y}<extra></extra>",
         "legendgroup": "Malawi",
         "marker": {
          "color": "#636efa",
          "symbol": "circle"
         },
         "name": "Malawi",
         "showlegend": true,
         "type": "splom"
        },
        {
         "dimensions": [
          {
           "axis": {
            "matches": true
           },
           "label": "mv_usd",
           "values": [
            2365848
           ]
          },
          {
           "axis": {
            "matches": true
           },
           "label": "gdp_usd",
           "values": [
            372980957208
           ]
          },
          {
           "axis": {
            "matches": true
           },
           "label": "bmi",
           "values": [
            25.3
           ]
          },
          {
           "axis": {
            "matches": true
           },
           "label": "life_exp",
           "values": [
            74.884
           ]
          },
          {
           "axis": {
            "matches": true
           },
           "label": "qol",
           "values": [
            58
           ]
          },
          {
           "axis": {
            "matches": true
           },
           "label": "power_rating",
           "values": [
            0
           ]
          }
         ],
         "hovertemplate": "country_name=Malaysia<br>%{xaxis.title.text}=%{x}<br>%{yaxis.title.text}=%{y}<extra></extra>",
         "legendgroup": "Malaysia",
         "marker": {
          "color": "#EF553B",
          "symbol": "circle"
         },
         "name": "Malaysia",
         "showlegend": true,
         "type": "splom"
        },
        {
         "dimensions": [
          {
           "axis": {
            "matches": true
           },
           "label": "mv_usd",
           "values": [
            115560.00000000001
           ]
          },
          {
           "axis": {
            "matches": true
           },
           "label": "gdp_usd",
           "values": [
            5405576235.8
           ]
          },
          {
           "axis": {
            "matches": true
           },
           "label": "bmi",
           "values": [
            24.3
           ]
          },
          {
           "axis": {
            "matches": true
           },
           "label": "life_exp",
           "values": [
            79.918
           ]
          },
          {
           "axis": {
            "matches": true
           },
           "label": "qol",
           "values": [
            0
           ]
          },
          {
           "axis": {
            "matches": true
           },
           "label": "power_rating",
           "values": [
            0
           ]
          }
         ],
         "hovertemplate": "country_name=Maldives<br>%{xaxis.title.text}=%{x}<br>%{yaxis.title.text}=%{y}<extra></extra>",
         "legendgroup": "Maldives",
         "marker": {
          "color": "#00cc96",
          "symbol": "circle"
         },
         "name": "Maldives",
         "showlegend": true,
         "type": "splom"
        },
        {
         "dimensions": [
          {
           "axis": {
            "matches": true
           },
           "label": "mv_usd",
           "values": [
            17280
           ]
          },
          {
           "axis": {
            "matches": true
           },
           "label": "gdp_usd",
           "values": [
            19140461605.8
           ]
          },
          {
           "axis": {
            "matches": true
           },
           "label": "bmi",
           "values": [
            22.7
           ]
          },
          {
           "axis": {
            "matches": true
           },
           "label": "life_exp",
           "values": [
            58.941
           ]
          },
          {
           "axis": {
            "matches": true
           },
           "label": "qol",
           "values": [
            0
           ]
          },
          {
           "axis": {
            "matches": true
           },
           "label": "power_rating",
           "values": [
            0
           ]
          }
         ],
         "hovertemplate": "country_name=Mali<br>%{xaxis.title.text}=%{x}<br>%{yaxis.title.text}=%{y}<extra></extra>",
         "legendgroup": "Mali",
         "marker": {
          "color": "#ab63fa",
          "symbol": "circle"
         },
         "name": "Mali",
         "showlegend": true,
         "type": "splom"
        },
        {
         "dimensions": [
          {
           "axis": {
            "matches": true
           },
           "label": "mv_usd",
           "values": [
            2004264.0000000002
           ]
          },
          {
           "axis": {
            "matches": true
           },
           "label": "gdp_usd",
           "values": [
            17364044943.8
           ]
          },
          {
           "axis": {
            "matches": true
           },
           "label": "bmi",
           "values": [
            28.1
           ]
          },
          {
           "axis": {
            "matches": true
           },
           "label": "life_exp",
           "values": [
            82.86097561
           ]
          },
          {
           "axis": {
            "matches": true
           },
           "label": "qol",
           "values": [
            72
           ]
          },
          {
           "axis": {
            "matches": true
           },
           "label": "power_rating",
           "values": [
            0
           ]
          }
         ],
         "hovertemplate": "country_name=Malta<br>%{xaxis.title.text}=%{x}<br>%{yaxis.title.text}=%{y}<extra></extra>",
         "legendgroup": "Malta",
         "marker": {
          "color": "#FFA15A",
          "symbol": "circle"
         },
         "name": "Malta",
         "showlegend": true,
         "type": "splom"
        },
        {
         "dimensions": [
          {
           "axis": {
            "matches": true
           },
           "label": "mv_usd",
           "values": [
            117847.05886800001
           ]
          },
          {
           "axis": {
            "matches": true
           },
           "label": "gdp_usd",
           "values": [
            9996249658.2
           ]
          },
          {
           "axis": {
            "matches": true
           },
           "label": "bmi",
           "values": [
            23
           ]
          },
          {
           "axis": {
            "matches": true
           },
           "label": "life_exp",
           "values": [
            64.364
           ]
          },
          {
           "axis": {
            "matches": true
           },
           "label": "qol",
           "values": [
            0
           ]
          },
          {
           "axis": {
            "matches": true
           },
           "label": "power_rating",
           "values": [
            0
           ]
          }
         ],
         "hovertemplate": "country_name=Mauritania<br>%{xaxis.title.text}=%{x}<br>%{yaxis.title.text}=%{y}<extra></extra>",
         "legendgroup": "Mauritania",
         "marker": {
          "color": "#19d3f3",
          "symbol": "circle"
         },
         "name": "Mauritania",
         "showlegend": true,
         "type": "splom"
        },
        {
         "dimensions": [
          {
           "axis": {
            "matches": true
           },
           "label": "mv_usd",
           "values": [
            0
           ]
          },
          {
           "axis": {
            "matches": true
           },
           "label": "gdp_usd",
           "values": [
            11529042672.4
           ]
          },
          {
           "axis": {
            "matches": true
           },
           "label": "bmi",
           "values": [
            24.7
           ]
          },
          {
           "axis": {
            "matches": true
           },
           "label": "life_exp",
           "values": [
            73.6802439
           ]
          },
          {
           "axis": {
            "matches": true
           },
           "label": "qol",
           "values": [
            0
           ]
          },
          {
           "axis": {
            "matches": true
           },
           "label": "power_rating",
           "values": [
            0
           ]
          }
         ],
         "hovertemplate": "country_name=Mauritius<br>%{xaxis.title.text}=%{x}<br>%{yaxis.title.text}=%{y}<extra></extra>",
         "legendgroup": "Mauritius",
         "marker": {
          "color": "#FF6692",
          "symbol": "circle"
         },
         "name": "Mauritius",
         "showlegend": true,
         "type": "splom"
        },
        {
         "dimensions": [
          {
           "axis": {
            "matches": true
           },
           "label": "mv_usd",
           "values": [
            37256976
           ]
          },
          {
           "axis": {
            "matches": true
           },
           "label": "gdp_usd",
           "values": [
            1272839334119.3
           ]
          },
          {
           "axis": {
            "matches": true
           },
           "label": "bmi",
           "values": [
            27.4
           ]
          },
          {
           "axis": {
            "matches": true
           },
           "label": "life_exp",
           "values": [
            70.213
           ]
          },
          {
           "axis": {
            "matches": true
           },
           "label": "qol",
           "values": [
            48
           ]
          },
          {
           "axis": {
            "matches": true
           },
           "label": "power_rating",
           "values": [
            0.453125
           ]
          }
         ],
         "hovertemplate": "country_name=Mexico<br>%{xaxis.title.text}=%{x}<br>%{yaxis.title.text}=%{y}<extra></extra>",
         "legendgroup": "Mexico",
         "marker": {
          "color": "#B6E880",
          "symbol": "circle"
         },
         "name": "Mexico",
         "showlegend": true,
         "type": "splom"
        },
        {
         "dimensions": [
          {
           "axis": {
            "matches": true
           },
           "label": "mv_usd",
           "values": [
            1551312
           ]
          },
          {
           "axis": {
            "matches": true
           },
           "label": "gdp_usd",
           "values": [
            13679221333.2
           ]
          },
          {
           "axis": {
            "matches": true
           },
           "label": "bmi",
           "values": [
            0
           ]
          },
          {
           "axis": {
            "matches": true
           },
           "label": "life_exp",
           "values": [
            68.846
           ]
          },
          {
           "axis": {
            "matches": true
           },
           "label": "qol",
           "values": [
            50
           ]
          },
          {
           "axis": {
            "matches": true
           },
           "label": "power_rating",
           "values": [
            0
           ]
          }
         ],
         "hovertemplate": "country_name=Moldova<br>%{xaxis.title.text}=%{x}<br>%{yaxis.title.text}=%{y}<extra></extra>",
         "legendgroup": "Moldova",
         "marker": {
          "color": "#FF97FF",
          "symbol": "circle"
         },
         "name": "Moldova",
         "showlegend": true,
         "type": "splom"
        },
        {
         "dimensions": [
          {
           "axis": {
            "matches": true
           },
           "label": "mv_usd",
           "values": [
            39134999.9988
           ]
          },
          {
           "axis": {
            "matches": true
           },
           "label": "gdp_usd",
           "values": [
            8596096984
           ]
          },
          {
           "axis": {
            "matches": true
           },
           "label": "bmi",
           "values": [
            0
           ]
          },
          {
           "axis": {
            "matches": true
           },
           "label": "life_exp",
           "values": [
            0
           ]
          },
          {
           "axis": {
            "matches": true
           },
           "label": "qol",
           "values": [
            0
           ]
          },
          {
           "axis": {
            "matches": true
           },
           "label": "power_rating",
           "values": [
            0
           ]
          }
         ],
         "hovertemplate": "country_name=Monaco<br>%{xaxis.title.text}=%{x}<br>%{yaxis.title.text}=%{y}<extra></extra>",
         "legendgroup": "Monaco",
         "marker": {
          "color": "#FECB52",
          "symbol": "circle"
         },
         "name": "Monaco",
         "showlegend": true,
         "type": "splom"
        },
        {
         "dimensions": [
          {
           "axis": {
            "matches": true
           },
           "label": "mv_usd",
           "values": [
            45576
           ]
          },
          {
           "axis": {
            "matches": true
           },
           "label": "gdp_usd",
           "values": [
            15286441818.1
           ]
          },
          {
           "axis": {
            "matches": true
           },
           "label": "bmi",
           "values": [
            25.7
           ]
          },
          {
           "axis": {
            "matches": true
           },
           "label": "life_exp",
           "values": [
            70.975
           ]
          },
          {
           "axis": {
            "matches": true
           },
           "label": "qol",
           "values": [
            55
           ]
          },
          {
           "axis": {
            "matches": true
           },
           "label": "power_rating",
           "values": [
            0
           ]
          }
         ],
         "hovertemplate": "country_name=Mongolia<br>%{xaxis.title.text}=%{x}<br>%{yaxis.title.text}=%{y}<extra></extra>",
         "legendgroup": "Mongolia",
         "marker": {
          "color": "#636efa",
          "symbol": "circle"
         },
         "name": "Mongolia",
         "showlegend": true,
         "type": "splom"
        },
        {
         "dimensions": [
          {
           "axis": {
            "matches": true
           },
           "label": "mv_usd",
           "values": [
            1172880
           ]
          },
          {
           "axis": {
            "matches": true
           },
           "label": "gdp_usd",
           "values": [
            5861268038.8
           ]
          },
          {
           "axis": {
            "matches": true
           },
           "label": "bmi",
           "values": [
            27.2
           ]
          },
          {
           "axis": {
            "matches": true
           },
           "label": "life_exp",
           "values": [
            73.82439024
           ]
          },
          {
           "axis": {
            "matches": true
           },
           "label": "qol",
           "values": [
            55
           ]
          },
          {
           "axis": {
            "matches": true
           },
           "label": "power_rating",
           "values": [
            0
           ]
          }
         ],
         "hovertemplate": "country_name=Montenegro<br>%{xaxis.title.text}=%{x}<br>%{yaxis.title.text}=%{y}<extra></extra>",
         "legendgroup": "Montenegro",
         "marker": {
          "color": "#EF553B",
          "symbol": "circle"
         },
         "name": "Montenegro",
         "showlegend": true,
         "type": "splom"
        },
        {
         "dimensions": [
          {
           "axis": {
            "matches": true
           },
           "label": "mv_usd",
           "values": [
            5786424
           ]
          },
          {
           "axis": {
            "matches": true
           },
           "label": "gdp_usd",
           "values": [
            142866329198.4
           ]
          },
          {
           "axis": {
            "matches": true
           },
           "label": "bmi",
           "values": [
            25.3
           ]
          },
          {
           "axis": {
            "matches": true
           },
           "label": "life_exp",
           "values": [
            74.042
           ]
          },
          {
           "axis": {
            "matches": true
           },
           "label": "qol",
           "values": [
            53
           ]
          },
          {
           "axis": {
            "matches": true
           },
           "label": "power_rating",
           "values": [
            0.53125
           ]
          }
         ],
         "hovertemplate": "country_name=Morocco<br>%{xaxis.title.text}=%{x}<br>%{yaxis.title.text}=%{y}<extra></extra>",
         "legendgroup": "Morocco",
         "marker": {
          "color": "#00cc96",
          "symbol": "circle"
         },
         "name": "Morocco",
         "showlegend": true,
         "type": "splom"
        },
        {
         "dimensions": [
          {
           "axis": {
            "matches": true
           },
           "label": "mv_usd",
           "values": [
            33480
           ]
          },
          {
           "axis": {
            "matches": true
           },
           "label": "gdp_usd",
           "values": [
            15776758632.9
           ]
          },
          {
           "axis": {
            "matches": true
           },
           "label": "bmi",
           "values": [
            21.9
           ]
          },
          {
           "axis": {
            "matches": true
           },
           "label": "life_exp",
           "values": [
            59.325
           ]
          },
          {
           "axis": {
            "matches": true
           },
           "label": "qol",
           "values": [
            0
           ]
          },
          {
           "axis": {
            "matches": true
           },
           "label": "power_rating",
           "values": [
            0
           ]
          }
         ],
         "hovertemplate": "country_name=Mozambique<br>%{xaxis.title.text}=%{x}<br>%{yaxis.title.text}=%{y}<extra></extra>",
         "legendgroup": "Mozambique",
         "marker": {
          "color": "#ab63fa",
          "symbol": "circle"
         },
         "name": "Mozambique",
         "showlegend": true,
         "type": "splom"
        },
        {
         "dimensions": [
          {
           "axis": {
            "matches": true
           },
           "label": "mv_usd",
           "values": [
            630288
           ]
          },
          {
           "axis": {
            "matches": true
           },
           "label": "gdp_usd",
           "values": [
            65091751273.3
           ]
          },
          {
           "axis": {
            "matches": true
           },
           "label": "bmi",
           "values": [
            22.2
           ]
          },
          {
           "axis": {
            "matches": true
           },
           "label": "life_exp",
           "values": [
            65.672
           ]
          },
          {
           "axis": {
            "matches": true
           },
           "label": "qol",
           "values": [
            35
           ]
          },
          {
           "axis": {
            "matches": true
           },
           "label": "power_rating",
           "values": [
            0
           ]
          }
         ],
         "hovertemplate": "country_name=Myanmar<br>%{xaxis.title.text}=%{x}<br>%{yaxis.title.text}=%{y}<extra></extra>",
         "legendgroup": "Myanmar",
         "marker": {
          "color": "#FFA15A",
          "symbol": "circle"
         },
         "name": "Myanmar",
         "showlegend": true,
         "type": "splom"
        },
        {
         "dimensions": [
          {
           "axis": {
            "matches": true
           },
           "label": "mv_usd",
           "values": [
            18360
           ]
          },
          {
           "axis": {
            "matches": true
           },
           "label": "gdp_usd",
           "values": [
            12310595843.9
           ]
          },
          {
           "axis": {
            "matches": true
           },
           "label": "bmi",
           "values": [
            22.5
           ]
          },
          {
           "axis": {
            "matches": true
           },
           "label": "life_exp",
           "values": [
            59.269
           ]
          },
          {
           "axis": {
            "matches": true
           },
           "label": "qol",
           "values": [
            0
           ]
          },
          {
           "axis": {
            "matches": true
           },
           "label": "power_rating",
           "values": [
            0
           ]
          }
         ],
         "hovertemplate": "country_name=Namibia<br>%{xaxis.title.text}=%{x}<br>%{yaxis.title.text}=%{y}<extra></extra>",
         "legendgroup": "Namibia",
         "marker": {
          "color": "#19d3f3",
          "symbol": "circle"
         },
         "name": "Namibia",
         "showlegend": true,
         "type": "splom"
        },
        {
         "dimensions": [
          {
           "axis": {
            "matches": true
           },
           "label": "mv_usd",
           "values": [
            119664.00000000001
           ]
          },
          {
           "axis": {
            "matches": true
           },
           "label": "gdp_usd",
           "values": [
            36288830373.4
           ]
          },
          {
           "axis": {
            "matches": true
           },
           "label": "bmi",
           "values": [
            22.4
           ]
          },
          {
           "axis": {
            "matches": true
           },
           "label": "life_exp",
           "values": [
            68.45
           ]
          },
          {
           "axis": {
            "matches": true
           },
           "label": "qol",
           "values": [
            49
           ]
          },
          {
           "axis": {
            "matches": true
           },
           "label": "power_rating",
           "values": [
            0
           ]
          }
         ],
         "hovertemplate": "country_name=Nepal<br>%{xaxis.title.text}=%{x}<br>%{yaxis.title.text}=%{y}<extra></extra>",
         "legendgroup": "Nepal",
         "marker": {
          "color": "#FF6692",
          "symbol": "circle"
         },
         "name": "Nepal",
         "showlegend": true,
         "type": "splom"
        },
        {
         "dimensions": [
          {
           "axis": {
            "matches": true
           },
           "label": "mv_usd",
           "values": [
            52036560
           ]
          },
          {
           "axis": {
            "matches": true
           },
           "label": "gdp_usd",
           "values": [
            1012846760976.7
           ]
          },
          {
           "axis": {
            "matches": true
           },
           "label": "bmi",
           "values": [
            26.4
           ]
          },
          {
           "axis": {
            "matches": true
           },
           "label": "life_exp",
           "values": [
            81.46097561
           ]
          },
          {
           "axis": {
            "matches": true
           },
           "label": "qol",
           "values": [
            66
           ]
          },
          {
           "axis": {
            "matches": true
           },
           "label": "power_rating",
           "values": [
            0.421875
           ]
          }
         ],
         "hovertemplate": "country_name=Netherlands<br>%{xaxis.title.text}=%{x}<br>%{yaxis.title.text}=%{y}<extra></extra>",
         "legendgroup": "Netherlands",
         "marker": {
          "color": "#B6E880",
          "symbol": "circle"
         },
         "name": "Netherlands",
         "showlegend": true,
         "type": "splom"
        },
        {
         "dimensions": [
          {
           "axis": {
            "matches": true
           },
           "label": "mv_usd",
           "values": [
            2042280.0000000002
           ]
          },
          {
           "axis": {
            "matches": true
           },
           "label": "gdp_usd",
           "values": [
            249885687029.6
           ]
          },
          {
           "axis": {
            "matches": true
           },
           "label": "bmi",
           "values": [
            28.3
           ]
          },
          {
           "axis": {
            "matches": true
           },
           "label": "life_exp",
           "values": [
            82.20731707
           ]
          },
          {
           "axis": {
            "matches": true
           },
           "label": "qol",
           "values": [
            69
           ]
          },
          {
           "axis": {
            "matches": true
           },
           "label": "power_rating",
           "values": [
            0
           ]
          }
         ],
         "hovertemplate": "country_name=New Zealand<br>%{xaxis.title.text}=%{x}<br>%{yaxis.title.text}=%{y}<extra></extra>",
         "legendgroup": "New Zealand",
         "marker": {
          "color": "#FF97FF",
          "symbol": "circle"
         },
         "name": "New Zealand",
         "showlegend": true,
         "type": "splom"
        },
        {
         "dimensions": [
          {
           "axis": {
            "matches": true
           },
           "label": "mv_usd",
           "values": [
            75600
           ]
          },
          {
           "axis": {
            "matches": true
           },
           "label": "gdp_usd",
           "values": [
            14013022092.1
           ]
          },
          {
           "axis": {
            "matches": true
           },
           "label": "bmi",
           "values": [
            26.2
           ]
          },
          {
           "axis": {
            "matches": true
           },
           "label": "life_exp",
           "values": [
            73.837
           ]
          },
          {
           "axis": {
            "matches": true
           },
           "label": "qol",
           "values": [
            40
           ]
          },
          {
           "axis": {
            "matches": true
           },
           "label": "power_rating",
           "values": [
            0
           ]
          }
         ],
         "hovertemplate": "country_name=Nicaragua<br>%{xaxis.title.text}=%{x}<br>%{yaxis.title.text}=%{y}<extra></extra>",
         "legendgroup": "Nicaragua",
         "marker": {
          "color": "#FECB52",
          "symbol": "circle"
         },
         "name": "Nicaragua",
         "showlegend": true,
         "type": "splom"
        },
        {
         "dimensions": [
          {
           "axis": {
            "matches": true
           },
           "label": "mv_usd",
           "values": [
            10125
           ]
          },
          {
           "axis": {
            "matches": true
           },
           "label": "gdp_usd",
           "values": [
            14915001427
           ]
          },
          {
           "axis": {
            "matches": true
           },
           "label": "bmi",
           "values": [
            21.2
           ]
          },
          {
           "axis": {
            "matches": true
           },
           "label": "life_exp",
           "values": [
            61.576
           ]
          },
          {
           "axis": {
            "matches": true
           },
           "label": "qol",
           "values": [
            0
           ]
          },
          {
           "axis": {
            "matches": true
           },
           "label": "power_rating",
           "values": [
            0
           ]
          }
         ],
         "hovertemplate": "country_name=Niger<br>%{xaxis.title.text}=%{x}<br>%{yaxis.title.text}=%{y}<extra></extra>",
         "legendgroup": "Niger",
         "marker": {
          "color": "#636efa",
          "symbol": "circle"
         },
         "name": "Niger",
         "showlegend": true,
         "type": "splom"
        },
        {
         "dimensions": [
          {
           "axis": {
            "matches": true
           },
           "label": "mv_usd",
           "values": [
            142560
           ]
          },
          {
           "axis": {
            "matches": true
           },
           "label": "gdp_usd",
           "values": [
            440833583992.5
           ]
          },
          {
           "axis": {
            "matches": true
           },
           "label": "bmi",
           "values": [
            22.4
           ]
          },
          {
           "axis": {
            "matches": true
           },
           "label": "life_exp",
           "values": [
            52.676
           ]
          },
          {
           "axis": {
            "matches": true
           },
           "label": "qol",
           "values": [
            34
           ]
          },
          {
           "axis": {
            "matches": true
           },
           "label": "power_rating",
           "values": [
            0
           ]
          }
         ],
         "hovertemplate": "country_name=Nigeria<br>%{xaxis.title.text}=%{x}<br>%{yaxis.title.text}=%{y}<extra></extra>",
         "legendgroup": "Nigeria",
         "marker": {
          "color": "#EF553B",
          "symbol": "circle"
         },
         "name": "Nigeria",
         "showlegend": true,
         "type": "splom"
        },
        {
         "dimensions": [
          {
           "axis": {
            "matches": true
           },
           "label": "mv_usd",
           "values": [
            1823904.0000000002
           ]
          },
          {
           "axis": {
            "matches": true
           },
           "label": "gdp_usd",
           "values": [
            13825049831.8
           ]
          },
          {
           "axis": {
            "matches": true
           },
           "label": "bmi",
           "values": [
            0
           ]
          },
          {
           "axis": {
            "matches": true
           },
           "label": "life_exp",
           "values": [
            74.53682927
           ]
          },
          {
           "axis": {
            "matches": true
           },
           "label": "qol",
           "values": [
            58
           ]
          },
          {
           "axis": {
            "matches": true
           },
           "label": "power_rating",
           "values": [
            0
           ]
          }
         ],
         "hovertemplate": "country_name=North Macedonia<br>%{xaxis.title.text}=%{x}<br>%{yaxis.title.text}=%{y}<extra></extra>",
         "legendgroup": "North Macedonia",
         "marker": {
          "color": "#00cc96",
          "symbol": "circle"
         },
         "name": "North Macedonia",
         "showlegend": true,
         "type": "splom"
        },
        {
         "dimensions": [
          {
           "axis": {
            "matches": true
           },
           "label": "mv_usd",
           "values": [
            9637488
           ]
          },
          {
           "axis": {
            "matches": true
           },
           "label": "gdp_usd",
           "values": [
            482174854482
           ]
          },
          {
           "axis": {
            "matches": true
           },
           "label": "bmi",
           "values": [
            27.5
           ]
          },
          {
           "axis": {
            "matches": true
           },
           "label": "life_exp",
           "values": [
            83.16341463
           ]
          },
          {
           "axis": {
            "matches": true
           },
           "label": "qol",
           "values": [
            68
           ]
          },
          {
           "axis": {
            "matches": true
           },
           "label": "power_rating",
           "values": [
            0
           ]
          }
         ],
         "hovertemplate": "country_name=Norway<br>%{xaxis.title.text}=%{x}<br>%{yaxis.title.text}=%{y}<extra></extra>",
         "legendgroup": "Norway",
         "marker": {
          "color": "#ab63fa",
          "symbol": "circle"
         },
         "name": "Norway",
         "showlegend": true,
         "type": "splom"
        },
        {
         "dimensions": [
          {
           "axis": {
            "matches": true
           },
           "label": "mv_usd",
           "values": [
            335016
           ]
          },
          {
           "axis": {
            "matches": true
           },
           "label": "gdp_usd",
           "values": [
            88191977373.2
           ]
          },
          {
           "axis": {
            "matches": true
           },
           "label": "bmi",
           "values": [
            26.2
           ]
          },
          {
           "axis": {
            "matches": true
           },
           "label": "life_exp",
           "values": [
            72.541
           ]
          },
          {
           "axis": {
            "matches": true
           },
           "label": "qol",
           "values": [
            56
           ]
          },
          {
           "axis": {
            "matches": true
           },
           "label": "power_rating",
           "values": [
            0
           ]
          }
         ],
         "hovertemplate": "country_name=Oman<br>%{xaxis.title.text}=%{x}<br>%{yaxis.title.text}=%{y}<extra></extra>",
         "legendgroup": "Oman",
         "marker": {
          "color": "#FFA15A",
          "symbol": "circle"
         },
         "name": "Oman",
         "showlegend": true,
         "type": "splom"
        },
        {
         "dimensions": [
          {
           "axis": {
            "matches": true
           },
           "label": "mv_usd",
           "values": [
            30672.000000000004
           ]
          },
          {
           "axis": {
            "matches": true
           },
           "label": "gdp_usd",
           "values": [
            348262544719.2
           ]
          },
          {
           "axis": {
            "matches": true
           },
           "label": "bmi",
           "values": [
            23.1
           ]
          },
          {
           "axis": {
            "matches": true
           },
           "label": "life_exp",
           "values": [
            66.098
           ]
          },
          {
           "axis": {
            "matches": true
           },
           "label": "qol",
           "values": [
            46
           ]
          },
          {
           "axis": {
            "matches": true
           },
           "label": "power_rating",
           "values": [
            0
           ]
          }
         ],
         "hovertemplate": "country_name=Pakistan<br>%{xaxis.title.text}=%{x}<br>%{yaxis.title.text}=%{y}<extra></extra>",
         "legendgroup": "Pakistan",
         "marker": {
          "color": "#19d3f3",
          "symbol": "circle"
         },
         "name": "Pakistan",
         "showlegend": true,
         "type": "splom"
        },
        {
         "dimensions": [
          {
           "axis": {
            "matches": true
           },
           "label": "mv_usd",
           "values": [
            1034640.0000000001
           ]
          },
          {
           "axis": {
            "matches": true
           },
           "label": "gdp_usd",
           "values": [
            63605100000
           ]
          },
          {
           "axis": {
            "matches": true
           },
           "label": "bmi",
           "values": [
            26.2
           ]
          },
          {
           "axis": {
            "matches": true
           },
           "label": "life_exp",
           "values": [
            76.223
           ]
          },
          {
           "axis": {
            "matches": true
           },
           "label": "qol",
           "values": [
            0
           ]
          },
          {
           "axis": {
            "matches": true
           },
           "label": "power_rating",
           "values": [
            0
           ]
          }
         ],
         "hovertemplate": "country_name=Panama<br>%{xaxis.title.text}=%{x}<br>%{yaxis.title.text}=%{y}<extra></extra>",
         "legendgroup": "Panama",
         "marker": {
          "color": "#FF6692",
          "symbol": "circle"
         },
         "name": "Panama",
         "showlegend": true,
         "type": "splom"
        },
        {
         "dimensions": [
          {
           "axis": {
            "matches": true
           },
           "label": "mv_usd",
           "values": [
            37800
           ]
          },
          {
           "axis": {
            "matches": true
           },
           "label": "gdp_usd",
           "values": [
            26594305745.6
           ]
          },
          {
           "axis": {
            "matches": true
           },
           "label": "bmi",
           "values": [
            25.4
           ]
          },
          {
           "axis": {
            "matches": true
           },
           "label": "life_exp",
           "values": [
            65.351
           ]
          },
          {
           "axis": {
            "matches": true
           },
           "label": "qol",
           "values": [
            0
           ]
          },
          {
           "axis": {
            "matches": true
           },
           "label": "power_rating",
           "values": [
            0
           ]
          }
         ],
         "hovertemplate": "country_name=Papua New Guinea<br>%{xaxis.title.text}=%{x}<br>%{yaxis.title.text}=%{y}<extra></extra>",
         "legendgroup": "Papua New Guinea",
         "marker": {
          "color": "#B6E880",
          "symbol": "circle"
         },
         "name": "Papua New Guinea",
         "showlegend": true,
         "type": "splom"
        },
        {
         "dimensions": [
          {
           "axis": {
            "matches": true
           },
           "label": "mv_usd",
           "values": [
            5105376
           ]
          },
          {
           "axis": {
            "matches": true
           },
           "label": "gdp_usd",
           "values": [
            39495431574.2
           ]
          },
          {
           "axis": {
            "matches": true
           },
           "label": "bmi",
           "values": [
            26.3
           ]
          },
          {
           "axis": {
            "matches": true
           },
           "label": "life_exp",
           "values": [
            70.262
           ]
          },
          {
           "axis": {
            "matches": true
           },
           "label": "qol",
           "values": [
            54
           ]
          },
          {
           "axis": {
            "matches": true
           },
           "label": "power_rating",
           "values": [
            0
           ]
          }
         ],
         "hovertemplate": "country_name=Paraguay<br>%{xaxis.title.text}=%{x}<br>%{yaxis.title.text}=%{y}<extra></extra>",
         "legendgroup": "Paraguay",
         "marker": {
          "color": "#FF97FF",
          "symbol": "circle"
         },
         "name": "Paraguay",
         "showlegend": true,
         "type": "splom"
        },
        {
         "dimensions": [
          {
           "axis": {
            "matches": true
           },
           "label": "mv_usd",
           "values": [
            8536320
           ]
          },
          {
           "axis": {
            "matches": true
           },
           "label": "gdp_usd",
           "values": [
            223249497500.4
           ]
          },
          {
           "axis": {
            "matches": true
           },
           "label": "bmi",
           "values": [
            26.1
           ]
          },
          {
           "axis": {
            "matches": true
           },
           "label": "life_exp",
           "values": [
            72.377
           ]
          },
          {
           "axis": {
            "matches": true
           },
           "label": "qol",
           "values": [
            51
           ]
          },
          {
           "axis": {
            "matches": true
           },
           "label": "power_rating",
           "values": [
            0.203125
           ]
          }
         ],
         "hovertemplate": "country_name=Peru<br>%{xaxis.title.text}=%{x}<br>%{yaxis.title.text}=%{y}<extra></extra>",
         "legendgroup": "Peru",
         "marker": {
          "color": "#FECB52",
          "symbol": "circle"
         },
         "name": "Peru",
         "showlegend": true,
         "type": "splom"
        },
        {
         "dimensions": [
          {
           "axis": {
            "matches": true
           },
           "label": "mv_usd",
           "values": [
            115344.00000000001
           ]
          },
          {
           "axis": {
            "matches": true
           },
           "label": "gdp_usd",
           "values": [
            394086401171.2
           ]
          },
          {
           "axis": {
            "matches": true
           },
           "label": "bmi",
           "values": [
            22.8
           ]
          },
          {
           "axis": {
            "matches": true
           },
           "label": "life_exp",
           "values": [
            69.266
           ]
          },
          {
           "axis": {
            "matches": true
           },
           "label": "qol",
           "values": [
            47
           ]
          },
          {
           "axis": {
            "matches": true
           },
           "label": "power_rating",
           "values": [
            0
           ]
          }
         ],
         "hovertemplate": "country_name=Philippines<br>%{xaxis.title.text}=%{x}<br>%{yaxis.title.text}=%{y}<extra></extra>",
         "legendgroup": "Philippines",
         "marker": {
          "color": "#636efa",
          "symbol": "circle"
         },
         "name": "Philippines",
         "showlegend": true,
         "type": "splom"
        },
        {
         "dimensions": [
          {
           "axis": {
            "matches": true
           },
           "label": "mv_usd",
           "values": [
            12699072
           ]
          },
          {
           "axis": {
            "matches": true
           },
           "label": "gdp_usd",
           "values": [
            679444832854.3
           ]
          },
          {
           "axis": {
            "matches": true
           },
           "label": "bmi",
           "values": [
            27.8
           ]
          },
          {
           "axis": {
            "matches": true
           },
           "label": "life_exp",
           "values": [
            75.60243902
           ]
          },
          {
           "axis": {
            "matches": true
           },
           "label": "qol",
           "values": [
            62
           ]
          },
          {
           "axis": {
            "matches": true
           },
           "label": "power_rating",
           "values": [
            0.390625
           ]
          }
         ],
         "hovertemplate": "country_name=Poland<br>%{xaxis.title.text}=%{x}<br>%{yaxis.title.text}=%{y}<extra></extra>",
         "legendgroup": "Poland",
         "marker": {
          "color": "#EF553B",
          "symbol": "circle"
         },
         "name": "Poland",
         "showlegend": true,
         "type": "splom"
        },
        {
         "dimensions": [
          {
           "axis": {
            "matches": true
           },
           "label": "mv_usd",
           "values": [
            57848256.00000001
           ]
          },
          {
           "axis": {
            "matches": true
           },
           "label": "gdp_usd",
           "values": [
            253663144586
           ]
          },
          {
           "axis": {
            "matches": true
           },
           "label": "bmi",
           "values": [
            26.5
           ]
          },
          {
           "axis": {
            "matches": true
           },
           "label": "life_exp",
           "values": [
            81.07317073
           ]
          },
          {
           "axis": {
            "matches": true
           },
           "label": "qol",
           "values": [
            70
           ]
          },
          {
           "axis": {
            "matches": true
           },
           "label": "power_rating",
           "values": [
            0.671875
           ]
          }
         ],
         "hovertemplate": "country_name=Portugal<br>%{xaxis.title.text}=%{x}<br>%{yaxis.title.text}=%{y}<extra></extra>",
         "legendgroup": "Portugal",
         "marker": {
          "color": "#00cc96",
          "symbol": "circle"
         },
         "name": "Portugal",
         "showlegend": true,
         "type": "splom"
        },
        {
         "dimensions": [
          {
           "axis": {
            "matches": true
           },
           "label": "mv_usd",
           "values": [
            0
           ]
          },
          {
           "axis": {
            "matches": true
           },
           "label": "gdp_usd",
           "values": [
            106525700000
           ]
          },
          {
           "axis": {
            "matches": true
           },
           "label": "bmi",
           "values": [
            0
           ]
          },
          {
           "axis": {
            "matches": true
           },
           "label": "life_exp",
           "values": [
            80.162
           ]
          },
          {
           "axis": {
            "matches": true
           },
           "label": "qol",
           "values": [
            0
           ]
          },
          {
           "axis": {
            "matches": true
           },
           "label": "power_rating",
           "values": [
            0
           ]
          }
         ],
         "hovertemplate": "country_name=Puerto Rico<br>%{xaxis.title.text}=%{x}<br>%{yaxis.title.text}=%{y}<extra></extra>",
         "legendgroup": "Puerto Rico",
         "marker": {
          "color": "#ab63fa",
          "symbol": "circle"
         },
         "name": "Puerto Rico",
         "showlegend": true,
         "type": "splom"
        },
        {
         "dimensions": [
          {
           "axis": {
            "matches": true
           },
           "label": "mv_usd",
           "values": [
            5596776
           ]
          },
          {
           "axis": {
            "matches": true
           },
           "label": "gdp_usd",
           "values": [
            179677211793.9
           ]
          },
          {
           "axis": {
            "matches": true
           },
           "label": "bmi",
           "values": [
            29
           ]
          },
          {
           "axis": {
            "matches": true
           },
           "label": "life_exp",
           "values": [
            79.272
           ]
          },
          {
           "axis": {
            "matches": true
           },
           "label": "qol",
           "values": [
            66
           ]
          },
          {
           "axis": {
            "matches": true
           },
           "label": "power_rating",
           "values": [
            0
           ]
          }
         ],
         "hovertemplate": "country_name=Qatar<br>%{xaxis.title.text}=%{x}<br>%{yaxis.title.text}=%{y}<extra></extra>",
         "legendgroup": "Qatar",
         "marker": {
          "color": "#FFA15A",
          "symbol": "circle"
         },
         "name": "Qatar",
         "showlegend": true,
         "type": "splom"
        },
        {
         "dimensions": [
          {
           "axis": {
            "matches": true
           },
           "label": "mv_usd",
           "values": [
            10800432
           ]
          },
          {
           "axis": {
            "matches": true
           },
           "label": "gdp_usd",
           "values": [
            284087563695.8
           ]
          },
          {
           "axis": {
            "matches": true
           },
           "label": "bmi",
           "values": [
            27.6
           ]
          },
          {
           "axis": {
            "matches": true
           },
           "label": "life_exp",
           "values": [
            72.96097561
           ]
          },
          {
           "axis": {
            "matches": true
           },
           "label": "qol",
           "values": [
            58
           ]
          },
          {
           "axis": {
            "matches": true
           },
           "label": "power_rating",
           "values": [
            0
           ]
          }
         ],
         "hovertemplate": "country_name=Romania<br>%{xaxis.title.text}=%{x}<br>%{yaxis.title.text}=%{y}<extra></extra>",
         "legendgroup": "Romania",
         "marker": {
          "color": "#19d3f3",
          "symbol": "circle"
         },
         "name": "Romania",
         "showlegend": true,
         "type": "splom"
        },
        {
         "dimensions": [
          {
           "axis": {
            "matches": true
           },
           "label": "mv_usd",
           "values": [
            30240.000000000004
           ]
          },
          {
           "axis": {
            "matches": true
           },
           "label": "gdp_usd",
           "values": [
            11070356519.5
           ]
          },
          {
           "axis": {
            "matches": true
           },
           "label": "bmi",
           "values": [
            21.4
           ]
          },
          {
           "axis": {
            "matches": true
           },
           "label": "life_exp",
           "values": [
            66.072
           ]
          },
          {
           "axis": {
            "matches": true
           },
           "label": "qol",
           "values": [
            49
           ]
          },
          {
           "axis": {
            "matches": true
           },
           "label": "power_rating",
           "values": [
            0
           ]
          }
         ],
         "hovertemplate": "country_name=Rwanda<br>%{xaxis.title.text}=%{x}<br>%{yaxis.title.text}=%{y}<extra></extra>",
         "legendgroup": "Rwanda",
         "marker": {
          "color": "#FF6692",
          "symbol": "circle"
         },
         "name": "Rwanda",
         "showlegend": true,
         "type": "splom"
        },
        {
         "dimensions": [
          {
           "axis": {
            "matches": true
           },
           "label": "mv_usd",
           "values": [
            2700
           ]
          },
          {
           "axis": {
            "matches": true
           },
           "label": "gdp_usd",
           "values": [
            843842416.5
           ]
          },
          {
           "axis": {
            "matches": true
           },
           "label": "bmi",
           "values": [
            30.1
           ]
          },
          {
           "axis": {
            "matches": true
           },
           "label": "life_exp",
           "values": [
            72.767
           ]
          },
          {
           "axis": {
            "matches": true
           },
           "label": "qol",
           "values": [
            0
           ]
          },
          {
           "axis": {
            "matches": true
           },
           "label": "power_rating",
           "values": [
            0
           ]
          }
         ],
         "hovertemplate": "country_name=Samoa<br>%{xaxis.title.text}=%{x}<br>%{yaxis.title.text}=%{y}<extra></extra>",
         "legendgroup": "Samoa",
         "marker": {
          "color": "#B6E880",
          "symbol": "circle"
         },
         "name": "Samoa",
         "showlegend": true,
         "type": "splom"
        },
        {
         "dimensions": [
          {
           "axis": {
            "matches": true
           },
           "label": "mv_usd",
           "values": [
            0
           ]
          },
          {
           "axis": {
            "matches": true
           },
           "label": "gdp_usd",
           "values": [
            526653790.7
           ]
          },
          {
           "axis": {
            "matches": true
           },
           "label": "bmi",
           "values": [
            23.7
           ]
          },
          {
           "axis": {
            "matches": true
           },
           "label": "life_exp",
           "values": [
            67.591
           ]
          },
          {
           "axis": {
            "matches": true
           },
           "label": "qol",
           "values": [
            0
           ]
          },
          {
           "axis": {
            "matches": true
           },
           "label": "power_rating",
           "values": [
            0
           ]
          }
         ],
         "hovertemplate": "country_name=Sao Tome and Principe<br>%{xaxis.title.text}=%{x}<br>%{yaxis.title.text}=%{y}<extra></extra>",
         "legendgroup": "Sao Tome and Principe",
         "marker": {
          "color": "#FF97FF",
          "symbol": "circle"
         },
         "name": "Sao Tome and Principe",
         "showlegend": true,
         "type": "splom"
        },
        {
         "dimensions": [
          {
           "axis": {
            "matches": true
           },
           "label": "mv_usd",
           "values": [
            15161904.000000002
           ]
          },
          {
           "axis": {
            "matches": true
           },
           "label": "gdp_usd",
           "values": [
            833541236569.3
           ]
          },
          {
           "axis": {
            "matches": true
           },
           "label": "bmi",
           "values": [
            28
           ]
          },
          {
           "axis": {
            "matches": true
           },
           "label": "life_exp",
           "values": [
            76.936
           ]
          },
          {
           "axis": {
            "matches": true
           },
           "label": "qol",
           "values": [
            59
           ]
          },
          {
           "axis": {
            "matches": true
           },
           "label": "power_rating",
           "values": [
            0.203125
           ]
          }
         ],
         "hovertemplate": "country_name=Saudi Arabia<br>%{xaxis.title.text}=%{x}<br>%{yaxis.title.text}=%{y}<extra></extra>",
         "legendgroup": "Saudi Arabia",
         "marker": {
          "color": "#FECB52",
          "symbol": "circle"
         },
         "name": "Saudi Arabia",
         "showlegend": true,
         "type": "splom"
        },
        {
         "dimensions": [
          {
           "axis": {
            "matches": true
           },
           "label": "mv_usd",
           "values": [
            120960.00000000001
           ]
          },
          {
           "axis": {
            "matches": true
           },
           "label": "gdp_usd",
           "values": [
            27625388352.2
           ]
          },
          {
           "axis": {
            "matches": true
           },
           "label": "bmi",
           "values": [
            21.4
           ]
          },
          {
           "axis": {
            "matches": true
           },
           "label": "life_exp",
           "values": [
            67.093
           ]
          },
          {
           "axis": {
            "matches": true
           },
           "label": "qol",
           "values": [
            0
           ]
          },
          {
           "axis": {
            "matches": true
           },
           "label": "power_rating",
           "values": [
            0.546875
           ]
          }
         ],
         "hovertemplate": "country_name=Senegal<br>%{xaxis.title.text}=%{x}<br>%{yaxis.title.text}=%{y}<extra></extra>",
         "legendgroup": "Senegal",
         "marker": {
          "color": "#636efa",
          "symbol": "circle"
         },
         "name": "Senegal",
         "showlegend": true,
         "type": "splom"
        },
        {
         "dimensions": [
          {
           "axis": {
            "matches": true
           },
           "label": "mv_usd",
           "values": [
            11256192
           ]
          },
          {
           "axis": {
            "matches": true
           },
           "label": "gdp_usd",
           "values": [
            63082047649.9
           ]
          },
          {
           "axis": {
            "matches": true
           },
           "label": "bmi",
           "values": [
            26.9
           ]
          },
          {
           "axis": {
            "matches": true
           },
           "label": "life_exp",
           "values": [
            72.73073171
           ]
          },
          {
           "axis": {
            "matches": true
           },
           "label": "qol",
           "values": [
            52
           ]
          },
          {
           "axis": {
            "matches": true
           },
           "label": "power_rating",
           "values": [
            0
           ]
          }
         ],
         "hovertemplate": "country_name=Serbia<br>%{xaxis.title.text}=%{x}<br>%{yaxis.title.text}=%{y}<extra></extra>",
         "legendgroup": "Serbia",
         "marker": {
          "color": "#EF553B",
          "symbol": "circle"
         },
         "name": "Serbia",
         "showlegend": true,
         "type": "splom"
        },
        {
         "dimensions": [
          {
           "axis": {
            "matches": true
           },
           "label": "mv_usd",
           "values": [
            0
           ]
          },
          {
           "axis": {
            "matches": true
           },
           "label": "gdp_usd",
           "values": [
            1454458183.9
           ]
          },
          {
           "axis": {
            "matches": true
           },
           "label": "bmi",
           "values": [
            25.7
           ]
          },
          {
           "axis": {
            "matches": true
           },
           "label": "life_exp",
           "values": [
            73.39756098
           ]
          },
          {
           "axis": {
            "matches": true
           },
           "label": "qol",
           "values": [
            0
           ]
          },
          {
           "axis": {
            "matches": true
           },
           "label": "power_rating",
           "values": [
            0
           ]
          }
         ],
         "hovertemplate": "country_name=Seychelles<br>%{xaxis.title.text}=%{x}<br>%{yaxis.title.text}=%{y}<extra></extra>",
         "legendgroup": "Seychelles",
         "marker": {
          "color": "#00cc96",
          "symbol": "circle"
         },
         "name": "Seychelles",
         "showlegend": true,
         "type": "splom"
        },
        {
         "dimensions": [
          {
           "axis": {
            "matches": true
           },
           "label": "mv_usd",
           "values": [
            45000.0000036
           ]
          },
          {
           "axis": {
            "matches": true
           },
           "label": "gdp_usd",
           "values": [
            4042237864.3
           ]
          },
          {
           "axis": {
            "matches": true
           },
           "label": "bmi",
           "values": [
            21.9
           ]
          },
          {
           "axis": {
            "matches": true
           },
           "label": "life_exp",
           "values": [
            60.062
           ]
          },
          {
           "axis": {
            "matches": true
           },
           "label": "qol",
           "values": [
            43
           ]
          },
          {
           "axis": {
            "matches": true
           },
           "label": "power_rating",
           "values": [
            0
           ]
          }
         ],
         "hovertemplate": "country_name=Sierra Leone<br>%{xaxis.title.text}=%{x}<br>%{yaxis.title.text}=%{y}<extra></extra>",
         "legendgroup": "Sierra Leone",
         "marker": {
          "color": "#ab63fa",
          "symbol": "circle"
         },
         "name": "Sierra Leone",
         "showlegend": true,
         "type": "splom"
        },
        {
         "dimensions": [
          {
           "axis": {
            "matches": true
           },
           "label": "mv_usd",
           "values": [
            727056
           ]
          },
          {
           "axis": {
            "matches": true
           },
           "label": "gdp_usd",
           "values": [
            396986899888.4
           ]
          },
          {
           "axis": {
            "matches": true
           },
           "label": "bmi",
           "values": [
            24.4
           ]
          },
          {
           "axis": {
            "matches": true
           },
           "label": "life_exp",
           "values": [
            83.44146341
           ]
          },
          {
           "axis": {
            "matches": true
           },
           "label": "qol",
           "values": [
            71
           ]
          },
          {
           "axis": {
            "matches": true
           },
           "label": "power_rating",
           "values": [
            0
           ]
          }
         ],
         "hovertemplate": "country_name=Singapore<br>%{xaxis.title.text}=%{x}<br>%{yaxis.title.text}=%{y}<extra></extra>",
         "legendgroup": "Singapore",
         "marker": {
          "color": "#FFA15A",
          "symbol": "circle"
         },
         "name": "Singapore",
         "showlegend": true,
         "type": "splom"
        },
        {
         "dimensions": [
          {
           "axis": {
            "matches": true
           },
           "label": "mv_usd",
           "values": [
            3258576
           ]
          },
          {
           "axis": {
            "matches": true
           },
           "label": "gdp_usd",
           "values": [
            61748586534.9
           ]
          },
          {
           "axis": {
            "matches": true
           },
           "label": "bmi",
           "values": [
            27
           ]
          },
          {
           "axis": {
            "matches": true
           },
           "label": "life_exp",
           "values": [
            80.87560976
           ]
          },
          {
           "axis": {
            "matches": true
           },
           "label": "qol",
           "values": [
            66
           ]
          },
          {
           "axis": {
            "matches": true
           },
           "label": "power_rating",
           "values": [
            0
           ]
          }
         ],
         "hovertemplate": "country_name=Slovenia<br>%{xaxis.title.text}=%{x}<br>%{yaxis.title.text}=%{y}<extra></extra>",
         "legendgroup": "Slovenia",
         "marker": {
          "color": "#19d3f3",
          "symbol": "circle"
         },
         "name": "Slovenia",
         "showlegend": true,
         "type": "splom"
        },
        {
         "dimensions": [
          {
           "axis": {
            "matches": true
           },
           "label": "mv_usd",
           "values": [
            45360
           ]
          },
          {
           "axis": {
            "matches": true
           },
           "label": "gdp_usd",
           "values": [
            1631486531.9
           ]
          },
          {
           "axis": {
            "matches": true
           },
           "label": "bmi",
           "values": [
            25.6
           ]
          },
          {
           "axis": {
            "matches": true
           },
           "label": "life_exp",
           "values": [
            70.348
           ]
          },
          {
           "axis": {
            "matches": true
           },
           "label": "qol",
           "values": [
            0
           ]
          },
          {
           "axis": {
            "matches": true
           },
           "label": "power_rating",
           "values": [
            0
           ]
          }
         ],
         "hovertemplate": "country_name=Solomon Islands<br>%{xaxis.title.text}=%{x}<br>%{yaxis.title.text}=%{y}<extra></extra>",
         "legendgroup": "Solomon Islands",
         "marker": {
          "color": "#FF6692",
          "symbol": "circle"
         },
         "name": "Solomon Islands",
         "showlegend": true,
         "type": "splom"
        },
        {
         "dimensions": [
          {
           "axis": {
            "matches": true
           },
           "label": "mv_usd",
           "values": [
            0
           ]
          },
          {
           "axis": {
            "matches": true
           },
           "label": "gdp_usd",
           "values": [
            7628000011.5
           ]
          },
          {
           "axis": {
            "matches": true
           },
           "label": "bmi",
           "values": [
            22.2
           ]
          },
          {
           "axis": {
            "matches": true
           },
           "label": "life_exp",
           "values": [
            55.28
           ]
          },
          {
           "axis": {
            "matches": true
           },
           "label": "qol",
           "values": [
            0
           ]
          },
          {
           "axis": {
            "matches": true
           },
           "label": "power_rating",
           "values": [
            0
           ]
          }
         ],
         "hovertemplate": "country_name=Somalia<br>%{xaxis.title.text}=%{x}<br>%{yaxis.title.text}=%{y}<extra></extra>",
         "legendgroup": "Somalia",
         "marker": {
          "color": "#B6E880",
          "symbol": "circle"
         },
         "name": "Somalia",
         "showlegend": true,
         "type": "splom"
        },
        {
         "dimensions": [
          {
           "axis": {
            "matches": true
           },
           "label": "mv_usd",
           "values": [
            7762176.000000001
           ]
          },
          {
           "axis": {
            "matches": true
           },
           "label": "gdp_usd",
           "values": [
            419015018371.9
           ]
          },
          {
           "axis": {
            "matches": true
           },
           "label": "bmi",
           "values": [
            24.7
           ]
          },
          {
           "axis": {
            "matches": true
           },
           "label": "life_exp",
           "values": [
            62.341
           ]
          },
          {
           "axis": {
            "matches": true
           },
           "label": "qol",
           "values": [
            51
           ]
          },
          {
           "axis": {
            "matches": true
           },
           "label": "power_rating",
           "values": [
            0
           ]
          }
         ],
         "hovertemplate": "country_name=South Africa<br>%{xaxis.title.text}=%{x}<br>%{yaxis.title.text}=%{y}<extra></extra>",
         "legendgroup": "South Africa",
         "marker": {
          "color": "#FF97FF",
          "symbol": "circle"
         },
         "name": "South Africa",
         "showlegend": true,
         "type": "splom"
        },
        {
         "dimensions": [
          {
           "axis": {
            "matches": true
           },
           "label": "mv_usd",
           "values": [
            214500960
           ]
          },
          {
           "axis": {
            "matches": true
           },
           "label": "gdp_usd",
           "values": [
            1427380681294.6
           ]
          },
          {
           "axis": {
            "matches": true
           },
           "label": "bmi",
           "values": [
            27.4
           ]
          },
          {
           "axis": {
            "matches": true
           },
           "label": "life_exp",
           "values": [
            83.17804878
           ]
          },
          {
           "axis": {
            "matches": true
           },
           "label": "qol",
           "values": [
            71
           ]
          },
          {
           "axis": {
            "matches": true
           },
           "label": "power_rating",
           "values": [
            0.625
           ]
          }
         ],
         "hovertemplate": "country_name=Spain<br>%{xaxis.title.text}=%{x}<br>%{yaxis.title.text}=%{y}<extra></extra>",
         "legendgroup": "Spain",
         "marker": {
          "color": "#FECB52",
          "symbol": "circle"
         },
         "name": "Spain",
         "showlegend": true,
         "type": "splom"
        },
        {
         "dimensions": [
          {
           "axis": {
            "matches": true
           },
           "label": "mv_usd",
           "values": [
            32832
           ]
          },
          {
           "axis": {
            "matches": true
           },
           "label": "gdp_usd",
           "values": [
            88927263724.9
           ]
          },
          {
           "axis": {
            "matches": true
           },
           "label": "bmi",
           "values": [
            22.6
           ]
          },
          {
           "axis": {
            "matches": true
           },
           "label": "life_exp",
           "values": [
            76.399
           ]
          },
          {
           "axis": {
            "matches": true
           },
           "label": "qol",
           "values": [
            54
           ]
          },
          {
           "axis": {
            "matches": true
           },
           "label": "power_rating",
           "values": [
            0
           ]
          }
         ],
         "hovertemplate": "country_name=Sri Lanka<br>%{xaxis.title.text}=%{x}<br>%{yaxis.title.text}=%{y}<extra></extra>",
         "legendgroup": "Sri Lanka",
         "marker": {
          "color": "#636efa",
          "symbol": "circle"
         },
         "name": "Sri Lanka",
         "showlegend": true,
         "type": "splom"
        },
        {
         "dimensions": [
          {
           "axis": {
            "matches": true
           },
           "label": "mv_usd",
           "values": [
            308880
           ]
          },
          {
           "axis": {
            "matches": true
           },
           "label": "gdp_usd",
           "values": [
            34326058557.4
           ]
          },
          {
           "axis": {
            "matches": true
           },
           "label": "bmi",
           "values": [
            0
           ]
          },
          {
           "axis": {
            "matches": true
           },
           "label": "life_exp",
           "values": [
            65.267
           ]
          },
          {
           "axis": {
            "matches": true
           },
           "label": "qol",
           "values": [
            28
           ]
          },
          {
           "axis": {
            "matches": true
           },
           "label": "power_rating",
           "values": [
            0
           ]
          }
         ],
         "hovertemplate": "country_name=Sudan<br>%{xaxis.title.text}=%{x}<br>%{yaxis.title.text}=%{y}<extra></extra>",
         "legendgroup": "Sudan",
         "marker": {
          "color": "#EF553B",
          "symbol": "circle"
         },
         "name": "Sudan",
         "showlegend": true,
         "type": "splom"
        },
        {
         "dimensions": [
          {
           "axis": {
            "matches": true
           },
           "label": "mv_usd",
           "values": [
            5400
           ]
          },
          {
           "axis": {
            "matches": true
           },
           "label": "gdp_usd",
           "values": [
            2984706243.7
           ]
          },
          {
           "axis": {
            "matches": true
           },
           "label": "bmi",
           "values": [
            25.4
           ]
          },
          {
           "axis": {
            "matches": true
           },
           "label": "life_exp",
           "values": [
            70.274
           ]
          },
          {
           "axis": {
            "matches": true
           },
           "label": "qol",
           "values": [
            0
           ]
          },
          {
           "axis": {
            "matches": true
           },
           "label": "power_rating",
           "values": [
            0
           ]
          }
         ],
         "hovertemplate": "country_name=Suriname<br>%{xaxis.title.text}=%{x}<br>%{yaxis.title.text}=%{y}<extra></extra>",
         "legendgroup": "Suriname",
         "marker": {
          "color": "#00cc96",
          "symbol": "circle"
         },
         "name": "Suriname",
         "showlegend": true,
         "type": "splom"
        },
        {
         "dimensions": [
          {
           "axis": {
            "matches": true
           },
           "label": "mv_usd",
           "values": [
            10130832
           ]
          },
          {
           "axis": {
            "matches": true
           },
           "label": "gdp_usd",
           "values": [
            635663801201.8
           ]
          },
          {
           "axis": {
            "matches": true
           },
           "label": "bmi",
           "values": [
            27
           ]
          },
          {
           "axis": {
            "matches": true
           },
           "label": "life_exp",
           "values": [
            83.15609756
           ]
          },
          {
           "axis": {
            "matches": true
           },
           "label": "qol",
           "values": [
            68
           ]
          },
          {
           "axis": {
            "matches": true
           },
           "label": "power_rating",
           "values": [
            0.390625
           ]
          }
         ],
         "hovertemplate": "country_name=Sweden<br>%{xaxis.title.text}=%{x}<br>%{yaxis.title.text}=%{y}<extra></extra>",
         "legendgroup": "Sweden",
         "marker": {
          "color": "#ab63fa",
          "symbol": "circle"
         },
         "name": "Sweden",
         "showlegend": true,
         "type": "splom"
        },
        {
         "dimensions": [
          {
           "axis": {
            "matches": true
           },
           "label": "mv_usd",
           "values": [
            15020640.000000002
           ]
          },
          {
           "axis": {
            "matches": true
           },
           "label": "gdp_usd",
           "values": [
            800640155387.3
           ]
          },
          {
           "axis": {
            "matches": true
           },
           "label": "bmi",
           "values": [
            27.1
           ]
          },
          {
           "axis": {
            "matches": true
           },
           "label": "life_exp",
           "values": [
            83.85121951
           ]
          },
          {
           "axis": {
            "matches": true
           },
           "label": "qol",
           "values": [
            73
           ]
          },
          {
           "axis": {
            "matches": true
           },
           "label": "power_rating",
           "values": [
            0.59375
           ]
          }
         ],
         "hovertemplate": "country_name=Switzerland<br>%{xaxis.title.text}=%{x}<br>%{yaxis.title.text}=%{y}<extra></extra>",
         "legendgroup": "Switzerland",
         "marker": {
          "color": "#FFA15A",
          "symbol": "circle"
         },
         "name": "Switzerland",
         "showlegend": true,
         "type": "splom"
        },
        {
         "dimensions": [
          {
           "axis": {
            "matches": true
           },
           "label": "mv_usd",
           "values": [
            377784
           ]
          },
          {
           "axis": {
            "matches": true
           },
           "label": "gdp_usd",
           "values": [
            8746270636.4
           ]
          },
          {
           "axis": {
            "matches": true
           },
           "label": "bmi",
           "values": [
            25.5
           ]
          },
          {
           "axis": {
            "matches": true
           },
           "label": "life_exp",
           "values": [
            71.594
           ]
          },
          {
           "axis": {
            "matches": true
           },
           "label": "qol",
           "values": [
            44
           ]
          },
          {
           "axis": {
            "matches": true
           },
           "label": "power_rating",
           "values": [
            0
           ]
          }
         ],
         "hovertemplate": "country_name=Tajikistan<br>%{xaxis.title.text}=%{x}<br>%{yaxis.title.text}=%{y}<extra></extra>",
         "legendgroup": "Tajikistan",
         "marker": {
          "color": "#19d3f3",
          "symbol": "circle"
         },
         "name": "Tajikistan",
         "showlegend": true,
         "type": "splom"
        },
        {
         "dimensions": [
          {
           "axis": {
            "matches": true
           },
           "label": "mv_usd",
           "values": [
            245376.00000000003
           ]
          },
          {
           "axis": {
            "matches": true
           },
           "label": "gdp_usd",
           "values": [
            67841049193.4
           ]
          },
          {
           "axis": {
            "matches": true
           },
           "label": "bmi",
           "values": [
            0
           ]
          },
          {
           "axis": {
            "matches": true
           },
           "label": "life_exp",
           "values": [
            66.201
           ]
          },
          {
           "axis": {
            "matches": true
           },
           "label": "qol",
           "values": [
            0
           ]
          },
          {
           "axis": {
            "matches": true
           },
           "label": "power_rating",
           "values": [
            0
           ]
          }
         ],
         "hovertemplate": "country_name=Tanzania<br>%{xaxis.title.text}=%{x}<br>%{yaxis.title.text}=%{y}<extra></extra>",
         "legendgroup": "Tanzania",
         "marker": {
          "color": "#FF6692",
          "symbol": "circle"
         },
         "name": "Tanzania",
         "showlegend": true,
         "type": "splom"
        },
        {
         "dimensions": [
          {
           "axis": {
            "matches": true
           },
           "label": "mv_usd",
           "values": [
            3655584.0000000005
           ]
          },
          {
           "axis": {
            "matches": true
           },
           "label": "gdp_usd",
           "values": [
            505947037098.4
           ]
          },
          {
           "axis": {
            "matches": true
           },
           "label": "bmi",
           "values": [
            24
           ]
          },
          {
           "axis": {
            "matches": true
           },
           "label": "life_exp",
           "values": [
            78.715
           ]
          },
          {
           "axis": {
            "matches": true
           },
           "label": "qol",
           "values": [
            54
           ]
          },
          {
           "axis": {
            "matches": true
           },
           "label": "power_rating",
           "values": [
            0
           ]
          }
         ],
         "hovertemplate": "country_name=Thailand<br>%{xaxis.title.text}=%{x}<br>%{yaxis.title.text}=%{y}<extra></extra>",
         "legendgroup": "Thailand",
         "marker": {
          "color": "#B6E880",
          "symbol": "circle"
         },
         "name": "Thailand",
         "showlegend": true,
         "type": "splom"
        },
        {
         "dimensions": [
          {
           "axis": {
            "matches": true
           },
           "label": "mv_usd",
           "values": [
            11880
           ]
          },
          {
           "axis": {
            "matches": true
           },
           "label": "gdp_usd",
           "values": [
            8413200567.6
           ]
          },
          {
           "axis": {
            "matches": true
           },
           "label": "bmi",
           "values": [
            22.4
           ]
          },
          {
           "axis": {
            "matches": true
           },
           "label": "life_exp",
           "values": [
            61.619
           ]
          },
          {
           "axis": {
            "matches": true
           },
           "label": "qol",
           "values": [
            43
           ]
          },
          {
           "axis": {
            "matches": true
           },
           "label": "power_rating",
           "values": [
            0
           ]
          }
         ],
         "hovertemplate": "country_name=Togo<br>%{xaxis.title.text}=%{x}<br>%{yaxis.title.text}=%{y}<extra></extra>",
         "legendgroup": "Togo",
         "marker": {
          "color": "#FF97FF",
          "symbol": "circle"
         },
         "name": "Togo",
         "showlegend": true,
         "type": "splom"
        },
        {
         "dimensions": [
          {
           "axis": {
            "matches": true
           },
           "label": "mv_usd",
           "values": [
            0
           ]
          },
          {
           "axis": {
            "matches": true
           },
           "label": "gdp_usd",
           "values": [
            469231309.5
           ]
          },
          {
           "axis": {
            "matches": true
           },
           "label": "bmi",
           "values": [
            30.3
           ]
          },
          {
           "axis": {
            "matches": true
           },
           "label": "life_exp",
           "values": [
            70.986
           ]
          },
          {
           "axis": {
            "matches": true
           },
           "label": "qol",
           "values": [
            0
           ]
          },
          {
           "axis": {
            "matches": true
           },
           "label": "power_rating",
           "values": [
            0
           ]
          }
         ],
         "hovertemplate": "country_name=Tonga<br>%{xaxis.title.text}=%{x}<br>%{yaxis.title.text}=%{y}<extra></extra>",
         "legendgroup": "Tonga",
         "marker": {
          "color": "#FECB52",
          "symbol": "circle"
         },
         "name": "Tonga",
         "showlegend": true,
         "type": "splom"
        },
        {
         "dimensions": [
          {
           "axis": {
            "matches": true
           },
           "label": "mv_usd",
           "values": [
            0
           ]
          },
          {
           "axis": {
            "matches": true
           },
           "label": "gdp_usd",
           "values": [
            24460196270.7
           ]
          },
          {
           "axis": {
            "matches": true
           },
           "label": "bmi",
           "values": [
            26.8
           ]
          },
          {
           "axis": {
            "matches": true
           },
           "label": "life_exp",
           "values": [
            72.971
           ]
          },
          {
           "axis": {
            "matches": true
           },
           "label": "qol",
           "values": [
            52
           ]
          },
          {
           "axis": {
            "matches": true
           },
           "label": "power_rating",
           "values": [
            0
           ]
          }
         ],
         "hovertemplate": "country_name=Trinidad and Tobago<br>%{xaxis.title.text}=%{x}<br>%{yaxis.title.text}=%{y}<extra></extra>",
         "legendgroup": "Trinidad and Tobago",
         "marker": {
          "color": "#636efa",
          "symbol": "circle"
         },
         "name": "Trinidad and Tobago",
         "showlegend": true,
         "type": "splom"
        },
        {
         "dimensions": [
          {
           "axis": {
            "matches": true
           },
           "label": "mv_usd",
           "values": [
            4208112
           ]
          },
          {
           "axis": {
            "matches": true
           },
           "label": "gdp_usd",
           "values": [
            46686741814.3
           ]
          },
          {
           "axis": {
            "matches": true
           },
           "label": "bmi",
           "values": [
            25.6
           ]
          },
          {
           "axis": {
            "matches": true
           },
           "label": "life_exp",
           "values": [
            73.772
           ]
          },
          {
           "axis": {
            "matches": true
           },
           "label": "qol",
           "values": [
            54
           ]
          },
          {
           "axis": {
            "matches": true
           },
           "label": "power_rating",
           "values": [
            0.296875
           ]
          }
         ],
         "hovertemplate": "country_name=Tunisia<br>%{xaxis.title.text}=%{x}<br>%{yaxis.title.text}=%{y}<extra></extra>",
         "legendgroup": "Tunisia",
         "marker": {
          "color": "#EF553B",
          "symbol": "circle"
         },
         "name": "Tunisia",
         "showlegend": true,
         "type": "splom"
        },
        {
         "dimensions": [
          {
           "axis": {
            "matches": true
           },
           "label": "mv_usd",
           "values": [
            45600192
           ]
          },
          {
           "axis": {
            "matches": true
           },
           "label": "gdp_usd",
           "values": [
            819035182929.6
           ]
          },
          {
           "axis": {
            "matches": true
           },
           "label": "bmi",
           "values": [
            0
           ]
          },
          {
           "axis": {
            "matches": true
           },
           "label": "life_exp",
           "values": [
            76.032
           ]
          },
          {
           "axis": {
            "matches": true
           },
           "label": "qol",
           "values": [
            51
           ]
          },
          {
           "axis": {
            "matches": true
           },
           "label": "power_rating",
           "values": [
            0
           ]
          }
         ],
         "hovertemplate": "country_name=Turkey<br>%{xaxis.title.text}=%{x}<br>%{yaxis.title.text}=%{y}<extra></extra>",
         "legendgroup": "Turkey",
         "marker": {
          "color": "#00cc96",
          "symbol": "circle"
         },
         "name": "Turkey",
         "showlegend": true,
         "type": "splom"
        },
        {
         "dimensions": [
          {
           "axis": {
            "matches": true
           },
           "label": "mv_usd",
           "values": [
            0
           ]
          },
          {
           "axis": {
            "matches": true
           },
           "label": "gdp_usd",
           "values": [
            63100961.5
           ]
          },
          {
           "axis": {
            "matches": true
           },
           "label": "bmi",
           "values": [
            29.8
           ]
          },
          {
           "axis": {
            "matches": true
           },
           "label": "life_exp",
           "values": [
            64.547
           ]
          },
          {
           "axis": {
            "matches": true
           },
           "label": "qol",
           "values": [
            0
           ]
          },
          {
           "axis": {
            "matches": true
           },
           "label": "power_rating",
           "values": [
            0
           ]
          }
         ],
         "hovertemplate": "country_name=Tuvalu<br>%{xaxis.title.text}=%{x}<br>%{yaxis.title.text}=%{y}<extra></extra>",
         "legendgroup": "Tuvalu",
         "marker": {
          "color": "#ab63fa",
          "symbol": "circle"
         },
         "name": "Tuvalu",
         "showlegend": true,
         "type": "splom"
        },
        {
         "dimensions": [
          {
           "axis": {
            "matches": true
           },
           "label": "mv_usd",
           "values": [
            71280
           ]
          },
          {
           "axis": {
            "matches": true
           },
           "label": "gdp_usd",
           "values": [
            40529789025.6
           ]
          },
          {
           "axis": {
            "matches": true
           },
           "label": "bmi",
           "values": [
            21.6
           ]
          },
          {
           "axis": {
            "matches": true
           },
           "label": "life_exp",
           "values": [
            62.705
           ]
          },
          {
           "axis": {
            "matches": true
           },
           "label": "qol",
           "values": [
            44
           ]
          },
          {
           "axis": {
            "matches": true
           },
           "label": "power_rating",
           "values": [
            0
           ]
          }
         ],
         "hovertemplate": "country_name=Uganda<br>%{xaxis.title.text}=%{x}<br>%{yaxis.title.text}=%{y}<extra></extra>",
         "legendgroup": "Uganda",
         "marker": {
          "color": "#FFA15A",
          "symbol": "circle"
         },
         "name": "Uganda",
         "showlegend": true,
         "type": "splom"
        },
        {
         "dimensions": [
          {
           "axis": {
            "matches": true
           },
           "label": "mv_usd",
           "values": [
            13891392
           ]
          },
          {
           "axis": {
            "matches": true
           },
           "label": "gdp_usd",
           "values": [
            200085537744.4
           ]
          },
          {
           "axis": {
            "matches": true
           },
           "label": "bmi",
           "values": [
            27.1
           ]
          },
          {
           "axis": {
            "matches": true
           },
           "label": "life_exp",
           "values": [
            69.64780488
           ]
          },
          {
           "axis": {
            "matches": true
           },
           "label": "qol",
           "values": [
            46
           ]
          },
          {
           "axis": {
            "matches": true
           },
           "label": "power_rating",
           "values": [
            0
           ]
          }
         ],
         "hovertemplate": "country_name=Ukraine<br>%{xaxis.title.text}=%{x}<br>%{yaxis.title.text}=%{y}<extra></extra>",
         "legendgroup": "Ukraine",
         "marker": {
          "color": "#19d3f3",
          "symbol": "circle"
         },
         "name": "Ukraine",
         "showlegend": true,
         "type": "splom"
        },
        {
         "dimensions": [
          {
           "axis": {
            "matches": true
           },
           "label": "mv_usd",
           "values": [
            12981384
           ]
          },
          {
           "axis": {
            "matches": true
           },
           "label": "gdp_usd",
           "values": [
            415021590683
           ]
          },
          {
           "axis": {
            "matches": true
           },
           "label": "bmi",
           "values": [
            28.3
           ]
          },
          {
           "axis": {
            "matches": true
           },
           "label": "life_exp",
           "values": [
            78.71
           ]
          },
          {
           "axis": {
            "matches": true
           },
           "label": "qol",
           "values": [
            66
           ]
          },
          {
           "axis": {
            "matches": true
           },
           "label": "power_rating",
           "values": [
            0
           ]
          }
         ],
         "hovertemplate": "country_name=United Arab Emirates<br>%{xaxis.title.text}=%{x}<br>%{yaxis.title.text}=%{y}<extra></extra>",
         "legendgroup": "United Arab Emirates",
         "marker": {
          "color": "#FF6692",
          "symbol": "circle"
         },
         "name": "United Arab Emirates",
         "showlegend": true,
         "type": "splom"
        },
        {
         "dimensions": [
          {
           "axis": {
            "matches": true
           },
           "label": "mv_usd",
           "values": [
            0
           ]
          },
          {
           "axis": {
            "matches": true
           },
           "label": "gdp_usd",
           "values": [
            3131377762926
           ]
          },
          {
           "axis": {
            "matches": true
           },
           "label": "bmi",
           "values": [
            0
           ]
          },
          {
           "axis": {
            "matches": true
           },
           "label": "life_exp",
           "values": [
            80.7
           ]
          },
          {
           "axis": {
            "matches": true
           },
           "label": "qol",
           "values": [
            60
           ]
          },
          {
           "axis": {
            "matches": true
           },
           "label": "power_rating",
           "values": [
            0
           ]
          }
         ],
         "hovertemplate": "country_name=United Kingdom<br>%{xaxis.title.text}=%{x}<br>%{yaxis.title.text}=%{y}<extra></extra>",
         "legendgroup": "United Kingdom",
         "marker": {
          "color": "#B6E880",
          "symbol": "circle"
         },
         "name": "United Kingdom",
         "showlegend": true,
         "type": "splom"
        },
        {
         "dimensions": [
          {
           "axis": {
            "matches": true
           },
           "label": "mv_usd",
           "values": [
            45082656
           ]
          },
          {
           "axis": {
            "matches": true
           },
           "label": "gdp_usd",
           "values": [
            23315080560000
           ]
          },
          {
           "axis": {
            "matches": true
           },
           "label": "bmi",
           "values": [
            29
           ]
          },
          {
           "axis": {
            "matches": true
           },
           "label": "life_exp",
           "values": [
            76.32926829
           ]
          },
          {
           "axis": {
            "matches": true
           },
           "label": "qol",
           "values": [
            66
           ]
          },
          {
           "axis": {
            "matches": true
           },
           "label": "power_rating",
           "values": [
            0.28125
           ]
          }
         ],
         "hovertemplate": "country_name=United States<br>%{xaxis.title.text}=%{x}<br>%{yaxis.title.text}=%{y}<extra></extra>",
         "legendgroup": "United States",
         "marker": {
          "color": "#FF97FF",
          "symbol": "circle"
         },
         "name": "United States",
         "showlegend": true,
         "type": "splom"
        },
        {
         "dimensions": [
          {
           "axis": {
            "matches": true
           },
           "label": "mv_usd",
           "values": [
            8293104.000000001
           ]
          },
          {
           "axis": {
            "matches": true
           },
           "label": "gdp_usd",
           "values": [
            59319484710.7
           ]
          },
          {
           "axis": {
            "matches": true
           },
           "label": "bmi",
           "values": [
            27.4
           ]
          },
          {
           "axis": {
            "matches": true
           },
           "label": "life_exp",
           "values": [
            75.436
           ]
          },
          {
           "axis": {
            "matches": true
           },
           "label": "qol",
           "values": [
            67
           ]
          },
          {
           "axis": {
            "matches": true
           },
           "label": "power_rating",
           "values": [
            0.59375
           ]
          }
         ],
         "hovertemplate": "country_name=Uruguay<br>%{xaxis.title.text}=%{x}<br>%{yaxis.title.text}=%{y}<extra></extra>",
         "legendgroup": "Uruguay",
         "marker": {
          "color": "#FECB52",
          "symbol": "circle"
         },
         "name": "Uruguay",
         "showlegend": true,
         "type": "splom"
        },
        {
         "dimensions": [
          {
           "axis": {
            "matches": true
           },
           "label": "mv_usd",
           "values": [
            4015872.0000000005
           ]
          },
          {
           "axis": {
            "matches": true
           },
           "label": "gdp_usd",
           "values": [
            69238903106.2
           ]
          },
          {
           "axis": {
            "matches": true
           },
           "label": "bmi",
           "values": [
            26
           ]
          },
          {
           "axis": {
            "matches": true
           },
           "label": "life_exp",
           "values": [
            70.862
           ]
          },
          {
           "axis": {
            "matches": true
           },
           "label": "qol",
           "values": [
            49
           ]
          },
          {
           "axis": {
            "matches": true
           },
           "label": "power_rating",
           "values": [
            0
           ]
          }
         ],
         "hovertemplate": "country_name=Uzbekistan<br>%{xaxis.title.text}=%{x}<br>%{yaxis.title.text}=%{y}<extra></extra>",
         "legendgroup": "Uzbekistan",
         "marker": {
          "color": "#636efa",
          "symbol": "circle"
         },
         "name": "Uzbekistan",
         "showlegend": true,
         "type": "splom"
        },
        {
         "dimensions": [
          {
           "axis": {
            "matches": true
           },
           "label": "mv_usd",
           "values": [
            29160.000000000004
           ]
          },
          {
           "axis": {
            "matches": true
           },
           "label": "gdp_usd",
           "values": [
            956332655.7
           ]
          },
          {
           "axis": {
            "matches": true
           },
           "label": "bmi",
           "values": [
            25.4
           ]
          },
          {
           "axis": {
            "matches": true
           },
           "label": "life_exp",
           "values": [
            70.449
           ]
          },
          {
           "axis": {
            "matches": true
           },
           "label": "qol",
           "values": [
            0
           ]
          },
          {
           "axis": {
            "matches": true
           },
           "label": "power_rating",
           "values": [
            0
           ]
          }
         ],
         "hovertemplate": "country_name=Vanuatu<br>%{xaxis.title.text}=%{x}<br>%{yaxis.title.text}=%{y}<extra></extra>",
         "legendgroup": "Vanuatu",
         "marker": {
          "color": "#EF553B",
          "symbol": "circle"
         },
         "name": "Vanuatu",
         "showlegend": true,
         "type": "splom"
        },
        {
         "dimensions": [
          {
           "axis": {
            "matches": true
           },
           "label": "mv_usd",
           "values": [
            1719792
           ]
          },
          {
           "axis": {
            "matches": true
           },
           "label": "gdp_usd",
           "values": [
            366137590600.7
           ]
          },
          {
           "axis": {
            "matches": true
           },
           "label": "bmi",
           "values": [
            0
           ]
          },
          {
           "axis": {
            "matches": true
           },
           "label": "life_exp",
           "values": [
            73.618
           ]
          },
          {
           "axis": {
            "matches": true
           },
           "label": "qol",
           "values": [
            52
           ]
          },
          {
           "axis": {
            "matches": true
           },
           "label": "power_rating",
           "values": [
            0
           ]
          }
         ],
         "hovertemplate": "country_name=Vietnam<br>%{xaxis.title.text}=%{x}<br>%{yaxis.title.text}=%{y}<extra></extra>",
         "legendgroup": "Vietnam",
         "marker": {
          "color": "#00cc96",
          "symbol": "circle"
         },
         "name": "Vietnam",
         "showlegend": true,
         "type": "splom"
        },
        {
         "dimensions": [
          {
           "axis": {
            "matches": true
           },
           "label": "mv_usd",
           "values": [
            70416
           ]
          },
          {
           "axis": {
            "matches": true
           },
           "label": "gdp_usd",
           "values": [
            22147634727.4
           ]
          },
          {
           "axis": {
            "matches": true
           },
           "label": "bmi",
           "values": [
            21
           ]
          },
          {
           "axis": {
            "matches": true
           },
           "label": "life_exp",
           "values": [
            61.223
           ]
          },
          {
           "axis": {
            "matches": true
           },
           "label": "qol",
           "values": [
            46
           ]
          },
          {
           "axis": {
            "matches": true
           },
           "label": "power_rating",
           "values": [
            0
           ]
          }
         ],
         "hovertemplate": "country_name=Zambia<br>%{xaxis.title.text}=%{x}<br>%{yaxis.title.text}=%{y}<extra></extra>",
         "legendgroup": "Zambia",
         "marker": {
          "color": "#ab63fa",
          "symbol": "circle"
         },
         "name": "Zambia",
         "showlegend": true,
         "type": "splom"
        },
        {
         "dimensions": [
          {
           "axis": {
            "matches": true
           },
           "label": "mv_usd",
           "values": [
            20520
           ]
          },
          {
           "axis": {
            "matches": true
           },
           "label": "gdp_usd",
           "values": [
            28371238665.5
           ]
          },
          {
           "axis": {
            "matches": true
           },
           "label": "bmi",
           "values": [
            21.9
           ]
          },
          {
           "axis": {
            "matches": true
           },
           "label": "life_exp",
           "values": [
            59.253
           ]
          },
          {
           "axis": {
            "matches": true
           },
           "label": "qol",
           "values": [
            38
           ]
          },
          {
           "axis": {
            "matches": true
           },
           "label": "power_rating",
           "values": [
            0
           ]
          }
         ],
         "hovertemplate": "country_name=Zimbabwe<br>%{xaxis.title.text}=%{x}<br>%{yaxis.title.text}=%{y}<extra></extra>",
         "legendgroup": "Zimbabwe",
         "marker": {
          "color": "#FFA15A",
          "symbol": "circle"
         },
         "name": "Zimbabwe",
         "showlegend": true,
         "type": "splom"
        }
       ],
       "layout": {
        "dragmode": "select",
        "legend": {
         "title": {
          "text": "country_name"
         },
         "tracegroupgap": 0
        },
        "margin": {
         "t": 60
        },
        "template": {
         "data": {
          "bar": [
           {
            "error_x": {
             "color": "#2a3f5f"
            },
            "error_y": {
             "color": "#2a3f5f"
            },
            "marker": {
             "line": {
              "color": "#E5ECF6",
              "width": 0.5
             },
             "pattern": {
              "fillmode": "overlay",
              "size": 10,
              "solidity": 0.2
             }
            },
            "type": "bar"
           }
          ],
          "barpolar": [
           {
            "marker": {
             "line": {
              "color": "#E5ECF6",
              "width": 0.5
             },
             "pattern": {
              "fillmode": "overlay",
              "size": 10,
              "solidity": 0.2
             }
            },
            "type": "barpolar"
           }
          ],
          "carpet": [
           {
            "aaxis": {
             "endlinecolor": "#2a3f5f",
             "gridcolor": "white",
             "linecolor": "white",
             "minorgridcolor": "white",
             "startlinecolor": "#2a3f5f"
            },
            "baxis": {
             "endlinecolor": "#2a3f5f",
             "gridcolor": "white",
             "linecolor": "white",
             "minorgridcolor": "white",
             "startlinecolor": "#2a3f5f"
            },
            "type": "carpet"
           }
          ],
          "choropleth": [
           {
            "colorbar": {
             "outlinewidth": 0,
             "ticks": ""
            },
            "type": "choropleth"
           }
          ],
          "contour": [
           {
            "colorbar": {
             "outlinewidth": 0,
             "ticks": ""
            },
            "colorscale": [
             [
              0,
              "#0d0887"
             ],
             [
              0.1111111111111111,
              "#46039f"
             ],
             [
              0.2222222222222222,
              "#7201a8"
             ],
             [
              0.3333333333333333,
              "#9c179e"
             ],
             [
              0.4444444444444444,
              "#bd3786"
             ],
             [
              0.5555555555555556,
              "#d8576b"
             ],
             [
              0.6666666666666666,
              "#ed7953"
             ],
             [
              0.7777777777777778,
              "#fb9f3a"
             ],
             [
              0.8888888888888888,
              "#fdca26"
             ],
             [
              1,
              "#f0f921"
             ]
            ],
            "type": "contour"
           }
          ],
          "contourcarpet": [
           {
            "colorbar": {
             "outlinewidth": 0,
             "ticks": ""
            },
            "type": "contourcarpet"
           }
          ],
          "heatmap": [
           {
            "colorbar": {
             "outlinewidth": 0,
             "ticks": ""
            },
            "colorscale": [
             [
              0,
              "#0d0887"
             ],
             [
              0.1111111111111111,
              "#46039f"
             ],
             [
              0.2222222222222222,
              "#7201a8"
             ],
             [
              0.3333333333333333,
              "#9c179e"
             ],
             [
              0.4444444444444444,
              "#bd3786"
             ],
             [
              0.5555555555555556,
              "#d8576b"
             ],
             [
              0.6666666666666666,
              "#ed7953"
             ],
             [
              0.7777777777777778,
              "#fb9f3a"
             ],
             [
              0.8888888888888888,
              "#fdca26"
             ],
             [
              1,
              "#f0f921"
             ]
            ],
            "type": "heatmap"
           }
          ],
          "heatmapgl": [
           {
            "colorbar": {
             "outlinewidth": 0,
             "ticks": ""
            },
            "colorscale": [
             [
              0,
              "#0d0887"
             ],
             [
              0.1111111111111111,
              "#46039f"
             ],
             [
              0.2222222222222222,
              "#7201a8"
             ],
             [
              0.3333333333333333,
              "#9c179e"
             ],
             [
              0.4444444444444444,
              "#bd3786"
             ],
             [
              0.5555555555555556,
              "#d8576b"
             ],
             [
              0.6666666666666666,
              "#ed7953"
             ],
             [
              0.7777777777777778,
              "#fb9f3a"
             ],
             [
              0.8888888888888888,
              "#fdca26"
             ],
             [
              1,
              "#f0f921"
             ]
            ],
            "type": "heatmapgl"
           }
          ],
          "histogram": [
           {
            "marker": {
             "pattern": {
              "fillmode": "overlay",
              "size": 10,
              "solidity": 0.2
             }
            },
            "type": "histogram"
           }
          ],
          "histogram2d": [
           {
            "colorbar": {
             "outlinewidth": 0,
             "ticks": ""
            },
            "colorscale": [
             [
              0,
              "#0d0887"
             ],
             [
              0.1111111111111111,
              "#46039f"
             ],
             [
              0.2222222222222222,
              "#7201a8"
             ],
             [
              0.3333333333333333,
              "#9c179e"
             ],
             [
              0.4444444444444444,
              "#bd3786"
             ],
             [
              0.5555555555555556,
              "#d8576b"
             ],
             [
              0.6666666666666666,
              "#ed7953"
             ],
             [
              0.7777777777777778,
              "#fb9f3a"
             ],
             [
              0.8888888888888888,
              "#fdca26"
             ],
             [
              1,
              "#f0f921"
             ]
            ],
            "type": "histogram2d"
           }
          ],
          "histogram2dcontour": [
           {
            "colorbar": {
             "outlinewidth": 0,
             "ticks": ""
            },
            "colorscale": [
             [
              0,
              "#0d0887"
             ],
             [
              0.1111111111111111,
              "#46039f"
             ],
             [
              0.2222222222222222,
              "#7201a8"
             ],
             [
              0.3333333333333333,
              "#9c179e"
             ],
             [
              0.4444444444444444,
              "#bd3786"
             ],
             [
              0.5555555555555556,
              "#d8576b"
             ],
             [
              0.6666666666666666,
              "#ed7953"
             ],
             [
              0.7777777777777778,
              "#fb9f3a"
             ],
             [
              0.8888888888888888,
              "#fdca26"
             ],
             [
              1,
              "#f0f921"
             ]
            ],
            "type": "histogram2dcontour"
           }
          ],
          "mesh3d": [
           {
            "colorbar": {
             "outlinewidth": 0,
             "ticks": ""
            },
            "type": "mesh3d"
           }
          ],
          "parcoords": [
           {
            "line": {
             "colorbar": {
              "outlinewidth": 0,
              "ticks": ""
             }
            },
            "type": "parcoords"
           }
          ],
          "pie": [
           {
            "automargin": true,
            "type": "pie"
           }
          ],
          "scatter": [
           {
            "fillpattern": {
             "fillmode": "overlay",
             "size": 10,
             "solidity": 0.2
            },
            "type": "scatter"
           }
          ],
          "scatter3d": [
           {
            "line": {
             "colorbar": {
              "outlinewidth": 0,
              "ticks": ""
             }
            },
            "marker": {
             "colorbar": {
              "outlinewidth": 0,
              "ticks": ""
             }
            },
            "type": "scatter3d"
           }
          ],
          "scattercarpet": [
           {
            "marker": {
             "colorbar": {
              "outlinewidth": 0,
              "ticks": ""
             }
            },
            "type": "scattercarpet"
           }
          ],
          "scattergeo": [
           {
            "marker": {
             "colorbar": {
              "outlinewidth": 0,
              "ticks": ""
             }
            },
            "type": "scattergeo"
           }
          ],
          "scattergl": [
           {
            "marker": {
             "colorbar": {
              "outlinewidth": 0,
              "ticks": ""
             }
            },
            "type": "scattergl"
           }
          ],
          "scattermapbox": [
           {
            "marker": {
             "colorbar": {
              "outlinewidth": 0,
              "ticks": ""
             }
            },
            "type": "scattermapbox"
           }
          ],
          "scatterpolar": [
           {
            "marker": {
             "colorbar": {
              "outlinewidth": 0,
              "ticks": ""
             }
            },
            "type": "scatterpolar"
           }
          ],
          "scatterpolargl": [
           {
            "marker": {
             "colorbar": {
              "outlinewidth": 0,
              "ticks": ""
             }
            },
            "type": "scatterpolargl"
           }
          ],
          "scatterternary": [
           {
            "marker": {
             "colorbar": {
              "outlinewidth": 0,
              "ticks": ""
             }
            },
            "type": "scatterternary"
           }
          ],
          "surface": [
           {
            "colorbar": {
             "outlinewidth": 0,
             "ticks": ""
            },
            "colorscale": [
             [
              0,
              "#0d0887"
             ],
             [
              0.1111111111111111,
              "#46039f"
             ],
             [
              0.2222222222222222,
              "#7201a8"
             ],
             [
              0.3333333333333333,
              "#9c179e"
             ],
             [
              0.4444444444444444,
              "#bd3786"
             ],
             [
              0.5555555555555556,
              "#d8576b"
             ],
             [
              0.6666666666666666,
              "#ed7953"
             ],
             [
              0.7777777777777778,
              "#fb9f3a"
             ],
             [
              0.8888888888888888,
              "#fdca26"
             ],
             [
              1,
              "#f0f921"
             ]
            ],
            "type": "surface"
           }
          ],
          "table": [
           {
            "cells": {
             "fill": {
              "color": "#EBF0F8"
             },
             "line": {
              "color": "white"
             }
            },
            "header": {
             "fill": {
              "color": "#C8D4E3"
             },
             "line": {
              "color": "white"
             }
            },
            "type": "table"
           }
          ]
         },
         "layout": {
          "annotationdefaults": {
           "arrowcolor": "#2a3f5f",
           "arrowhead": 0,
           "arrowwidth": 1
          },
          "autotypenumbers": "strict",
          "coloraxis": {
           "colorbar": {
            "outlinewidth": 0,
            "ticks": ""
           }
          },
          "colorscale": {
           "diverging": [
            [
             0,
             "#8e0152"
            ],
            [
             0.1,
             "#c51b7d"
            ],
            [
             0.2,
             "#de77ae"
            ],
            [
             0.3,
             "#f1b6da"
            ],
            [
             0.4,
             "#fde0ef"
            ],
            [
             0.5,
             "#f7f7f7"
            ],
            [
             0.6,
             "#e6f5d0"
            ],
            [
             0.7,
             "#b8e186"
            ],
            [
             0.8,
             "#7fbc41"
            ],
            [
             0.9,
             "#4d9221"
            ],
            [
             1,
             "#276419"
            ]
           ],
           "sequential": [
            [
             0,
             "#0d0887"
            ],
            [
             0.1111111111111111,
             "#46039f"
            ],
            [
             0.2222222222222222,
             "#7201a8"
            ],
            [
             0.3333333333333333,
             "#9c179e"
            ],
            [
             0.4444444444444444,
             "#bd3786"
            ],
            [
             0.5555555555555556,
             "#d8576b"
            ],
            [
             0.6666666666666666,
             "#ed7953"
            ],
            [
             0.7777777777777778,
             "#fb9f3a"
            ],
            [
             0.8888888888888888,
             "#fdca26"
            ],
            [
             1,
             "#f0f921"
            ]
           ],
           "sequentialminus": [
            [
             0,
             "#0d0887"
            ],
            [
             0.1111111111111111,
             "#46039f"
            ],
            [
             0.2222222222222222,
             "#7201a8"
            ],
            [
             0.3333333333333333,
             "#9c179e"
            ],
            [
             0.4444444444444444,
             "#bd3786"
            ],
            [
             0.5555555555555556,
             "#d8576b"
            ],
            [
             0.6666666666666666,
             "#ed7953"
            ],
            [
             0.7777777777777778,
             "#fb9f3a"
            ],
            [
             0.8888888888888888,
             "#fdca26"
            ],
            [
             1,
             "#f0f921"
            ]
           ]
          },
          "colorway": [
           "#636efa",
           "#EF553B",
           "#00cc96",
           "#ab63fa",
           "#FFA15A",
           "#19d3f3",
           "#FF6692",
           "#B6E880",
           "#FF97FF",
           "#FECB52"
          ],
          "font": {
           "color": "#2a3f5f"
          },
          "geo": {
           "bgcolor": "white",
           "lakecolor": "white",
           "landcolor": "#E5ECF6",
           "showlakes": true,
           "showland": true,
           "subunitcolor": "white"
          },
          "hoverlabel": {
           "align": "left"
          },
          "hovermode": "closest",
          "mapbox": {
           "style": "light"
          },
          "paper_bgcolor": "white",
          "plot_bgcolor": "#E5ECF6",
          "polar": {
           "angularaxis": {
            "gridcolor": "white",
            "linecolor": "white",
            "ticks": ""
           },
           "bgcolor": "#E5ECF6",
           "radialaxis": {
            "gridcolor": "white",
            "linecolor": "white",
            "ticks": ""
           }
          },
          "scene": {
           "xaxis": {
            "backgroundcolor": "#E5ECF6",
            "gridcolor": "white",
            "gridwidth": 2,
            "linecolor": "white",
            "showbackground": true,
            "ticks": "",
            "zerolinecolor": "white"
           },
           "yaxis": {
            "backgroundcolor": "#E5ECF6",
            "gridcolor": "white",
            "gridwidth": 2,
            "linecolor": "white",
            "showbackground": true,
            "ticks": "",
            "zerolinecolor": "white"
           },
           "zaxis": {
            "backgroundcolor": "#E5ECF6",
            "gridcolor": "white",
            "gridwidth": 2,
            "linecolor": "white",
            "showbackground": true,
            "ticks": "",
            "zerolinecolor": "white"
           }
          },
          "shapedefaults": {
           "line": {
            "color": "#2a3f5f"
           }
          },
          "ternary": {
           "aaxis": {
            "gridcolor": "white",
            "linecolor": "white",
            "ticks": ""
           },
           "baxis": {
            "gridcolor": "white",
            "linecolor": "white",
            "ticks": ""
           },
           "bgcolor": "#E5ECF6",
           "caxis": {
            "gridcolor": "white",
            "linecolor": "white",
            "ticks": ""
           }
          },
          "title": {
           "x": 0.05
          },
          "xaxis": {
           "automargin": true,
           "gridcolor": "white",
           "linecolor": "white",
           "ticks": "",
           "title": {
            "standoff": 15
           },
           "zerolinecolor": "white",
           "zerolinewidth": 2
          },
          "yaxis": {
           "automargin": true,
           "gridcolor": "white",
           "linecolor": "white",
           "ticks": "",
           "title": {
            "standoff": 15
           },
           "zerolinecolor": "white",
           "zerolinewidth": 2
          }
         }
        }
       }
      },
      "text/html": [
       "<div>                            <div id=\"018603ab-7b9a-4499-aef8-75b66e055a01\" class=\"plotly-graph-div\" style=\"height:525px; width:100%;\"></div>            <script type=\"text/javascript\">                require([\"plotly\"], function(Plotly) {                    window.PLOTLYENV=window.PLOTLYENV || {};                                    if (document.getElementById(\"018603ab-7b9a-4499-aef8-75b66e055a01\")) {                    Plotly.newPlot(                        \"018603ab-7b9a-4499-aef8-75b66e055a01\",                        [{\"dimensions\":[{\"axis\":{\"matches\":true},\"label\":\"mv_usd\",\"values\":[432.0]},{\"axis\":{\"matches\":true},\"label\":\"gdp_usd\",\"values\":[14786861638.5]},{\"axis\":{\"matches\":true},\"label\":\"bmi\",\"values\":[22.3]},{\"axis\":{\"matches\":true},\"label\":\"life_exp\",\"values\":[61.982]},{\"axis\":{\"matches\":true},\"label\":\"qol\",\"values\":[37.0]},{\"axis\":{\"matches\":true},\"label\":\"power_rating\",\"values\":[0.0]}],\"hovertemplate\":\"country_name=Afghanistan<br>%{xaxis.title.text}=%{x}<br>%{yaxis.title.text}=%{y}<extra></extra>\",\"legendgroup\":\"Afghanistan\",\"marker\":{\"color\":\"#636efa\",\"symbol\":\"circle\"},\"name\":\"Afghanistan\",\"showlegend\":true,\"type\":\"splom\"},{\"dimensions\":[{\"axis\":{\"matches\":true},\"label\":\"mv_usd\",\"values\":[2353752.0]},{\"axis\":{\"matches\":true},\"label\":\"gdp_usd\",\"values\":[18255787479.2]},{\"axis\":{\"matches\":true},\"label\":\"bmi\",\"values\":[27.0]},{\"axis\":{\"matches\":true},\"label\":\"life_exp\",\"values\":[76.463]},{\"axis\":{\"matches\":true},\"label\":\"qol\",\"values\":[54.0]},{\"axis\":{\"matches\":true},\"label\":\"power_rating\",\"values\":[0.0]}],\"hovertemplate\":\"country_name=Albania<br>%{xaxis.title.text}=%{x}<br>%{yaxis.title.text}=%{y}<extra></extra>\",\"legendgroup\":\"Albania\",\"marker\":{\"color\":\"#EF553B\",\"symbol\":\"circle\"},\"name\":\"Albania\",\"showlegend\":true,\"type\":\"splom\"},{\"dimensions\":[{\"axis\":{\"matches\":true},\"label\":\"mv_usd\",\"values\":[3985416.0000000005]},{\"axis\":{\"matches\":true},\"label\":\"gdp_usd\",\"values\":[163044443983.8]},{\"axis\":{\"matches\":true},\"label\":\"bmi\",\"values\":[24.7]},{\"axis\":{\"matches\":true},\"label\":\"life_exp\",\"values\":[76.377]},{\"axis\":{\"matches\":true},\"label\":\"qol\",\"values\":[51.0]},{\"axis\":{\"matches\":true},\"label\":\"power_rating\",\"values\":[0.0]}],\"hovertemplate\":\"country_name=Algeria<br>%{xaxis.title.text}=%{x}<br>%{yaxis.title.text}=%{y}<extra></extra>\",\"legendgroup\":\"Algeria\",\"marker\":{\"color\":\"#00cc96\",\"symbol\":\"circle\"},\"name\":\"Algeria\",\"showlegend\":true,\"type\":\"splom\"},{\"dimensions\":[{\"axis\":{\"matches\":true},\"label\":\"mv_usd\",\"values\":[0.0]},{\"axis\":{\"matches\":true},\"label\":\"gdp_usd\",\"values\":[709000000.0]},{\"axis\":{\"matches\":true},\"label\":\"bmi\",\"values\":[0.0]},{\"axis\":{\"matches\":true},\"label\":\"life_exp\",\"values\":[0.0]},{\"axis\":{\"matches\":true},\"label\":\"qol\",\"values\":[0.0]},{\"axis\":{\"matches\":true},\"label\":\"power_rating\",\"values\":[0.0]}],\"hovertemplate\":\"country_name=American Samoa<br>%{xaxis.title.text}=%{x}<br>%{yaxis.title.text}=%{y}<extra></extra>\",\"legendgroup\":\"American Samoa\",\"marker\":{\"color\":\"#ab63fa\",\"symbol\":\"circle\"},\"name\":\"American Samoa\",\"showlegend\":true,\"type\":\"splom\"},{\"dimensions\":[{\"axis\":{\"matches\":true},\"label\":\"mv_usd\",\"values\":[1428192.0]},{\"axis\":{\"matches\":true},\"label\":\"gdp_usd\",\"values\":[3330281523.5]},{\"axis\":{\"matches\":true},\"label\":\"bmi\",\"values\":[27.6]},{\"axis\":{\"matches\":true},\"label\":\"life_exp\",\"values\":[0.0]},{\"axis\":{\"matches\":true},\"label\":\"qol\",\"values\":[0.0]},{\"axis\":{\"matches\":true},\"label\":\"power_rating\",\"values\":[0.0]}],\"hovertemplate\":\"country_name=Andorra<br>%{xaxis.title.text}=%{x}<br>%{yaxis.title.text}=%{y}<extra></extra>\",\"legendgroup\":\"Andorra\",\"marker\":{\"color\":\"#FFA15A\",\"symbol\":\"circle\"},\"name\":\"Andorra\",\"showlegend\":true,\"type\":\"splom\"},{\"dimensions\":[{\"axis\":{\"matches\":true},\"label\":\"mv_usd\",\"values\":[256176.00000000003]},{\"axis\":{\"matches\":true},\"label\":\"gdp_usd\",\"values\":[67404287260.3]},{\"axis\":{\"matches\":true},\"label\":\"bmi\",\"values\":[22.1]},{\"axis\":{\"matches\":true},\"label\":\"life_exp\",\"values\":[61.643]},{\"axis\":{\"matches\":true},\"label\":\"qol\",\"values\":[0.0]},{\"axis\":{\"matches\":true},\"label\":\"power_rating\",\"values\":[0.0]}],\"hovertemplate\":\"country_name=Angola<br>%{xaxis.title.text}=%{x}<br>%{yaxis.title.text}=%{y}<extra></extra>\",\"legendgroup\":\"Angola\",\"marker\":{\"color\":\"#19d3f3\",\"symbol\":\"circle\"},\"name\":\"Angola\",\"showlegend\":true,\"type\":\"splom\"},{\"dimensions\":[{\"axis\":{\"matches\":true},\"label\":\"mv_usd\",\"values\":[4320.0]},{\"axis\":{\"matches\":true},\"label\":\"gdp_usd\",\"values\":[1471125925.9]},{\"axis\":{\"matches\":true},\"label\":\"bmi\",\"values\":[25.7]},{\"axis\":{\"matches\":true},\"label\":\"life_exp\",\"values\":[78.497]},{\"axis\":{\"matches\":true},\"label\":\"qol\",\"values\":[0.0]},{\"axis\":{\"matches\":true},\"label\":\"power_rating\",\"values\":[0.0]}],\"hovertemplate\":\"country_name=Antigua and Barbuda<br>%{xaxis.title.text}=%{x}<br>%{yaxis.title.text}=%{y}<extra></extra>\",\"legendgroup\":\"Antigua and Barbuda\",\"marker\":{\"color\":\"#FF6692\",\"symbol\":\"circle\"},\"name\":\"Antigua and Barbuda\",\"showlegend\":true,\"type\":\"splom\"},{\"dimensions\":[{\"axis\":{\"matches\":true},\"label\":\"mv_usd\",\"values\":[34702992.0]},{\"axis\":{\"matches\":true},\"label\":\"gdp_usd\",\"values\":[487227339102.7]},{\"axis\":{\"matches\":true},\"label\":\"bmi\",\"values\":[27.8]},{\"axis\":{\"matches\":true},\"label\":\"life_exp\",\"values\":[75.39]},{\"axis\":{\"matches\":true},\"label\":\"qol\",\"values\":[55.0]},{\"axis\":{\"matches\":true},\"label\":\"power_rating\",\"values\":[0.71875]}],\"hovertemplate\":\"country_name=Argentina<br>%{xaxis.title.text}=%{x}<br>%{yaxis.title.text}=%{y}<extra></extra>\",\"legendgroup\":\"Argentina\",\"marker\":{\"color\":\"#B6E880\",\"symbol\":\"circle\"},\"name\":\"Argentina\",\"showlegend\":true,\"type\":\"splom\"},{\"dimensions\":[{\"axis\":{\"matches\":true},\"label\":\"mv_usd\",\"values\":[1707480.0]},{\"axis\":{\"matches\":true},\"label\":\"gdp_usd\",\"values\":[13861409968.8]},{\"axis\":{\"matches\":true},\"label\":\"bmi\",\"values\":[25.6]},{\"axis\":{\"matches\":true},\"label\":\"life_exp\",\"values\":[72.043]},{\"axis\":{\"matches\":true},\"label\":\"qol\",\"values\":[52.0]},{\"axis\":{\"matches\":true},\"label\":\"power_rating\",\"values\":[0.0]}],\"hovertemplate\":\"country_name=Armenia<br>%{xaxis.title.text}=%{x}<br>%{yaxis.title.text}=%{y}<extra></extra>\",\"legendgroup\":\"Armenia\",\"marker\":{\"color\":\"#FF97FF\",\"symbol\":\"circle\"},\"name\":\"Armenia\",\"showlegend\":true,\"type\":\"splom\"},{\"dimensions\":[{\"axis\":{\"matches\":true},\"label\":\"mv_usd\",\"values\":[0.0]},{\"axis\":{\"matches\":true},\"label\":\"gdp_usd\",\"values\":[3126019399.1]},{\"axis\":{\"matches\":true},\"label\":\"bmi\",\"values\":[0.0]},{\"axis\":{\"matches\":true},\"label\":\"life_exp\",\"values\":[74.626]},{\"axis\":{\"matches\":true},\"label\":\"qol\",\"values\":[0.0]},{\"axis\":{\"matches\":true},\"label\":\"power_rating\",\"values\":[0.0]}],\"hovertemplate\":\"country_name=Aruba<br>%{xaxis.title.text}=%{x}<br>%{yaxis.title.text}=%{y}<extra></extra>\",\"legendgroup\":\"Aruba\",\"marker\":{\"color\":\"#FECB52\",\"symbol\":\"circle\"},\"name\":\"Aruba\",\"showlegend\":true,\"type\":\"splom\"},{\"dimensions\":[{\"axis\":{\"matches\":true},\"label\":\"mv_usd\",\"values\":[4021056.0000000005]},{\"axis\":{\"matches\":true},\"label\":\"gdp_usd\",\"values\":[1552667363236.1]},{\"axis\":{\"matches\":true},\"label\":\"bmi\",\"values\":[27.8]},{\"axis\":{\"matches\":true},\"label\":\"life_exp\",\"values\":[83.3]},{\"axis\":{\"matches\":true},\"label\":\"qol\",\"values\":[75.0]},{\"axis\":{\"matches\":true},\"label\":\"power_rating\",\"values\":[0.40625]}],\"hovertemplate\":\"country_name=Australia<br>%{xaxis.title.text}=%{x}<br>%{yaxis.title.text}=%{y}<extra></extra>\",\"legendgroup\":\"Australia\",\"marker\":{\"color\":\"#636efa\",\"symbol\":\"circle\"},\"name\":\"Australia\",\"showlegend\":true,\"type\":\"splom\"},{\"dimensions\":[{\"axis\":{\"matches\":true},\"label\":\"mv_usd\",\"values\":[21712320.0]},{\"axis\":{\"matches\":true},\"label\":\"gdp_usd\",\"values\":[480368403893.4]},{\"axis\":{\"matches\":true},\"label\":\"bmi\",\"values\":[26.8]},{\"axis\":{\"matches\":true},\"label\":\"life_exp\",\"values\":[81.23902439]},{\"axis\":{\"matches\":true},\"label\":\"qol\",\"values\":[69.0]},{\"axis\":{\"matches\":true},\"label\":\"power_rating\",\"values\":[0.0]}],\"hovertemplate\":\"country_name=Austria<br>%{xaxis.title.text}=%{x}<br>%{yaxis.title.text}=%{y}<extra></extra>\",\"legendgroup\":\"Austria\",\"marker\":{\"color\":\"#EF553B\",\"symbol\":\"circle\"},\"name\":\"Austria\",\"showlegend\":true,\"type\":\"splom\"},{\"dimensions\":[{\"axis\":{\"matches\":true},\"label\":\"mv_usd\",\"values\":[3131784.0]},{\"axis\":{\"matches\":true},\"label\":\"gdp_usd\",\"values\":[54622176470.6]},{\"axis\":{\"matches\":true},\"label\":\"bmi\",\"values\":[26.1]},{\"axis\":{\"matches\":true},\"label\":\"life_exp\",\"values\":[69.366]},{\"axis\":{\"matches\":true},\"label\":\"qol\",\"values\":[46.0]},{\"axis\":{\"matches\":true},\"label\":\"power_rating\",\"values\":[0.0]}],\"hovertemplate\":\"country_name=Azerbaijan<br>%{xaxis.title.text}=%{x}<br>%{yaxis.title.text}=%{y}<extra></extra>\",\"legendgroup\":\"Azerbaijan\",\"marker\":{\"color\":\"#00cc96\",\"symbol\":\"circle\"},\"name\":\"Azerbaijan\",\"showlegend\":true,\"type\":\"splom\"},{\"dimensions\":[{\"axis\":{\"matches\":true},\"label\":\"mv_usd\",\"values\":[461376.00000000006]},{\"axis\":{\"matches\":true},\"label\":\"gdp_usd\",\"values\":[38868663031.9]},{\"axis\":{\"matches\":true},\"label\":\"bmi\",\"values\":[25.0]},{\"axis\":{\"matches\":true},\"label\":\"life_exp\",\"values\":[78.76]},{\"axis\":{\"matches\":true},\"label\":\"qol\",\"values\":[59.0]},{\"axis\":{\"matches\":true},\"label\":\"power_rating\",\"values\":[0.0]}],\"hovertemplate\":\"country_name=Bahrain<br>%{xaxis.title.text}=%{x}<br>%{yaxis.title.text}=%{y}<extra></extra>\",\"legendgroup\":\"Bahrain\",\"marker\":{\"color\":\"#ab63fa\",\"symbol\":\"circle\"},\"name\":\"Bahrain\",\"showlegend\":true,\"type\":\"splom\"},{\"dimensions\":[{\"axis\":{\"matches\":true},\"label\":\"mv_usd\",\"values\":[1019952.0000000001]},{\"axis\":{\"matches\":true},\"label\":\"gdp_usd\",\"values\":[416264942893.3]},{\"axis\":{\"matches\":true},\"label\":\"bmi\",\"values\":[21.3]},{\"axis\":{\"matches\":true},\"label\":\"life_exp\",\"values\":[72.381]},{\"axis\":{\"matches\":true},\"label\":\"qol\",\"values\":[46.0]},{\"axis\":{\"matches\":true},\"label\":\"power_rating\",\"values\":[0.0]}],\"hovertemplate\":\"country_name=Bangladesh<br>%{xaxis.title.text}=%{x}<br>%{yaxis.title.text}=%{y}<extra></extra>\",\"legendgroup\":\"Bangladesh\",\"marker\":{\"color\":\"#FFA15A\",\"symbol\":\"circle\"},\"name\":\"Bangladesh\",\"showlegend\":true,\"type\":\"splom\"},{\"dimensions\":[{\"axis\":{\"matches\":true},\"label\":\"mv_usd\",\"values\":[0.0]},{\"axis\":{\"matches\":true},\"label\":\"gdp_usd\",\"values\":[4843800000.0]},{\"axis\":{\"matches\":true},\"label\":\"bmi\",\"values\":[26.5]},{\"axis\":{\"matches\":true},\"label\":\"life_exp\",\"values\":[77.571]},{\"axis\":{\"matches\":true},\"label\":\"qol\",\"values\":[0.0]},{\"axis\":{\"matches\":true},\"label\":\"power_rating\",\"values\":[0.0]}],\"hovertemplate\":\"country_name=Barbados<br>%{xaxis.title.text}=%{x}<br>%{yaxis.title.text}=%{y}<extra></extra>\",\"legendgroup\":\"Barbados\",\"marker\":{\"color\":\"#19d3f3\",\"symbol\":\"circle\"},\"name\":\"Barbados\",\"showlegend\":true,\"type\":\"splom\"},{\"dimensions\":[{\"axis\":{\"matches\":true},\"label\":\"mv_usd\",\"values\":[2987280.0]},{\"axis\":{\"matches\":true},\"label\":\"gdp_usd\",\"values\":[68205380706.7]},{\"axis\":{\"matches\":true},\"label\":\"bmi\",\"values\":[26.7]},{\"axis\":{\"matches\":true},\"label\":\"life_exp\",\"values\":[72.37068293]},{\"axis\":{\"matches\":true},\"label\":\"qol\",\"values\":[43.0]},{\"axis\":{\"matches\":true},\"label\":\"power_rating\",\"values\":[0.0]}],\"hovertemplate\":\"country_name=Belarus<br>%{xaxis.title.text}=%{x}<br>%{yaxis.title.text}=%{y}<extra></extra>\",\"legendgroup\":\"Belarus\",\"marker\":{\"color\":\"#FF6692\",\"symbol\":\"circle\"},\"name\":\"Belarus\",\"showlegend\":true,\"type\":\"splom\"},{\"dimensions\":[{\"axis\":{\"matches\":true},\"label\":\"mv_usd\",\"values\":[40390704.0]},{\"axis\":{\"matches\":true},\"label\":\"gdp_usd\",\"values\":[594104177539.5]},{\"axis\":{\"matches\":true},\"label\":\"bmi\",\"values\":[27.0]},{\"axis\":{\"matches\":true},\"label\":\"life_exp\",\"values\":[81.8902439]},{\"axis\":{\"matches\":true},\"label\":\"qol\",\"values\":[63.0]},{\"axis\":{\"matches\":true},\"label\":\"power_rating\",\"values\":[0.625]}],\"hovertemplate\":\"country_name=Belgium<br>%{xaxis.title.text}=%{x}<br>%{yaxis.title.text}=%{y}<extra></extra>\",\"legendgroup\":\"Belgium\",\"marker\":{\"color\":\"#B6E880\",\"symbol\":\"circle\"},\"name\":\"Belgium\",\"showlegend\":true,\"type\":\"splom\"},{\"dimensions\":[{\"axis\":{\"matches\":true},\"label\":\"mv_usd\",\"values\":[8640.0]},{\"axis\":{\"matches\":true},\"label\":\"gdp_usd\",\"values\":[2491500000.0]},{\"axis\":{\"matches\":true},\"label\":\"bmi\",\"values\":[27.5]},{\"axis\":{\"matches\":true},\"label\":\"life_exp\",\"values\":[70.47]},{\"axis\":{\"matches\":true},\"label\":\"qol\",\"values\":[0.0]},{\"axis\":{\"matches\":true},\"label\":\"power_rating\",\"values\":[0.0]}],\"hovertemplate\":\"country_name=Belize<br>%{xaxis.title.text}=%{x}<br>%{yaxis.title.text}=%{y}<extra></extra>\",\"legendgroup\":\"Belize\",\"marker\":{\"color\":\"#FF97FF\",\"symbol\":\"circle\"},\"name\":\"Belize\",\"showlegend\":true,\"type\":\"splom\"},{\"dimensions\":[{\"axis\":{\"matches\":true},\"label\":\"mv_usd\",\"values\":[11880.0]},{\"axis\":{\"matches\":true},\"label\":\"gdp_usd\",\"values\":[17144918952.5]},{\"axis\":{\"matches\":true},\"label\":\"bmi\",\"values\":[22.4]},{\"axis\":{\"matches\":true},\"label\":\"life_exp\",\"values\":[59.821]},{\"axis\":{\"matches\":true},\"label\":\"qol\",\"values\":[0.0]},{\"axis\":{\"matches\":true},\"label\":\"power_rating\",\"values\":[0.0]}],\"hovertemplate\":\"country_name=Benin<br>%{xaxis.title.text}=%{x}<br>%{yaxis.title.text}=%{y}<extra></extra>\",\"legendgroup\":\"Benin\",\"marker\":{\"color\":\"#FECB52\",\"symbol\":\"circle\"},\"name\":\"Benin\",\"showlegend\":true,\"type\":\"splom\"},{\"dimensions\":[{\"axis\":{\"matches\":true},\"label\":\"mv_usd\",\"values\":[0.0]},{\"axis\":{\"matches\":true},\"label\":\"gdp_usd\",\"values\":[7286607000.0]},{\"axis\":{\"matches\":true},\"label\":\"bmi\",\"values\":[0.0]},{\"axis\":{\"matches\":true},\"label\":\"life_exp\",\"values\":[79.28]},{\"axis\":{\"matches\":true},\"label\":\"qol\",\"values\":[69.0]},{\"axis\":{\"matches\":true},\"label\":\"power_rating\",\"values\":[0.0]}],\"hovertemplate\":\"country_name=Bermuda<br>%{xaxis.title.text}=%{x}<br>%{yaxis.title.text}=%{y}<extra></extra>\",\"legendgroup\":\"Bermuda\",\"marker\":{\"color\":\"#636efa\",\"symbol\":\"circle\"},\"name\":\"Bermuda\",\"showlegend\":true,\"type\":\"splom\"},{\"dimensions\":[{\"axis\":{\"matches\":true},\"label\":\"mv_usd\",\"values\":[33912.0]},{\"axis\":{\"matches\":true},\"label\":\"gdp_usd\",\"values\":[2539552984.7]},{\"axis\":{\"matches\":true},\"label\":\"bmi\",\"values\":[23.4]},{\"axis\":{\"matches\":true},\"label\":\"life_exp\",\"values\":[71.815]},{\"axis\":{\"matches\":true},\"label\":\"qol\",\"values\":[0.0]},{\"axis\":{\"matches\":true},\"label\":\"power_rating\",\"values\":[0.0]}],\"hovertemplate\":\"country_name=Bhutan<br>%{xaxis.title.text}=%{x}<br>%{yaxis.title.text}=%{y}<extra></extra>\",\"legendgroup\":\"Bhutan\",\"marker\":{\"color\":\"#EF553B\",\"symbol\":\"circle\"},\"name\":\"Bhutan\",\"showlegend\":true,\"type\":\"splom\"},{\"dimensions\":[{\"axis\":{\"matches\":true},\"label\":\"mv_usd\",\"values\":[5390712.0]},{\"axis\":{\"matches\":true},\"label\":\"gdp_usd\",\"values\":[40408208528.2]},{\"axis\":{\"matches\":true},\"label\":\"bmi\",\"values\":[0.0]},{\"axis\":{\"matches\":true},\"label\":\"life_exp\",\"values\":[63.63]},{\"axis\":{\"matches\":true},\"label\":\"qol\",\"values\":[50.0]},{\"axis\":{\"matches\":true},\"label\":\"power_rating\",\"values\":[0.0]}],\"hovertemplate\":\"country_name=Bolivia<br>%{xaxis.title.text}=%{x}<br>%{yaxis.title.text}=%{y}<extra></extra>\",\"legendgroup\":\"Bolivia\",\"marker\":{\"color\":\"#00cc96\",\"symbol\":\"circle\"},\"name\":\"Bolivia\",\"showlegend\":true,\"type\":\"splom\"},{\"dimensions\":[{\"axis\":{\"matches\":true},\"label\":\"mv_usd\",\"values\":[63863424.00000001]},{\"axis\":{\"matches\":true},\"label\":\"gdp_usd\",\"values\":[1608981456325.1]},{\"axis\":{\"matches\":true},\"label\":\"bmi\",\"values\":[26.3]},{\"axis\":{\"matches\":true},\"label\":\"life_exp\",\"values\":[72.75]},{\"axis\":{\"matches\":true},\"label\":\"qol\",\"values\":[48.0]},{\"axis\":{\"matches\":true},\"label\":\"power_rating\",\"values\":[0.796875]}],\"hovertemplate\":\"country_name=Brazil<br>%{xaxis.title.text}=%{x}<br>%{yaxis.title.text}=%{y}<extra></extra>\",\"legendgroup\":\"Brazil\",\"marker\":{\"color\":\"#ab63fa\",\"symbol\":\"circle\"},\"name\":\"Brazil\",\"showlegend\":true,\"type\":\"splom\"},{\"dimensions\":[{\"axis\":{\"matches\":true},\"label\":\"mv_usd\",\"values\":[132192.0]},{\"axis\":{\"matches\":true},\"label\":\"gdp_usd\",\"values\":[14006569575.7]},{\"axis\":{\"matches\":true},\"label\":\"bmi\",\"values\":[27.4]},{\"axis\":{\"matches\":true},\"label\":\"life_exp\",\"values\":[74.642]},{\"axis\":{\"matches\":true},\"label\":\"qol\",\"values\":[0.0]},{\"axis\":{\"matches\":true},\"label\":\"power_rating\",\"values\":[0.0]}],\"hovertemplate\":\"country_name=Brunei Darussalam<br>%{xaxis.title.text}=%{x}<br>%{yaxis.title.text}=%{y}<extra></extra>\",\"legendgroup\":\"Brunei Darussalam\",\"marker\":{\"color\":\"#FFA15A\",\"symbol\":\"circle\"},\"name\":\"Brunei Darussalam\",\"showlegend\":true,\"type\":\"splom\"},{\"dimensions\":[{\"axis\":{\"matches\":true},\"label\":\"mv_usd\",\"values\":[7717248.000000001]},{\"axis\":{\"matches\":true},\"label\":\"gdp_usd\",\"values\":[84056312734.3]},{\"axis\":{\"matches\":true},\"label\":\"bmi\",\"values\":[27.5]},{\"axis\":{\"matches\":true},\"label\":\"life_exp\",\"values\":[71.51463415]},{\"axis\":{\"matches\":true},\"label\":\"qol\",\"values\":[60.0]},{\"axis\":{\"matches\":true},\"label\":\"power_rating\",\"values\":[0.0]}],\"hovertemplate\":\"country_name=Bulgaria<br>%{xaxis.title.text}=%{x}<br>%{yaxis.title.text}=%{y}<extra></extra>\",\"legendgroup\":\"Bulgaria\",\"marker\":{\"color\":\"#19d3f3\",\"symbol\":\"circle\"},\"name\":\"Bulgaria\",\"showlegend\":true,\"type\":\"splom\"},{\"dimensions\":[{\"axis\":{\"matches\":true},\"label\":\"mv_usd\",\"values\":[14040.000000000002]},{\"axis\":{\"matches\":true},\"label\":\"gdp_usd\",\"values\":[19737615114.4]},{\"axis\":{\"matches\":true},\"label\":\"bmi\",\"values\":[22.2]},{\"axis\":{\"matches\":true},\"label\":\"life_exp\",\"values\":[59.27]},{\"axis\":{\"matches\":true},\"label\":\"qol\",\"values\":[0.0]},{\"axis\":{\"matches\":true},\"label\":\"power_rating\",\"values\":[0.0]}],\"hovertemplate\":\"country_name=Burkina Faso<br>%{xaxis.title.text}=%{x}<br>%{yaxis.title.text}=%{y}<extra></extra>\",\"legendgroup\":\"Burkina Faso\",\"marker\":{\"color\":\"#FF6692\",\"symbol\":\"circle\"},\"name\":\"Burkina Faso\",\"showlegend\":true,\"type\":\"splom\"},{\"dimensions\":[{\"axis\":{\"matches\":true},\"label\":\"mv_usd\",\"values\":[12960.0]},{\"axis\":{\"matches\":true},\"label\":\"gdp_usd\",\"values\":[2779813489.0]},{\"axis\":{\"matches\":true},\"label\":\"bmi\",\"values\":[21.6]},{\"axis\":{\"matches\":true},\"label\":\"life_exp\",\"values\":[61.663]},{\"axis\":{\"matches\":true},\"label\":\"qol\",\"values\":[41.0]},{\"axis\":{\"matches\":true},\"label\":\"power_rating\",\"values\":[0.0]}],\"hovertemplate\":\"country_name=Burundi<br>%{xaxis.title.text}=%{x}<br>%{yaxis.title.text}=%{y}<extra></extra>\",\"legendgroup\":\"Burundi\",\"marker\":{\"color\":\"#B6E880\",\"symbol\":\"circle\"},\"name\":\"Burundi\",\"showlegend\":true,\"type\":\"splom\"},{\"dimensions\":[{\"axis\":{\"matches\":true},\"label\":\"mv_usd\",\"values\":[110160.0]},{\"axis\":{\"matches\":true},\"label\":\"gdp_usd\",\"values\":[26961061119.8]},{\"axis\":{\"matches\":true},\"label\":\"bmi\",\"values\":[22.0]},{\"axis\":{\"matches\":true},\"label\":\"life_exp\",\"values\":[69.584]},{\"axis\":{\"matches\":true},\"label\":\"qol\",\"values\":[45.0]},{\"axis\":{\"matches\":true},\"label\":\"power_rating\",\"values\":[0.0]}],\"hovertemplate\":\"country_name=Cambodia<br>%{xaxis.title.text}=%{x}<br>%{yaxis.title.text}=%{y}<extra></extra>\",\"legendgroup\":\"Cambodia\",\"marker\":{\"color\":\"#FF97FF\",\"symbol\":\"circle\"},\"name\":\"Cambodia\",\"showlegend\":true,\"type\":\"splom\"},{\"dimensions\":[{\"axis\":{\"matches\":true},\"label\":\"mv_usd\",\"values\":[11880.0]},{\"axis\":{\"matches\":true},\"label\":\"gdp_usd\",\"values\":[45338283344.8]},{\"axis\":{\"matches\":true},\"label\":\"bmi\",\"values\":[23.3]},{\"axis\":{\"matches\":true},\"label\":\"life_exp\",\"values\":[60.333]},{\"axis\":{\"matches\":true},\"label\":\"qol\",\"values\":[0.0]},{\"axis\":{\"matches\":true},\"label\":\"power_rating\",\"values\":[0.203125]}],\"hovertemplate\":\"country_name=Cameroon<br>%{xaxis.title.text}=%{x}<br>%{yaxis.title.text}=%{y}<extra></extra>\",\"legendgroup\":\"Cameroon\",\"marker\":{\"color\":\"#FECB52\",\"symbol\":\"circle\"},\"name\":\"Cameroon\",\"showlegend\":true,\"type\":\"splom\"},{\"dimensions\":[{\"axis\":{\"matches\":true},\"label\":\"mv_usd\",\"values\":[6015816.0]},{\"axis\":{\"matches\":true},\"label\":\"gdp_usd\",\"values\":[1988336331717.4]},{\"axis\":{\"matches\":true},\"label\":\"bmi\",\"values\":[27.6]},{\"axis\":{\"matches\":true},\"label\":\"life_exp\",\"values\":[82.59660976]},{\"axis\":{\"matches\":true},\"label\":\"qol\",\"values\":[68.0]},{\"axis\":{\"matches\":true},\"label\":\"power_rating\",\"values\":[0.0]}],\"hovertemplate\":\"country_name=Canada<br>%{xaxis.title.text}=%{x}<br>%{yaxis.title.text}=%{y}<extra></extra>\",\"legendgroup\":\"Canada\",\"marker\":{\"color\":\"#636efa\",\"symbol\":\"circle\"},\"name\":\"Canada\",\"showlegend\":true,\"type\":\"splom\"},{\"dimensions\":[{\"axis\":{\"matches\":true},\"label\":\"mv_usd\",\"values\":[0.0]},{\"axis\":{\"matches\":true},\"label\":\"gdp_usd\",\"values\":[5898449688.0]},{\"axis\":{\"matches\":true},\"label\":\"bmi\",\"values\":[0.0]},{\"axis\":{\"matches\":true},\"label\":\"life_exp\",\"values\":[0.0]},{\"axis\":{\"matches\":true},\"label\":\"qol\",\"values\":[0.0]},{\"axis\":{\"matches\":true},\"label\":\"power_rating\",\"values\":[0.0]}],\"hovertemplate\":\"country_name=Cayman Islands<br>%{xaxis.title.text}=%{x}<br>%{yaxis.title.text}=%{y}<extra></extra>\",\"legendgroup\":\"Cayman Islands\",\"marker\":{\"color\":\"#EF553B\",\"symbol\":\"circle\"},\"name\":\"Cayman Islands\",\"showlegend\":true,\"type\":\"splom\"},{\"dimensions\":[{\"axis\":{\"matches\":true},\"label\":\"mv_usd\",\"values\":[0.0]},{\"axis\":{\"matches\":true},\"label\":\"gdp_usd\",\"values\":[2516498299.0]},{\"axis\":{\"matches\":true},\"label\":\"bmi\",\"values\":[21.7]},{\"axis\":{\"matches\":true},\"label\":\"life_exp\",\"values\":[0.0]},{\"axis\":{\"matches\":true},\"label\":\"qol\",\"values\":[0.0]},{\"axis\":{\"matches\":true},\"label\":\"power_rating\",\"values\":[0.0]}],\"hovertemplate\":\"country_name=Central African Republic<br>%{xaxis.title.text}=%{x}<br>%{yaxis.title.text}=%{y}<extra></extra>\",\"legendgroup\":\"Central African Republic\",\"marker\":{\"color\":\"#00cc96\",\"symbol\":\"circle\"},\"name\":\"Central African Republic\",\"showlegend\":true,\"type\":\"splom\"},{\"dimensions\":[{\"axis\":{\"matches\":true},\"label\":\"mv_usd\",\"values\":[21600.0]},{\"axis\":{\"matches\":true},\"label\":\"gdp_usd\",\"values\":[11779980801.8]},{\"axis\":{\"matches\":true},\"label\":\"bmi\",\"values\":[21.3]},{\"axis\":{\"matches\":true},\"label\":\"life_exp\",\"values\":[52.525]},{\"axis\":{\"matches\":true},\"label\":\"qol\",\"values\":[34.0]},{\"axis\":{\"matches\":true},\"label\":\"power_rating\",\"values\":[0.0]}],\"hovertemplate\":\"country_name=Chad<br>%{xaxis.title.text}=%{x}<br>%{yaxis.title.text}=%{y}<extra></extra>\",\"legendgroup\":\"Chad\",\"marker\":{\"color\":\"#ab63fa\",\"symbol\":\"circle\"},\"name\":\"Chad\",\"showlegend\":true,\"type\":\"splom\"},{\"dimensions\":[{\"axis\":{\"matches\":true},\"label\":\"mv_usd\",\"values\":[9310464.0]},{\"axis\":{\"matches\":true},\"label\":\"gdp_usd\",\"values\":[317058508651.8]},{\"axis\":{\"matches\":true},\"label\":\"bmi\",\"values\":[27.9]},{\"axis\":{\"matches\":true},\"label\":\"life_exp\",\"values\":[78.944]},{\"axis\":{\"matches\":true},\"label\":\"qol\",\"values\":[60.0]},{\"axis\":{\"matches\":true},\"label\":\"power_rating\",\"values\":[0.0]}],\"hovertemplate\":\"country_name=Chile<br>%{xaxis.title.text}=%{x}<br>%{yaxis.title.text}=%{y}<extra></extra>\",\"legendgroup\":\"Chile\",\"marker\":{\"color\":\"#FFA15A\",\"symbol\":\"circle\"},\"name\":\"Chile\",\"showlegend\":true,\"type\":\"splom\"},{\"dimensions\":[{\"axis\":{\"matches\":true},\"label\":\"mv_usd\",\"values\":[7871040.000000001]},{\"axis\":{\"matches\":true},\"label\":\"gdp_usd\",\"values\":[17734062645371.4]},{\"axis\":{\"matches\":true},\"label\":\"bmi\",\"values\":[24.3]},{\"axis\":{\"matches\":true},\"label\":\"life_exp\",\"values\":[78.211]},{\"axis\":{\"matches\":true},\"label\":\"qol\",\"values\":[57.0]},{\"axis\":{\"matches\":true},\"label\":\"power_rating\",\"values\":[0.0]}],\"hovertemplate\":\"country_name=China<br>%{xaxis.title.text}=%{x}<br>%{yaxis.title.text}=%{y}<extra></extra>\",\"legendgroup\":\"China\",\"marker\":{\"color\":\"#19d3f3\",\"symbol\":\"circle\"},\"name\":\"China\",\"showlegend\":true,\"type\":\"splom\"},{\"dimensions\":[{\"axis\":{\"matches\":true},\"label\":\"mv_usd\",\"values\":[10539504.0]},{\"axis\":{\"matches\":true},\"label\":\"gdp_usd\",\"values\":[314464137241.3]},{\"axis\":{\"matches\":true},\"label\":\"bmi\",\"values\":[25.8]},{\"axis\":{\"matches\":true},\"label\":\"life_exp\",\"values\":[72.83]},{\"axis\":{\"matches\":true},\"label\":\"qol\",\"values\":[45.0]},{\"axis\":{\"matches\":true},\"label\":\"power_rating\",\"values\":[0.359375]}],\"hovertemplate\":\"country_name=Colombia<br>%{xaxis.title.text}=%{x}<br>%{yaxis.title.text}=%{y}<extra></extra>\",\"legendgroup\":\"Colombia\",\"marker\":{\"color\":\"#FF6692\",\"symbol\":\"circle\"},\"name\":\"Colombia\",\"showlegend\":true,\"type\":\"splom\"},{\"dimensions\":[{\"axis\":{\"matches\":true},\"label\":\"mv_usd\",\"values\":[0.0]},{\"axis\":{\"matches\":true},\"label\":\"gdp_usd\",\"values\":[1296089632.6]},{\"axis\":{\"matches\":true},\"label\":\"bmi\",\"values\":[23.2]},{\"axis\":{\"matches\":true},\"label\":\"life_exp\",\"values\":[63.417]},{\"axis\":{\"matches\":true},\"label\":\"qol\",\"values\":[0.0]},{\"axis\":{\"matches\":true},\"label\":\"power_rating\",\"values\":[0.0]}],\"hovertemplate\":\"country_name=Comoros<br>%{xaxis.title.text}=%{x}<br>%{yaxis.title.text}=%{y}<extra></extra>\",\"legendgroup\":\"Comoros\",\"marker\":{\"color\":\"#B6E880\",\"symbol\":\"circle\"},\"name\":\"Comoros\",\"showlegend\":true,\"type\":\"splom\"},{\"dimensions\":[{\"axis\":{\"matches\":true},\"label\":\"mv_usd\",\"values\":[1948104.0000000002]},{\"axis\":{\"matches\":true},\"label\":\"gdp_usd\",\"values\":[64282438666.7]},{\"axis\":{\"matches\":true},\"label\":\"bmi\",\"values\":[26.8]},{\"axis\":{\"matches\":true},\"label\":\"life_exp\",\"values\":[77.023]},{\"axis\":{\"matches\":true},\"label\":\"qol\",\"values\":[57.0]},{\"axis\":{\"matches\":true},\"label\":\"power_rating\",\"values\":[0.0]}],\"hovertemplate\":\"country_name=Costa Rica<br>%{xaxis.title.text}=%{x}<br>%{yaxis.title.text}=%{y}<extra></extra>\",\"legendgroup\":\"Costa Rica\",\"marker\":{\"color\":\"#FF97FF\",\"symbol\":\"circle\"},\"name\":\"Costa Rica\",\"showlegend\":true,\"type\":\"splom\"},{\"dimensions\":[{\"axis\":{\"matches\":true},\"label\":\"mv_usd\",\"values\":[12373776.0]},{\"axis\":{\"matches\":true},\"label\":\"gdp_usd\",\"values\":[68955083280.2]},{\"axis\":{\"matches\":true},\"label\":\"bmi\",\"values\":[28.4]},{\"axis\":{\"matches\":true},\"label\":\"life_exp\",\"values\":[76.42439024]},{\"axis\":{\"matches\":true},\"label\":\"qol\",\"values\":[64.0]},{\"axis\":{\"matches\":true},\"label\":\"power_rating\",\"values\":[0.890625]}],\"hovertemplate\":\"country_name=Croatia<br>%{xaxis.title.text}=%{x}<br>%{yaxis.title.text}=%{y}<extra></extra>\",\"legendgroup\":\"Croatia\",\"marker\":{\"color\":\"#FECB52\",\"symbol\":\"circle\"},\"name\":\"Croatia\",\"showlegend\":true,\"type\":\"splom\"},{\"dimensions\":[{\"axis\":{\"matches\":true},\"label\":\"mv_usd\",\"values\":[0.0]},{\"axis\":{\"matches\":true},\"label\":\"gdp_usd\",\"values\":[2699612458.1]},{\"axis\":{\"matches\":true},\"label\":\"bmi\",\"values\":[0.0]},{\"axis\":{\"matches\":true},\"label\":\"life_exp\",\"values\":[0.0]},{\"axis\":{\"matches\":true},\"label\":\"qol\",\"values\":[0.0]},{\"axis\":{\"matches\":true},\"label\":\"power_rating\",\"values\":[0.0]}],\"hovertemplate\":\"country_name=Curacao<br>%{xaxis.title.text}=%{x}<br>%{yaxis.title.text}=%{y}<extra></extra>\",\"legendgroup\":\"Curacao\",\"marker\":{\"color\":\"#636efa\",\"symbol\":\"circle\"},\"name\":\"Curacao\",\"showlegend\":true,\"type\":\"splom\"},{\"dimensions\":[{\"axis\":{\"matches\":true},\"label\":\"mv_usd\",\"values\":[6401592.0]},{\"axis\":{\"matches\":true},\"label\":\"gdp_usd\",\"values\":[28407867534.0]},{\"axis\":{\"matches\":true},\"label\":\"bmi\",\"values\":[27.7]},{\"axis\":{\"matches\":true},\"label\":\"life_exp\",\"values\":[81.203]},{\"axis\":{\"matches\":true},\"label\":\"qol\",\"values\":[67.0]},{\"axis\":{\"matches\":true},\"label\":\"power_rating\",\"values\":[0.0]}],\"hovertemplate\":\"country_name=Cyprus<br>%{xaxis.title.text}=%{x}<br>%{yaxis.title.text}=%{y}<extra></extra>\",\"legendgroup\":\"Cyprus\",\"marker\":{\"color\":\"#EF553B\",\"symbol\":\"circle\"},\"name\":\"Cyprus\",\"showlegend\":true,\"type\":\"splom\"},{\"dimensions\":[{\"axis\":{\"matches\":true},\"label\":\"mv_usd\",\"values\":[12856320.0]},{\"axis\":{\"matches\":true},\"label\":\"gdp_usd\",\"values\":[398303272764.5]},{\"axis\":{\"matches\":true},\"label\":\"bmi\",\"values\":[26.5]},{\"axis\":{\"matches\":true},\"label\":\"life_exp\",\"values\":[81.40487805]},{\"axis\":{\"matches\":true},\"label\":\"qol\",\"values\":[67.0]},{\"axis\":{\"matches\":true},\"label\":\"power_rating\",\"values\":[0.40625]}],\"hovertemplate\":\"country_name=Denmark<br>%{xaxis.title.text}=%{x}<br>%{yaxis.title.text}=%{y}<extra></extra>\",\"legendgroup\":\"Denmark\",\"marker\":{\"color\":\"#00cc96\",\"symbol\":\"circle\"},\"name\":\"Denmark\",\"showlegend\":true,\"type\":\"splom\"},{\"dimensions\":[{\"axis\":{\"matches\":true},\"label\":\"mv_usd\",\"values\":[44181.8181828]},{\"axis\":{\"matches\":true},\"label\":\"gdp_usd\",\"values\":[3482987379.1]},{\"axis\":{\"matches\":true},\"label\":\"bmi\",\"values\":[23.3]},{\"axis\":{\"matches\":true},\"label\":\"life_exp\",\"values\":[62.305]},{\"axis\":{\"matches\":true},\"label\":\"qol\",\"values\":[0.0]},{\"axis\":{\"matches\":true},\"label\":\"power_rating\",\"values\":[0.0]}],\"hovertemplate\":\"country_name=Djibouti<br>%{xaxis.title.text}=%{x}<br>%{yaxis.title.text}=%{y}<extra></extra>\",\"legendgroup\":\"Djibouti\",\"marker\":{\"color\":\"#ab63fa\",\"symbol\":\"circle\"},\"name\":\"Djibouti\",\"showlegend\":true,\"type\":\"splom\"},{\"dimensions\":[{\"axis\":{\"matches\":true},\"label\":\"mv_usd\",\"values\":[0.0]},{\"axis\":{\"matches\":true},\"label\":\"gdp_usd\",\"values\":[554181481.5]},{\"axis\":{\"matches\":true},\"label\":\"bmi\",\"values\":[25.0]},{\"axis\":{\"matches\":true},\"label\":\"life_exp\",\"values\":[72.814]},{\"axis\":{\"matches\":true},\"label\":\"qol\",\"values\":[0.0]},{\"axis\":{\"matches\":true},\"label\":\"power_rating\",\"values\":[0.0]}],\"hovertemplate\":\"country_name=Dominica<br>%{xaxis.title.text}=%{x}<br>%{yaxis.title.text}=%{y}<extra></extra>\",\"legendgroup\":\"Dominica\",\"marker\":{\"color\":\"#FFA15A\",\"symbol\":\"circle\"},\"name\":\"Dominica\",\"showlegend\":true,\"type\":\"splom\"},{\"dimensions\":[{\"axis\":{\"matches\":true},\"label\":\"mv_usd\",\"values\":[49248.0]},{\"axis\":{\"matches\":true},\"label\":\"gdp_usd\",\"values\":[94243453937.5]},{\"axis\":{\"matches\":true},\"label\":\"bmi\",\"values\":[25.5]},{\"axis\":{\"matches\":true},\"label\":\"life_exp\",\"values\":[72.615]},{\"axis\":{\"matches\":true},\"label\":\"qol\",\"values\":[51.0]},{\"axis\":{\"matches\":true},\"label\":\"power_rating\",\"values\":[0.0]}],\"hovertemplate\":\"country_name=Dominican Republic<br>%{xaxis.title.text}=%{x}<br>%{yaxis.title.text}=%{y}<extra></extra>\",\"legendgroup\":\"Dominican Republic\",\"marker\":{\"color\":\"#19d3f3\",\"symbol\":\"circle\"},\"name\":\"Dominican Republic\",\"showlegend\":true,\"type\":\"splom\"},{\"dimensions\":[{\"axis\":{\"matches\":true},\"label\":\"mv_usd\",\"values\":[7421976.000000001]},{\"axis\":{\"matches\":true},\"label\":\"gdp_usd\",\"values\":[106165866000.0]},{\"axis\":{\"matches\":true},\"label\":\"bmi\",\"values\":[26.5]},{\"axis\":{\"matches\":true},\"label\":\"life_exp\",\"values\":[73.67]},{\"axis\":{\"matches\":true},\"label\":\"qol\",\"values\":[53.0]},{\"axis\":{\"matches\":true},\"label\":\"power_rating\",\"values\":[0.234375]}],\"hovertemplate\":\"country_name=Ecuador<br>%{xaxis.title.text}=%{x}<br>%{yaxis.title.text}=%{y}<extra></extra>\",\"legendgroup\":\"Ecuador\",\"marker\":{\"color\":\"#FF6692\",\"symbol\":\"circle\"},\"name\":\"Ecuador\",\"showlegend\":true,\"type\":\"splom\"},{\"dimensions\":[{\"axis\":{\"matches\":true},\"label\":\"mv_usd\",\"values\":[1248480.0]},{\"axis\":{\"matches\":true},\"label\":\"gdp_usd\",\"values\":[28736940000.0]},{\"axis\":{\"matches\":true},\"label\":\"bmi\",\"values\":[26.6]},{\"axis\":{\"matches\":true},\"label\":\"life_exp\",\"values\":[70.748]},{\"axis\":{\"matches\":true},\"label\":\"qol\",\"values\":[45.0]},{\"axis\":{\"matches\":true},\"label\":\"power_rating\",\"values\":[0.0]}],\"hovertemplate\":\"country_name=El Salvador<br>%{xaxis.title.text}=%{x}<br>%{yaxis.title.text}=%{y}<extra></extra>\",\"legendgroup\":\"El Salvador\",\"marker\":{\"color\":\"#B6E880\",\"symbol\":\"circle\"},\"name\":\"El Salvador\",\"showlegend\":true,\"type\":\"splom\"},{\"dimensions\":[{\"axis\":{\"matches\":true},\"label\":\"mv_usd\",\"values\":[8999.999999640002]},{\"axis\":{\"matches\":true},\"label\":\"gdp_usd\",\"values\":[12269392839.8]},{\"axis\":{\"matches\":true},\"label\":\"bmi\",\"values\":[22.2]},{\"axis\":{\"matches\":true},\"label\":\"life_exp\",\"values\":[60.594]},{\"axis\":{\"matches\":true},\"label\":\"qol\",\"values\":[0.0]},{\"axis\":{\"matches\":true},\"label\":\"power_rating\",\"values\":[0.0]}],\"hovertemplate\":\"country_name=Equatorial Guinea<br>%{xaxis.title.text}=%{x}<br>%{yaxis.title.text}=%{y}<extra></extra>\",\"legendgroup\":\"Equatorial Guinea\",\"marker\":{\"color\":\"#FF97FF\",\"symbol\":\"circle\"},\"name\":\"Equatorial Guinea\",\"showlegend\":true,\"type\":\"splom\"},{\"dimensions\":[{\"axis\":{\"matches\":true},\"label\":\"mv_usd\",\"values\":[1054944.0]},{\"axis\":{\"matches\":true},\"label\":\"gdp_usd\",\"values\":[37191166152.0]},{\"axis\":{\"matches\":true},\"label\":\"bmi\",\"values\":[27.2]},{\"axis\":{\"matches\":true},\"label\":\"life_exp\",\"values\":[76.74146341]},{\"axis\":{\"matches\":true},\"label\":\"qol\",\"values\":[61.0]},{\"axis\":{\"matches\":true},\"label\":\"power_rating\",\"values\":[0.0]}],\"hovertemplate\":\"country_name=Estonia<br>%{xaxis.title.text}=%{x}<br>%{yaxis.title.text}=%{y}<extra></extra>\",\"legendgroup\":\"Estonia\",\"marker\":{\"color\":\"#FECB52\",\"symbol\":\"circle\"},\"name\":\"Estonia\",\"showlegend\":true,\"type\":\"splom\"},{\"dimensions\":[{\"axis\":{\"matches\":true},\"label\":\"mv_usd\",\"values\":[8999.999999640002]},{\"axis\":{\"matches\":true},\"label\":\"gdp_usd\",\"values\":[4743335152.9]},{\"axis\":{\"matches\":true},\"label\":\"bmi\",\"values\":[23.9]},{\"axis\":{\"matches\":true},\"label\":\"life_exp\",\"values\":[57.066]},{\"axis\":{\"matches\":true},\"label\":\"qol\",\"values\":[0.0]},{\"axis\":{\"matches\":true},\"label\":\"power_rating\",\"values\":[0.0]}],\"hovertemplate\":\"country_name=Eswatini<br>%{xaxis.title.text}=%{x}<br>%{yaxis.title.text}=%{y}<extra></extra>\",\"legendgroup\":\"Eswatini\",\"marker\":{\"color\":\"#636efa\",\"symbol\":\"circle\"},\"name\":\"Eswatini\",\"showlegend\":true,\"type\":\"splom\"},{\"dimensions\":[{\"axis\":{\"matches\":true},\"label\":\"mv_usd\",\"values\":[88560.0]},{\"axis\":{\"matches\":true},\"label\":\"gdp_usd\",\"values\":[111271112330.0]},{\"axis\":{\"matches\":true},\"label\":\"bmi\",\"values\":[19.9]},{\"axis\":{\"matches\":true},\"label\":\"life_exp\",\"values\":[64.975]},{\"axis\":{\"matches\":true},\"label\":\"qol\",\"values\":[41.0]},{\"axis\":{\"matches\":true},\"label\":\"power_rating\",\"values\":[0.0]}],\"hovertemplate\":\"country_name=Ethiopia<br>%{xaxis.title.text}=%{x}<br>%{yaxis.title.text}=%{y}<extra></extra>\",\"legendgroup\":\"Ethiopia\",\"marker\":{\"color\":\"#EF553B\",\"symbol\":\"circle\"},\"name\":\"Ethiopia\",\"showlegend\":true,\"type\":\"splom\"},{\"dimensions\":[{\"axis\":{\"matches\":true},\"label\":\"mv_usd\",\"values\":[559872.0]},{\"axis\":{\"matches\":true},\"label\":\"gdp_usd\",\"values\":[3649886275.1]},{\"axis\":{\"matches\":true},\"label\":\"bmi\",\"values\":[0.0]},{\"axis\":{\"matches\":true},\"label\":\"life_exp\",\"values\":[83.49756098]},{\"axis\":{\"matches\":true},\"label\":\"qol\",\"values\":[0.0]},{\"axis\":{\"matches\":true},\"label\":\"power_rating\",\"values\":[0.0]}],\"hovertemplate\":\"country_name=Faroe Islands<br>%{xaxis.title.text}=%{x}<br>%{yaxis.title.text}=%{y}<extra></extra>\",\"legendgroup\":\"Faroe Islands\",\"marker\":{\"color\":\"#00cc96\",\"symbol\":\"circle\"},\"name\":\"Faroe Islands\",\"showlegend\":true,\"type\":\"splom\"},{\"dimensions\":[{\"axis\":{\"matches\":true},\"label\":\"mv_usd\",\"values\":[664632.0]},{\"axis\":{\"matches\":true},\"label\":\"gdp_usd\",\"values\":[4296304590.0]},{\"axis\":{\"matches\":true},\"label\":\"bmi\",\"values\":[26.6]},{\"axis\":{\"matches\":true},\"label\":\"life_exp\",\"values\":[67.114]},{\"axis\":{\"matches\":true},\"label\":\"qol\",\"values\":[0.0]},{\"axis\":{\"matches\":true},\"label\":\"power_rating\",\"values\":[0.0]}],\"hovertemplate\":\"country_name=Fiji<br>%{xaxis.title.text}=%{x}<br>%{yaxis.title.text}=%{y}<extra></extra>\",\"legendgroup\":\"Fiji\",\"marker\":{\"color\":\"#ab63fa\",\"symbol\":\"circle\"},\"name\":\"Fiji\",\"showlegend\":true,\"type\":\"splom\"},{\"dimensions\":[{\"axis\":{\"matches\":true},\"label\":\"mv_usd\",\"values\":[2304936.0]},{\"axis\":{\"matches\":true},\"label\":\"gdp_usd\",\"values\":[297301883523.3]},{\"axis\":{\"matches\":true},\"label\":\"bmi\",\"values\":[26.8]},{\"axis\":{\"matches\":true},\"label\":\"life_exp\",\"values\":[81.93414634]},{\"axis\":{\"matches\":true},\"label\":\"qol\",\"values\":[68.0]},{\"axis\":{\"matches\":true},\"label\":\"power_rating\",\"values\":[0.0]}],\"hovertemplate\":\"country_name=Finland<br>%{xaxis.title.text}=%{x}<br>%{yaxis.title.text}=%{y}<extra></extra>\",\"legendgroup\":\"Finland\",\"marker\":{\"color\":\"#FFA15A\",\"symbol\":\"circle\"},\"name\":\"Finland\",\"showlegend\":true,\"type\":\"splom\"},{\"dimensions\":[{\"axis\":{\"matches\":true},\"label\":\"mv_usd\",\"values\":[148400640.0]},{\"axis\":{\"matches\":true},\"label\":\"gdp_usd\",\"values\":[2957879759263.5]},{\"axis\":{\"matches\":true},\"label\":\"bmi\",\"values\":[26.3]},{\"axis\":{\"matches\":true},\"label\":\"life_exp\",\"values\":[82.32439024]},{\"axis\":{\"matches\":true},\"label\":\"qol\",\"values\":[68.0]},{\"axis\":{\"matches\":true},\"label\":\"power_rating\",\"values\":[0.96875]}],\"hovertemplate\":\"country_name=France<br>%{xaxis.title.text}=%{x}<br>%{yaxis.title.text}=%{y}<extra></extra>\",\"legendgroup\":\"France\",\"marker\":{\"color\":\"#19d3f3\",\"symbol\":\"circle\"},\"name\":\"France\",\"showlegend\":true,\"type\":\"splom\"},{\"dimensions\":[{\"axis\":{\"matches\":true},\"label\":\"mv_usd\",\"values\":[0.0]},{\"axis\":{\"matches\":true},\"label\":\"gdp_usd\",\"values\":[20216843174.0]},{\"axis\":{\"matches\":true},\"label\":\"bmi\",\"values\":[23.7]},{\"axis\":{\"matches\":true},\"label\":\"life_exp\",\"values\":[65.821]},{\"axis\":{\"matches\":true},\"label\":\"qol\",\"values\":[0.0]},{\"axis\":{\"matches\":true},\"label\":\"power_rating\",\"values\":[0.0]}],\"hovertemplate\":\"country_name=Gabon<br>%{xaxis.title.text}=%{x}<br>%{yaxis.title.text}=%{y}<extra></extra>\",\"legendgroup\":\"Gabon\",\"marker\":{\"color\":\"#FF6692\",\"symbol\":\"circle\"},\"name\":\"Gabon\",\"showlegend\":true,\"type\":\"splom\"},{\"dimensions\":[{\"axis\":{\"matches\":true},\"label\":\"mv_usd\",\"values\":[2434968.0]},{\"axis\":{\"matches\":true},\"label\":\"gdp_usd\",\"values\":[18629365597.0]},{\"axis\":{\"matches\":true},\"label\":\"bmi\",\"values\":[27.7]},{\"axis\":{\"matches\":true},\"label\":\"life_exp\",\"values\":[71.694]},{\"axis\":{\"matches\":true},\"label\":\"qol\",\"values\":[56.0]},{\"axis\":{\"matches\":true},\"label\":\"power_rating\",\"values\":[0.0]}],\"hovertemplate\":\"country_name=Georgia<br>%{xaxis.title.text}=%{x}<br>%{yaxis.title.text}=%{y}<extra></extra>\",\"legendgroup\":\"Georgia\",\"marker\":{\"color\":\"#B6E880\",\"symbol\":\"circle\"},\"name\":\"Georgia\",\"showlegend\":true,\"type\":\"splom\"},{\"dimensions\":[{\"axis\":{\"matches\":true},\"label\":\"mv_usd\",\"values\":[195526224.0]},{\"axis\":{\"matches\":true},\"label\":\"gdp_usd\",\"values\":[4259934911821.6]},{\"axis\":{\"matches\":true},\"label\":\"bmi\",\"values\":[27.9]},{\"axis\":{\"matches\":true},\"label\":\"life_exp\",\"values\":[80.90097561]},{\"axis\":{\"matches\":true},\"label\":\"qol\",\"values\":[70.0]},{\"axis\":{\"matches\":true},\"label\":\"power_rating\",\"values\":[0.375]}],\"hovertemplate\":\"country_name=Germany<br>%{xaxis.title.text}=%{x}<br>%{yaxis.title.text}=%{y}<extra></extra>\",\"legendgroup\":\"Germany\",\"marker\":{\"color\":\"#FF97FF\",\"symbol\":\"circle\"},\"name\":\"Germany\",\"showlegend\":true,\"type\":\"splom\"},{\"dimensions\":[{\"axis\":{\"matches\":true},\"label\":\"mv_usd\",\"values\":[1398600.0]},{\"axis\":{\"matches\":true},\"label\":\"gdp_usd\",\"values\":[77594279054.9]},{\"axis\":{\"matches\":true},\"label\":\"bmi\",\"values\":[22.4]},{\"axis\":{\"matches\":true},\"label\":\"life_exp\",\"values\":[63.795]},{\"axis\":{\"matches\":true},\"label\":\"qol\",\"values\":[50.0]},{\"axis\":{\"matches\":true},\"label\":\"power_rating\",\"values\":[0.0]}],\"hovertemplate\":\"country_name=Ghana<br>%{xaxis.title.text}=%{x}<br>%{yaxis.title.text}=%{y}<extra></extra>\",\"legendgroup\":\"Ghana\",\"marker\":{\"color\":\"#FECB52\",\"symbol\":\"circle\"},\"name\":\"Ghana\",\"showlegend\":true,\"type\":\"splom\"},{\"dimensions\":[{\"axis\":{\"matches\":true},\"label\":\"mv_usd\",\"values\":[17822592.0]},{\"axis\":{\"matches\":true},\"label\":\"gdp_usd\",\"values\":[214873879833.7]},{\"axis\":{\"matches\":true},\"label\":\"bmi\",\"values\":[27.8]},{\"axis\":{\"matches\":true},\"label\":\"life_exp\",\"values\":[80.18292683]},{\"axis\":{\"matches\":true},\"label\":\"qol\",\"values\":[64.0]},{\"axis\":{\"matches\":true},\"label\":\"power_rating\",\"values\":[0.0]}],\"hovertemplate\":\"country_name=Greece<br>%{xaxis.title.text}=%{x}<br>%{yaxis.title.text}=%{y}<extra></extra>\",\"legendgroup\":\"Greece\",\"marker\":{\"color\":\"#636efa\",\"symbol\":\"circle\"},\"name\":\"Greece\",\"showlegend\":true,\"type\":\"splom\"},{\"dimensions\":[{\"axis\":{\"matches\":true},\"label\":\"mv_usd\",\"values\":[12857.142852]},{\"axis\":{\"matches\":true},\"label\":\"gdp_usd\",\"values\":[1122807407.4]},{\"axis\":{\"matches\":true},\"label\":\"bmi\",\"values\":[25.1]},{\"axis\":{\"matches\":true},\"label\":\"life_exp\",\"values\":[74.936]},{\"axis\":{\"matches\":true},\"label\":\"qol\",\"values\":[0.0]},{\"axis\":{\"matches\":true},\"label\":\"power_rating\",\"values\":[0.0]}],\"hovertemplate\":\"country_name=Grenada<br>%{xaxis.title.text}=%{x}<br>%{yaxis.title.text}=%{y}<extra></extra>\",\"legendgroup\":\"Grenada\",\"marker\":{\"color\":\"#EF553B\",\"symbol\":\"circle\"},\"name\":\"Grenada\",\"showlegend\":true,\"type\":\"splom\"},{\"dimensions\":[{\"axis\":{\"matches\":true},\"label\":\"mv_usd\",\"values\":[0.0]},{\"axis\":{\"matches\":true},\"label\":\"gdp_usd\",\"values\":[6123000000.0]},{\"axis\":{\"matches\":true},\"label\":\"bmi\",\"values\":[0.0]},{\"axis\":{\"matches\":true},\"label\":\"life_exp\",\"values\":[76.656]},{\"axis\":{\"matches\":true},\"label\":\"qol\",\"values\":[0.0]},{\"axis\":{\"matches\":true},\"label\":\"power_rating\",\"values\":[0.0]}],\"hovertemplate\":\"country_name=Guam<br>%{xaxis.title.text}=%{x}<br>%{yaxis.title.text}=%{y}<extra></extra>\",\"legendgroup\":\"Guam\",\"marker\":{\"color\":\"#00cc96\",\"symbol\":\"circle\"},\"name\":\"Guam\",\"showlegend\":true,\"type\":\"splom\"},{\"dimensions\":[{\"axis\":{\"matches\":true},\"label\":\"mv_usd\",\"values\":[1330776.0]},{\"axis\":{\"matches\":true},\"label\":\"gdp_usd\",\"values\":[85985752107.5]},{\"axis\":{\"matches\":true},\"label\":\"bmi\",\"values\":[25.5]},{\"axis\":{\"matches\":true},\"label\":\"life_exp\",\"values\":[69.237]},{\"axis\":{\"matches\":true},\"label\":\"qol\",\"values\":[41.0]},{\"axis\":{\"matches\":true},\"label\":\"power_rating\",\"values\":[0.0]}],\"hovertemplate\":\"country_name=Guatemala<br>%{xaxis.title.text}=%{x}<br>%{yaxis.title.text}=%{y}<extra></extra>\",\"legendgroup\":\"Guatemala\",\"marker\":{\"color\":\"#ab63fa\",\"symbol\":\"circle\"},\"name\":\"Guatemala\",\"showlegend\":true,\"type\":\"splom\"},{\"dimensions\":[{\"axis\":{\"matches\":true},\"label\":\"mv_usd\",\"values\":[55296.0]},{\"axis\":{\"matches\":true},\"label\":\"gdp_usd\",\"values\":[16091817842.2]},{\"axis\":{\"matches\":true},\"label\":\"bmi\",\"values\":[22.3]},{\"axis\":{\"matches\":true},\"label\":\"life_exp\",\"values\":[58.892]},{\"axis\":{\"matches\":true},\"label\":\"qol\",\"values\":[0.0]},{\"axis\":{\"matches\":true},\"label\":\"power_rating\",\"values\":[0.0]}],\"hovertemplate\":\"country_name=Guinea<br>%{xaxis.title.text}=%{x}<br>%{yaxis.title.text}=%{y}<extra></extra>\",\"legendgroup\":\"Guinea\",\"marker\":{\"color\":\"#FFA15A\",\"symbol\":\"circle\"},\"name\":\"Guinea\",\"showlegend\":true,\"type\":\"splom\"},{\"dimensions\":[{\"axis\":{\"matches\":true},\"label\":\"mv_usd\",\"values\":[4050.0000000000005]},{\"axis\":{\"matches\":true},\"label\":\"gdp_usd\",\"values\":[8044498801.0]},{\"axis\":{\"matches\":true},\"label\":\"bmi\",\"values\":[25.0]},{\"axis\":{\"matches\":true},\"label\":\"life_exp\",\"values\":[65.673]},{\"axis\":{\"matches\":true},\"label\":\"qol\",\"values\":[0.0]},{\"axis\":{\"matches\":true},\"label\":\"power_rating\",\"values\":[0.0]}],\"hovertemplate\":\"country_name=Guyana<br>%{xaxis.title.text}=%{x}<br>%{yaxis.title.text}=%{y}<extra></extra>\",\"legendgroup\":\"Guyana\",\"marker\":{\"color\":\"#19d3f3\",\"symbol\":\"circle\"},\"name\":\"Guyana\",\"showlegend\":true,\"type\":\"splom\"},{\"dimensions\":[{\"axis\":{\"matches\":true},\"label\":\"mv_usd\",\"values\":[6480.0]},{\"axis\":{\"matches\":true},\"label\":\"gdp_usd\",\"values\":[20944392615.1]},{\"axis\":{\"matches\":true},\"label\":\"bmi\",\"values\":[26.2]},{\"axis\":{\"matches\":true},\"label\":\"life_exp\",\"values\":[63.192]},{\"axis\":{\"matches\":true},\"label\":\"qol\",\"values\":[0.0]},{\"axis\":{\"matches\":true},\"label\":\"power_rating\",\"values\":[0.0]}],\"hovertemplate\":\"country_name=Haiti<br>%{xaxis.title.text}=%{x}<br>%{yaxis.title.text}=%{y}<extra></extra>\",\"legendgroup\":\"Haiti\",\"marker\":{\"color\":\"#FF6692\",\"symbol\":\"circle\"},\"name\":\"Haiti\",\"showlegend\":true,\"type\":\"splom\"},{\"dimensions\":[{\"axis\":{\"matches\":true},\"label\":\"mv_usd\",\"values\":[1389744.0]},{\"axis\":{\"matches\":true},\"label\":\"gdp_usd\",\"values\":[28488668301.6]},{\"axis\":{\"matches\":true},\"label\":\"bmi\",\"values\":[25.7]},{\"axis\":{\"matches\":true},\"label\":\"life_exp\",\"values\":[70.123]},{\"axis\":{\"matches\":true},\"label\":\"qol\",\"values\":[44.0]},{\"axis\":{\"matches\":true},\"label\":\"power_rating\",\"values\":[0.0]}],\"hovertemplate\":\"country_name=Honduras<br>%{xaxis.title.text}=%{x}<br>%{yaxis.title.text}=%{y}<extra></extra>\",\"legendgroup\":\"Honduras\",\"marker\":{\"color\":\"#B6E880\",\"symbol\":\"circle\"},\"name\":\"Honduras\",\"showlegend\":true,\"type\":\"splom\"},{\"dimensions\":[{\"axis\":{\"matches\":true},\"label\":\"mv_usd\",\"values\":[7814448.000000001]},{\"axis\":{\"matches\":true},\"label\":\"gdp_usd\",\"values\":[181848022233.9]},{\"axis\":{\"matches\":true},\"label\":\"bmi\",\"values\":[28.6]},{\"axis\":{\"matches\":true},\"label\":\"life_exp\",\"values\":[74.46585366]},{\"axis\":{\"matches\":true},\"label\":\"qol\",\"values\":[63.0]},{\"axis\":{\"matches\":true},\"label\":\"power_rating\",\"values\":[0.0]}],\"hovertemplate\":\"country_name=Hungary<br>%{xaxis.title.text}=%{x}<br>%{yaxis.title.text}=%{y}<extra></extra>\",\"legendgroup\":\"Hungary\",\"marker\":{\"color\":\"#FF97FF\",\"symbol\":\"circle\"},\"name\":\"Hungary\",\"showlegend\":true,\"type\":\"splom\"},{\"dimensions\":[{\"axis\":{\"matches\":true},\"label\":\"mv_usd\",\"values\":[1322568.0]},{\"axis\":{\"matches\":true},\"label\":\"gdp_usd\",\"values\":[25602419210.3]},{\"axis\":{\"matches\":true},\"label\":\"bmi\",\"values\":[27.2]},{\"axis\":{\"matches\":true},\"label\":\"life_exp\",\"values\":[83.11707317]},{\"axis\":{\"matches\":true},\"label\":\"qol\",\"values\":[64.0]},{\"axis\":{\"matches\":true},\"label\":\"power_rating\",\"values\":[0.0]}],\"hovertemplate\":\"country_name=Iceland<br>%{xaxis.title.text}=%{x}<br>%{yaxis.title.text}=%{y}<extra></extra>\",\"legendgroup\":\"Iceland\",\"marker\":{\"color\":\"#FECB52\",\"symbol\":\"circle\"},\"name\":\"Iceland\",\"showlegend\":true,\"type\":\"splom\"},{\"dimensions\":[{\"axis\":{\"matches\":true},\"label\":\"mv_usd\",\"values\":[3261600.0]},{\"axis\":{\"matches\":true},\"label\":\"gdp_usd\",\"values\":[3176295065497.2]},{\"axis\":{\"matches\":true},\"label\":\"bmi\",\"values\":[21.7]},{\"axis\":{\"matches\":true},\"label\":\"life_exp\",\"values\":[67.24]},{\"axis\":{\"matches\":true},\"label\":\"qol\",\"values\":[49.0]},{\"axis\":{\"matches\":true},\"label\":\"power_rating\",\"values\":[0.0]}],\"hovertemplate\":\"country_name=India<br>%{xaxis.title.text}=%{x}<br>%{yaxis.title.text}=%{y}<extra></extra>\",\"legendgroup\":\"India\",\"marker\":{\"color\":\"#636efa\",\"symbol\":\"circle\"},\"name\":\"India\",\"showlegend\":true,\"type\":\"splom\"},{\"dimensions\":[{\"axis\":{\"matches\":true},\"label\":\"mv_usd\",\"values\":[3494880.0]},{\"axis\":{\"matches\":true},\"label\":\"gdp_usd\",\"values\":[1186092991320.0]},{\"axis\":{\"matches\":true},\"label\":\"bmi\",\"values\":[22.6]},{\"axis\":{\"matches\":true},\"label\":\"life_exp\",\"values\":[67.57]},{\"axis\":{\"matches\":true},\"label\":\"qol\",\"values\":[49.0]},{\"axis\":{\"matches\":true},\"label\":\"power_rating\",\"values\":[0.0]}],\"hovertemplate\":\"country_name=Indonesia<br>%{xaxis.title.text}=%{x}<br>%{yaxis.title.text}=%{y}<extra></extra>\",\"legendgroup\":\"Indonesia\",\"marker\":{\"color\":\"#EF553B\",\"symbol\":\"circle\"},\"name\":\"Indonesia\",\"showlegend\":true,\"type\":\"splom\"},{\"dimensions\":[{\"axis\":{\"matches\":true},\"label\":\"mv_usd\",\"values\":[808704.0]},{\"axis\":{\"matches\":true},\"label\":\"gdp_usd\",\"values\":[207889333724.1]},{\"axis\":{\"matches\":true},\"label\":\"bmi\",\"values\":[27.3]},{\"axis\":{\"matches\":true},\"label\":\"life_exp\",\"values\":[70.378]},{\"axis\":{\"matches\":true},\"label\":\"qol\",\"values\":[37.0]},{\"axis\":{\"matches\":true},\"label\":\"power_rating\",\"values\":[0.0]}],\"hovertemplate\":\"country_name=Iraq<br>%{xaxis.title.text}=%{x}<br>%{yaxis.title.text}=%{y}<extra></extra>\",\"legendgroup\":\"Iraq\",\"marker\":{\"color\":\"#00cc96\",\"symbol\":\"circle\"},\"name\":\"Iraq\",\"showlegend\":true,\"type\":\"splom\"},{\"dimensions\":[{\"axis\":{\"matches\":true},\"label\":\"mv_usd\",\"values\":[902664.0000000001]},{\"axis\":{\"matches\":true},\"label\":\"gdp_usd\",\"values\":[504182603275.5]},{\"axis\":{\"matches\":true},\"label\":\"bmi\",\"values\":[28.2]},{\"axis\":{\"matches\":true},\"label\":\"life_exp\",\"values\":[82.10243902]},{\"axis\":{\"matches\":true},\"label\":\"qol\",\"values\":[62.0]},{\"axis\":{\"matches\":true},\"label\":\"power_rating\",\"values\":[0.0]}],\"hovertemplate\":\"country_name=Ireland<br>%{xaxis.title.text}=%{x}<br>%{yaxis.title.text}=%{y}<extra></extra>\",\"legendgroup\":\"Ireland\",\"marker\":{\"color\":\"#ab63fa\",\"symbol\":\"circle\"},\"name\":\"Ireland\",\"showlegend\":true,\"type\":\"splom\"},{\"dimensions\":[{\"axis\":{\"matches\":true},\"label\":\"mv_usd\",\"values\":[7596720.000000001]},{\"axis\":{\"matches\":true},\"label\":\"gdp_usd\",\"values\":[488526545878.9]},{\"axis\":{\"matches\":true},\"label\":\"bmi\",\"values\":[27.7]},{\"axis\":{\"matches\":true},\"label\":\"life_exp\",\"values\":[82.5]},{\"axis\":{\"matches\":true},\"label\":\"qol\",\"values\":[63.0]},{\"axis\":{\"matches\":true},\"label\":\"power_rating\",\"values\":[0.0]}],\"hovertemplate\":\"country_name=Israel<br>%{xaxis.title.text}=%{x}<br>%{yaxis.title.text}=%{y}<extra></extra>\",\"legendgroup\":\"Israel\",\"marker\":{\"color\":\"#FFA15A\",\"symbol\":\"circle\"},\"name\":\"Israel\",\"showlegend\":true,\"type\":\"splom\"},{\"dimensions\":[{\"axis\":{\"matches\":true},\"label\":\"mv_usd\",\"values\":[208358784.0]},{\"axis\":{\"matches\":true},\"label\":\"gdp_usd\",\"values\":[2107702842669.7]},{\"axis\":{\"matches\":true},\"label\":\"bmi\",\"values\":[26.9]},{\"axis\":{\"matches\":true},\"label\":\"life_exp\",\"values\":[82.79512195]},{\"axis\":{\"matches\":true},\"label\":\"qol\",\"values\":[64.0]},{\"axis\":{\"matches\":true},\"label\":\"power_rating\",\"values\":[0.0]}],\"hovertemplate\":\"country_name=Italy<br>%{xaxis.title.text}=%{x}<br>%{yaxis.title.text}=%{y}<extra></extra>\",\"legendgroup\":\"Italy\",\"marker\":{\"color\":\"#19d3f3\",\"symbol\":\"circle\"},\"name\":\"Italy\",\"showlegend\":true,\"type\":\"splom\"},{\"dimensions\":[{\"axis\":{\"matches\":true},\"label\":\"mv_usd\",\"values\":[57672.00000000001]},{\"axis\":{\"matches\":true},\"label\":\"gdp_usd\",\"values\":[14657586937.1]},{\"axis\":{\"matches\":true},\"label\":\"bmi\",\"values\":[25.8]},{\"axis\":{\"matches\":true},\"label\":\"life_exp\",\"values\":[70.5]},{\"axis\":{\"matches\":true},\"label\":\"qol\",\"values\":[49.0]},{\"axis\":{\"matches\":true},\"label\":\"power_rating\",\"values\":[0.0]}],\"hovertemplate\":\"country_name=Jamaica<br>%{xaxis.title.text}=%{x}<br>%{yaxis.title.text}=%{y}<extra></extra>\",\"legendgroup\":\"Jamaica\",\"marker\":{\"color\":\"#FF6692\",\"symbol\":\"circle\"},\"name\":\"Jamaica\",\"showlegend\":true,\"type\":\"splom\"},{\"dimensions\":[{\"axis\":{\"matches\":true},\"label\":\"mv_usd\",\"values\":[15033600.000000002]},{\"axis\":{\"matches\":true},\"label\":\"gdp_usd\",\"values\":[4940877780755.3]},{\"axis\":{\"matches\":true},\"label\":\"bmi\",\"values\":[23.6]},{\"axis\":{\"matches\":true},\"label\":\"life_exp\",\"values\":[84.44560976]},{\"axis\":{\"matches\":true},\"label\":\"qol\",\"values\":[71.0]},{\"axis\":{\"matches\":true},\"label\":\"power_rating\",\"values\":[0.625]}],\"hovertemplate\":\"country_name=Japan<br>%{xaxis.title.text}=%{x}<br>%{yaxis.title.text}=%{y}<extra></extra>\",\"legendgroup\":\"Japan\",\"marker\":{\"color\":\"#B6E880\",\"symbol\":\"circle\"},\"name\":\"Japan\",\"showlegend\":true,\"type\":\"splom\"},{\"dimensions\":[{\"axis\":{\"matches\":true},\"label\":\"mv_usd\",\"values\":[263952.0]},{\"axis\":{\"matches\":true},\"label\":\"gdp_usd\",\"values\":[45744271658.9]},{\"axis\":{\"matches\":true},\"label\":\"bmi\",\"values\":[27.9]},{\"axis\":{\"matches\":true},\"label\":\"life_exp\",\"values\":[74.256]},{\"axis\":{\"matches\":true},\"label\":\"qol\",\"values\":[54.0]},{\"axis\":{\"matches\":true},\"label\":\"power_rating\",\"values\":[0.0]}],\"hovertemplate\":\"country_name=Jordan<br>%{xaxis.title.text}=%{x}<br>%{yaxis.title.text}=%{y}<extra></extra>\",\"legendgroup\":\"Jordan\",\"marker\":{\"color\":\"#FF97FF\",\"symbol\":\"circle\"},\"name\":\"Jordan\",\"showlegend\":true,\"type\":\"splom\"},{\"dimensions\":[{\"axis\":{\"matches\":true},\"label\":\"mv_usd\",\"values\":[4446144.0]},{\"axis\":{\"matches\":true},\"label\":\"gdp_usd\",\"values\":[197112255360.6]},{\"axis\":{\"matches\":true},\"label\":\"bmi\",\"values\":[26.2]},{\"axis\":{\"matches\":true},\"label\":\"life_exp\",\"values\":[70.23]},{\"axis\":{\"matches\":true},\"label\":\"qol\",\"values\":[52.0]},{\"axis\":{\"matches\":true},\"label\":\"power_rating\",\"values\":[0.0]}],\"hovertemplate\":\"country_name=Kazakhstan<br>%{xaxis.title.text}=%{x}<br>%{yaxis.title.text}=%{y}<extra></extra>\",\"legendgroup\":\"Kazakhstan\",\"marker\":{\"color\":\"#FECB52\",\"symbol\":\"circle\"},\"name\":\"Kazakhstan\",\"showlegend\":true,\"type\":\"splom\"},{\"dimensions\":[{\"axis\":{\"matches\":true},\"label\":\"mv_usd\",\"values\":[12960.0]},{\"axis\":{\"matches\":true},\"label\":\"gdp_usd\",\"values\":[110347079517.4]},{\"axis\":{\"matches\":true},\"label\":\"bmi\",\"values\":[22.1]},{\"axis\":{\"matches\":true},\"label\":\"life_exp\",\"values\":[61.427]},{\"axis\":{\"matches\":true},\"label\":\"qol\",\"values\":[48.0]},{\"axis\":{\"matches\":true},\"label\":\"power_rating\",\"values\":[0.0]}],\"hovertemplate\":\"country_name=Kenya<br>%{xaxis.title.text}=%{x}<br>%{yaxis.title.text}=%{y}<extra></extra>\",\"legendgroup\":\"Kenya\",\"marker\":{\"color\":\"#636efa\",\"symbol\":\"circle\"},\"name\":\"Kenya\",\"showlegend\":true,\"type\":\"splom\"},{\"dimensions\":[{\"axis\":{\"matches\":true},\"label\":\"mv_usd\",\"values\":[1238976.0]},{\"axis\":{\"matches\":true},\"label\":\"gdp_usd\",\"values\":[9412034299.2]},{\"axis\":{\"matches\":true},\"label\":\"bmi\",\"values\":[0.0]},{\"axis\":{\"matches\":true},\"label\":\"life_exp\",\"values\":[76.806]},{\"axis\":{\"matches\":true},\"label\":\"qol\",\"values\":[0.0]},{\"axis\":{\"matches\":true},\"label\":\"power_rating\",\"values\":[0.0]}],\"hovertemplate\":\"country_name=Kosovo<br>%{xaxis.title.text}=%{x}<br>%{yaxis.title.text}=%{y}<extra></extra>\",\"legendgroup\":\"Kosovo\",\"marker\":{\"color\":\"#EF553B\",\"symbol\":\"circle\"},\"name\":\"Kosovo\",\"showlegend\":true,\"type\":\"splom\"},{\"dimensions\":[{\"axis\":{\"matches\":true},\"label\":\"mv_usd\",\"values\":[1908360.0000000002]},{\"axis\":{\"matches\":true},\"label\":\"gdp_usd\",\"values\":[39853501579.8]},{\"axis\":{\"matches\":true},\"label\":\"bmi\",\"values\":[27.3]},{\"axis\":{\"matches\":true},\"label\":\"life_exp\",\"values\":[73.28292683]},{\"axis\":{\"matches\":true},\"label\":\"qol\",\"values\":[58.0]},{\"axis\":{\"matches\":true},\"label\":\"power_rating\",\"values\":[0.0]}],\"hovertemplate\":\"country_name=Latvia<br>%{xaxis.title.text}=%{x}<br>%{yaxis.title.text}=%{y}<extra></extra>\",\"legendgroup\":\"Latvia\",\"marker\":{\"color\":\"#00cc96\",\"symbol\":\"circle\"},\"name\":\"Latvia\",\"showlegend\":true,\"type\":\"splom\"},{\"dimensions\":[{\"axis\":{\"matches\":true},\"label\":\"mv_usd\",\"values\":[1805760.0000000002]},{\"axis\":{\"matches\":true},\"label\":\"gdp_usd\",\"values\":[23131940280.7]},{\"axis\":{\"matches\":true},\"label\":\"bmi\",\"values\":[27.9]},{\"axis\":{\"matches\":true},\"label\":\"life_exp\",\"values\":[75.047]},{\"axis\":{\"matches\":true},\"label\":\"qol\",\"values\":[44.0]},{\"axis\":{\"matches\":true},\"label\":\"power_rating\",\"values\":[0.0]}],\"hovertemplate\":\"country_name=Lebanon<br>%{xaxis.title.text}=%{x}<br>%{yaxis.title.text}=%{y}<extra></extra>\",\"legendgroup\":\"Lebanon\",\"marker\":{\"color\":\"#ab63fa\",\"symbol\":\"circle\"},\"name\":\"Lebanon\",\"showlegend\":true,\"type\":\"splom\"},{\"dimensions\":[{\"axis\":{\"matches\":true},\"label\":\"mv_usd\",\"values\":[2160.0]},{\"axis\":{\"matches\":true},\"label\":\"gdp_usd\",\"values\":[2496134680.3]},{\"axis\":{\"matches\":true},\"label\":\"bmi\",\"values\":[22.3]},{\"axis\":{\"matches\":true},\"label\":\"life_exp\",\"values\":[53.062]},{\"axis\":{\"matches\":true},\"label\":\"qol\",\"values\":[47.0]},{\"axis\":{\"matches\":true},\"label\":\"power_rating\",\"values\":[0.0]}],\"hovertemplate\":\"country_name=Lesotho<br>%{xaxis.title.text}=%{x}<br>%{yaxis.title.text}=%{y}<extra></extra>\",\"legendgroup\":\"Lesotho\",\"marker\":{\"color\":\"#FFA15A\",\"symbol\":\"circle\"},\"name\":\"Lesotho\",\"showlegend\":true,\"type\":\"splom\"},{\"dimensions\":[{\"axis\":{\"matches\":true},\"label\":\"mv_usd\",\"values\":[3240.0]},{\"axis\":{\"matches\":true},\"label\":\"gdp_usd\",\"values\":[3509000000.0]},{\"axis\":{\"matches\":true},\"label\":\"bmi\",\"values\":[23.1]},{\"axis\":{\"matches\":true},\"label\":\"life_exp\",\"values\":[60.747]},{\"axis\":{\"matches\":true},\"label\":\"qol\",\"values\":[0.0]},{\"axis\":{\"matches\":true},\"label\":\"power_rating\",\"values\":[0.0]}],\"hovertemplate\":\"country_name=Liberia<br>%{xaxis.title.text}=%{x}<br>%{yaxis.title.text}=%{y}<extra></extra>\",\"legendgroup\":\"Liberia\",\"marker\":{\"color\":\"#19d3f3\",\"symbol\":\"circle\"},\"name\":\"Liberia\",\"showlegend\":true,\"type\":\"splom\"},{\"dimensions\":[{\"axis\":{\"matches\":true},\"label\":\"mv_usd\",\"values\":[541296.0]},{\"axis\":{\"matches\":true},\"label\":\"gdp_usd\",\"values\":[42817472975.4]},{\"axis\":{\"matches\":true},\"label\":\"bmi\",\"values\":[26.8]},{\"axis\":{\"matches\":true},\"label\":\"life_exp\",\"values\":[71.911]},{\"axis\":{\"matches\":true},\"label\":\"qol\",\"values\":[0.0]},{\"axis\":{\"matches\":true},\"label\":\"power_rating\",\"values\":[0.0]}],\"hovertemplate\":\"country_name=Libya<br>%{xaxis.title.text}=%{x}<br>%{yaxis.title.text}=%{y}<extra></extra>\",\"legendgroup\":\"Libya\",\"marker\":{\"color\":\"#FF6692\",\"symbol\":\"circle\"},\"name\":\"Libya\",\"showlegend\":true,\"type\":\"splom\"},{\"dimensions\":[{\"axis\":{\"matches\":true},\"label\":\"mv_usd\",\"values\":[1878984.0000000002]},{\"axis\":{\"matches\":true},\"label\":\"gdp_usd\",\"values\":[66445256585.4]},{\"axis\":{\"matches\":true},\"label\":\"bmi\",\"values\":[27.3]},{\"axis\":{\"matches\":true},\"label\":\"life_exp\",\"values\":[74.33902439]},{\"axis\":{\"matches\":true},\"label\":\"qol\",\"values\":[59.0]},{\"axis\":{\"matches\":true},\"label\":\"power_rating\",\"values\":[0.0]}],\"hovertemplate\":\"country_name=Lithuania<br>%{xaxis.title.text}=%{x}<br>%{yaxis.title.text}=%{y}<extra></extra>\",\"legendgroup\":\"Lithuania\",\"marker\":{\"color\":\"#B6E880\",\"symbol\":\"circle\"},\"name\":\"Lithuania\",\"showlegend\":true,\"type\":\"splom\"},{\"dimensions\":[{\"axis\":{\"matches\":true},\"label\":\"mv_usd\",\"values\":[1093176.0]},{\"axis\":{\"matches\":true},\"label\":\"gdp_usd\",\"values\":[85506243833.8]},{\"axis\":{\"matches\":true},\"label\":\"bmi\",\"values\":[27.4]},{\"axis\":{\"matches\":true},\"label\":\"life_exp\",\"values\":[82.74878049]},{\"axis\":{\"matches\":true},\"label\":\"qol\",\"values\":[71.0]},{\"axis\":{\"matches\":true},\"label\":\"power_rating\",\"values\":[0.0]}],\"hovertemplate\":\"country_name=Luxembourg<br>%{xaxis.title.text}=%{x}<br>%{yaxis.title.text}=%{y}<extra></extra>\",\"legendgroup\":\"Luxembourg\",\"marker\":{\"color\":\"#FF97FF\",\"symbol\":\"circle\"},\"name\":\"Luxembourg\",\"showlegend\":true,\"type\":\"splom\"},{\"dimensions\":[{\"axis\":{\"matches\":true},\"label\":\"mv_usd\",\"values\":[10800.0]},{\"axis\":{\"matches\":true},\"label\":\"gdp_usd\",\"values\":[14472603322.6]},{\"axis\":{\"matches\":true},\"label\":\"bmi\",\"values\":[21.4]},{\"axis\":{\"matches\":true},\"label\":\"life_exp\",\"values\":[64.485]},{\"axis\":{\"matches\":true},\"label\":\"qol\",\"values\":[47.0]},{\"axis\":{\"matches\":true},\"label\":\"power_rating\",\"values\":[0.0]}],\"hovertemplate\":\"country_name=Madagascar<br>%{xaxis.title.text}=%{x}<br>%{yaxis.title.text}=%{y}<extra></extra>\",\"legendgroup\":\"Madagascar\",\"marker\":{\"color\":\"#FECB52\",\"symbol\":\"circle\"},\"name\":\"Madagascar\",\"showlegend\":true,\"type\":\"splom\"},{\"dimensions\":[{\"axis\":{\"matches\":true},\"label\":\"mv_usd\",\"values\":[45000.0000036]},{\"axis\":{\"matches\":true},\"label\":\"gdp_usd\",\"values\":[12626717491.9]},{\"axis\":{\"matches\":true},\"label\":\"bmi\",\"values\":[22.5]},{\"axis\":{\"matches\":true},\"label\":\"life_exp\",\"values\":[62.904]},{\"axis\":{\"matches\":true},\"label\":\"qol\",\"values\":[0.0]},{\"axis\":{\"matches\":true},\"label\":\"power_rating\",\"values\":[0.0]}],\"hovertemplate\":\"country_name=Malawi<br>%{xaxis.title.text}=%{x}<br>%{yaxis.title.text}=%{y}<extra></extra>\",\"legendgroup\":\"Malawi\",\"marker\":{\"color\":\"#636efa\",\"symbol\":\"circle\"},\"name\":\"Malawi\",\"showlegend\":true,\"type\":\"splom\"},{\"dimensions\":[{\"axis\":{\"matches\":true},\"label\":\"mv_usd\",\"values\":[2365848.0]},{\"axis\":{\"matches\":true},\"label\":\"gdp_usd\",\"values\":[372980957208.0]},{\"axis\":{\"matches\":true},\"label\":\"bmi\",\"values\":[25.3]},{\"axis\":{\"matches\":true},\"label\":\"life_exp\",\"values\":[74.884]},{\"axis\":{\"matches\":true},\"label\":\"qol\",\"values\":[58.0]},{\"axis\":{\"matches\":true},\"label\":\"power_rating\",\"values\":[0.0]}],\"hovertemplate\":\"country_name=Malaysia<br>%{xaxis.title.text}=%{x}<br>%{yaxis.title.text}=%{y}<extra></extra>\",\"legendgroup\":\"Malaysia\",\"marker\":{\"color\":\"#EF553B\",\"symbol\":\"circle\"},\"name\":\"Malaysia\",\"showlegend\":true,\"type\":\"splom\"},{\"dimensions\":[{\"axis\":{\"matches\":true},\"label\":\"mv_usd\",\"values\":[115560.00000000001]},{\"axis\":{\"matches\":true},\"label\":\"gdp_usd\",\"values\":[5405576235.8]},{\"axis\":{\"matches\":true},\"label\":\"bmi\",\"values\":[24.3]},{\"axis\":{\"matches\":true},\"label\":\"life_exp\",\"values\":[79.918]},{\"axis\":{\"matches\":true},\"label\":\"qol\",\"values\":[0.0]},{\"axis\":{\"matches\":true},\"label\":\"power_rating\",\"values\":[0.0]}],\"hovertemplate\":\"country_name=Maldives<br>%{xaxis.title.text}=%{x}<br>%{yaxis.title.text}=%{y}<extra></extra>\",\"legendgroup\":\"Maldives\",\"marker\":{\"color\":\"#00cc96\",\"symbol\":\"circle\"},\"name\":\"Maldives\",\"showlegend\":true,\"type\":\"splom\"},{\"dimensions\":[{\"axis\":{\"matches\":true},\"label\":\"mv_usd\",\"values\":[17280.0]},{\"axis\":{\"matches\":true},\"label\":\"gdp_usd\",\"values\":[19140461605.8]},{\"axis\":{\"matches\":true},\"label\":\"bmi\",\"values\":[22.7]},{\"axis\":{\"matches\":true},\"label\":\"life_exp\",\"values\":[58.941]},{\"axis\":{\"matches\":true},\"label\":\"qol\",\"values\":[0.0]},{\"axis\":{\"matches\":true},\"label\":\"power_rating\",\"values\":[0.0]}],\"hovertemplate\":\"country_name=Mali<br>%{xaxis.title.text}=%{x}<br>%{yaxis.title.text}=%{y}<extra></extra>\",\"legendgroup\":\"Mali\",\"marker\":{\"color\":\"#ab63fa\",\"symbol\":\"circle\"},\"name\":\"Mali\",\"showlegend\":true,\"type\":\"splom\"},{\"dimensions\":[{\"axis\":{\"matches\":true},\"label\":\"mv_usd\",\"values\":[2004264.0000000002]},{\"axis\":{\"matches\":true},\"label\":\"gdp_usd\",\"values\":[17364044943.8]},{\"axis\":{\"matches\":true},\"label\":\"bmi\",\"values\":[28.1]},{\"axis\":{\"matches\":true},\"label\":\"life_exp\",\"values\":[82.86097561]},{\"axis\":{\"matches\":true},\"label\":\"qol\",\"values\":[72.0]},{\"axis\":{\"matches\":true},\"label\":\"power_rating\",\"values\":[0.0]}],\"hovertemplate\":\"country_name=Malta<br>%{xaxis.title.text}=%{x}<br>%{yaxis.title.text}=%{y}<extra></extra>\",\"legendgroup\":\"Malta\",\"marker\":{\"color\":\"#FFA15A\",\"symbol\":\"circle\"},\"name\":\"Malta\",\"showlegend\":true,\"type\":\"splom\"},{\"dimensions\":[{\"axis\":{\"matches\":true},\"label\":\"mv_usd\",\"values\":[117847.05886800001]},{\"axis\":{\"matches\":true},\"label\":\"gdp_usd\",\"values\":[9996249658.2]},{\"axis\":{\"matches\":true},\"label\":\"bmi\",\"values\":[23.0]},{\"axis\":{\"matches\":true},\"label\":\"life_exp\",\"values\":[64.364]},{\"axis\":{\"matches\":true},\"label\":\"qol\",\"values\":[0.0]},{\"axis\":{\"matches\":true},\"label\":\"power_rating\",\"values\":[0.0]}],\"hovertemplate\":\"country_name=Mauritania<br>%{xaxis.title.text}=%{x}<br>%{yaxis.title.text}=%{y}<extra></extra>\",\"legendgroup\":\"Mauritania\",\"marker\":{\"color\":\"#19d3f3\",\"symbol\":\"circle\"},\"name\":\"Mauritania\",\"showlegend\":true,\"type\":\"splom\"},{\"dimensions\":[{\"axis\":{\"matches\":true},\"label\":\"mv_usd\",\"values\":[0.0]},{\"axis\":{\"matches\":true},\"label\":\"gdp_usd\",\"values\":[11529042672.4]},{\"axis\":{\"matches\":true},\"label\":\"bmi\",\"values\":[24.7]},{\"axis\":{\"matches\":true},\"label\":\"life_exp\",\"values\":[73.6802439]},{\"axis\":{\"matches\":true},\"label\":\"qol\",\"values\":[0.0]},{\"axis\":{\"matches\":true},\"label\":\"power_rating\",\"values\":[0.0]}],\"hovertemplate\":\"country_name=Mauritius<br>%{xaxis.title.text}=%{x}<br>%{yaxis.title.text}=%{y}<extra></extra>\",\"legendgroup\":\"Mauritius\",\"marker\":{\"color\":\"#FF6692\",\"symbol\":\"circle\"},\"name\":\"Mauritius\",\"showlegend\":true,\"type\":\"splom\"},{\"dimensions\":[{\"axis\":{\"matches\":true},\"label\":\"mv_usd\",\"values\":[37256976.0]},{\"axis\":{\"matches\":true},\"label\":\"gdp_usd\",\"values\":[1272839334119.3]},{\"axis\":{\"matches\":true},\"label\":\"bmi\",\"values\":[27.4]},{\"axis\":{\"matches\":true},\"label\":\"life_exp\",\"values\":[70.213]},{\"axis\":{\"matches\":true},\"label\":\"qol\",\"values\":[48.0]},{\"axis\":{\"matches\":true},\"label\":\"power_rating\",\"values\":[0.453125]}],\"hovertemplate\":\"country_name=Mexico<br>%{xaxis.title.text}=%{x}<br>%{yaxis.title.text}=%{y}<extra></extra>\",\"legendgroup\":\"Mexico\",\"marker\":{\"color\":\"#B6E880\",\"symbol\":\"circle\"},\"name\":\"Mexico\",\"showlegend\":true,\"type\":\"splom\"},{\"dimensions\":[{\"axis\":{\"matches\":true},\"label\":\"mv_usd\",\"values\":[1551312.0]},{\"axis\":{\"matches\":true},\"label\":\"gdp_usd\",\"values\":[13679221333.2]},{\"axis\":{\"matches\":true},\"label\":\"bmi\",\"values\":[0.0]},{\"axis\":{\"matches\":true},\"label\":\"life_exp\",\"values\":[68.846]},{\"axis\":{\"matches\":true},\"label\":\"qol\",\"values\":[50.0]},{\"axis\":{\"matches\":true},\"label\":\"power_rating\",\"values\":[0.0]}],\"hovertemplate\":\"country_name=Moldova<br>%{xaxis.title.text}=%{x}<br>%{yaxis.title.text}=%{y}<extra></extra>\",\"legendgroup\":\"Moldova\",\"marker\":{\"color\":\"#FF97FF\",\"symbol\":\"circle\"},\"name\":\"Moldova\",\"showlegend\":true,\"type\":\"splom\"},{\"dimensions\":[{\"axis\":{\"matches\":true},\"label\":\"mv_usd\",\"values\":[39134999.9988]},{\"axis\":{\"matches\":true},\"label\":\"gdp_usd\",\"values\":[8596096984.0]},{\"axis\":{\"matches\":true},\"label\":\"bmi\",\"values\":[0.0]},{\"axis\":{\"matches\":true},\"label\":\"life_exp\",\"values\":[0.0]},{\"axis\":{\"matches\":true},\"label\":\"qol\",\"values\":[0.0]},{\"axis\":{\"matches\":true},\"label\":\"power_rating\",\"values\":[0.0]}],\"hovertemplate\":\"country_name=Monaco<br>%{xaxis.title.text}=%{x}<br>%{yaxis.title.text}=%{y}<extra></extra>\",\"legendgroup\":\"Monaco\",\"marker\":{\"color\":\"#FECB52\",\"symbol\":\"circle\"},\"name\":\"Monaco\",\"showlegend\":true,\"type\":\"splom\"},{\"dimensions\":[{\"axis\":{\"matches\":true},\"label\":\"mv_usd\",\"values\":[45576.0]},{\"axis\":{\"matches\":true},\"label\":\"gdp_usd\",\"values\":[15286441818.1]},{\"axis\":{\"matches\":true},\"label\":\"bmi\",\"values\":[25.7]},{\"axis\":{\"matches\":true},\"label\":\"life_exp\",\"values\":[70.975]},{\"axis\":{\"matches\":true},\"label\":\"qol\",\"values\":[55.0]},{\"axis\":{\"matches\":true},\"label\":\"power_rating\",\"values\":[0.0]}],\"hovertemplate\":\"country_name=Mongolia<br>%{xaxis.title.text}=%{x}<br>%{yaxis.title.text}=%{y}<extra></extra>\",\"legendgroup\":\"Mongolia\",\"marker\":{\"color\":\"#636efa\",\"symbol\":\"circle\"},\"name\":\"Mongolia\",\"showlegend\":true,\"type\":\"splom\"},{\"dimensions\":[{\"axis\":{\"matches\":true},\"label\":\"mv_usd\",\"values\":[1172880.0]},{\"axis\":{\"matches\":true},\"label\":\"gdp_usd\",\"values\":[5861268038.8]},{\"axis\":{\"matches\":true},\"label\":\"bmi\",\"values\":[27.2]},{\"axis\":{\"matches\":true},\"label\":\"life_exp\",\"values\":[73.82439024]},{\"axis\":{\"matches\":true},\"label\":\"qol\",\"values\":[55.0]},{\"axis\":{\"matches\":true},\"label\":\"power_rating\",\"values\":[0.0]}],\"hovertemplate\":\"country_name=Montenegro<br>%{xaxis.title.text}=%{x}<br>%{yaxis.title.text}=%{y}<extra></extra>\",\"legendgroup\":\"Montenegro\",\"marker\":{\"color\":\"#EF553B\",\"symbol\":\"circle\"},\"name\":\"Montenegro\",\"showlegend\":true,\"type\":\"splom\"},{\"dimensions\":[{\"axis\":{\"matches\":true},\"label\":\"mv_usd\",\"values\":[5786424.0]},{\"axis\":{\"matches\":true},\"label\":\"gdp_usd\",\"values\":[142866329198.4]},{\"axis\":{\"matches\":true},\"label\":\"bmi\",\"values\":[25.3]},{\"axis\":{\"matches\":true},\"label\":\"life_exp\",\"values\":[74.042]},{\"axis\":{\"matches\":true},\"label\":\"qol\",\"values\":[53.0]},{\"axis\":{\"matches\":true},\"label\":\"power_rating\",\"values\":[0.53125]}],\"hovertemplate\":\"country_name=Morocco<br>%{xaxis.title.text}=%{x}<br>%{yaxis.title.text}=%{y}<extra></extra>\",\"legendgroup\":\"Morocco\",\"marker\":{\"color\":\"#00cc96\",\"symbol\":\"circle\"},\"name\":\"Morocco\",\"showlegend\":true,\"type\":\"splom\"},{\"dimensions\":[{\"axis\":{\"matches\":true},\"label\":\"mv_usd\",\"values\":[33480.0]},{\"axis\":{\"matches\":true},\"label\":\"gdp_usd\",\"values\":[15776758632.9]},{\"axis\":{\"matches\":true},\"label\":\"bmi\",\"values\":[21.9]},{\"axis\":{\"matches\":true},\"label\":\"life_exp\",\"values\":[59.325]},{\"axis\":{\"matches\":true},\"label\":\"qol\",\"values\":[0.0]},{\"axis\":{\"matches\":true},\"label\":\"power_rating\",\"values\":[0.0]}],\"hovertemplate\":\"country_name=Mozambique<br>%{xaxis.title.text}=%{x}<br>%{yaxis.title.text}=%{y}<extra></extra>\",\"legendgroup\":\"Mozambique\",\"marker\":{\"color\":\"#ab63fa\",\"symbol\":\"circle\"},\"name\":\"Mozambique\",\"showlegend\":true,\"type\":\"splom\"},{\"dimensions\":[{\"axis\":{\"matches\":true},\"label\":\"mv_usd\",\"values\":[630288.0]},{\"axis\":{\"matches\":true},\"label\":\"gdp_usd\",\"values\":[65091751273.3]},{\"axis\":{\"matches\":true},\"label\":\"bmi\",\"values\":[22.2]},{\"axis\":{\"matches\":true},\"label\":\"life_exp\",\"values\":[65.672]},{\"axis\":{\"matches\":true},\"label\":\"qol\",\"values\":[35.0]},{\"axis\":{\"matches\":true},\"label\":\"power_rating\",\"values\":[0.0]}],\"hovertemplate\":\"country_name=Myanmar<br>%{xaxis.title.text}=%{x}<br>%{yaxis.title.text}=%{y}<extra></extra>\",\"legendgroup\":\"Myanmar\",\"marker\":{\"color\":\"#FFA15A\",\"symbol\":\"circle\"},\"name\":\"Myanmar\",\"showlegend\":true,\"type\":\"splom\"},{\"dimensions\":[{\"axis\":{\"matches\":true},\"label\":\"mv_usd\",\"values\":[18360.0]},{\"axis\":{\"matches\":true},\"label\":\"gdp_usd\",\"values\":[12310595843.9]},{\"axis\":{\"matches\":true},\"label\":\"bmi\",\"values\":[22.5]},{\"axis\":{\"matches\":true},\"label\":\"life_exp\",\"values\":[59.269]},{\"axis\":{\"matches\":true},\"label\":\"qol\",\"values\":[0.0]},{\"axis\":{\"matches\":true},\"label\":\"power_rating\",\"values\":[0.0]}],\"hovertemplate\":\"country_name=Namibia<br>%{xaxis.title.text}=%{x}<br>%{yaxis.title.text}=%{y}<extra></extra>\",\"legendgroup\":\"Namibia\",\"marker\":{\"color\":\"#19d3f3\",\"symbol\":\"circle\"},\"name\":\"Namibia\",\"showlegend\":true,\"type\":\"splom\"},{\"dimensions\":[{\"axis\":{\"matches\":true},\"label\":\"mv_usd\",\"values\":[119664.00000000001]},{\"axis\":{\"matches\":true},\"label\":\"gdp_usd\",\"values\":[36288830373.4]},{\"axis\":{\"matches\":true},\"label\":\"bmi\",\"values\":[22.4]},{\"axis\":{\"matches\":true},\"label\":\"life_exp\",\"values\":[68.45]},{\"axis\":{\"matches\":true},\"label\":\"qol\",\"values\":[49.0]},{\"axis\":{\"matches\":true},\"label\":\"power_rating\",\"values\":[0.0]}],\"hovertemplate\":\"country_name=Nepal<br>%{xaxis.title.text}=%{x}<br>%{yaxis.title.text}=%{y}<extra></extra>\",\"legendgroup\":\"Nepal\",\"marker\":{\"color\":\"#FF6692\",\"symbol\":\"circle\"},\"name\":\"Nepal\",\"showlegend\":true,\"type\":\"splom\"},{\"dimensions\":[{\"axis\":{\"matches\":true},\"label\":\"mv_usd\",\"values\":[52036560.0]},{\"axis\":{\"matches\":true},\"label\":\"gdp_usd\",\"values\":[1012846760976.7]},{\"axis\":{\"matches\":true},\"label\":\"bmi\",\"values\":[26.4]},{\"axis\":{\"matches\":true},\"label\":\"life_exp\",\"values\":[81.46097561]},{\"axis\":{\"matches\":true},\"label\":\"qol\",\"values\":[66.0]},{\"axis\":{\"matches\":true},\"label\":\"power_rating\",\"values\":[0.421875]}],\"hovertemplate\":\"country_name=Netherlands<br>%{xaxis.title.text}=%{x}<br>%{yaxis.title.text}=%{y}<extra></extra>\",\"legendgroup\":\"Netherlands\",\"marker\":{\"color\":\"#B6E880\",\"symbol\":\"circle\"},\"name\":\"Netherlands\",\"showlegend\":true,\"type\":\"splom\"},{\"dimensions\":[{\"axis\":{\"matches\":true},\"label\":\"mv_usd\",\"values\":[2042280.0000000002]},{\"axis\":{\"matches\":true},\"label\":\"gdp_usd\",\"values\":[249885687029.6]},{\"axis\":{\"matches\":true},\"label\":\"bmi\",\"values\":[28.3]},{\"axis\":{\"matches\":true},\"label\":\"life_exp\",\"values\":[82.20731707]},{\"axis\":{\"matches\":true},\"label\":\"qol\",\"values\":[69.0]},{\"axis\":{\"matches\":true},\"label\":\"power_rating\",\"values\":[0.0]}],\"hovertemplate\":\"country_name=New Zealand<br>%{xaxis.title.text}=%{x}<br>%{yaxis.title.text}=%{y}<extra></extra>\",\"legendgroup\":\"New Zealand\",\"marker\":{\"color\":\"#FF97FF\",\"symbol\":\"circle\"},\"name\":\"New Zealand\",\"showlegend\":true,\"type\":\"splom\"},{\"dimensions\":[{\"axis\":{\"matches\":true},\"label\":\"mv_usd\",\"values\":[75600.0]},{\"axis\":{\"matches\":true},\"label\":\"gdp_usd\",\"values\":[14013022092.1]},{\"axis\":{\"matches\":true},\"label\":\"bmi\",\"values\":[26.2]},{\"axis\":{\"matches\":true},\"label\":\"life_exp\",\"values\":[73.837]},{\"axis\":{\"matches\":true},\"label\":\"qol\",\"values\":[40.0]},{\"axis\":{\"matches\":true},\"label\":\"power_rating\",\"values\":[0.0]}],\"hovertemplate\":\"country_name=Nicaragua<br>%{xaxis.title.text}=%{x}<br>%{yaxis.title.text}=%{y}<extra></extra>\",\"legendgroup\":\"Nicaragua\",\"marker\":{\"color\":\"#FECB52\",\"symbol\":\"circle\"},\"name\":\"Nicaragua\",\"showlegend\":true,\"type\":\"splom\"},{\"dimensions\":[{\"axis\":{\"matches\":true},\"label\":\"mv_usd\",\"values\":[10125.0]},{\"axis\":{\"matches\":true},\"label\":\"gdp_usd\",\"values\":[14915001427.0]},{\"axis\":{\"matches\":true},\"label\":\"bmi\",\"values\":[21.2]},{\"axis\":{\"matches\":true},\"label\":\"life_exp\",\"values\":[61.576]},{\"axis\":{\"matches\":true},\"label\":\"qol\",\"values\":[0.0]},{\"axis\":{\"matches\":true},\"label\":\"power_rating\",\"values\":[0.0]}],\"hovertemplate\":\"country_name=Niger<br>%{xaxis.title.text}=%{x}<br>%{yaxis.title.text}=%{y}<extra></extra>\",\"legendgroup\":\"Niger\",\"marker\":{\"color\":\"#636efa\",\"symbol\":\"circle\"},\"name\":\"Niger\",\"showlegend\":true,\"type\":\"splom\"},{\"dimensions\":[{\"axis\":{\"matches\":true},\"label\":\"mv_usd\",\"values\":[142560.0]},{\"axis\":{\"matches\":true},\"label\":\"gdp_usd\",\"values\":[440833583992.5]},{\"axis\":{\"matches\":true},\"label\":\"bmi\",\"values\":[22.4]},{\"axis\":{\"matches\":true},\"label\":\"life_exp\",\"values\":[52.676]},{\"axis\":{\"matches\":true},\"label\":\"qol\",\"values\":[34.0]},{\"axis\":{\"matches\":true},\"label\":\"power_rating\",\"values\":[0.0]}],\"hovertemplate\":\"country_name=Nigeria<br>%{xaxis.title.text}=%{x}<br>%{yaxis.title.text}=%{y}<extra></extra>\",\"legendgroup\":\"Nigeria\",\"marker\":{\"color\":\"#EF553B\",\"symbol\":\"circle\"},\"name\":\"Nigeria\",\"showlegend\":true,\"type\":\"splom\"},{\"dimensions\":[{\"axis\":{\"matches\":true},\"label\":\"mv_usd\",\"values\":[1823904.0000000002]},{\"axis\":{\"matches\":true},\"label\":\"gdp_usd\",\"values\":[13825049831.8]},{\"axis\":{\"matches\":true},\"label\":\"bmi\",\"values\":[0.0]},{\"axis\":{\"matches\":true},\"label\":\"life_exp\",\"values\":[74.53682927]},{\"axis\":{\"matches\":true},\"label\":\"qol\",\"values\":[58.0]},{\"axis\":{\"matches\":true},\"label\":\"power_rating\",\"values\":[0.0]}],\"hovertemplate\":\"country_name=North Macedonia<br>%{xaxis.title.text}=%{x}<br>%{yaxis.title.text}=%{y}<extra></extra>\",\"legendgroup\":\"North Macedonia\",\"marker\":{\"color\":\"#00cc96\",\"symbol\":\"circle\"},\"name\":\"North Macedonia\",\"showlegend\":true,\"type\":\"splom\"},{\"dimensions\":[{\"axis\":{\"matches\":true},\"label\":\"mv_usd\",\"values\":[9637488.0]},{\"axis\":{\"matches\":true},\"label\":\"gdp_usd\",\"values\":[482174854482.0]},{\"axis\":{\"matches\":true},\"label\":\"bmi\",\"values\":[27.5]},{\"axis\":{\"matches\":true},\"label\":\"life_exp\",\"values\":[83.16341463]},{\"axis\":{\"matches\":true},\"label\":\"qol\",\"values\":[68.0]},{\"axis\":{\"matches\":true},\"label\":\"power_rating\",\"values\":[0.0]}],\"hovertemplate\":\"country_name=Norway<br>%{xaxis.title.text}=%{x}<br>%{yaxis.title.text}=%{y}<extra></extra>\",\"legendgroup\":\"Norway\",\"marker\":{\"color\":\"#ab63fa\",\"symbol\":\"circle\"},\"name\":\"Norway\",\"showlegend\":true,\"type\":\"splom\"},{\"dimensions\":[{\"axis\":{\"matches\":true},\"label\":\"mv_usd\",\"values\":[335016.0]},{\"axis\":{\"matches\":true},\"label\":\"gdp_usd\",\"values\":[88191977373.2]},{\"axis\":{\"matches\":true},\"label\":\"bmi\",\"values\":[26.2]},{\"axis\":{\"matches\":true},\"label\":\"life_exp\",\"values\":[72.541]},{\"axis\":{\"matches\":true},\"label\":\"qol\",\"values\":[56.0]},{\"axis\":{\"matches\":true},\"label\":\"power_rating\",\"values\":[0.0]}],\"hovertemplate\":\"country_name=Oman<br>%{xaxis.title.text}=%{x}<br>%{yaxis.title.text}=%{y}<extra></extra>\",\"legendgroup\":\"Oman\",\"marker\":{\"color\":\"#FFA15A\",\"symbol\":\"circle\"},\"name\":\"Oman\",\"showlegend\":true,\"type\":\"splom\"},{\"dimensions\":[{\"axis\":{\"matches\":true},\"label\":\"mv_usd\",\"values\":[30672.000000000004]},{\"axis\":{\"matches\":true},\"label\":\"gdp_usd\",\"values\":[348262544719.2]},{\"axis\":{\"matches\":true},\"label\":\"bmi\",\"values\":[23.1]},{\"axis\":{\"matches\":true},\"label\":\"life_exp\",\"values\":[66.098]},{\"axis\":{\"matches\":true},\"label\":\"qol\",\"values\":[46.0]},{\"axis\":{\"matches\":true},\"label\":\"power_rating\",\"values\":[0.0]}],\"hovertemplate\":\"country_name=Pakistan<br>%{xaxis.title.text}=%{x}<br>%{yaxis.title.text}=%{y}<extra></extra>\",\"legendgroup\":\"Pakistan\",\"marker\":{\"color\":\"#19d3f3\",\"symbol\":\"circle\"},\"name\":\"Pakistan\",\"showlegend\":true,\"type\":\"splom\"},{\"dimensions\":[{\"axis\":{\"matches\":true},\"label\":\"mv_usd\",\"values\":[1034640.0000000001]},{\"axis\":{\"matches\":true},\"label\":\"gdp_usd\",\"values\":[63605100000.0]},{\"axis\":{\"matches\":true},\"label\":\"bmi\",\"values\":[26.2]},{\"axis\":{\"matches\":true},\"label\":\"life_exp\",\"values\":[76.223]},{\"axis\":{\"matches\":true},\"label\":\"qol\",\"values\":[0.0]},{\"axis\":{\"matches\":true},\"label\":\"power_rating\",\"values\":[0.0]}],\"hovertemplate\":\"country_name=Panama<br>%{xaxis.title.text}=%{x}<br>%{yaxis.title.text}=%{y}<extra></extra>\",\"legendgroup\":\"Panama\",\"marker\":{\"color\":\"#FF6692\",\"symbol\":\"circle\"},\"name\":\"Panama\",\"showlegend\":true,\"type\":\"splom\"},{\"dimensions\":[{\"axis\":{\"matches\":true},\"label\":\"mv_usd\",\"values\":[37800.0]},{\"axis\":{\"matches\":true},\"label\":\"gdp_usd\",\"values\":[26594305745.6]},{\"axis\":{\"matches\":true},\"label\":\"bmi\",\"values\":[25.4]},{\"axis\":{\"matches\":true},\"label\":\"life_exp\",\"values\":[65.351]},{\"axis\":{\"matches\":true},\"label\":\"qol\",\"values\":[0.0]},{\"axis\":{\"matches\":true},\"label\":\"power_rating\",\"values\":[0.0]}],\"hovertemplate\":\"country_name=Papua New Guinea<br>%{xaxis.title.text}=%{x}<br>%{yaxis.title.text}=%{y}<extra></extra>\",\"legendgroup\":\"Papua New Guinea\",\"marker\":{\"color\":\"#B6E880\",\"symbol\":\"circle\"},\"name\":\"Papua New Guinea\",\"showlegend\":true,\"type\":\"splom\"},{\"dimensions\":[{\"axis\":{\"matches\":true},\"label\":\"mv_usd\",\"values\":[5105376.0]},{\"axis\":{\"matches\":true},\"label\":\"gdp_usd\",\"values\":[39495431574.2]},{\"axis\":{\"matches\":true},\"label\":\"bmi\",\"values\":[26.3]},{\"axis\":{\"matches\":true},\"label\":\"life_exp\",\"values\":[70.262]},{\"axis\":{\"matches\":true},\"label\":\"qol\",\"values\":[54.0]},{\"axis\":{\"matches\":true},\"label\":\"power_rating\",\"values\":[0.0]}],\"hovertemplate\":\"country_name=Paraguay<br>%{xaxis.title.text}=%{x}<br>%{yaxis.title.text}=%{y}<extra></extra>\",\"legendgroup\":\"Paraguay\",\"marker\":{\"color\":\"#FF97FF\",\"symbol\":\"circle\"},\"name\":\"Paraguay\",\"showlegend\":true,\"type\":\"splom\"},{\"dimensions\":[{\"axis\":{\"matches\":true},\"label\":\"mv_usd\",\"values\":[8536320.0]},{\"axis\":{\"matches\":true},\"label\":\"gdp_usd\",\"values\":[223249497500.4]},{\"axis\":{\"matches\":true},\"label\":\"bmi\",\"values\":[26.1]},{\"axis\":{\"matches\":true},\"label\":\"life_exp\",\"values\":[72.377]},{\"axis\":{\"matches\":true},\"label\":\"qol\",\"values\":[51.0]},{\"axis\":{\"matches\":true},\"label\":\"power_rating\",\"values\":[0.203125]}],\"hovertemplate\":\"country_name=Peru<br>%{xaxis.title.text}=%{x}<br>%{yaxis.title.text}=%{y}<extra></extra>\",\"legendgroup\":\"Peru\",\"marker\":{\"color\":\"#FECB52\",\"symbol\":\"circle\"},\"name\":\"Peru\",\"showlegend\":true,\"type\":\"splom\"},{\"dimensions\":[{\"axis\":{\"matches\":true},\"label\":\"mv_usd\",\"values\":[115344.00000000001]},{\"axis\":{\"matches\":true},\"label\":\"gdp_usd\",\"values\":[394086401171.2]},{\"axis\":{\"matches\":true},\"label\":\"bmi\",\"values\":[22.8]},{\"axis\":{\"matches\":true},\"label\":\"life_exp\",\"values\":[69.266]},{\"axis\":{\"matches\":true},\"label\":\"qol\",\"values\":[47.0]},{\"axis\":{\"matches\":true},\"label\":\"power_rating\",\"values\":[0.0]}],\"hovertemplate\":\"country_name=Philippines<br>%{xaxis.title.text}=%{x}<br>%{yaxis.title.text}=%{y}<extra></extra>\",\"legendgroup\":\"Philippines\",\"marker\":{\"color\":\"#636efa\",\"symbol\":\"circle\"},\"name\":\"Philippines\",\"showlegend\":true,\"type\":\"splom\"},{\"dimensions\":[{\"axis\":{\"matches\":true},\"label\":\"mv_usd\",\"values\":[12699072.0]},{\"axis\":{\"matches\":true},\"label\":\"gdp_usd\",\"values\":[679444832854.3]},{\"axis\":{\"matches\":true},\"label\":\"bmi\",\"values\":[27.8]},{\"axis\":{\"matches\":true},\"label\":\"life_exp\",\"values\":[75.60243902]},{\"axis\":{\"matches\":true},\"label\":\"qol\",\"values\":[62.0]},{\"axis\":{\"matches\":true},\"label\":\"power_rating\",\"values\":[0.390625]}],\"hovertemplate\":\"country_name=Poland<br>%{xaxis.title.text}=%{x}<br>%{yaxis.title.text}=%{y}<extra></extra>\",\"legendgroup\":\"Poland\",\"marker\":{\"color\":\"#EF553B\",\"symbol\":\"circle\"},\"name\":\"Poland\",\"showlegend\":true,\"type\":\"splom\"},{\"dimensions\":[{\"axis\":{\"matches\":true},\"label\":\"mv_usd\",\"values\":[57848256.00000001]},{\"axis\":{\"matches\":true},\"label\":\"gdp_usd\",\"values\":[253663144586.0]},{\"axis\":{\"matches\":true},\"label\":\"bmi\",\"values\":[26.5]},{\"axis\":{\"matches\":true},\"label\":\"life_exp\",\"values\":[81.07317073]},{\"axis\":{\"matches\":true},\"label\":\"qol\",\"values\":[70.0]},{\"axis\":{\"matches\":true},\"label\":\"power_rating\",\"values\":[0.671875]}],\"hovertemplate\":\"country_name=Portugal<br>%{xaxis.title.text}=%{x}<br>%{yaxis.title.text}=%{y}<extra></extra>\",\"legendgroup\":\"Portugal\",\"marker\":{\"color\":\"#00cc96\",\"symbol\":\"circle\"},\"name\":\"Portugal\",\"showlegend\":true,\"type\":\"splom\"},{\"dimensions\":[{\"axis\":{\"matches\":true},\"label\":\"mv_usd\",\"values\":[0.0]},{\"axis\":{\"matches\":true},\"label\":\"gdp_usd\",\"values\":[106525700000.0]},{\"axis\":{\"matches\":true},\"label\":\"bmi\",\"values\":[0.0]},{\"axis\":{\"matches\":true},\"label\":\"life_exp\",\"values\":[80.162]},{\"axis\":{\"matches\":true},\"label\":\"qol\",\"values\":[0.0]},{\"axis\":{\"matches\":true},\"label\":\"power_rating\",\"values\":[0.0]}],\"hovertemplate\":\"country_name=Puerto Rico<br>%{xaxis.title.text}=%{x}<br>%{yaxis.title.text}=%{y}<extra></extra>\",\"legendgroup\":\"Puerto Rico\",\"marker\":{\"color\":\"#ab63fa\",\"symbol\":\"circle\"},\"name\":\"Puerto Rico\",\"showlegend\":true,\"type\":\"splom\"},{\"dimensions\":[{\"axis\":{\"matches\":true},\"label\":\"mv_usd\",\"values\":[5596776.0]},{\"axis\":{\"matches\":true},\"label\":\"gdp_usd\",\"values\":[179677211793.9]},{\"axis\":{\"matches\":true},\"label\":\"bmi\",\"values\":[29.0]},{\"axis\":{\"matches\":true},\"label\":\"life_exp\",\"values\":[79.272]},{\"axis\":{\"matches\":true},\"label\":\"qol\",\"values\":[66.0]},{\"axis\":{\"matches\":true},\"label\":\"power_rating\",\"values\":[0.0]}],\"hovertemplate\":\"country_name=Qatar<br>%{xaxis.title.text}=%{x}<br>%{yaxis.title.text}=%{y}<extra></extra>\",\"legendgroup\":\"Qatar\",\"marker\":{\"color\":\"#FFA15A\",\"symbol\":\"circle\"},\"name\":\"Qatar\",\"showlegend\":true,\"type\":\"splom\"},{\"dimensions\":[{\"axis\":{\"matches\":true},\"label\":\"mv_usd\",\"values\":[10800432.0]},{\"axis\":{\"matches\":true},\"label\":\"gdp_usd\",\"values\":[284087563695.8]},{\"axis\":{\"matches\":true},\"label\":\"bmi\",\"values\":[27.6]},{\"axis\":{\"matches\":true},\"label\":\"life_exp\",\"values\":[72.96097561]},{\"axis\":{\"matches\":true},\"label\":\"qol\",\"values\":[58.0]},{\"axis\":{\"matches\":true},\"label\":\"power_rating\",\"values\":[0.0]}],\"hovertemplate\":\"country_name=Romania<br>%{xaxis.title.text}=%{x}<br>%{yaxis.title.text}=%{y}<extra></extra>\",\"legendgroup\":\"Romania\",\"marker\":{\"color\":\"#19d3f3\",\"symbol\":\"circle\"},\"name\":\"Romania\",\"showlegend\":true,\"type\":\"splom\"},{\"dimensions\":[{\"axis\":{\"matches\":true},\"label\":\"mv_usd\",\"values\":[30240.000000000004]},{\"axis\":{\"matches\":true},\"label\":\"gdp_usd\",\"values\":[11070356519.5]},{\"axis\":{\"matches\":true},\"label\":\"bmi\",\"values\":[21.4]},{\"axis\":{\"matches\":true},\"label\":\"life_exp\",\"values\":[66.072]},{\"axis\":{\"matches\":true},\"label\":\"qol\",\"values\":[49.0]},{\"axis\":{\"matches\":true},\"label\":\"power_rating\",\"values\":[0.0]}],\"hovertemplate\":\"country_name=Rwanda<br>%{xaxis.title.text}=%{x}<br>%{yaxis.title.text}=%{y}<extra></extra>\",\"legendgroup\":\"Rwanda\",\"marker\":{\"color\":\"#FF6692\",\"symbol\":\"circle\"},\"name\":\"Rwanda\",\"showlegend\":true,\"type\":\"splom\"},{\"dimensions\":[{\"axis\":{\"matches\":true},\"label\":\"mv_usd\",\"values\":[2700.0]},{\"axis\":{\"matches\":true},\"label\":\"gdp_usd\",\"values\":[843842416.5]},{\"axis\":{\"matches\":true},\"label\":\"bmi\",\"values\":[30.1]},{\"axis\":{\"matches\":true},\"label\":\"life_exp\",\"values\":[72.767]},{\"axis\":{\"matches\":true},\"label\":\"qol\",\"values\":[0.0]},{\"axis\":{\"matches\":true},\"label\":\"power_rating\",\"values\":[0.0]}],\"hovertemplate\":\"country_name=Samoa<br>%{xaxis.title.text}=%{x}<br>%{yaxis.title.text}=%{y}<extra></extra>\",\"legendgroup\":\"Samoa\",\"marker\":{\"color\":\"#B6E880\",\"symbol\":\"circle\"},\"name\":\"Samoa\",\"showlegend\":true,\"type\":\"splom\"},{\"dimensions\":[{\"axis\":{\"matches\":true},\"label\":\"mv_usd\",\"values\":[0.0]},{\"axis\":{\"matches\":true},\"label\":\"gdp_usd\",\"values\":[526653790.7]},{\"axis\":{\"matches\":true},\"label\":\"bmi\",\"values\":[23.7]},{\"axis\":{\"matches\":true},\"label\":\"life_exp\",\"values\":[67.591]},{\"axis\":{\"matches\":true},\"label\":\"qol\",\"values\":[0.0]},{\"axis\":{\"matches\":true},\"label\":\"power_rating\",\"values\":[0.0]}],\"hovertemplate\":\"country_name=Sao Tome and Principe<br>%{xaxis.title.text}=%{x}<br>%{yaxis.title.text}=%{y}<extra></extra>\",\"legendgroup\":\"Sao Tome and Principe\",\"marker\":{\"color\":\"#FF97FF\",\"symbol\":\"circle\"},\"name\":\"Sao Tome and Principe\",\"showlegend\":true,\"type\":\"splom\"},{\"dimensions\":[{\"axis\":{\"matches\":true},\"label\":\"mv_usd\",\"values\":[15161904.000000002]},{\"axis\":{\"matches\":true},\"label\":\"gdp_usd\",\"values\":[833541236569.3]},{\"axis\":{\"matches\":true},\"label\":\"bmi\",\"values\":[28.0]},{\"axis\":{\"matches\":true},\"label\":\"life_exp\",\"values\":[76.936]},{\"axis\":{\"matches\":true},\"label\":\"qol\",\"values\":[59.0]},{\"axis\":{\"matches\":true},\"label\":\"power_rating\",\"values\":[0.203125]}],\"hovertemplate\":\"country_name=Saudi Arabia<br>%{xaxis.title.text}=%{x}<br>%{yaxis.title.text}=%{y}<extra></extra>\",\"legendgroup\":\"Saudi Arabia\",\"marker\":{\"color\":\"#FECB52\",\"symbol\":\"circle\"},\"name\":\"Saudi Arabia\",\"showlegend\":true,\"type\":\"splom\"},{\"dimensions\":[{\"axis\":{\"matches\":true},\"label\":\"mv_usd\",\"values\":[120960.00000000001]},{\"axis\":{\"matches\":true},\"label\":\"gdp_usd\",\"values\":[27625388352.2]},{\"axis\":{\"matches\":true},\"label\":\"bmi\",\"values\":[21.4]},{\"axis\":{\"matches\":true},\"label\":\"life_exp\",\"values\":[67.093]},{\"axis\":{\"matches\":true},\"label\":\"qol\",\"values\":[0.0]},{\"axis\":{\"matches\":true},\"label\":\"power_rating\",\"values\":[0.546875]}],\"hovertemplate\":\"country_name=Senegal<br>%{xaxis.title.text}=%{x}<br>%{yaxis.title.text}=%{y}<extra></extra>\",\"legendgroup\":\"Senegal\",\"marker\":{\"color\":\"#636efa\",\"symbol\":\"circle\"},\"name\":\"Senegal\",\"showlegend\":true,\"type\":\"splom\"},{\"dimensions\":[{\"axis\":{\"matches\":true},\"label\":\"mv_usd\",\"values\":[11256192.0]},{\"axis\":{\"matches\":true},\"label\":\"gdp_usd\",\"values\":[63082047649.9]},{\"axis\":{\"matches\":true},\"label\":\"bmi\",\"values\":[26.9]},{\"axis\":{\"matches\":true},\"label\":\"life_exp\",\"values\":[72.73073171]},{\"axis\":{\"matches\":true},\"label\":\"qol\",\"values\":[52.0]},{\"axis\":{\"matches\":true},\"label\":\"power_rating\",\"values\":[0.0]}],\"hovertemplate\":\"country_name=Serbia<br>%{xaxis.title.text}=%{x}<br>%{yaxis.title.text}=%{y}<extra></extra>\",\"legendgroup\":\"Serbia\",\"marker\":{\"color\":\"#EF553B\",\"symbol\":\"circle\"},\"name\":\"Serbia\",\"showlegend\":true,\"type\":\"splom\"},{\"dimensions\":[{\"axis\":{\"matches\":true},\"label\":\"mv_usd\",\"values\":[0.0]},{\"axis\":{\"matches\":true},\"label\":\"gdp_usd\",\"values\":[1454458183.9]},{\"axis\":{\"matches\":true},\"label\":\"bmi\",\"values\":[25.7]},{\"axis\":{\"matches\":true},\"label\":\"life_exp\",\"values\":[73.39756098]},{\"axis\":{\"matches\":true},\"label\":\"qol\",\"values\":[0.0]},{\"axis\":{\"matches\":true},\"label\":\"power_rating\",\"values\":[0.0]}],\"hovertemplate\":\"country_name=Seychelles<br>%{xaxis.title.text}=%{x}<br>%{yaxis.title.text}=%{y}<extra></extra>\",\"legendgroup\":\"Seychelles\",\"marker\":{\"color\":\"#00cc96\",\"symbol\":\"circle\"},\"name\":\"Seychelles\",\"showlegend\":true,\"type\":\"splom\"},{\"dimensions\":[{\"axis\":{\"matches\":true},\"label\":\"mv_usd\",\"values\":[45000.0000036]},{\"axis\":{\"matches\":true},\"label\":\"gdp_usd\",\"values\":[4042237864.3]},{\"axis\":{\"matches\":true},\"label\":\"bmi\",\"values\":[21.9]},{\"axis\":{\"matches\":true},\"label\":\"life_exp\",\"values\":[60.062]},{\"axis\":{\"matches\":true},\"label\":\"qol\",\"values\":[43.0]},{\"axis\":{\"matches\":true},\"label\":\"power_rating\",\"values\":[0.0]}],\"hovertemplate\":\"country_name=Sierra Leone<br>%{xaxis.title.text}=%{x}<br>%{yaxis.title.text}=%{y}<extra></extra>\",\"legendgroup\":\"Sierra Leone\",\"marker\":{\"color\":\"#ab63fa\",\"symbol\":\"circle\"},\"name\":\"Sierra Leone\",\"showlegend\":true,\"type\":\"splom\"},{\"dimensions\":[{\"axis\":{\"matches\":true},\"label\":\"mv_usd\",\"values\":[727056.0]},{\"axis\":{\"matches\":true},\"label\":\"gdp_usd\",\"values\":[396986899888.4]},{\"axis\":{\"matches\":true},\"label\":\"bmi\",\"values\":[24.4]},{\"axis\":{\"matches\":true},\"label\":\"life_exp\",\"values\":[83.44146341]},{\"axis\":{\"matches\":true},\"label\":\"qol\",\"values\":[71.0]},{\"axis\":{\"matches\":true},\"label\":\"power_rating\",\"values\":[0.0]}],\"hovertemplate\":\"country_name=Singapore<br>%{xaxis.title.text}=%{x}<br>%{yaxis.title.text}=%{y}<extra></extra>\",\"legendgroup\":\"Singapore\",\"marker\":{\"color\":\"#FFA15A\",\"symbol\":\"circle\"},\"name\":\"Singapore\",\"showlegend\":true,\"type\":\"splom\"},{\"dimensions\":[{\"axis\":{\"matches\":true},\"label\":\"mv_usd\",\"values\":[3258576.0]},{\"axis\":{\"matches\":true},\"label\":\"gdp_usd\",\"values\":[61748586534.9]},{\"axis\":{\"matches\":true},\"label\":\"bmi\",\"values\":[27.0]},{\"axis\":{\"matches\":true},\"label\":\"life_exp\",\"values\":[80.87560976]},{\"axis\":{\"matches\":true},\"label\":\"qol\",\"values\":[66.0]},{\"axis\":{\"matches\":true},\"label\":\"power_rating\",\"values\":[0.0]}],\"hovertemplate\":\"country_name=Slovenia<br>%{xaxis.title.text}=%{x}<br>%{yaxis.title.text}=%{y}<extra></extra>\",\"legendgroup\":\"Slovenia\",\"marker\":{\"color\":\"#19d3f3\",\"symbol\":\"circle\"},\"name\":\"Slovenia\",\"showlegend\":true,\"type\":\"splom\"},{\"dimensions\":[{\"axis\":{\"matches\":true},\"label\":\"mv_usd\",\"values\":[45360.0]},{\"axis\":{\"matches\":true},\"label\":\"gdp_usd\",\"values\":[1631486531.9]},{\"axis\":{\"matches\":true},\"label\":\"bmi\",\"values\":[25.6]},{\"axis\":{\"matches\":true},\"label\":\"life_exp\",\"values\":[70.348]},{\"axis\":{\"matches\":true},\"label\":\"qol\",\"values\":[0.0]},{\"axis\":{\"matches\":true},\"label\":\"power_rating\",\"values\":[0.0]}],\"hovertemplate\":\"country_name=Solomon Islands<br>%{xaxis.title.text}=%{x}<br>%{yaxis.title.text}=%{y}<extra></extra>\",\"legendgroup\":\"Solomon Islands\",\"marker\":{\"color\":\"#FF6692\",\"symbol\":\"circle\"},\"name\":\"Solomon Islands\",\"showlegend\":true,\"type\":\"splom\"},{\"dimensions\":[{\"axis\":{\"matches\":true},\"label\":\"mv_usd\",\"values\":[0.0]},{\"axis\":{\"matches\":true},\"label\":\"gdp_usd\",\"values\":[7628000011.5]},{\"axis\":{\"matches\":true},\"label\":\"bmi\",\"values\":[22.2]},{\"axis\":{\"matches\":true},\"label\":\"life_exp\",\"values\":[55.28]},{\"axis\":{\"matches\":true},\"label\":\"qol\",\"values\":[0.0]},{\"axis\":{\"matches\":true},\"label\":\"power_rating\",\"values\":[0.0]}],\"hovertemplate\":\"country_name=Somalia<br>%{xaxis.title.text}=%{x}<br>%{yaxis.title.text}=%{y}<extra></extra>\",\"legendgroup\":\"Somalia\",\"marker\":{\"color\":\"#B6E880\",\"symbol\":\"circle\"},\"name\":\"Somalia\",\"showlegend\":true,\"type\":\"splom\"},{\"dimensions\":[{\"axis\":{\"matches\":true},\"label\":\"mv_usd\",\"values\":[7762176.000000001]},{\"axis\":{\"matches\":true},\"label\":\"gdp_usd\",\"values\":[419015018371.9]},{\"axis\":{\"matches\":true},\"label\":\"bmi\",\"values\":[24.7]},{\"axis\":{\"matches\":true},\"label\":\"life_exp\",\"values\":[62.341]},{\"axis\":{\"matches\":true},\"label\":\"qol\",\"values\":[51.0]},{\"axis\":{\"matches\":true},\"label\":\"power_rating\",\"values\":[0.0]}],\"hovertemplate\":\"country_name=South Africa<br>%{xaxis.title.text}=%{x}<br>%{yaxis.title.text}=%{y}<extra></extra>\",\"legendgroup\":\"South Africa\",\"marker\":{\"color\":\"#FF97FF\",\"symbol\":\"circle\"},\"name\":\"South Africa\",\"showlegend\":true,\"type\":\"splom\"},{\"dimensions\":[{\"axis\":{\"matches\":true},\"label\":\"mv_usd\",\"values\":[214500960.0]},{\"axis\":{\"matches\":true},\"label\":\"gdp_usd\",\"values\":[1427380681294.6]},{\"axis\":{\"matches\":true},\"label\":\"bmi\",\"values\":[27.4]},{\"axis\":{\"matches\":true},\"label\":\"life_exp\",\"values\":[83.17804878]},{\"axis\":{\"matches\":true},\"label\":\"qol\",\"values\":[71.0]},{\"axis\":{\"matches\":true},\"label\":\"power_rating\",\"values\":[0.625]}],\"hovertemplate\":\"country_name=Spain<br>%{xaxis.title.text}=%{x}<br>%{yaxis.title.text}=%{y}<extra></extra>\",\"legendgroup\":\"Spain\",\"marker\":{\"color\":\"#FECB52\",\"symbol\":\"circle\"},\"name\":\"Spain\",\"showlegend\":true,\"type\":\"splom\"},{\"dimensions\":[{\"axis\":{\"matches\":true},\"label\":\"mv_usd\",\"values\":[32832.0]},{\"axis\":{\"matches\":true},\"label\":\"gdp_usd\",\"values\":[88927263724.9]},{\"axis\":{\"matches\":true},\"label\":\"bmi\",\"values\":[22.6]},{\"axis\":{\"matches\":true},\"label\":\"life_exp\",\"values\":[76.399]},{\"axis\":{\"matches\":true},\"label\":\"qol\",\"values\":[54.0]},{\"axis\":{\"matches\":true},\"label\":\"power_rating\",\"values\":[0.0]}],\"hovertemplate\":\"country_name=Sri Lanka<br>%{xaxis.title.text}=%{x}<br>%{yaxis.title.text}=%{y}<extra></extra>\",\"legendgroup\":\"Sri Lanka\",\"marker\":{\"color\":\"#636efa\",\"symbol\":\"circle\"},\"name\":\"Sri Lanka\",\"showlegend\":true,\"type\":\"splom\"},{\"dimensions\":[{\"axis\":{\"matches\":true},\"label\":\"mv_usd\",\"values\":[308880.0]},{\"axis\":{\"matches\":true},\"label\":\"gdp_usd\",\"values\":[34326058557.4]},{\"axis\":{\"matches\":true},\"label\":\"bmi\",\"values\":[0.0]},{\"axis\":{\"matches\":true},\"label\":\"life_exp\",\"values\":[65.267]},{\"axis\":{\"matches\":true},\"label\":\"qol\",\"values\":[28.0]},{\"axis\":{\"matches\":true},\"label\":\"power_rating\",\"values\":[0.0]}],\"hovertemplate\":\"country_name=Sudan<br>%{xaxis.title.text}=%{x}<br>%{yaxis.title.text}=%{y}<extra></extra>\",\"legendgroup\":\"Sudan\",\"marker\":{\"color\":\"#EF553B\",\"symbol\":\"circle\"},\"name\":\"Sudan\",\"showlegend\":true,\"type\":\"splom\"},{\"dimensions\":[{\"axis\":{\"matches\":true},\"label\":\"mv_usd\",\"values\":[5400.0]},{\"axis\":{\"matches\":true},\"label\":\"gdp_usd\",\"values\":[2984706243.7]},{\"axis\":{\"matches\":true},\"label\":\"bmi\",\"values\":[25.4]},{\"axis\":{\"matches\":true},\"label\":\"life_exp\",\"values\":[70.274]},{\"axis\":{\"matches\":true},\"label\":\"qol\",\"values\":[0.0]},{\"axis\":{\"matches\":true},\"label\":\"power_rating\",\"values\":[0.0]}],\"hovertemplate\":\"country_name=Suriname<br>%{xaxis.title.text}=%{x}<br>%{yaxis.title.text}=%{y}<extra></extra>\",\"legendgroup\":\"Suriname\",\"marker\":{\"color\":\"#00cc96\",\"symbol\":\"circle\"},\"name\":\"Suriname\",\"showlegend\":true,\"type\":\"splom\"},{\"dimensions\":[{\"axis\":{\"matches\":true},\"label\":\"mv_usd\",\"values\":[10130832.0]},{\"axis\":{\"matches\":true},\"label\":\"gdp_usd\",\"values\":[635663801201.8]},{\"axis\":{\"matches\":true},\"label\":\"bmi\",\"values\":[27.0]},{\"axis\":{\"matches\":true},\"label\":\"life_exp\",\"values\":[83.15609756]},{\"axis\":{\"matches\":true},\"label\":\"qol\",\"values\":[68.0]},{\"axis\":{\"matches\":true},\"label\":\"power_rating\",\"values\":[0.390625]}],\"hovertemplate\":\"country_name=Sweden<br>%{xaxis.title.text}=%{x}<br>%{yaxis.title.text}=%{y}<extra></extra>\",\"legendgroup\":\"Sweden\",\"marker\":{\"color\":\"#ab63fa\",\"symbol\":\"circle\"},\"name\":\"Sweden\",\"showlegend\":true,\"type\":\"splom\"},{\"dimensions\":[{\"axis\":{\"matches\":true},\"label\":\"mv_usd\",\"values\":[15020640.000000002]},{\"axis\":{\"matches\":true},\"label\":\"gdp_usd\",\"values\":[800640155387.3]},{\"axis\":{\"matches\":true},\"label\":\"bmi\",\"values\":[27.1]},{\"axis\":{\"matches\":true},\"label\":\"life_exp\",\"values\":[83.85121951]},{\"axis\":{\"matches\":true},\"label\":\"qol\",\"values\":[73.0]},{\"axis\":{\"matches\":true},\"label\":\"power_rating\",\"values\":[0.59375]}],\"hovertemplate\":\"country_name=Switzerland<br>%{xaxis.title.text}=%{x}<br>%{yaxis.title.text}=%{y}<extra></extra>\",\"legendgroup\":\"Switzerland\",\"marker\":{\"color\":\"#FFA15A\",\"symbol\":\"circle\"},\"name\":\"Switzerland\",\"showlegend\":true,\"type\":\"splom\"},{\"dimensions\":[{\"axis\":{\"matches\":true},\"label\":\"mv_usd\",\"values\":[377784.0]},{\"axis\":{\"matches\":true},\"label\":\"gdp_usd\",\"values\":[8746270636.4]},{\"axis\":{\"matches\":true},\"label\":\"bmi\",\"values\":[25.5]},{\"axis\":{\"matches\":true},\"label\":\"life_exp\",\"values\":[71.594]},{\"axis\":{\"matches\":true},\"label\":\"qol\",\"values\":[44.0]},{\"axis\":{\"matches\":true},\"label\":\"power_rating\",\"values\":[0.0]}],\"hovertemplate\":\"country_name=Tajikistan<br>%{xaxis.title.text}=%{x}<br>%{yaxis.title.text}=%{y}<extra></extra>\",\"legendgroup\":\"Tajikistan\",\"marker\":{\"color\":\"#19d3f3\",\"symbol\":\"circle\"},\"name\":\"Tajikistan\",\"showlegend\":true,\"type\":\"splom\"},{\"dimensions\":[{\"axis\":{\"matches\":true},\"label\":\"mv_usd\",\"values\":[245376.00000000003]},{\"axis\":{\"matches\":true},\"label\":\"gdp_usd\",\"values\":[67841049193.4]},{\"axis\":{\"matches\":true},\"label\":\"bmi\",\"values\":[0.0]},{\"axis\":{\"matches\":true},\"label\":\"life_exp\",\"values\":[66.201]},{\"axis\":{\"matches\":true},\"label\":\"qol\",\"values\":[0.0]},{\"axis\":{\"matches\":true},\"label\":\"power_rating\",\"values\":[0.0]}],\"hovertemplate\":\"country_name=Tanzania<br>%{xaxis.title.text}=%{x}<br>%{yaxis.title.text}=%{y}<extra></extra>\",\"legendgroup\":\"Tanzania\",\"marker\":{\"color\":\"#FF6692\",\"symbol\":\"circle\"},\"name\":\"Tanzania\",\"showlegend\":true,\"type\":\"splom\"},{\"dimensions\":[{\"axis\":{\"matches\":true},\"label\":\"mv_usd\",\"values\":[3655584.0000000005]},{\"axis\":{\"matches\":true},\"label\":\"gdp_usd\",\"values\":[505947037098.4]},{\"axis\":{\"matches\":true},\"label\":\"bmi\",\"values\":[24.0]},{\"axis\":{\"matches\":true},\"label\":\"life_exp\",\"values\":[78.715]},{\"axis\":{\"matches\":true},\"label\":\"qol\",\"values\":[54.0]},{\"axis\":{\"matches\":true},\"label\":\"power_rating\",\"values\":[0.0]}],\"hovertemplate\":\"country_name=Thailand<br>%{xaxis.title.text}=%{x}<br>%{yaxis.title.text}=%{y}<extra></extra>\",\"legendgroup\":\"Thailand\",\"marker\":{\"color\":\"#B6E880\",\"symbol\":\"circle\"},\"name\":\"Thailand\",\"showlegend\":true,\"type\":\"splom\"},{\"dimensions\":[{\"axis\":{\"matches\":true},\"label\":\"mv_usd\",\"values\":[11880.0]},{\"axis\":{\"matches\":true},\"label\":\"gdp_usd\",\"values\":[8413200567.6]},{\"axis\":{\"matches\":true},\"label\":\"bmi\",\"values\":[22.4]},{\"axis\":{\"matches\":true},\"label\":\"life_exp\",\"values\":[61.619]},{\"axis\":{\"matches\":true},\"label\":\"qol\",\"values\":[43.0]},{\"axis\":{\"matches\":true},\"label\":\"power_rating\",\"values\":[0.0]}],\"hovertemplate\":\"country_name=Togo<br>%{xaxis.title.text}=%{x}<br>%{yaxis.title.text}=%{y}<extra></extra>\",\"legendgroup\":\"Togo\",\"marker\":{\"color\":\"#FF97FF\",\"symbol\":\"circle\"},\"name\":\"Togo\",\"showlegend\":true,\"type\":\"splom\"},{\"dimensions\":[{\"axis\":{\"matches\":true},\"label\":\"mv_usd\",\"values\":[0.0]},{\"axis\":{\"matches\":true},\"label\":\"gdp_usd\",\"values\":[469231309.5]},{\"axis\":{\"matches\":true},\"label\":\"bmi\",\"values\":[30.3]},{\"axis\":{\"matches\":true},\"label\":\"life_exp\",\"values\":[70.986]},{\"axis\":{\"matches\":true},\"label\":\"qol\",\"values\":[0.0]},{\"axis\":{\"matches\":true},\"label\":\"power_rating\",\"values\":[0.0]}],\"hovertemplate\":\"country_name=Tonga<br>%{xaxis.title.text}=%{x}<br>%{yaxis.title.text}=%{y}<extra></extra>\",\"legendgroup\":\"Tonga\",\"marker\":{\"color\":\"#FECB52\",\"symbol\":\"circle\"},\"name\":\"Tonga\",\"showlegend\":true,\"type\":\"splom\"},{\"dimensions\":[{\"axis\":{\"matches\":true},\"label\":\"mv_usd\",\"values\":[0.0]},{\"axis\":{\"matches\":true},\"label\":\"gdp_usd\",\"values\":[24460196270.7]},{\"axis\":{\"matches\":true},\"label\":\"bmi\",\"values\":[26.8]},{\"axis\":{\"matches\":true},\"label\":\"life_exp\",\"values\":[72.971]},{\"axis\":{\"matches\":true},\"label\":\"qol\",\"values\":[52.0]},{\"axis\":{\"matches\":true},\"label\":\"power_rating\",\"values\":[0.0]}],\"hovertemplate\":\"country_name=Trinidad and Tobago<br>%{xaxis.title.text}=%{x}<br>%{yaxis.title.text}=%{y}<extra></extra>\",\"legendgroup\":\"Trinidad and Tobago\",\"marker\":{\"color\":\"#636efa\",\"symbol\":\"circle\"},\"name\":\"Trinidad and Tobago\",\"showlegend\":true,\"type\":\"splom\"},{\"dimensions\":[{\"axis\":{\"matches\":true},\"label\":\"mv_usd\",\"values\":[4208112.0]},{\"axis\":{\"matches\":true},\"label\":\"gdp_usd\",\"values\":[46686741814.3]},{\"axis\":{\"matches\":true},\"label\":\"bmi\",\"values\":[25.6]},{\"axis\":{\"matches\":true},\"label\":\"life_exp\",\"values\":[73.772]},{\"axis\":{\"matches\":true},\"label\":\"qol\",\"values\":[54.0]},{\"axis\":{\"matches\":true},\"label\":\"power_rating\",\"values\":[0.296875]}],\"hovertemplate\":\"country_name=Tunisia<br>%{xaxis.title.text}=%{x}<br>%{yaxis.title.text}=%{y}<extra></extra>\",\"legendgroup\":\"Tunisia\",\"marker\":{\"color\":\"#EF553B\",\"symbol\":\"circle\"},\"name\":\"Tunisia\",\"showlegend\":true,\"type\":\"splom\"},{\"dimensions\":[{\"axis\":{\"matches\":true},\"label\":\"mv_usd\",\"values\":[45600192.0]},{\"axis\":{\"matches\":true},\"label\":\"gdp_usd\",\"values\":[819035182929.6]},{\"axis\":{\"matches\":true},\"label\":\"bmi\",\"values\":[0.0]},{\"axis\":{\"matches\":true},\"label\":\"life_exp\",\"values\":[76.032]},{\"axis\":{\"matches\":true},\"label\":\"qol\",\"values\":[51.0]},{\"axis\":{\"matches\":true},\"label\":\"power_rating\",\"values\":[0.0]}],\"hovertemplate\":\"country_name=Turkey<br>%{xaxis.title.text}=%{x}<br>%{yaxis.title.text}=%{y}<extra></extra>\",\"legendgroup\":\"Turkey\",\"marker\":{\"color\":\"#00cc96\",\"symbol\":\"circle\"},\"name\":\"Turkey\",\"showlegend\":true,\"type\":\"splom\"},{\"dimensions\":[{\"axis\":{\"matches\":true},\"label\":\"mv_usd\",\"values\":[0.0]},{\"axis\":{\"matches\":true},\"label\":\"gdp_usd\",\"values\":[63100961.5]},{\"axis\":{\"matches\":true},\"label\":\"bmi\",\"values\":[29.8]},{\"axis\":{\"matches\":true},\"label\":\"life_exp\",\"values\":[64.547]},{\"axis\":{\"matches\":true},\"label\":\"qol\",\"values\":[0.0]},{\"axis\":{\"matches\":true},\"label\":\"power_rating\",\"values\":[0.0]}],\"hovertemplate\":\"country_name=Tuvalu<br>%{xaxis.title.text}=%{x}<br>%{yaxis.title.text}=%{y}<extra></extra>\",\"legendgroup\":\"Tuvalu\",\"marker\":{\"color\":\"#ab63fa\",\"symbol\":\"circle\"},\"name\":\"Tuvalu\",\"showlegend\":true,\"type\":\"splom\"},{\"dimensions\":[{\"axis\":{\"matches\":true},\"label\":\"mv_usd\",\"values\":[71280.0]},{\"axis\":{\"matches\":true},\"label\":\"gdp_usd\",\"values\":[40529789025.6]},{\"axis\":{\"matches\":true},\"label\":\"bmi\",\"values\":[21.6]},{\"axis\":{\"matches\":true},\"label\":\"life_exp\",\"values\":[62.705]},{\"axis\":{\"matches\":true},\"label\":\"qol\",\"values\":[44.0]},{\"axis\":{\"matches\":true},\"label\":\"power_rating\",\"values\":[0.0]}],\"hovertemplate\":\"country_name=Uganda<br>%{xaxis.title.text}=%{x}<br>%{yaxis.title.text}=%{y}<extra></extra>\",\"legendgroup\":\"Uganda\",\"marker\":{\"color\":\"#FFA15A\",\"symbol\":\"circle\"},\"name\":\"Uganda\",\"showlegend\":true,\"type\":\"splom\"},{\"dimensions\":[{\"axis\":{\"matches\":true},\"label\":\"mv_usd\",\"values\":[13891392.0]},{\"axis\":{\"matches\":true},\"label\":\"gdp_usd\",\"values\":[200085537744.4]},{\"axis\":{\"matches\":true},\"label\":\"bmi\",\"values\":[27.1]},{\"axis\":{\"matches\":true},\"label\":\"life_exp\",\"values\":[69.64780488]},{\"axis\":{\"matches\":true},\"label\":\"qol\",\"values\":[46.0]},{\"axis\":{\"matches\":true},\"label\":\"power_rating\",\"values\":[0.0]}],\"hovertemplate\":\"country_name=Ukraine<br>%{xaxis.title.text}=%{x}<br>%{yaxis.title.text}=%{y}<extra></extra>\",\"legendgroup\":\"Ukraine\",\"marker\":{\"color\":\"#19d3f3\",\"symbol\":\"circle\"},\"name\":\"Ukraine\",\"showlegend\":true,\"type\":\"splom\"},{\"dimensions\":[{\"axis\":{\"matches\":true},\"label\":\"mv_usd\",\"values\":[12981384.0]},{\"axis\":{\"matches\":true},\"label\":\"gdp_usd\",\"values\":[415021590683.0]},{\"axis\":{\"matches\":true},\"label\":\"bmi\",\"values\":[28.3]},{\"axis\":{\"matches\":true},\"label\":\"life_exp\",\"values\":[78.71]},{\"axis\":{\"matches\":true},\"label\":\"qol\",\"values\":[66.0]},{\"axis\":{\"matches\":true},\"label\":\"power_rating\",\"values\":[0.0]}],\"hovertemplate\":\"country_name=United Arab Emirates<br>%{xaxis.title.text}=%{x}<br>%{yaxis.title.text}=%{y}<extra></extra>\",\"legendgroup\":\"United Arab Emirates\",\"marker\":{\"color\":\"#FF6692\",\"symbol\":\"circle\"},\"name\":\"United Arab Emirates\",\"showlegend\":true,\"type\":\"splom\"},{\"dimensions\":[{\"axis\":{\"matches\":true},\"label\":\"mv_usd\",\"values\":[0.0]},{\"axis\":{\"matches\":true},\"label\":\"gdp_usd\",\"values\":[3131377762926.0]},{\"axis\":{\"matches\":true},\"label\":\"bmi\",\"values\":[0.0]},{\"axis\":{\"matches\":true},\"label\":\"life_exp\",\"values\":[80.7]},{\"axis\":{\"matches\":true},\"label\":\"qol\",\"values\":[60.0]},{\"axis\":{\"matches\":true},\"label\":\"power_rating\",\"values\":[0.0]}],\"hovertemplate\":\"country_name=United Kingdom<br>%{xaxis.title.text}=%{x}<br>%{yaxis.title.text}=%{y}<extra></extra>\",\"legendgroup\":\"United Kingdom\",\"marker\":{\"color\":\"#B6E880\",\"symbol\":\"circle\"},\"name\":\"United Kingdom\",\"showlegend\":true,\"type\":\"splom\"},{\"dimensions\":[{\"axis\":{\"matches\":true},\"label\":\"mv_usd\",\"values\":[45082656.0]},{\"axis\":{\"matches\":true},\"label\":\"gdp_usd\",\"values\":[23315080560000.0]},{\"axis\":{\"matches\":true},\"label\":\"bmi\",\"values\":[29.0]},{\"axis\":{\"matches\":true},\"label\":\"life_exp\",\"values\":[76.32926829]},{\"axis\":{\"matches\":true},\"label\":\"qol\",\"values\":[66.0]},{\"axis\":{\"matches\":true},\"label\":\"power_rating\",\"values\":[0.28125]}],\"hovertemplate\":\"country_name=United States<br>%{xaxis.title.text}=%{x}<br>%{yaxis.title.text}=%{y}<extra></extra>\",\"legendgroup\":\"United States\",\"marker\":{\"color\":\"#FF97FF\",\"symbol\":\"circle\"},\"name\":\"United States\",\"showlegend\":true,\"type\":\"splom\"},{\"dimensions\":[{\"axis\":{\"matches\":true},\"label\":\"mv_usd\",\"values\":[8293104.000000001]},{\"axis\":{\"matches\":true},\"label\":\"gdp_usd\",\"values\":[59319484710.7]},{\"axis\":{\"matches\":true},\"label\":\"bmi\",\"values\":[27.4]},{\"axis\":{\"matches\":true},\"label\":\"life_exp\",\"values\":[75.436]},{\"axis\":{\"matches\":true},\"label\":\"qol\",\"values\":[67.0]},{\"axis\":{\"matches\":true},\"label\":\"power_rating\",\"values\":[0.59375]}],\"hovertemplate\":\"country_name=Uruguay<br>%{xaxis.title.text}=%{x}<br>%{yaxis.title.text}=%{y}<extra></extra>\",\"legendgroup\":\"Uruguay\",\"marker\":{\"color\":\"#FECB52\",\"symbol\":\"circle\"},\"name\":\"Uruguay\",\"showlegend\":true,\"type\":\"splom\"},{\"dimensions\":[{\"axis\":{\"matches\":true},\"label\":\"mv_usd\",\"values\":[4015872.0000000005]},{\"axis\":{\"matches\":true},\"label\":\"gdp_usd\",\"values\":[69238903106.2]},{\"axis\":{\"matches\":true},\"label\":\"bmi\",\"values\":[26.0]},{\"axis\":{\"matches\":true},\"label\":\"life_exp\",\"values\":[70.862]},{\"axis\":{\"matches\":true},\"label\":\"qol\",\"values\":[49.0]},{\"axis\":{\"matches\":true},\"label\":\"power_rating\",\"values\":[0.0]}],\"hovertemplate\":\"country_name=Uzbekistan<br>%{xaxis.title.text}=%{x}<br>%{yaxis.title.text}=%{y}<extra></extra>\",\"legendgroup\":\"Uzbekistan\",\"marker\":{\"color\":\"#636efa\",\"symbol\":\"circle\"},\"name\":\"Uzbekistan\",\"showlegend\":true,\"type\":\"splom\"},{\"dimensions\":[{\"axis\":{\"matches\":true},\"label\":\"mv_usd\",\"values\":[29160.000000000004]},{\"axis\":{\"matches\":true},\"label\":\"gdp_usd\",\"values\":[956332655.7]},{\"axis\":{\"matches\":true},\"label\":\"bmi\",\"values\":[25.4]},{\"axis\":{\"matches\":true},\"label\":\"life_exp\",\"values\":[70.449]},{\"axis\":{\"matches\":true},\"label\":\"qol\",\"values\":[0.0]},{\"axis\":{\"matches\":true},\"label\":\"power_rating\",\"values\":[0.0]}],\"hovertemplate\":\"country_name=Vanuatu<br>%{xaxis.title.text}=%{x}<br>%{yaxis.title.text}=%{y}<extra></extra>\",\"legendgroup\":\"Vanuatu\",\"marker\":{\"color\":\"#EF553B\",\"symbol\":\"circle\"},\"name\":\"Vanuatu\",\"showlegend\":true,\"type\":\"splom\"},{\"dimensions\":[{\"axis\":{\"matches\":true},\"label\":\"mv_usd\",\"values\":[1719792.0]},{\"axis\":{\"matches\":true},\"label\":\"gdp_usd\",\"values\":[366137590600.7]},{\"axis\":{\"matches\":true},\"label\":\"bmi\",\"values\":[0.0]},{\"axis\":{\"matches\":true},\"label\":\"life_exp\",\"values\":[73.618]},{\"axis\":{\"matches\":true},\"label\":\"qol\",\"values\":[52.0]},{\"axis\":{\"matches\":true},\"label\":\"power_rating\",\"values\":[0.0]}],\"hovertemplate\":\"country_name=Vietnam<br>%{xaxis.title.text}=%{x}<br>%{yaxis.title.text}=%{y}<extra></extra>\",\"legendgroup\":\"Vietnam\",\"marker\":{\"color\":\"#00cc96\",\"symbol\":\"circle\"},\"name\":\"Vietnam\",\"showlegend\":true,\"type\":\"splom\"},{\"dimensions\":[{\"axis\":{\"matches\":true},\"label\":\"mv_usd\",\"values\":[70416.0]},{\"axis\":{\"matches\":true},\"label\":\"gdp_usd\",\"values\":[22147634727.4]},{\"axis\":{\"matches\":true},\"label\":\"bmi\",\"values\":[21.0]},{\"axis\":{\"matches\":true},\"label\":\"life_exp\",\"values\":[61.223]},{\"axis\":{\"matches\":true},\"label\":\"qol\",\"values\":[46.0]},{\"axis\":{\"matches\":true},\"label\":\"power_rating\",\"values\":[0.0]}],\"hovertemplate\":\"country_name=Zambia<br>%{xaxis.title.text}=%{x}<br>%{yaxis.title.text}=%{y}<extra></extra>\",\"legendgroup\":\"Zambia\",\"marker\":{\"color\":\"#ab63fa\",\"symbol\":\"circle\"},\"name\":\"Zambia\",\"showlegend\":true,\"type\":\"splom\"},{\"dimensions\":[{\"axis\":{\"matches\":true},\"label\":\"mv_usd\",\"values\":[20520.0]},{\"axis\":{\"matches\":true},\"label\":\"gdp_usd\",\"values\":[28371238665.5]},{\"axis\":{\"matches\":true},\"label\":\"bmi\",\"values\":[21.9]},{\"axis\":{\"matches\":true},\"label\":\"life_exp\",\"values\":[59.253]},{\"axis\":{\"matches\":true},\"label\":\"qol\",\"values\":[38.0]},{\"axis\":{\"matches\":true},\"label\":\"power_rating\",\"values\":[0.0]}],\"hovertemplate\":\"country_name=Zimbabwe<br>%{xaxis.title.text}=%{x}<br>%{yaxis.title.text}=%{y}<extra></extra>\",\"legendgroup\":\"Zimbabwe\",\"marker\":{\"color\":\"#FFA15A\",\"symbol\":\"circle\"},\"name\":\"Zimbabwe\",\"showlegend\":true,\"type\":\"splom\"}],                        {\"template\":{\"data\":{\"histogram2dcontour\":[{\"type\":\"histogram2dcontour\",\"colorbar\":{\"outlinewidth\":0,\"ticks\":\"\"},\"colorscale\":[[0.0,\"#0d0887\"],[0.1111111111111111,\"#46039f\"],[0.2222222222222222,\"#7201a8\"],[0.3333333333333333,\"#9c179e\"],[0.4444444444444444,\"#bd3786\"],[0.5555555555555556,\"#d8576b\"],[0.6666666666666666,\"#ed7953\"],[0.7777777777777778,\"#fb9f3a\"],[0.8888888888888888,\"#fdca26\"],[1.0,\"#f0f921\"]]}],\"choropleth\":[{\"type\":\"choropleth\",\"colorbar\":{\"outlinewidth\":0,\"ticks\":\"\"}}],\"histogram2d\":[{\"type\":\"histogram2d\",\"colorbar\":{\"outlinewidth\":0,\"ticks\":\"\"},\"colorscale\":[[0.0,\"#0d0887\"],[0.1111111111111111,\"#46039f\"],[0.2222222222222222,\"#7201a8\"],[0.3333333333333333,\"#9c179e\"],[0.4444444444444444,\"#bd3786\"],[0.5555555555555556,\"#d8576b\"],[0.6666666666666666,\"#ed7953\"],[0.7777777777777778,\"#fb9f3a\"],[0.8888888888888888,\"#fdca26\"],[1.0,\"#f0f921\"]]}],\"heatmap\":[{\"type\":\"heatmap\",\"colorbar\":{\"outlinewidth\":0,\"ticks\":\"\"},\"colorscale\":[[0.0,\"#0d0887\"],[0.1111111111111111,\"#46039f\"],[0.2222222222222222,\"#7201a8\"],[0.3333333333333333,\"#9c179e\"],[0.4444444444444444,\"#bd3786\"],[0.5555555555555556,\"#d8576b\"],[0.6666666666666666,\"#ed7953\"],[0.7777777777777778,\"#fb9f3a\"],[0.8888888888888888,\"#fdca26\"],[1.0,\"#f0f921\"]]}],\"heatmapgl\":[{\"type\":\"heatmapgl\",\"colorbar\":{\"outlinewidth\":0,\"ticks\":\"\"},\"colorscale\":[[0.0,\"#0d0887\"],[0.1111111111111111,\"#46039f\"],[0.2222222222222222,\"#7201a8\"],[0.3333333333333333,\"#9c179e\"],[0.4444444444444444,\"#bd3786\"],[0.5555555555555556,\"#d8576b\"],[0.6666666666666666,\"#ed7953\"],[0.7777777777777778,\"#fb9f3a\"],[0.8888888888888888,\"#fdca26\"],[1.0,\"#f0f921\"]]}],\"contourcarpet\":[{\"type\":\"contourcarpet\",\"colorbar\":{\"outlinewidth\":0,\"ticks\":\"\"}}],\"contour\":[{\"type\":\"contour\",\"colorbar\":{\"outlinewidth\":0,\"ticks\":\"\"},\"colorscale\":[[0.0,\"#0d0887\"],[0.1111111111111111,\"#46039f\"],[0.2222222222222222,\"#7201a8\"],[0.3333333333333333,\"#9c179e\"],[0.4444444444444444,\"#bd3786\"],[0.5555555555555556,\"#d8576b\"],[0.6666666666666666,\"#ed7953\"],[0.7777777777777778,\"#fb9f3a\"],[0.8888888888888888,\"#fdca26\"],[1.0,\"#f0f921\"]]}],\"surface\":[{\"type\":\"surface\",\"colorbar\":{\"outlinewidth\":0,\"ticks\":\"\"},\"colorscale\":[[0.0,\"#0d0887\"],[0.1111111111111111,\"#46039f\"],[0.2222222222222222,\"#7201a8\"],[0.3333333333333333,\"#9c179e\"],[0.4444444444444444,\"#bd3786\"],[0.5555555555555556,\"#d8576b\"],[0.6666666666666666,\"#ed7953\"],[0.7777777777777778,\"#fb9f3a\"],[0.8888888888888888,\"#fdca26\"],[1.0,\"#f0f921\"]]}],\"mesh3d\":[{\"type\":\"mesh3d\",\"colorbar\":{\"outlinewidth\":0,\"ticks\":\"\"}}],\"scatter\":[{\"fillpattern\":{\"fillmode\":\"overlay\",\"size\":10,\"solidity\":0.2},\"type\":\"scatter\"}],\"parcoords\":[{\"type\":\"parcoords\",\"line\":{\"colorbar\":{\"outlinewidth\":0,\"ticks\":\"\"}}}],\"scatterpolargl\":[{\"type\":\"scatterpolargl\",\"marker\":{\"colorbar\":{\"outlinewidth\":0,\"ticks\":\"\"}}}],\"bar\":[{\"error_x\":{\"color\":\"#2a3f5f\"},\"error_y\":{\"color\":\"#2a3f5f\"},\"marker\":{\"line\":{\"color\":\"#E5ECF6\",\"width\":0.5},\"pattern\":{\"fillmode\":\"overlay\",\"size\":10,\"solidity\":0.2}},\"type\":\"bar\"}],\"scattergeo\":[{\"type\":\"scattergeo\",\"marker\":{\"colorbar\":{\"outlinewidth\":0,\"ticks\":\"\"}}}],\"scatterpolar\":[{\"type\":\"scatterpolar\",\"marker\":{\"colorbar\":{\"outlinewidth\":0,\"ticks\":\"\"}}}],\"histogram\":[{\"marker\":{\"pattern\":{\"fillmode\":\"overlay\",\"size\":10,\"solidity\":0.2}},\"type\":\"histogram\"}],\"scattergl\":[{\"type\":\"scattergl\",\"marker\":{\"colorbar\":{\"outlinewidth\":0,\"ticks\":\"\"}}}],\"scatter3d\":[{\"type\":\"scatter3d\",\"line\":{\"colorbar\":{\"outlinewidth\":0,\"ticks\":\"\"}},\"marker\":{\"colorbar\":{\"outlinewidth\":0,\"ticks\":\"\"}}}],\"scattermapbox\":[{\"type\":\"scattermapbox\",\"marker\":{\"colorbar\":{\"outlinewidth\":0,\"ticks\":\"\"}}}],\"scatterternary\":[{\"type\":\"scatterternary\",\"marker\":{\"colorbar\":{\"outlinewidth\":0,\"ticks\":\"\"}}}],\"scattercarpet\":[{\"type\":\"scattercarpet\",\"marker\":{\"colorbar\":{\"outlinewidth\":0,\"ticks\":\"\"}}}],\"carpet\":[{\"aaxis\":{\"endlinecolor\":\"#2a3f5f\",\"gridcolor\":\"white\",\"linecolor\":\"white\",\"minorgridcolor\":\"white\",\"startlinecolor\":\"#2a3f5f\"},\"baxis\":{\"endlinecolor\":\"#2a3f5f\",\"gridcolor\":\"white\",\"linecolor\":\"white\",\"minorgridcolor\":\"white\",\"startlinecolor\":\"#2a3f5f\"},\"type\":\"carpet\"}],\"table\":[{\"cells\":{\"fill\":{\"color\":\"#EBF0F8\"},\"line\":{\"color\":\"white\"}},\"header\":{\"fill\":{\"color\":\"#C8D4E3\"},\"line\":{\"color\":\"white\"}},\"type\":\"table\"}],\"barpolar\":[{\"marker\":{\"line\":{\"color\":\"#E5ECF6\",\"width\":0.5},\"pattern\":{\"fillmode\":\"overlay\",\"size\":10,\"solidity\":0.2}},\"type\":\"barpolar\"}],\"pie\":[{\"automargin\":true,\"type\":\"pie\"}]},\"layout\":{\"autotypenumbers\":\"strict\",\"colorway\":[\"#636efa\",\"#EF553B\",\"#00cc96\",\"#ab63fa\",\"#FFA15A\",\"#19d3f3\",\"#FF6692\",\"#B6E880\",\"#FF97FF\",\"#FECB52\"],\"font\":{\"color\":\"#2a3f5f\"},\"hovermode\":\"closest\",\"hoverlabel\":{\"align\":\"left\"},\"paper_bgcolor\":\"white\",\"plot_bgcolor\":\"#E5ECF6\",\"polar\":{\"bgcolor\":\"#E5ECF6\",\"angularaxis\":{\"gridcolor\":\"white\",\"linecolor\":\"white\",\"ticks\":\"\"},\"radialaxis\":{\"gridcolor\":\"white\",\"linecolor\":\"white\",\"ticks\":\"\"}},\"ternary\":{\"bgcolor\":\"#E5ECF6\",\"aaxis\":{\"gridcolor\":\"white\",\"linecolor\":\"white\",\"ticks\":\"\"},\"baxis\":{\"gridcolor\":\"white\",\"linecolor\":\"white\",\"ticks\":\"\"},\"caxis\":{\"gridcolor\":\"white\",\"linecolor\":\"white\",\"ticks\":\"\"}},\"coloraxis\":{\"colorbar\":{\"outlinewidth\":0,\"ticks\":\"\"}},\"colorscale\":{\"sequential\":[[0.0,\"#0d0887\"],[0.1111111111111111,\"#46039f\"],[0.2222222222222222,\"#7201a8\"],[0.3333333333333333,\"#9c179e\"],[0.4444444444444444,\"#bd3786\"],[0.5555555555555556,\"#d8576b\"],[0.6666666666666666,\"#ed7953\"],[0.7777777777777778,\"#fb9f3a\"],[0.8888888888888888,\"#fdca26\"],[1.0,\"#f0f921\"]],\"sequentialminus\":[[0.0,\"#0d0887\"],[0.1111111111111111,\"#46039f\"],[0.2222222222222222,\"#7201a8\"],[0.3333333333333333,\"#9c179e\"],[0.4444444444444444,\"#bd3786\"],[0.5555555555555556,\"#d8576b\"],[0.6666666666666666,\"#ed7953\"],[0.7777777777777778,\"#fb9f3a\"],[0.8888888888888888,\"#fdca26\"],[1.0,\"#f0f921\"]],\"diverging\":[[0,\"#8e0152\"],[0.1,\"#c51b7d\"],[0.2,\"#de77ae\"],[0.3,\"#f1b6da\"],[0.4,\"#fde0ef\"],[0.5,\"#f7f7f7\"],[0.6,\"#e6f5d0\"],[0.7,\"#b8e186\"],[0.8,\"#7fbc41\"],[0.9,\"#4d9221\"],[1,\"#276419\"]]},\"xaxis\":{\"gridcolor\":\"white\",\"linecolor\":\"white\",\"ticks\":\"\",\"title\":{\"standoff\":15},\"zerolinecolor\":\"white\",\"automargin\":true,\"zerolinewidth\":2},\"yaxis\":{\"gridcolor\":\"white\",\"linecolor\":\"white\",\"ticks\":\"\",\"title\":{\"standoff\":15},\"zerolinecolor\":\"white\",\"automargin\":true,\"zerolinewidth\":2},\"scene\":{\"xaxis\":{\"backgroundcolor\":\"#E5ECF6\",\"gridcolor\":\"white\",\"linecolor\":\"white\",\"showbackground\":true,\"ticks\":\"\",\"zerolinecolor\":\"white\",\"gridwidth\":2},\"yaxis\":{\"backgroundcolor\":\"#E5ECF6\",\"gridcolor\":\"white\",\"linecolor\":\"white\",\"showbackground\":true,\"ticks\":\"\",\"zerolinecolor\":\"white\",\"gridwidth\":2},\"zaxis\":{\"backgroundcolor\":\"#E5ECF6\",\"gridcolor\":\"white\",\"linecolor\":\"white\",\"showbackground\":true,\"ticks\":\"\",\"zerolinecolor\":\"white\",\"gridwidth\":2}},\"shapedefaults\":{\"line\":{\"color\":\"#2a3f5f\"}},\"annotationdefaults\":{\"arrowcolor\":\"#2a3f5f\",\"arrowhead\":0,\"arrowwidth\":1},\"geo\":{\"bgcolor\":\"white\",\"landcolor\":\"#E5ECF6\",\"subunitcolor\":\"white\",\"showland\":true,\"showlakes\":true,\"lakecolor\":\"white\"},\"title\":{\"x\":0.05},\"mapbox\":{\"style\":\"light\"}}},\"legend\":{\"title\":{\"text\":\"country_name\"},\"tracegroupgap\":0},\"margin\":{\"t\":60},\"dragmode\":\"select\"},                        {\"responsive\": true}                    ).then(function(){\n",
       "                            \n",
       "var gd = document.getElementById('018603ab-7b9a-4499-aef8-75b66e055a01');\n",
       "var x = new MutationObserver(function (mutations, observer) {{\n",
       "        var display = window.getComputedStyle(gd).display;\n",
       "        if (!display || display === 'none') {{\n",
       "            console.log([gd, 'removed!']);\n",
       "            Plotly.purge(gd);\n",
       "            observer.disconnect();\n",
       "        }}\n",
       "}});\n",
       "\n",
       "// Listen for the removal of the full notebook cells\n",
       "var notebookContainer = gd.closest('#notebook-container');\n",
       "if (notebookContainer) {{\n",
       "    x.observe(notebookContainer, {childList: true});\n",
       "}}\n",
       "\n",
       "// Listen for the clearing of the current output cell\n",
       "var outputEl = gd.closest('.output');\n",
       "if (outputEl) {{\n",
       "    x.observe(outputEl, {childList: true});\n",
       "}}\n",
       "\n",
       "                        })                };                });            </script>        </div>"
      ]
     },
     "metadata": {},
     "output_type": "display_data"
    }
   ],
   "source": [
    "import plotly.express as px\n",
    "\n",
    "fig = px.scatter_matrix(mv_gdp_bmi_life_qol_power,\n",
    "    dimensions=[\"mv_usd\", \"gdp_usd\", \"bmi\", \"life_exp\", \"qol\",\"power_rating\"],\n",
    "    color=\"country_name\")\n",
    "fig.show()"
   ]
  },
  {
   "cell_type": "code",
   "execution_count": 515,
   "id": "4390bd29",
   "metadata": {},
   "outputs": [
    {
     "data": {
      "image/png": "[encoded data removed]",
      "text/plain": [
       "<Figure size 2016x360 with 5 Axes>"
      ]
     },
     "metadata": {
      "needs_background": "light"
     },
     "output_type": "display_data"
    },
    {
     "data": {
      "image/png": "[encoded data removed]",
      "text/plain": [
       "<Figure size 2016x360 with 5 Axes>"
      ]
     },
     "metadata": {
      "needs_background": "light"
     },
     "output_type": "display_data"
    },
    {
     "data": {
      "image/png": "[encoded data removed]",
      "text/plain": [
       "<Figure size 2016x360 with 6 Axes>"
      ]
     },
     "metadata": {
      "needs_background": "light"
     },
     "output_type": "display_data"
    }
   ],
   "source": [
    "def regression(lst, color):\n",
    "\n",
    "    ax_num = 0\n",
    "    \n",
    "    fig, axs = plt.subplots(ncols=len(lst), figsize=(28, 5))\n",
    "    \n",
    "    for i in lst:\n",
    "        data = i[4]\n",
    "        corr_pvalue = stats.pearsonr(data[i[1]], data[i[0]])\n",
    "        cp_round = (round(corr_pvalue[0], 4), round(corr_pvalue[1], 4))\n",
    "        ax_plt = sns.regplot(x=i[0], y=i[1], \n",
    "                             data=data, \n",
    "                             ax=axs[ax_num],\n",
    "                             color = color,\n",
    "                             label = 'corr = ' + str(cp_round[0]) + '\\n' + 'pvalue = ' + str(cp_round[1])) # best fit line\n",
    "        ax_plt.set_title(i[2] + \" vs \" + i[3])\n",
    "        ax_plt.set_xlabel(i[2])\n",
    "        ax_plt.set_ylabel(i[3])\n",
    "        ax_plt.legend(bbox_to_anchor=(0.45, -0.12))\n",
    "        \n",
    "        ax_num += 1\n",
    "\n",
    "\n",
    "power_data = [\n",
    "    [\"power_rating\", \"mv_usd\", \"Power Rating\", \"Average Market Value\", mv_gdp_bmi_life_qol_power],\n",
    "    [\"power_rating\", \"life_exp\", \"Power Rating\", \"Life Expectancy in Years\", mv_gdp_bmi_life_qol_power],\n",
    "    [\"power_rating\", \"bmi\", \"Power Rating\", \"BMI\", mv_gdp_bmi_life_qol_power],\n",
    "    [\"power_rating\", \"qol\", \"Power Rating\", \"Quality of Life\", mv_gdp_bmi_life_qol_power],\n",
    "    [\"power_rating\", \"gdp_usd\", \"Power Rating\", \"GDP in USD\", mv_gdp_bmi_life_qol_power]]\n",
    "\n",
    "mv_data = [\n",
    "    [\"mv_usd\", \"power_rating\", \"Average Market Value\", \"Power Rating\", mv_gdp_bmi_life_qol_power],\n",
    "    [\"mv_usd\", \"life_exp\", \"Average Market Value\", \"Life Expectancy in Years\", mv_gdp_bmi_life_qol_power],\n",
    "    [\"mv_usd\", \"bmi\", \"Average Market Value\", \"BMI\", mv_gdp_bmi_life_qol_power],\n",
    "    [\"mv_usd\", \"qol\", \"Average Market Value\", \"Quality of Life\", mv_gdp_bmi_life_qol_power],\n",
    "    [\"mv_usd\", \"gdp_usd\", \"Average Market Value\", \"GDP in USD\", mv_gdp_bmi_life_qol_power]]\n",
    "  \n",
    "other_data = [\n",
    "    [\"gdp_usd\", \"life_exp\", \"GDP in USD\", \"Life Expectancy in Years\", mv_gdp_bmi_life_qol_power],\n",
    "    [\"gdp_usd\", \"bmi\", \"GDP in USD\", \"BMI\", mv_gdp_bmi_life_qol_power],\n",
    "    [\"gdp_usd\", \"qol\", \"GDP in USD\", \"Quality of Life\", mv_gdp_bmi_life_qol_power],\n",
    "    [\"life_exp\", \"bmi\", \"Life Expectancy in Years\", \"BMI\", mv_gdp_bmi_life_qol_power],\n",
    "    [\"life_exp\", \"qol\", \"Life Expectancy in Years\", \"Quality of Life\", mv_gdp_bmi_life_qol_power],\n",
    "    [\"bmi\", \"qol\", \"BMI\", \"Quality of Life\", mv_gdp_bmi_life_qol_power]]\n",
    "\n",
    "regression(power_data, 'red')\n",
    "regression(mv_data, 'green')\n",
    "regression(other_data, 'goldenrod')"
   ]
  },
  {
   "cell_type": "code",
   "execution_count": 516,
   "id": "9b5ae1cc",
   "metadata": {},
   "outputs": [
    {
     "data": {
      "text/plain": [
       "165"
      ]
     },
     "execution_count": 516,
     "metadata": {},
     "output_type": "execute_result"
    }
   ],
   "source": [
    "len(mv_gdp_bmi_life_qol_power)"
   ]
  },
  {
   "cell_type": "code",
   "execution_count": null,
   "id": "1f5ef398",
   "metadata": {},
   "outputs": [],
   "source": []
  }
 ],
 "metadata": {
  "kernelspec": {
   "display_name": "Python 3 (ipykernel)",
   "language": "python",
   "name": "python3"
  },
  "language_info": {
   "codemirror_mode": {
    "name": "ipython",
    "version": 3
   },
   "file_extension": ".py",
   "mimetype": "text/x-python",
   "name": "python",
   "nbconvert_exporter": "python",
   "pygments_lexer": "ipython3",
   "version": "3.10.4"
  }
 },
 "nbformat": 4,
 "nbformat_minor": 5
}
