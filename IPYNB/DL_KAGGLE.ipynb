{
 "cells": [
  {
   "cell_type": "code",
   "execution_count": 1,
   "id": "f9961687",
   "metadata": {},
   "outputs": [],
   "source": [
    "import pandas as pd\n",
    "import altair as alt\n",
    "import numpy as np\n",
    "import math\n",
    "import requests\n",
    "from bs4 import BeautifulSoup\n",
    "import regex as re\n",
    "import time\n",
    "import geopandas as gpd"
   ]
  },
  {
   "cell_type": "code",
   "execution_count": 2,
   "id": "f7c4c6c5",
   "metadata": {},
   "outputs": [
    {
     "data": {
      "application/javascript": [
       "\n",
       "            setTimeout(function() {\n",
       "                var nbb_cell_id = 2;\n",
       "                var nbb_unformatted_code = \"%load_ext nb_black\";\n",
       "                var nbb_formatted_code = \"%load_ext nb_black\";\n",
       "                var nbb_cells = Jupyter.notebook.get_cells();\n",
       "                for (var i = 0; i < nbb_cells.length; ++i) {\n",
       "                    if (nbb_cells[i].input_prompt_number == nbb_cell_id) {\n",
       "                        if (nbb_cells[i].get_text() == nbb_unformatted_code) {\n",
       "                             nbb_cells[i].set_text(nbb_formatted_code);\n",
       "                        }\n",
       "                        break;\n",
       "                    }\n",
       "                }\n",
       "            }, 500);\n",
       "            "
      ],
      "text/plain": [
       "<IPython.core.display.Javascript object>"
      ]
     },
     "metadata": {},
     "output_type": "display_data"
    }
   ],
   "source": [
    "%load_ext nb_black"
   ]
  },
  {
   "cell_type": "markdown",
   "id": "1379aa74",
   "metadata": {},
   "source": [
    "# Data Cleaning and Manipulation"
   ]
  },
  {
   "cell_type": "markdown",
   "id": "78c6be31",
   "metadata": {},
   "source": [
    "### World Cup Power Rating"
   ]
  },
  {
   "cell_type": "code",
   "execution_count": 55,
   "id": "139ebd54",
   "metadata": {},
   "outputs": [
    {
     "data": {
      "application/javascript": [
       "\n",
       "            setTimeout(function() {\n",
       "                var nbb_cell_id = 55;\n",
       "                var nbb_unformatted_code = \"df = pd.read_csv(\\\"dataset/results.csv\\\")\\n\\nwc_data = df[df.tournament == \\\"FIFA World Cup\\\"].copy()\";\n",
       "                var nbb_formatted_code = \"df = pd.read_csv(\\\"dataset/results.csv\\\")\\n\\nwc_data = df[df.tournament == \\\"FIFA World Cup\\\"].copy()\";\n",
       "                var nbb_cells = Jupyter.notebook.get_cells();\n",
       "                for (var i = 0; i < nbb_cells.length; ++i) {\n",
       "                    if (nbb_cells[i].input_prompt_number == nbb_cell_id) {\n",
       "                        if (nbb_cells[i].get_text() == nbb_unformatted_code) {\n",
       "                             nbb_cells[i].set_text(nbb_formatted_code);\n",
       "                        }\n",
       "                        break;\n",
       "                    }\n",
       "                }\n",
       "            }, 500);\n",
       "            "
      ],
      "text/plain": [
       "<IPython.core.display.Javascript object>"
      ]
     },
     "metadata": {},
     "output_type": "display_data"
    }
   ],
   "source": [
    "df = pd.read_csv(\"dataset/results.csv\")\n",
    "\n",
    "wc_data = df[df.tournament == \"FIFA World Cup\"].copy()"
   ]
  },
  {
   "cell_type": "code",
   "execution_count": 56,
   "id": "9cc82249",
   "metadata": {},
   "outputs": [
    {
     "data": {
      "application/javascript": [
       "\n",
       "            setTimeout(function() {\n",
       "                var nbb_cell_id = 56;\n",
       "                var nbb_unformatted_code = \"# Winning team gets 3 points, losing team gets 0 point, and tie gets 1 point, as per World Cup convention\\ndef get_result(row, side):\\n    if side == \\\"home\\\":\\n        if row.home_score > row.away_score:\\n            return 3\\n        elif row.home_score < row.away_score:\\n            return 0\\n        else:\\n            return 1\\n    else:\\n        if row.home_score < row.away_score:\\n            return 3\\n        elif row.home_score > row.away_score:\\n            return 0\\n        else:\\n            return 1\\n\\n\\n# This function returns the goal difference for both home and away\\ndef get_goal_diff(row, side):\\n    if side == \\\"home\\\":\\n        return row.home_score - row.away_score\\n    else:\\n        return row.away_score - row.home_score\\n\\n\\n# Returns World Cup results for each iteration of the event\\ndef return_world_cup_result(data, country_name):\\n    df = data.copy()\\n    df = df[((df.tournament == \\\"FIFA World Cup\\\") & (df.country == country_name))].copy()\\n\\n    df[\\\"home_result\\\"] = df.apply(lambda x: get_result(x, \\\"home\\\"), axis=1)\\n    df[\\\"away_result\\\"] = df.apply(lambda x: get_result(x, \\\"away\\\"), axis=1)\\n    df[\\\"home_goal_diff\\\"] = df.apply(lambda x: get_goal_diff(x, \\\"home\\\"), axis=1)\\n    df[\\\"away_goal_diff\\\"] = df.apply(lambda x: get_goal_diff(x, \\\"away\\\"), axis=1)\\n\\n    home = df[\\n        [\\\"tournament\\\", \\\"country\\\", \\\"home_team\\\", \\\"home_result\\\", \\\"home_goal_diff\\\"]\\n    ].copy()\\n    away = df[\\n        [\\\"tournament\\\", \\\"country\\\", \\\"away_team\\\", \\\"away_result\\\", \\\"away_goal_diff\\\"]\\n    ].copy()\\n\\n    home.rename(\\n        columns={\\n            \\\"home_team\\\": \\\"team\\\",\\n            \\\"home_result\\\": \\\"result\\\",\\n            \\\"home_goal_diff\\\": \\\"goal_diff\\\",\\n        },\\n        inplace=True,\\n    )\\n    away.rename(\\n        columns={\\n            \\\"away_team\\\": \\\"team\\\",\\n            \\\"away_result\\\": \\\"result\\\",\\n            \\\"away_goal_diff\\\": \\\"goal_diff\\\",\\n        },\\n        inplace=True,\\n    )\\n\\n    combined = pd.concat([home, away]).copy()\\n\\n    # Match count is the best indicator of how well the team did\\n    combined[\\\"match_count\\\"] = 1\\n\\n    # This ordering is not the most accurate, but is systematic way to calculate power rating\\n    combined = (\\n        combined.groupby([\\\"tournament\\\", \\\"country\\\", \\\"team\\\"], as_index=False)\\n        .sum()\\n        .sort_values(by=[\\\"match_count\\\", \\\"result\\\", \\\"goal_diff\\\"], ascending=False)\\n        .reset_index(drop=True)\\n        .reset_index()\\n        .rename(columns={\\\"index\\\": \\\"rank\\\"})\\n    )\\n    combined[\\\"wc_result_score\\\"] = (32 - (combined[\\\"rank\\\"] + 1)) / 32 + 1 / 32\\n\\n    return combined\";\n",
       "                var nbb_formatted_code = \"# Winning team gets 3 points, losing team gets 0 point, and tie gets 1 point, as per World Cup convention\\ndef get_result(row, side):\\n    if side == \\\"home\\\":\\n        if row.home_score > row.away_score:\\n            return 3\\n        elif row.home_score < row.away_score:\\n            return 0\\n        else:\\n            return 1\\n    else:\\n        if row.home_score < row.away_score:\\n            return 3\\n        elif row.home_score > row.away_score:\\n            return 0\\n        else:\\n            return 1\\n\\n\\n# This function returns the goal difference for both home and away\\ndef get_goal_diff(row, side):\\n    if side == \\\"home\\\":\\n        return row.home_score - row.away_score\\n    else:\\n        return row.away_score - row.home_score\\n\\n\\n# Returns World Cup results for each iteration of the event\\ndef return_world_cup_result(data, country_name):\\n    df = data.copy()\\n    df = df[((df.tournament == \\\"FIFA World Cup\\\") & (df.country == country_name))].copy()\\n\\n    df[\\\"home_result\\\"] = df.apply(lambda x: get_result(x, \\\"home\\\"), axis=1)\\n    df[\\\"away_result\\\"] = df.apply(lambda x: get_result(x, \\\"away\\\"), axis=1)\\n    df[\\\"home_goal_diff\\\"] = df.apply(lambda x: get_goal_diff(x, \\\"home\\\"), axis=1)\\n    df[\\\"away_goal_diff\\\"] = df.apply(lambda x: get_goal_diff(x, \\\"away\\\"), axis=1)\\n\\n    home = df[\\n        [\\\"tournament\\\", \\\"country\\\", \\\"home_team\\\", \\\"home_result\\\", \\\"home_goal_diff\\\"]\\n    ].copy()\\n    away = df[\\n        [\\\"tournament\\\", \\\"country\\\", \\\"away_team\\\", \\\"away_result\\\", \\\"away_goal_diff\\\"]\\n    ].copy()\\n\\n    home.rename(\\n        columns={\\n            \\\"home_team\\\": \\\"team\\\",\\n            \\\"home_result\\\": \\\"result\\\",\\n            \\\"home_goal_diff\\\": \\\"goal_diff\\\",\\n        },\\n        inplace=True,\\n    )\\n    away.rename(\\n        columns={\\n            \\\"away_team\\\": \\\"team\\\",\\n            \\\"away_result\\\": \\\"result\\\",\\n            \\\"away_goal_diff\\\": \\\"goal_diff\\\",\\n        },\\n        inplace=True,\\n    )\\n\\n    combined = pd.concat([home, away]).copy()\\n\\n    # Match count is the best indicator of how well the team did\\n    combined[\\\"match_count\\\"] = 1\\n\\n    # This ordering is not the most accurate, but is systematic way to calculate power rating\\n    combined = (\\n        combined.groupby([\\\"tournament\\\", \\\"country\\\", \\\"team\\\"], as_index=False)\\n        .sum()\\n        .sort_values(by=[\\\"match_count\\\", \\\"result\\\", \\\"goal_diff\\\"], ascending=False)\\n        .reset_index(drop=True)\\n        .reset_index()\\n        .rename(columns={\\\"index\\\": \\\"rank\\\"})\\n    )\\n    combined[\\\"wc_result_score\\\"] = (32 - (combined[\\\"rank\\\"] + 1)) / 32 + 1 / 32\\n\\n    return combined\";\n",
       "                var nbb_cells = Jupyter.notebook.get_cells();\n",
       "                for (var i = 0; i < nbb_cells.length; ++i) {\n",
       "                    if (nbb_cells[i].input_prompt_number == nbb_cell_id) {\n",
       "                        if (nbb_cells[i].get_text() == nbb_unformatted_code) {\n",
       "                             nbb_cells[i].set_text(nbb_formatted_code);\n",
       "                        }\n",
       "                        break;\n",
       "                    }\n",
       "                }\n",
       "            }, 500);\n",
       "            "
      ],
      "text/plain": [
       "<IPython.core.display.Javascript object>"
      ]
     },
     "metadata": {},
     "output_type": "display_data"
    }
   ],
   "source": [
    "# Winning team gets 3 points, losing team gets 0 point, and tie gets 1 point, as per World Cup convention\n",
    "def get_result(row, side):\n",
    "    if side == \"home\":\n",
    "        if row.home_score > row.away_score:\n",
    "            return 3\n",
    "        elif row.home_score < row.away_score:\n",
    "            return 0\n",
    "        else:\n",
    "            return 1\n",
    "    else:\n",
    "        if row.home_score < row.away_score:\n",
    "            return 3\n",
    "        elif row.home_score > row.away_score:\n",
    "            return 0\n",
    "        else:\n",
    "            return 1\n",
    "\n",
    "\n",
    "# This function returns the goal difference for both home and away\n",
    "def get_goal_diff(row, side):\n",
    "    if side == \"home\":\n",
    "        return row.home_score - row.away_score\n",
    "    else:\n",
    "        return row.away_score - row.home_score\n",
    "\n",
    "\n",
    "# Returns World Cup results for each iteration of the event\n",
    "def return_world_cup_result(data, country_name):\n",
    "    df = data.copy()\n",
    "    df = df[((df.tournament == \"FIFA World Cup\") & (df.country == country_name))].copy()\n",
    "\n",
    "    df[\"home_result\"] = df.apply(lambda x: get_result(x, \"home\"), axis=1)\n",
    "    df[\"away_result\"] = df.apply(lambda x: get_result(x, \"away\"), axis=1)\n",
    "    df[\"home_goal_diff\"] = df.apply(lambda x: get_goal_diff(x, \"home\"), axis=1)\n",
    "    df[\"away_goal_diff\"] = df.apply(lambda x: get_goal_diff(x, \"away\"), axis=1)\n",
    "\n",
    "    home = df[\n",
    "        [\"tournament\", \"country\", \"home_team\", \"home_result\", \"home_goal_diff\"]\n",
    "    ].copy()\n",
    "    away = df[\n",
    "        [\"tournament\", \"country\", \"away_team\", \"away_result\", \"away_goal_diff\"]\n",
    "    ].copy()\n",
    "\n",
    "    home.rename(\n",
    "        columns={\n",
    "            \"home_team\": \"team\",\n",
    "            \"home_result\": \"result\",\n",
    "            \"home_goal_diff\": \"goal_diff\",\n",
    "        },\n",
    "        inplace=True,\n",
    "    )\n",
    "    away.rename(\n",
    "        columns={\n",
    "            \"away_team\": \"team\",\n",
    "            \"away_result\": \"result\",\n",
    "            \"away_goal_diff\": \"goal_diff\",\n",
    "        },\n",
    "        inplace=True,\n",
    "    )\n",
    "\n",
    "    combined = pd.concat([home, away]).copy()\n",
    "\n",
    "    # Match count is the best indicator of how well the team did\n",
    "    combined[\"match_count\"] = 1\n",
    "\n",
    "    # This ordering is not the most accurate, but is systematic way to calculate power rating\n",
    "    combined = (\n",
    "        combined.groupby([\"tournament\", \"country\", \"team\"], as_index=False)\n",
    "        .sum()\n",
    "        .sort_values(by=[\"match_count\", \"result\", \"goal_diff\"], ascending=False)\n",
    "        .reset_index(drop=True)\n",
    "        .reset_index()\n",
    "        .rename(columns={\"index\": \"rank\"})\n",
    "    )\n",
    "    combined[\"wc_result_score\"] = (32 - (combined[\"rank\"] + 1)) / 32 + 1 / 32\n",
    "\n",
    "    return combined"
   ]
  },
  {
   "cell_type": "code",
   "execution_count": 57,
   "id": "6ab2ab05",
   "metadata": {},
   "outputs": [
    {
     "data": {
      "application/javascript": [
       "\n",
       "            setTimeout(function() {\n",
       "                var nbb_cell_id = 57;\n",
       "                var nbb_unformatted_code = \"russia = return_world_cup_result(wc_data, \\\"Russia\\\")[\\n    [\\\"country\\\", \\\"team\\\", \\\"wc_result_score\\\"]\\n]\\nqatar = return_world_cup_result(wc_data, \\\"Qatar\\\")[\\n    [\\\"country\\\", \\\"team\\\", \\\"wc_result_score\\\"]\\n]\\n\\nwc_results_2018_2022 = russia.merge(qatar, how=\\\"outer\\\", on=[\\\"team\\\"]).copy()\\n\\nwc_results_2018_2022 = wc_results_2018_2022[\\n    [\\\"team\\\", \\\"wc_result_score_x\\\", \\\"wc_result_score_y\\\"]\\n]\\n\\nwc_results_2018_2022 = wc_results_2018_2022.fillna(0)\\n\\nwc_results_2018_2022 = wc_results_2018_2022.melt(id_vars=[\\\"team\\\"])\\n\\nwc_results_2018_2022 = wc_results_2018_2022.drop(columns=[\\\"variable\\\"]).rename(\\n    columns={\\\"value\\\": \\\"power_rating\\\"}\\n)\\n\\nwc_results_2018_2022 = wc_results_2018_2022.groupby([\\\"team\\\"], as_index=False).mean()\\n\\nwc_results_2018_2022 = wc_results_2018_2022.rename(columns={\\\"team\\\": \\\"country_name\\\"})\";\n",
       "                var nbb_formatted_code = \"russia = return_world_cup_result(wc_data, \\\"Russia\\\")[\\n    [\\\"country\\\", \\\"team\\\", \\\"wc_result_score\\\"]\\n]\\nqatar = return_world_cup_result(wc_data, \\\"Qatar\\\")[\\n    [\\\"country\\\", \\\"team\\\", \\\"wc_result_score\\\"]\\n]\\n\\nwc_results_2018_2022 = russia.merge(qatar, how=\\\"outer\\\", on=[\\\"team\\\"]).copy()\\n\\nwc_results_2018_2022 = wc_results_2018_2022[\\n    [\\\"team\\\", \\\"wc_result_score_x\\\", \\\"wc_result_score_y\\\"]\\n]\\n\\nwc_results_2018_2022 = wc_results_2018_2022.fillna(0)\\n\\nwc_results_2018_2022 = wc_results_2018_2022.melt(id_vars=[\\\"team\\\"])\\n\\nwc_results_2018_2022 = wc_results_2018_2022.drop(columns=[\\\"variable\\\"]).rename(\\n    columns={\\\"value\\\": \\\"power_rating\\\"}\\n)\\n\\nwc_results_2018_2022 = wc_results_2018_2022.groupby([\\\"team\\\"], as_index=False).mean()\\n\\nwc_results_2018_2022 = wc_results_2018_2022.rename(columns={\\\"team\\\": \\\"country_name\\\"})\";\n",
       "                var nbb_cells = Jupyter.notebook.get_cells();\n",
       "                for (var i = 0; i < nbb_cells.length; ++i) {\n",
       "                    if (nbb_cells[i].input_prompt_number == nbb_cell_id) {\n",
       "                        if (nbb_cells[i].get_text() == nbb_unformatted_code) {\n",
       "                             nbb_cells[i].set_text(nbb_formatted_code);\n",
       "                        }\n",
       "                        break;\n",
       "                    }\n",
       "                }\n",
       "            }, 500);\n",
       "            "
      ],
      "text/plain": [
       "<IPython.core.display.Javascript object>"
      ]
     },
     "metadata": {},
     "output_type": "display_data"
    }
   ],
   "source": [
    "russia = return_world_cup_result(wc_data, \"Russia\")[\n",
    "    [\"country\", \"team\", \"wc_result_score\"]\n",
    "]\n",
    "qatar = return_world_cup_result(wc_data, \"Qatar\")[\n",
    "    [\"country\", \"team\", \"wc_result_score\"]\n",
    "]\n",
    "\n",
    "wc_results_2018_2022 = russia.merge(qatar, how=\"outer\", on=[\"team\"]).copy()\n",
    "\n",
    "wc_results_2018_2022 = wc_results_2018_2022[\n",
    "    [\"team\", \"wc_result_score_x\", \"wc_result_score_y\"]\n",
    "]\n",
    "\n",
    "wc_results_2018_2022 = wc_results_2018_2022.fillna(0)\n",
    "\n",
    "wc_results_2018_2022 = wc_results_2018_2022.melt(id_vars=[\"team\"])\n",
    "\n",
    "wc_results_2018_2022 = wc_results_2018_2022.drop(columns=[\"variable\"]).rename(\n",
    "    columns={\"value\": \"power_rating\"}\n",
    ")\n",
    "\n",
    "wc_results_2018_2022 = wc_results_2018_2022.groupby([\"team\"], as_index=False).mean()\n",
    "\n",
    "wc_results_2018_2022 = wc_results_2018_2022.rename(columns={\"team\": \"country_name\"})"
   ]
  },
  {
   "cell_type": "markdown",
   "id": "eeebe83d",
   "metadata": {},
   "source": [
    "#### Convert to CSV: World Cup Power Rating"
   ]
  },
  {
   "cell_type": "code",
   "execution_count": 58,
   "id": "aa0473ab",
   "metadata": {},
   "outputs": [
    {
     "data": {
      "application/javascript": [
       "\n",
       "            setTimeout(function() {\n",
       "                var nbb_cell_id = 58;\n",
       "                var nbb_unformatted_code = \"wc_results_2018_2022.to_csv(\\\"world_cup_result.csv\\\")\";\n",
       "                var nbb_formatted_code = \"wc_results_2018_2022.to_csv(\\\"world_cup_result.csv\\\")\";\n",
       "                var nbb_cells = Jupyter.notebook.get_cells();\n",
       "                for (var i = 0; i < nbb_cells.length; ++i) {\n",
       "                    if (nbb_cells[i].input_prompt_number == nbb_cell_id) {\n",
       "                        if (nbb_cells[i].get_text() == nbb_unformatted_code) {\n",
       "                             nbb_cells[i].set_text(nbb_formatted_code);\n",
       "                        }\n",
       "                        break;\n",
       "                    }\n",
       "                }\n",
       "            }, 500);\n",
       "            "
      ],
      "text/plain": [
       "<IPython.core.display.Javascript object>"
      ]
     },
     "metadata": {},
     "output_type": "display_data"
    }
   ],
   "source": [
    "wc_results_2018_2022.to_csv(\"world_cup_result.csv\")"
   ]
  }
 ],
 "metadata": {
  "kernelspec": {
   "display_name": "Python 3 (ipykernel)",
   "language": "python",
   "name": "python3"
  },
  "language_info": {
   "codemirror_mode": {
    "name": "ipython",
    "version": 3
   },
   "file_extension": ".py",
   "mimetype": "text/x-python",
   "name": "python",
   "nbconvert_exporter": "python",
   "pygments_lexer": "ipython3",
   "version": "3.10.4"
  }
 },
 "nbformat": 4,
 "nbformat_minor": 5
}
